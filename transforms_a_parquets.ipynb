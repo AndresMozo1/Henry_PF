{
 "cells": [
  {
   "cell_type": "markdown",
   "metadata": {},
   "source": [
    "En este notebook, se transforman los archivos de Yelp y Google a formato parquet.\n"
   ]
  },
  {
   "cell_type": "markdown",
   "metadata": {},
   "source": [
    "Se asume que existe la siguente estructura de directorios:\n",
    "```\n",
    "├── data\n",
    "│   ├── Google\n",
    "│   │   ├── metadata-sitios\n",
    "│   │   └── reviews-estados\n",
    "│   └── Yelp\n",
    "├── ...\n",
    "└── ...\n",
    "```"
   ]
  },
  {
   "cell_type": "code",
   "execution_count": 2,
   "metadata": {},
   "outputs": [],
   "source": [
    "import os\n",
    "from glob import glob\n",
    "import json\n",
    "import dask.dataframe as dd\n",
    "import pandas as pd\n",
    "import pyarrow as pa\n",
    "from pyarrow import parquet as pq"
   ]
  },
  {
   "cell_type": "code",
   "execution_count": 2,
   "metadata": {},
   "outputs": [],
   "source": [
    "# Opción que deshabilita el limite de columnas mostradas\n",
    "pd.set_option('display.max_columns', None)"
   ]
  },
  {
   "cell_type": "markdown",
   "metadata": {},
   "source": [
    "---\n",
    "## Dataset Yelp"
   ]
  },
  {
   "cell_type": "markdown",
   "metadata": {},
   "source": [
    "### `business.pkl`"
   ]
  },
  {
   "cell_type": "code",
   "execution_count": null,
   "metadata": {},
   "outputs": [],
   "source": [
    "business_path = './data/Yelp/business.pkl'\n",
    "# Leer pkl (pickle)\n",
    "df = pd.read_pickle(business_path)\n",
    "df.sample(2)"
   ]
  },
  {
   "cell_type": "markdown",
   "metadata": {},
   "source": [
    "* Se observan columnas con nombres duplicados. Hay que unir estas columns."
   ]
  },
  {
   "cell_type": "code",
   "execution_count": null,
   "metadata": {},
   "outputs": [],
   "source": [
    "# Calcular la cantida de columns dividida por 2\n",
    "punto_medio = len(df.columns) // 2\n",
    "# Dividir el dataframe por mitad, a largo de las columns,\n",
    "# utilizando el punto_medio calculado\n",
    "df_1er_mitad = df.iloc[:, :punto_medio]\n",
    "df_2nd_mitad = df.iloc[:, punto_medio:]\n",
    "# Unir los dataframes resultantes\n",
    "df_reorganizado = pd.concat([df_1er_mitad, df_2nd_mitad], axis=0)\n",
    "df_reorganizado.sample(2)"
   ]
  },
  {
   "cell_type": "code",
   "execution_count": null,
   "metadata": {},
   "outputs": [],
   "source": [
    "# Eliminar filas con todo nulos\n",
    "df_reorganizado.dropna(axis=0, how='all', inplace=True)"
   ]
  },
  {
   "cell_type": "code",
   "execution_count": null,
   "metadata": {},
   "outputs": [],
   "source": [
    "# Almacenar en formato parquet, en el mismo directorio de 'business_path'\n",
    "df_reorganizado.to_parquet(business_path.replace('.pkl', '.parquet'))  # se cambia sufijo '.pkl' a '.parquet'"
   ]
  },
  {
   "cell_type": "markdown",
   "metadata": {},
   "source": [
    "### `checkin.json`"
   ]
  },
  {
   "cell_type": "code",
   "execution_count": null,
   "metadata": {},
   "outputs": [],
   "source": [
    "checkin_path = './data/Yelp/checkin.json'\n",
    "# Leer JSON\n",
    "df = pd.read_json(checkin_path, lines=True)\n",
    "# Almacenar en formato parquet, en el mismo directorio\n",
    "df.to_parquet(checkin_path.replace('.json', '.parquet'))  # se cambia sufijo '.json' a '.parquet'"
   ]
  },
  {
   "cell_type": "markdown",
   "metadata": {},
   "source": [
    "### `review.json`"
   ]
  },
  {
   "cell_type": "code",
   "execution_count": 35,
   "metadata": {},
   "outputs": [],
   "source": [
    "review_path = './data/Yelp/review.json'\n",
    "# Crear el dir del almacen para parquets, si no existe\n",
    "os.makedirs('./data/Yelp/yelp-review/', exist_ok=True)"
   ]
  },
  {
   "cell_type": "code",
   "execution_count": 36,
   "metadata": {},
   "outputs": [],
   "source": [
    "def convertir_json_a_parquets(json_path, output_dir, batch_size=500_000):\n",
    "    # Abrir el archivo JSON\n",
    "    with open(json_path, 'r') as json_file:\n",
    "        # Inicializar una lista vacía para contener los objetos JSON\n",
    "        objects = []\n",
    "        contador = 0\n",
    "        \n",
    "        # Leer el archivo línea por línea\n",
    "        for line in json_file:\n",
    "            # Analizar cada línea como un objeto JSON\n",
    "            obj = json.loads(line)\n",
    "\n",
    "            # Agregar el objeto a la lista\n",
    "            objects.append(obj)\n",
    "\n",
    "            # Si la lista ha alcanzado el tamaño del batch_size, escribirlo en un archivo Parquet\n",
    "            if len(objects) == batch_size:\n",
    "                df = pd.DataFrame(objects)\n",
    "                contador += 1\n",
    "                pq.write_table(pa.Table.from_pandas(df), os.path.join(output_dir, f'review_{str(contador).zfill(2)}.parquet'))\n",
    "                objects = []\n",
    "\n",
    "        # Escribir cualquier objeto restante en un archivo Parquet\n",
    "        if objects:\n",
    "            df = pd.DataFrame(objects)\n",
    "            contador += 1\n",
    "            pq.write_table(pa.Table.from_pandas(df), os.path.join(output_dir, f'review_{str(contador).zfill(2)}.parquet'))\n"
   ]
  },
  {
   "cell_type": "code",
   "execution_count": null,
   "metadata": {},
   "outputs": [],
   "source": [
    "# Convertir 'review.json' a archivos parquet\n",
    "convertir_json_a_parquets(review_path, './data/Yelp/review/')"
   ]
  },
  {
   "cell_type": "markdown",
   "metadata": {},
   "source": [
    "### `tip.json`"
   ]
  },
  {
   "cell_type": "code",
   "execution_count": null,
   "metadata": {},
   "outputs": [],
   "source": [
    "tip_path = './data/Yelp/tip.json'\n",
    "# Leer JSON\n",
    "df = pd.read_json(tip_path, lines=True)\n",
    "# Almacenar en formato parquet, en el mismo directorio\n",
    "df.to_parquet(tip_path.replace('.json', '.parquet'))  # se cambia sufijo '.json' a '.parquet'Merge de parquets"
   ]
  },
  {
   "cell_type": "markdown",
   "metadata": {},
   "source": [
    "### `user.parquet`"
   ]
  },
  {
   "cell_type": "markdown",
   "metadata": {},
   "source": [
    "Esta en formato parquet, pero es de aprox. 2.7GB. Hay que dividirlo en fragmentos manejables (250MB)."
   ]
  },
  {
   "cell_type": "code",
   "execution_count": 7,
   "metadata": {},
   "outputs": [],
   "source": [
    "user_path = './data/Yelp/user.parquet'\n",
    "# Crear el dir del almacen para parquets, si no existe\n",
    "user_dir = './data/Yelp/yelp-user/'\n",
    "os.makedirs(user_dir, exist_ok=True)"
   ]
  },
  {
   "cell_type": "code",
   "execution_count": 8,
   "metadata": {},
   "outputs": [],
   "source": [
    "# Leer 'user.parquet' \n",
    "df = dd.read_parquet(user_path)\n",
    "# Reparticionar la data a archivos de 250MB\n",
    "df = df.repartition(partition_size='250MB')\n",
    "# Almacenar en 'user_dir'\n",
    "df.to_parquet(user_dir)"
   ]
  },
  {
   "cell_type": "markdown",
   "metadata": {},
   "source": [
    "---\n",
    "## Dataset Google"
   ]
  },
  {
   "cell_type": "markdown",
   "metadata": {},
   "source": [
    "### `metadata-sitios/`"
   ]
  },
  {
   "cell_type": "code",
   "execution_count": null,
   "metadata": {},
   "outputs": [],
   "source": [
    "# Crear lista de JSON en /metadata-sitios/\n",
    "google_dir = './data/Google'\n",
    "metadata_jsons = glob(f'{google_dir}/metadata-sitios/*json')\n",
    "metadata_jsons"
   ]
  },
  {
   "cell_type": "code",
   "execution_count": null,
   "metadata": {},
   "outputs": [],
   "source": [
    "## Convertir archivos JSON, en /metadata-sitios/, a parquet\n",
    "\n",
    "# Crear dataframe donde se unen los datos extraidos de JSON\n",
    "union_df = pd.DataFrame()\n",
    "# Iterar por cada JSON dentro de /metadata-sitios/\n",
    "for f_json in metadata_jsons:\n",
    "    # Leer JSON\n",
    "    df = pd.read_json(f_json, lines=True)\n",
    "    # Unir a union_df\n",
    "    union_df = pd.concat([union_df, df], ignore_index=True)\n",
    "\n",
    "# Almacenar en formato parquet, en el mismo directorio\n",
    "union_df.to_parquet(f'{google_dir}/metadata-sitios/metadata_sitios.parquet')"
   ]
  },
  {
   "cell_type": "markdown",
   "metadata": {},
   "source": [
    "### `reviews-estados/`"
   ]
  },
  {
   "cell_type": "code",
   "execution_count": null,
   "metadata": {},
   "outputs": [],
   "source": [
    "# Lista de directorios en /reviews-estados/\n",
    "google_dir = './data/Google'\n",
    "review_dirs = glob(f'{google_dir}/reviews-estados/*')\n",
    "review_dirs"
   ]
  },
  {
   "cell_type": "code",
   "execution_count": null,
   "metadata": {},
   "outputs": [],
   "source": [
    "## Convertir archivos JSON, en todo directorio dentro de /reviews-estados/, a parquet\n",
    "\n",
    "# Iterar por cada directorio dentro de /reviews-estados/\n",
    "for path_dir in review_dirs:\n",
    "    # Crear lista de JSON dentro de 'path_dir'\n",
    "    path_jsons = glob(f'{path_dir}/*.json')\n",
    "    # Crear dataframe donde se unen los datos extraidos de JSON\n",
    "    union_df = pd.DataFrame()\n",
    "\n",
    "    # Iterar por cada JSON dentro de 'path_jsons' y almacenar su data en 'union_df'\n",
    "    for f_json in path_jsons:\n",
    "        # Leer JSON\n",
    "        df = pd.read_json(f_json, dtype={'user_id':str}, lines=True)  # fijando 'user_id' a tipo str\n",
    "        # Unir a union_df\n",
    "        union_df = pd.concat([union_df, df], ignore_index=True)\n",
    "\n",
    "    # Almacenar 'union_df' como parquet, en el path './data/Google/reviews-estados/'\n",
    "    path_almacen = f'{google_dir}/reviews-estados'\n",
    "    nombre_archivo = f'{path_dir.split(\"/\")[-1].replace(\"-\",\"_\")}'\n",
    "    union_df.to_parquet(f'{path_almacen}/{nombre_archivo}.parquet')"
   ]
  },
  {
   "cell_type": "markdown",
   "metadata": {},
   "source": [
    "---\n",
    "## Tranformacion a CSV, para visualizar"
   ]
  },
  {
   "cell_type": "markdown",
   "metadata": {},
   "source": [
    "### Yelp"
   ]
  },
  {
   "cell_type": "markdown",
   "metadata": {},
   "source": [
    "Nota: para dataset Yelp, falta `review.json`"
   ]
  },
  {
   "cell_type": "code",
   "execution_count": 38,
   "metadata": {},
   "outputs": [],
   "source": [
    "review_path = './data/Yelp/review/review_01.parquet'\n",
    "# Leer parquet\n",
    "df = pd.read_parquet(review_path)\n",
    "# Almacenar como CSV, un ejemplar de 100 filas\n",
    "df.sample(100).to_csv(f'./data_csv/yelp_{review_path.split(\"/\")[-1].replace(\".parquet\",\"\")}.csv')"
   ]
  },
  {
   "cell_type": "code",
   "execution_count": null,
   "metadata": {},
   "outputs": [],
   "source": [
    "business_path = './data/Yelp/business.parquet'\n",
    "# Leer parquet\n",
    "df = pd.read_parquet(business_path)\n",
    "# Almacenar como CSV, un ejemplar de 100 filas\n",
    "df.sample(100).to_csv(f'./data_csv/yelp_{business_path.split(\"/\")[-1].replace(\".parquet\",\"\")}.csv')"
   ]
  },
  {
   "cell_type": "code",
   "execution_count": null,
   "metadata": {},
   "outputs": [],
   "source": [
    "checkin_path = './data/Yelp/checkin.parquet'\n",
    "# Leer parquet\n",
    "df = pd.read_parquet(checkin_path)\n",
    "# Almacenar como CSV, un ejemplar de 100 filas\n",
    "df.sample(100).to_csv(f'./data_csv/yelp_{checkin_path.split(\"/\")[-1].replace(\".parquet\",\"\")}.csv')"
   ]
  },
  {
   "cell_type": "code",
   "execution_count": null,
   "metadata": {},
   "outputs": [],
   "source": [
    "tip_path = './data/Yelp/tip.parquet'\n",
    "# Leer parquet\n",
    "df = pd.read_parquet(tip_path)\n",
    "# Almacenar como CSV, un ejemplar de 100 filas\n",
    "df.sample(100).to_csv(f'./data_csv/yelp_{tip_path.split(\"/\")[-1].replace(\".parquet\",\"\")}.csv')"
   ]
  },
  {
   "cell_type": "code",
   "execution_count": null,
   "metadata": {},
   "outputs": [],
   "source": [
    "user_path = './data/Yelp/user.parquet'\n",
    "# Leer parquet\n",
    "df = pd.read_parquet(user_path)\n",
    "# Almacenar como CSV, un ejemplar de 100 filas\n",
    "df.sample(100).to_csv(f'./data_csv/yelp_{user_path.split(\"/\")[-1].replace(\".parquet\",\"\")}.csv')"
   ]
  },
  {
   "cell_type": "markdown",
   "metadata": {},
   "source": [
    "### Google"
   ]
  },
  {
   "cell_type": "code",
   "execution_count": null,
   "metadata": {},
   "outputs": [],
   "source": [
    "google_dir = './data/Google'"
   ]
  },
  {
   "cell_type": "code",
   "execution_count": null,
   "metadata": {},
   "outputs": [],
   "source": [
    "# Leer parquet\n",
    "df = pd.read_parquet(f'{google_dir}/metadata-sitios/1.parquet')\n",
    "# Almacenar como CSV, un ejemplar de 100 filas\n",
    "df.sample(100).to_csv(f'./data_csv/google_metadata.csv')"
   ]
  },
  {
   "cell_type": "code",
   "execution_count": null,
   "metadata": {},
   "outputs": [],
   "source": [
    "# Leer parquet\n",
    "df = pd.read_parquet(f'{google_dir}/reviews-estados/review_District_of_Columbia.parquet')\n",
    "# Almacenar como CSV, un ejemplar de 100 filas\n",
    "df.sample(100).to_csv(f'./data_csv/google_reviews.csv')"
   ]
  }
 ],
 "metadata": {
  "kernelspec": {
   "display_name": "py311",
   "language": "python",
   "name": "python3"
  },
  "language_info": {
   "codemirror_mode": {
    "name": "ipython",
    "version": 3
   },
   "file_extension": ".py",
   "mimetype": "text/x-python",
   "name": "python",
   "nbconvert_exporter": "python",
   "pygments_lexer": "ipython3",
   "version": "3.11.0"
  },
  "orig_nbformat": 4
 },
 "nbformat": 4,
 "nbformat_minor": 2
}
