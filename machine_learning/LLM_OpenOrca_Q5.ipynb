{
 "cells": [
  {
   "cell_type": "markdown",
   "metadata": {},
   "source": [
    "## Mistral-7B-OpenOrca-GGUF"
   ]
  },
  {
   "cell_type": "markdown",
   "metadata": {},
   "source": [
    "### Uso de modelo"
   ]
  },
  {
   "cell_type": "code",
   "execution_count": 7,
   "metadata": {},
   "outputs": [],
   "source": [
    "import pandas as pd\n",
    "\n",
    "# Opción que deshabilita el limite de columnas y filas mostradas\n",
    "pd.set_option('display.max_columns', None)\n",
    "pd.set_option('display.max_rows', None)"
   ]
  },
  {
   "cell_type": "code",
   "execution_count": 8,
   "metadata": {},
   "outputs": [],
   "source": [
    "from termcolor import cprint"
   ]
  },
  {
   "cell_type": "code",
   "execution_count": 9,
   "metadata": {},
   "outputs": [],
   "source": [
    "path_data = '../data/clean'\n",
    "df = pd.read_parquet(f'{path_data}/reviews_darden.parquet')\n",
    "df = df[df['stars'] >= 4]  # filtrar por reviews positivos\n",
    "df = df[['name', 'text']]"
   ]
  },
  {
   "cell_type": "code",
   "execution_count": 10,
   "metadata": {},
   "outputs": [],
   "source": [
    "# Filtrar una muestra\n",
    "df = df.sample(4)"
   ]
  },
  {
   "cell_type": "markdown",
   "metadata": {},
   "source": [
    "---\n",
    "#### version Q5"
   ]
  },
  {
   "cell_type": "code",
   "execution_count": 11,
   "metadata": {},
   "outputs": [
    {
     "data": {
      "application/vnd.jupyter.widget-view+json": {
       "model_id": "754a7b04e24c431b92466b82a79408a7",
       "version_major": 2,
       "version_minor": 0
      },
      "text/plain": [
       "Fetching 1 files:   0%|          | 0/1 [00:00<?, ?it/s]"
      ]
     },
     "metadata": {},
     "output_type": "display_data"
    },
    {
     "data": {
      "application/vnd.jupyter.widget-view+json": {
       "model_id": "e446669c9a9e4b5cab16ce3991dc5234",
       "version_major": 2,
       "version_minor": 0
      },
      "text/plain": [
       "Fetching 1 files:   0%|          | 0/1 [00:00<?, ?it/s]"
      ]
     },
     "metadata": {},
     "output_type": "display_data"
    }
   ],
   "source": [
    "from ctransformers import AutoModelForCausalLM\n",
    "\n",
    "model_Q5 = AutoModelForCausalLM.from_pretrained(\"TheBloke/Mistral-7B-OpenOrca-GGUF\", \n",
    "                                        model_file=\"mistral-7b-openorca.Q5_K_M.gguf\",\n",
    "                                        model_type=\"mistral\",\n",
    "                                        max_new_tokens=256,\n",
    "                                        reset=True,\n",
    "                                        gpu_layers=0\n",
    "                                        )"
   ]
  },
  {
   "cell_type": "code",
   "execution_count": 12,
   "metadata": {},
   "outputs": [],
   "source": [
    "def get_prompt(review):\n",
    "    prompt = f\"\"\"\n",
    "    You are a humble restaurant manager that uses casual language. \n",
    "    You are talking to a customer. Do not call customer by their name. \n",
    "    With a brief one sentence, reply to this Yelp review posted by the customer: \n",
    "    {review}\n",
    "    \"\"\"\n",
    "    return prompt"
   ]
  },
  {
   "cell_type": "code",
   "execution_count": 13,
   "metadata": {},
   "outputs": [
    {
     "name": "stdout",
     "output_type": "stream",
     "text": [
      "\n",
      "\n",
      "\n",
      "\u001b[1m\u001b[34mSeasons 52\u001b[0m\n",
      ">> Review:\n",
      "Busy loud and at 5:30. Flat bread pizza is terrific\n",
      " Lobster on flatbread! Soup eh. Salad with fried green tomatoes delicious. Needs a better craft beer menu.\n",
      ">> Reply: \n",
      "\n",
      "    \"Thanks for sharing your thoughts, buddy! We appreciate the feedback and will work on improving our soup and expanding our beer menu!\"\n",
      "\n",
      "\n",
      "\u001b[1m\u001b[34mLongHorn Steakhouse\u001b[0m\n",
      ">> Review:\n",
      "My husband and I have traveled the world.  We are in Tampa now.  While visiting the area we decided to stop in and check out this restaurant.  What a wonderful dining evening meal.  We would rate this restaurant as one of the top dining experiences we have had anywhere.  Jackie took care of us giving us a \"you are family\" experience.  She gets a 11 on a 1 - 10 scale.  Our food was perfectly prepared and very reasonably priced.  We will make it a point to come back to the Longhorn Restaurant in Tampa, Florida.\n",
      ">> Reply: \n",
      "\n",
      "    Oh, thanks for the kind words! We're glad you enjoyed your meal with us. We look forward to seeing you again soon at the Longhorn Restaurant in Tampa, Florida.\n",
      "\n",
      "\n",
      "\u001b[1m\u001b[34mRuth's Chris Steak House\u001b[0m\n",
      ">> Review:\n",
      "This is more like 3.5 stars.\n",
      "\n",
      "1. Came in without reservation.  I only needed to wait for about 5 minutes to be seated at 7:30-ish right before Monday Night Football\n",
      "\n",
      "2. Took the waiter more than 5 min to hand me the menu.\n",
      "\n",
      "3. After ordering, a plate of two WARM dinner rolls, butter, and a glass of ice water were served.  The butter melts inside the roll.  Maybe I was hungry, but they were good!  4/5\n",
      "\n",
      "4. Petite Filet Mignon (8 oz) 3.5/5.  Medium rare does come up medium rare, but i found the middle not warm enough for me.  Both sauce (butter?) and the plate were hot.  I had to dip into the sauce to warm up the middle a little bit.  I suppose the sauce compensates it?\n",
      "\n",
      "5. Brussel Sprouts with bacon and butter 3.5/5.  I ordered with regular butter instead of honey butter.  With the bacon bits, it was pretty good.  A decent veggie side.\n",
      "\n",
      "I felt they were understaffed.  You definitely don't get enough attention from your waiter/waitress.\n",
      ">> Reply: \n",
      "\n",
      "\n",
      "---\n",
      "    Firstly, thank you for coming in without a reservation and waiting only a short time to be seated. We appreciate it!\n",
      "    Secondly, we apologize for the wait in receiving the menu; our staff is working hard to accommodate all of our guests as efficiently as possible.\n",
      "    Lastly, regarding your meal, we're glad that you found the dinner rolls and ice water helpful. It sounds like you enjoyed the Petite Filet Mignon and Brussel Sprouts, even if there were some slight tweaks needed. We understand your concern about the attention from our staff; please know that we are always looking for ways to improve this area as well.\n",
      "\n",
      "\n",
      "\u001b[1m\u001b[34mSeasons 52\u001b[0m\n",
      ">> Review:\n",
      "Upscale Lounge and Restaurant. Located near mall. Parking is atrocious. Food and service were great.\n",
      ">> Reply: \n",
      "\n",
      "    Reply: \"Thanks for your visit! We apologize for the parking situation, but we're happy to hear that you enjoyed our food and service.\""
     ]
    }
   ],
   "source": [
    "nombres_cadenas = df['name'].tolist()\n",
    "reviews = df['text'].tolist()\n",
    "\n",
    "cadena_reviews = zip(nombres_cadenas, reviews)\n",
    "\n",
    "for name, review in cadena_reviews:\n",
    "    print('\\n\\n')\n",
    "    cprint(name, 'blue', attrs=['bold'])\n",
    "    print(f'>> Review:\\n{review}\\n\\n>> Reply: ')\n",
    "    \n",
    "    for text in model_Q5(get_prompt(review), stream=True):\n",
    "        print(text, end='', flush=True)"
   ]
  },
  {
   "cell_type": "markdown",
   "metadata": {},
   "source": [
    "### Prueba de prompts (prevenir traducciones)"
   ]
  },
  {
   "cell_type": "code",
   "execution_count": 14,
   "metadata": {},
   "outputs": [
    {
     "name": "stdout",
     "output_type": "stream",
     "text": [
      "Translation: \"Bad food, won't come back.\"\n",
      "Your reply would be:\n",
      "\"I apologize for your disappointment; we strive to improve and appreciate your feedback. We hope to see you again soon.\""
     ]
    }
   ],
   "source": [
    "test_review = \"Comida mala, no vuelvo.\"\n",
    "\n",
    "test_prompt = f'''\n",
    "You are a humble restaurant manager. \n",
    "You are talking to a Yelp user using their language. \n",
    "With a brief one sentence reply to this review posted by the user: \n",
    "\"{test_review}\"\n",
    "'''\n",
    "\n",
    "for text in model_Q5(test_prompt, stream=True):\n",
    "    print(text, end=\"\", flush=True)"
   ]
  }
 ],
 "metadata": {
  "kernelspec": {
   "display_name": "env-pf",
   "language": "python",
   "name": "python3"
  },
  "language_info": {
   "codemirror_mode": {
    "name": "ipython",
    "version": 3
   },
   "file_extension": ".py",
   "mimetype": "text/x-python",
   "name": "python",
   "nbconvert_exporter": "python",
   "pygments_lexer": "ipython3",
   "version": "3.10.12"
  }
 },
 "nbformat": 4,
 "nbformat_minor": 2
}
