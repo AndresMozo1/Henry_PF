{
 "cells": [
  {
   "cell_type": "code",
   "execution_count": null,
   "metadata": {},
   "outputs": [],
   "source": [
    "import requests\n",
    "\n",
    "review_id = \"hrid%3DAeVAkQgueu6JtYtU4r3Jrg\"\n",
    "respuesta = \"Gracias por tu reseña. Esperamos verte pronto por acá\"\n",
    "\n",
    "\n",
    "url = \"https://partner-api.yelp.com/reviews/v1/\" + review_id\n",
    "payload = {\n",
    "    \"response_text\": respuesta,\n",
    "    \"response_type\": \"public_comment\"\n",
    "}\n",
    "headers = {\n",
    "    \"accept\": \"application/json\",\n",
    "    \"Authorization\": \"Bearer <our_token>\",\n",
    "    \"content-type\": \"application/json\"\n",
    "}\n",
    "\n",
    "\n",
    "response = requests.post(url, json=payload, headers=headers)\n",
    "\n",
    "#print(response.text)"
   ]
  }
 ],
 "metadata": {
  "kernelspec": {
   "display_name": "Python 3",
   "language": "python",
   "name": "python3"
  },
  "language_info": {
   "codemirror_mode": {
    "name": "ipython",
    "version": 3
   },
   "file_extension": ".py",
   "mimetype": "text/x-python",
   "name": "python",
   "nbconvert_exporter": "python",
   "pygments_lexer": "ipython3",
   "version": "3.8.0"
  }
 },
 "nbformat": 4,
 "nbformat_minor": 2
}
