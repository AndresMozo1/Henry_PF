{
 "cells": [
  {
   "cell_type": "code",
   "execution_count": 23,
   "metadata": {},
   "outputs": [],
   "source": [
    "import json\n",
    "import pickle\n",
    "import pandas as pd\n",
    "import numpy as np\n"
   ]
  },
  {
   "cell_type": "code",
   "execution_count": 24,
   "metadata": {},
   "outputs": [],
   "source": [
    "#Se cargan las reviews de Darden\n",
    "path_data = '../data/clean'\n",
    "df_reviews_darden = pd.read_parquet(f'{path_data}/reviews_darden.parquet')"
   ]
  },
  {
   "cell_type": "code",
   "execution_count": 25,
   "metadata": {},
   "outputs": [
    {
     "data": {
      "text/html": [
       "<div>\n",
       "<style scoped>\n",
       "    .dataframe tbody tr th:only-of-type {\n",
       "        vertical-align: middle;\n",
       "    }\n",
       "\n",
       "    .dataframe tbody tr th {\n",
       "        vertical-align: top;\n",
       "    }\n",
       "\n",
       "    .dataframe thead th {\n",
       "        text-align: right;\n",
       "    }\n",
       "</style>\n",
       "<table border=\"1\" class=\"dataframe\">\n",
       "  <thead>\n",
       "    <tr style=\"text-align: right;\">\n",
       "      <th></th>\n",
       "      <th>name</th>\n",
       "      <th>review_id</th>\n",
       "      <th>user_id</th>\n",
       "      <th>business_id</th>\n",
       "      <th>stars</th>\n",
       "      <th>text</th>\n",
       "      <th>date</th>\n",
       "      <th>day</th>\n",
       "      <th>text_reply</th>\n",
       "      <th>city</th>\n",
       "      <th>state</th>\n",
       "      <th>postal_code</th>\n",
       "      <th>coordinates</th>\n",
       "    </tr>\n",
       "  </thead>\n",
       "  <tbody>\n",
       "    <tr>\n",
       "      <th>6367</th>\n",
       "      <td>LongHorn Steakhouse</td>\n",
       "      <td>WZxBZQrymff4DtylaU780A</td>\n",
       "      <td>6GX4GZtx6C7m60p3rO0uVg</td>\n",
       "      <td>CS_GzUYlEPa6QHTRY224wQ</td>\n",
       "      <td>3.0</td>\n",
       "      <td>Food was good- SERVICE WAS NOT\\n\\nOkay, we wen...</td>\n",
       "      <td>2018-09-01</td>\n",
       "      <td>₆ Saturday</td>\n",
       "      <td></td>\n",
       "      <td>Norristown</td>\n",
       "      <td>FL</td>\n",
       "      <td>19403</td>\n",
       "      <td>40.1274771937,-75.4040751479</td>\n",
       "    </tr>\n",
       "  </tbody>\n",
       "</table>\n",
       "</div>"
      ],
      "text/plain": [
       "                     name               review_id                 user_id  \\\n",
       "6367  LongHorn Steakhouse  WZxBZQrymff4DtylaU780A  6GX4GZtx6C7m60p3rO0uVg   \n",
       "\n",
       "                 business_id  stars  \\\n",
       "6367  CS_GzUYlEPa6QHTRY224wQ    3.0   \n",
       "\n",
       "                                                   text        date  \\\n",
       "6367  Food was good- SERVICE WAS NOT\\n\\nOkay, we wen...  2018-09-01   \n",
       "\n",
       "             day text_reply        city state postal_code  \\\n",
       "6367  ₆ Saturday             Norristown    FL       19403   \n",
       "\n",
       "                       coordinates  \n",
       "6367  40.1274771937,-75.4040751479  "
      ]
     },
     "execution_count": 25,
     "metadata": {},
     "output_type": "execute_result"
    }
   ],
   "source": [
    "df_reviews_darden.sample()"
   ]
  },
  {
   "cell_type": "code",
   "execution_count": 26,
   "metadata": {},
   "outputs": [
    {
     "data": {
      "text/html": [
       "<div>\n",
       "<style scoped>\n",
       "    .dataframe tbody tr th:only-of-type {\n",
       "        vertical-align: middle;\n",
       "    }\n",
       "\n",
       "    .dataframe tbody tr th {\n",
       "        vertical-align: top;\n",
       "    }\n",
       "\n",
       "    .dataframe thead th {\n",
       "        text-align: right;\n",
       "    }\n",
       "</style>\n",
       "<table border=\"1\" class=\"dataframe\">\n",
       "  <thead>\n",
       "    <tr style=\"text-align: right;\">\n",
       "      <th></th>\n",
       "      <th>review_id</th>\n",
       "      <th>date</th>\n",
       "      <th>name</th>\n",
       "      <th>stars</th>\n",
       "      <th>text</th>\n",
       "    </tr>\n",
       "  </thead>\n",
       "  <tbody>\n",
       "    <tr>\n",
       "      <th>384</th>\n",
       "      <td>IveTDlvZ8lzCq-XoyFLwog</td>\n",
       "      <td>2013-09-17</td>\n",
       "      <td>Olive Garden Italian Restaurant</td>\n",
       "      <td>3.0</td>\n",
       "      <td>Good food and friendly, attentive service.  We...</td>\n",
       "    </tr>\n",
       "  </tbody>\n",
       "</table>\n",
       "</div>"
      ],
      "text/plain": [
       "                  review_id        date                             name  \\\n",
       "384  IveTDlvZ8lzCq-XoyFLwog  2013-09-17  Olive Garden Italian Restaurant   \n",
       "\n",
       "     stars                                               text  \n",
       "384    3.0  Good food and friendly, attentive service.  We...  "
      ]
     },
     "execution_count": 26,
     "metadata": {},
     "output_type": "execute_result"
    }
   ],
   "source": [
    "reviews_darden_negativas = df_reviews_darden[df_reviews_darden.stars <= 3][['review_id','date','name','stars','text']]\n",
    "reviews_darden_negativas.sample()"
   ]
  },
  {
   "cell_type": "code",
   "execution_count": 27,
   "metadata": {},
   "outputs": [],
   "source": [
    "with open('modelo_ML_negativas2.pkl', 'rb') as archivo:\n",
    "    modelo_ml = pickle.load(archivo)"
   ]
  },
  {
   "cell_type": "code",
   "execution_count": 28,
   "metadata": {},
   "outputs": [],
   "source": [
    "def etiquetar_reviews(df, modelo_ml) -> dict:\n",
    "    \"\"\"\n",
    "    \"\"\"\n",
    "    def np_encoder(object):\n",
    "        #\n",
    "        if isinstance(object, np.generic):\n",
    "            return object.item()\n",
    "    \n",
    "    problematicas = [modelo_ml.predict([review])[0] for review in df['text']]\n",
    "    \n",
    "    df_reviews_ml = pd.DataFrame({\n",
    "        'review_id': df['review_id'],\n",
    "        'date': df['date'],\n",
    "        'name': df['name'],\n",
    "        'problem': problematicas\n",
    "    })\n",
    "\n",
    "    df_reviews_problem = df_reviews_ml['problem'].apply(pd.Series)\n",
    "    df_reviews_problem.rename(\n",
    "        columns={\n",
    "            0: 'bad_food',\n",
    "            1: 'cost',\n",
    "            2: 'filthy',\n",
    "            3: 'missing_food',\n",
    "            4: 'order_problem',\n",
    "            5: 'rude_service',\n",
    "            6: 'bad_neighborhood',\n",
    "            7: 'slow_service'\n",
    "        },\n",
    "        inplace=True\n",
    "    )\n",
    "\n",
    "    df_reviews_etiquetadas = pd.concat([df_reviews_ml[['review_id', 'date','name']], df_reviews_problem], axis=1)\n",
    "    \n",
    "    df_reviews_etiquetadas['date'] = pd.to_datetime(df_reviews_etiquetadas['date'])\n",
    "    df_reviews_etiquetadas['quarter'] = df_reviews_etiquetadas['date'].dt.to_period('Q')\n",
    "    df_reviews_etiquetadas['quarter'] = df_reviews_etiquetadas['quarter'].astype('str')\n",
    "\n",
    "    # Se por trimestre y restaurante, y crear un diccionario las reseñas y sus problematicas\n",
    "    df_reviews_etiquetadas = df_reviews_etiquetadas \\\n",
    "        .groupby(['quarter', 'name']) \\\n",
    "        .apply(lambda x:\n",
    "            json.dumps({\n",
    "                'review_ids': x['review_id'].to_list(),\n",
    "                'Bad_Food': sum(x['bad_food']),\n",
    "                'Cost': sum(x['cost']),\n",
    "                'Cleanliness': sum(x['filthy']),\n",
    "                #'Missing_Food': sum(x['missing_food']),\n",
    "                'Order_Problem': sum(x['order_problem']),\n",
    "                'Rude_Service': sum(x['rude_service']),\n",
    "                #'Bad_Neighborhood': sum(x['bad_neighborhood']),\n",
    "                'Slow_Service': sum(x['slow_service'])\n",
    "            },\n",
    "            default=np_encoder\n",
    "            )\n",
    "        ) \\\n",
    "        .unstack()\n",
    "    \n",
    "    return df_reviews_etiquetadas\n"
   ]
  },
  {
   "cell_type": "code",
   "execution_count": 29,
   "metadata": {},
   "outputs": [
    {
     "name": "stderr",
     "output_type": "stream",
     "text": [
      "/tmp/ipykernel_8736/462655063.py:42: DeprecationWarning: DataFrameGroupBy.apply operated on the grouping columns. This behavior is deprecated, and in a future version of pandas the grouping columns will be excluded from the operation. Either pass `include_groups=False` to exclude the groupings or explicitly select the grouping columns after groupby to silence this warning.\n",
      "  .apply(lambda x:\n"
     ]
    }
   ],
   "source": [
    "df_reviews_etiquetadas = etiquetar_reviews(reviews_darden_negativas, modelo_ml)"
   ]
  },
  {
   "cell_type": "code",
   "execution_count": 30,
   "metadata": {},
   "outputs": [],
   "source": [
    "def reemplazar_nan_con_json(df: pd.DataFrame):\n",
    "    \"\"\"\n",
    "    \"\"\"\n",
    "    empty_json = json.dumps({\n",
    "        'review_ids': [],\n",
    "        'Bad_Food': 0,\n",
    "        'Cost': 0,\n",
    "        'Cleanliness': 0,\n",
    "        #'Missing_Food': 0,\n",
    "        'Order_Problem': 0,\n",
    "        'Rude_Service': 0,\n",
    "        #'Bad_Neighborhood': 0,\n",
    "        'Slow_Service': 0\n",
    "    })\n",
    "    df.fillna(value=empty_json, inplace=True)\n",
    "\n",
    "    return df"
   ]
  },
  {
   "cell_type": "code",
   "execution_count": 31,
   "metadata": {},
   "outputs": [],
   "source": [
    "df_etiquetada = reemplazar_nan_con_json(df_reviews_etiquetadas)"
   ]
  },
  {
   "cell_type": "code",
   "execution_count": 32,
   "metadata": {},
   "outputs": [],
   "source": [
    "def json_anidado_a_dataframe(columna: pd.Series) -> pd.DataFrame:\n",
    "    \"\"\"\n",
    "    \"\"\"\n",
    "    columna = columna.apply(json.loads)\n",
    "    df_anidado = columna.apply(lambda x: pd.json_normalize(x))\n",
    "    df_final = pd.concat(df_anidado.tolist(), axis=0)\n",
    "    df_final.index = columna.index\n",
    "\n",
    "    return df_final"
   ]
  },
  {
   "cell_type": "code",
   "execution_count": 33,
   "metadata": {},
   "outputs": [],
   "source": [
    "dfs = {}\n",
    "for col in df_etiquetada.columns:\n",
    "    df = json_anidado_a_dataframe(df_etiquetada[col])\n",
    "    dfs[col] = df"
   ]
  },
  {
   "cell_type": "code",
   "execution_count": 34,
   "metadata": {},
   "outputs": [
    {
     "data": {
      "text/plain": [
       "dict_keys(['Bahama Breeze', \"Cheddar's Scratch Kitchen\", \"Eddie V's Prime Seafood\", 'LongHorn Steakhouse', 'Olive Garden Italian Restaurant', \"Ruth's Chris Steak House\", 'Seasons 52', 'Yard House'])"
      ]
     },
     "execution_count": 34,
     "metadata": {},
     "output_type": "execute_result"
    }
   ],
   "source": [
    "dfs.keys()"
   ]
  },
  {
   "cell_type": "code",
   "execution_count": 35,
   "metadata": {},
   "outputs": [
    {
     "name": "stdout",
     "output_type": "stream",
     "text": [
      "BahamaBreeze\n",
      "CheddarsScratchKitchen\n",
      "EddieVsPrimeSeafood\n",
      "LongHornSteakhouse\n",
      "OliveGardenItalianRestaurant\n",
      "RuthsChrisSteakHouse\n",
      "Seasons52\n",
      "YardHouse\n"
     ]
    }
   ],
   "source": [
    "for name, df in dfs.items():\n",
    "    name: str = name.replace(\"'\",\"\").replace(\" \",\"\")\n",
    "    print(name)\n",
    "    #df.to_parquet(f'ml_labels_{name}.parquet')"
   ]
  },
  {
   "cell_type": "code",
   "execution_count": 73,
   "metadata": {},
   "outputs": [
    {
     "data": {
      "text/html": [
       "<div>\n",
       "<style scoped>\n",
       "    .dataframe tbody tr th:only-of-type {\n",
       "        vertical-align: middle;\n",
       "    }\n",
       "\n",
       "    .dataframe tbody tr th {\n",
       "        vertical-align: top;\n",
       "    }\n",
       "\n",
       "    .dataframe thead th {\n",
       "        text-align: right;\n",
       "    }\n",
       "</style>\n",
       "<table border=\"1\" class=\"dataframe\">\n",
       "  <thead>\n",
       "    <tr style=\"text-align: right;\">\n",
       "      <th></th>\n",
       "      <th>review_ids</th>\n",
       "      <th>Bad_Food</th>\n",
       "      <th>Cost</th>\n",
       "      <th>Cleanliness</th>\n",
       "      <th>Order_Problem</th>\n",
       "      <th>Rude_Service</th>\n",
       "      <th>Slow_Service</th>\n",
       "    </tr>\n",
       "    <tr>\n",
       "      <th>quarter</th>\n",
       "      <th></th>\n",
       "      <th></th>\n",
       "      <th></th>\n",
       "      <th></th>\n",
       "      <th></th>\n",
       "      <th></th>\n",
       "      <th></th>\n",
       "    </tr>\n",
       "  </thead>\n",
       "  <tbody>\n",
       "    <tr>\n",
       "      <th>2014Q1</th>\n",
       "      <td>[r_h7bcqqOVfrhU49DFGAgw, 0YmCCSprFIhIy3YJHHUhZ...</td>\n",
       "      <td>1</td>\n",
       "      <td>0</td>\n",
       "      <td>0</td>\n",
       "      <td>2</td>\n",
       "      <td>4</td>\n",
       "      <td>1</td>\n",
       "    </tr>\n",
       "    <tr>\n",
       "      <th>2017Q4</th>\n",
       "      <td>[inCRkoX79Ilc1q0u3IiyjA, ebjjoDJn9iz_SM0xVfd4X...</td>\n",
       "      <td>7</td>\n",
       "      <td>0</td>\n",
       "      <td>1</td>\n",
       "      <td>2</td>\n",
       "      <td>4</td>\n",
       "      <td>4</td>\n",
       "    </tr>\n",
       "    <tr>\n",
       "      <th>2019Q4</th>\n",
       "      <td>[6v95QXQ-R1AONuRLvU-QHA, lvllT9r7OpCfQR6Y1yJVO...</td>\n",
       "      <td>1</td>\n",
       "      <td>0</td>\n",
       "      <td>0</td>\n",
       "      <td>2</td>\n",
       "      <td>3</td>\n",
       "      <td>2</td>\n",
       "    </tr>\n",
       "    <tr>\n",
       "      <th>2011Q3</th>\n",
       "      <td>[unX-Hkh9yEgZgYBwTKvBNg, nZ--lAwvFU3aFF_tSjewS...</td>\n",
       "      <td>3</td>\n",
       "      <td>0</td>\n",
       "      <td>0</td>\n",
       "      <td>0</td>\n",
       "      <td>3</td>\n",
       "      <td>2</td>\n",
       "    </tr>\n",
       "    <tr>\n",
       "      <th>2012Q3</th>\n",
       "      <td>[j1sHpwfVGzCxJ1PmUm6FXw, oUP29wdp5byJx4UeXfnpM...</td>\n",
       "      <td>1</td>\n",
       "      <td>0</td>\n",
       "      <td>0</td>\n",
       "      <td>1</td>\n",
       "      <td>1</td>\n",
       "      <td>0</td>\n",
       "    </tr>\n",
       "    <tr>\n",
       "      <th>2018Q3</th>\n",
       "      <td>[ktKXkNCKhz_JmU4oDGdF8w, 1sIpyZ9-A4-vii9XvZYJ8...</td>\n",
       "      <td>3</td>\n",
       "      <td>0</td>\n",
       "      <td>2</td>\n",
       "      <td>3</td>\n",
       "      <td>6</td>\n",
       "      <td>0</td>\n",
       "    </tr>\n",
       "    <tr>\n",
       "      <th>2010Q2</th>\n",
       "      <td>[W3jYreM-j4sh79zMCVJySA]</td>\n",
       "      <td>0</td>\n",
       "      <td>0</td>\n",
       "      <td>0</td>\n",
       "      <td>0</td>\n",
       "      <td>0</td>\n",
       "      <td>0</td>\n",
       "    </tr>\n",
       "    <tr>\n",
       "      <th>2012Q1</th>\n",
       "      <td>[vM7NON64_i4UxR7vH0l_YA, 7R81L8k2r5X8b7q68nvVE...</td>\n",
       "      <td>1</td>\n",
       "      <td>0</td>\n",
       "      <td>0</td>\n",
       "      <td>0</td>\n",
       "      <td>1</td>\n",
       "      <td>2</td>\n",
       "    </tr>\n",
       "    <tr>\n",
       "      <th>2021Q1</th>\n",
       "      <td>[UNO7HEvkW17Ko7YHy7flow, 77KBMsjYXKOwuaBIQEic-...</td>\n",
       "      <td>1</td>\n",
       "      <td>0</td>\n",
       "      <td>0</td>\n",
       "      <td>3</td>\n",
       "      <td>4</td>\n",
       "      <td>0</td>\n",
       "    </tr>\n",
       "    <tr>\n",
       "      <th>2008Q4</th>\n",
       "      <td>[lke7HAcU-OgjdAoe-1-3nA]</td>\n",
       "      <td>0</td>\n",
       "      <td>0</td>\n",
       "      <td>0</td>\n",
       "      <td>0</td>\n",
       "      <td>0</td>\n",
       "      <td>0</td>\n",
       "    </tr>\n",
       "  </tbody>\n",
       "</table>\n",
       "</div>"
      ],
      "text/plain": [
       "                                                review_ids  Bad_Food  Cost  \\\n",
       "quarter                                                                      \n",
       "2014Q1   [r_h7bcqqOVfrhU49DFGAgw, 0YmCCSprFIhIy3YJHHUhZ...         1     0   \n",
       "2017Q4   [inCRkoX79Ilc1q0u3IiyjA, ebjjoDJn9iz_SM0xVfd4X...         7     0   \n",
       "2019Q4   [6v95QXQ-R1AONuRLvU-QHA, lvllT9r7OpCfQR6Y1yJVO...         1     0   \n",
       "2011Q3   [unX-Hkh9yEgZgYBwTKvBNg, nZ--lAwvFU3aFF_tSjewS...         3     0   \n",
       "2012Q3   [j1sHpwfVGzCxJ1PmUm6FXw, oUP29wdp5byJx4UeXfnpM...         1     0   \n",
       "2018Q3   [ktKXkNCKhz_JmU4oDGdF8w, 1sIpyZ9-A4-vii9XvZYJ8...         3     0   \n",
       "2010Q2                            [W3jYreM-j4sh79zMCVJySA]         0     0   \n",
       "2012Q1   [vM7NON64_i4UxR7vH0l_YA, 7R81L8k2r5X8b7q68nvVE...         1     0   \n",
       "2021Q1   [UNO7HEvkW17Ko7YHy7flow, 77KBMsjYXKOwuaBIQEic-...         1     0   \n",
       "2008Q4                            [lke7HAcU-OgjdAoe-1-3nA]         0     0   \n",
       "\n",
       "         Cleanliness  Order_Problem  Rude_Service  Slow_Service  \n",
       "quarter                                                          \n",
       "2014Q1             0              2             4             1  \n",
       "2017Q4             1              2             4             4  \n",
       "2019Q4             0              2             3             2  \n",
       "2011Q3             0              0             3             2  \n",
       "2012Q3             0              1             1             0  \n",
       "2018Q3             2              3             6             0  \n",
       "2010Q2             0              0             0             0  \n",
       "2012Q1             0              0             1             2  \n",
       "2021Q1             0              3             4             0  \n",
       "2008Q4             0              0             0             0  "
      ]
     },
     "execution_count": 73,
     "metadata": {},
     "output_type": "execute_result"
    }
   ],
   "source": [
    "dfs['Olive Garden Italian Restaurant'].sample(10)"
   ]
  }
 ],
 "metadata": {
  "kernelspec": {
   "display_name": "Python 3",
   "language": "python",
   "name": "python3"
  },
  "language_info": {
   "codemirror_mode": {
    "name": "ipython",
    "version": 3
   },
   "file_extension": ".py",
   "mimetype": "text/x-python",
   "name": "python",
   "nbconvert_exporter": "python",
   "pygments_lexer": "ipython3",
   "version": "3.10.12"
  }
 },
 "nbformat": 4,
 "nbformat_minor": 2
}
