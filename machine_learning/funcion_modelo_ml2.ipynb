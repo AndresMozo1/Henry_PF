{
 "cells": [
  {
   "cell_type": "code",
   "execution_count": 86,
   "metadata": {},
   "outputs": [],
   "source": [
    "import json\n",
    "import pickle\n",
    "import pandas as pd\n",
    "import numpy as np\n"
   ]
  },
  {
   "cell_type": "code",
   "execution_count": 87,
   "metadata": {},
   "outputs": [],
   "source": [
    "#Se cargan las reviews de Darden\n",
    "path_data = '../data/clean'\n",
    "df_reviews_darden = pd.read_parquet(f'{path_data}/reviews_darden.parquet')"
   ]
  },
  {
   "cell_type": "code",
   "execution_count": 88,
   "metadata": {},
   "outputs": [
    {
     "data": {
      "text/html": [
       "<div>\n",
       "<style scoped>\n",
       "    .dataframe tbody tr th:only-of-type {\n",
       "        vertical-align: middle;\n",
       "    }\n",
       "\n",
       "    .dataframe tbody tr th {\n",
       "        vertical-align: top;\n",
       "    }\n",
       "\n",
       "    .dataframe thead th {\n",
       "        text-align: right;\n",
       "    }\n",
       "</style>\n",
       "<table border=\"1\" class=\"dataframe\">\n",
       "  <thead>\n",
       "    <tr style=\"text-align: right;\">\n",
       "      <th></th>\n",
       "      <th>name</th>\n",
       "      <th>review_id</th>\n",
       "      <th>user_id</th>\n",
       "      <th>business_id</th>\n",
       "      <th>stars</th>\n",
       "      <th>text</th>\n",
       "      <th>date</th>\n",
       "      <th>day</th>\n",
       "      <th>text_reply</th>\n",
       "      <th>city</th>\n",
       "      <th>state</th>\n",
       "      <th>postal_code</th>\n",
       "      <th>coordinates</th>\n",
       "    </tr>\n",
       "  </thead>\n",
       "  <tbody>\n",
       "    <tr>\n",
       "      <th>5416</th>\n",
       "      <td>Yard House</td>\n",
       "      <td>oItvcrmF-li-V63oFsjSUg</td>\n",
       "      <td>OLGQ7alK4VKl3YdQk6UF5g</td>\n",
       "      <td>Hr_zdqPZ9VkGjKNv4UIQRg</td>\n",
       "      <td>4.0</td>\n",
       "      <td>Searching Yelp for breweries in KOP, Yard Hous...</td>\n",
       "      <td>2018-09-09</td>\n",
       "      <td>₇ Sunday</td>\n",
       "      <td></td>\n",
       "      <td>King of Prussia</td>\n",
       "      <td>FL</td>\n",
       "      <td>19406</td>\n",
       "      <td>40.0879239996,-75.3952012584</td>\n",
       "    </tr>\n",
       "  </tbody>\n",
       "</table>\n",
       "</div>"
      ],
      "text/plain": [
       "            name               review_id                 user_id  \\\n",
       "5416  Yard House  oItvcrmF-li-V63oFsjSUg  OLGQ7alK4VKl3YdQk6UF5g   \n",
       "\n",
       "                 business_id  stars  \\\n",
       "5416  Hr_zdqPZ9VkGjKNv4UIQRg    4.0   \n",
       "\n",
       "                                                   text        date       day  \\\n",
       "5416  Searching Yelp for breweries in KOP, Yard Hous...  2018-09-09  ₇ Sunday   \n",
       "\n",
       "     text_reply             city state postal_code  \\\n",
       "5416             King of Prussia    FL       19406   \n",
       "\n",
       "                       coordinates  \n",
       "5416  40.0879239996,-75.3952012584  "
      ]
     },
     "execution_count": 88,
     "metadata": {},
     "output_type": "execute_result"
    }
   ],
   "source": [
    "df_reviews_darden.sample()"
   ]
  },
  {
   "cell_type": "code",
   "execution_count": 89,
   "metadata": {},
   "outputs": [
    {
     "data": {
      "text/html": [
       "<div>\n",
       "<style scoped>\n",
       "    .dataframe tbody tr th:only-of-type {\n",
       "        vertical-align: middle;\n",
       "    }\n",
       "\n",
       "    .dataframe tbody tr th {\n",
       "        vertical-align: top;\n",
       "    }\n",
       "\n",
       "    .dataframe thead th {\n",
       "        text-align: right;\n",
       "    }\n",
       "</style>\n",
       "<table border=\"1\" class=\"dataframe\">\n",
       "  <thead>\n",
       "    <tr style=\"text-align: right;\">\n",
       "      <th></th>\n",
       "      <th>review_id</th>\n",
       "      <th>date</th>\n",
       "      <th>name</th>\n",
       "      <th>stars</th>\n",
       "      <th>text</th>\n",
       "    </tr>\n",
       "  </thead>\n",
       "  <tbody>\n",
       "    <tr>\n",
       "      <th>1917</th>\n",
       "      <td>5gHOtgpGMsTSOc_8GjOU4Q</td>\n",
       "      <td>2017-10-02</td>\n",
       "      <td>LongHorn Steakhouse</td>\n",
       "      <td>2.0</td>\n",
       "      <td>What's a fellow to do in this \"Close enough is...</td>\n",
       "    </tr>\n",
       "  </tbody>\n",
       "</table>\n",
       "</div>"
      ],
      "text/plain": [
       "                   review_id        date                 name  stars  \\\n",
       "1917  5gHOtgpGMsTSOc_8GjOU4Q  2017-10-02  LongHorn Steakhouse    2.0   \n",
       "\n",
       "                                                   text  \n",
       "1917  What's a fellow to do in this \"Close enough is...  "
      ]
     },
     "execution_count": 89,
     "metadata": {},
     "output_type": "execute_result"
    }
   ],
   "source": [
    "reviews_darden_negativas = df_reviews_darden[df_reviews_darden.stars <= 3][['review_id','date','name','stars','text']]\n",
    "reviews_darden_negativas.sample()"
   ]
  },
  {
   "cell_type": "code",
   "execution_count": 90,
   "metadata": {},
   "outputs": [],
   "source": [
    "with open('modelo_ML_negativas2.pkl', 'rb') as archivo:\n",
    "    modelo_ml = pickle.load(archivo)"
   ]
  },
  {
   "cell_type": "code",
   "execution_count": 91,
   "metadata": {},
   "outputs": [],
   "source": [
    "def etiquetar_reviews(df, modelo_ml) -> dict:\n",
    "    \"\"\"\n",
    "    \"\"\"\n",
    "    def np_encoder(object):\n",
    "        #\n",
    "        if isinstance(object, np.generic):\n",
    "            return object.item()\n",
    "    \n",
    "    problematicas = [modelo_ml.predict([review])[0] for review in df['text']]\n",
    "    \n",
    "    df_reviews_ml = pd.DataFrame({\n",
    "        'review_id': df['review_id'],\n",
    "        'date': df['date'],\n",
    "        'name': df['name'],\n",
    "        'problem': problematicas\n",
    "    })\n",
    "\n",
    "    df_reviews_problem = df_reviews_ml['problem'].apply(pd.Series)\n",
    "    df_reviews_problem.rename(\n",
    "        columns={\n",
    "            0: 'bad_food',\n",
    "            1: 'cost',\n",
    "            2: 'filthy',\n",
    "            3: 'missing_food',\n",
    "            4: 'order_problem',\n",
    "            5: 'rude_service',\n",
    "            6: 'bad_neighborhood',\n",
    "            7: 'slow_service'\n",
    "        },\n",
    "        inplace=True\n",
    "    )\n",
    "\n",
    "    df_reviews_etiquetadas = pd.concat([df_reviews_ml[['review_id', 'date','name']], df_reviews_problem], axis=1)\n",
    "    \n",
    "    df_reviews_etiquetadas['date'] = pd.to_datetime(df_reviews_etiquetadas['date'])\n",
    "    df_reviews_etiquetadas['quarter'] = df_reviews_etiquetadas['date'].dt.to_period('Q')\n",
    "    df_reviews_etiquetadas['quarter'] = df_reviews_etiquetadas['quarter'].astype('str')\n",
    "\n",
    "    # Se por trimestre y restaurante, y crear un diccionario las reseñas y sus problematicas\n",
    "    df_reviews_etiquetadas = df_reviews_etiquetadas \\\n",
    "        .groupby(['quarter', 'name']) \\\n",
    "        .apply(lambda x:\n",
    "            json.dumps({\n",
    "                'Bad_Food': sum(x['bad_food']),\n",
    "                'Cost': sum(x['cost']),\n",
    "                'Cleanliness': sum(x['filthy']),\n",
    "                #'Missing_Food': sum(x['missing_food']),\n",
    "                'Order_Problem': sum(x['order_problem']),\n",
    "                'Rude_Service': sum(x['rude_service']),\n",
    "                #'Bad_Neighborhood': sum(x['bad_neighborhood']),\n",
    "                'Slow_Service': sum(x['slow_service'])\n",
    "            },\n",
    "            default=np_encoder\n",
    "            )\n",
    "        ) \\\n",
    "        .unstack()\n",
    "    \n",
    "    return df_reviews_etiquetadas\n"
   ]
  },
  {
   "cell_type": "code",
   "execution_count": 92,
   "metadata": {},
   "outputs": [
    {
     "name": "stderr",
     "output_type": "stream",
     "text": [
      "/tmp/ipykernel_14126/3929225263.py:42: DeprecationWarning: DataFrameGroupBy.apply operated on the grouping columns. This behavior is deprecated, and in a future version of pandas the grouping columns will be excluded from the operation. Either pass `include_groups=False` to exclude the groupings or explicitly select the grouping columns after groupby to silence this warning.\n",
      "  .apply(lambda x:\n"
     ]
    }
   ],
   "source": [
    "df_reviews_etiquetadas = etiquetar_reviews(reviews_darden_negativas, modelo_ml)"
   ]
  },
  {
   "cell_type": "code",
   "execution_count": 93,
   "metadata": {},
   "outputs": [],
   "source": [
    "def reemplazar_nan_con_json(df: pd.DataFrame):\n",
    "    \"\"\"\n",
    "    \"\"\"\n",
    "    empty_json = json.dumps({\n",
    "        'Bad_Food': 0,\n",
    "        'Cost': 0,\n",
    "        'Cleanliness': 0,\n",
    "        #'Missing_Food': 0,\n",
    "        'Order_Problem': 0,\n",
    "        'Rude_Service': 0,\n",
    "        #'Bad_Neighborhood': 0,\n",
    "        'Slow_Service': 0\n",
    "    })\n",
    "    df.fillna(value=empty_json, inplace=True)\n",
    "\n",
    "    return df"
   ]
  },
  {
   "cell_type": "code",
   "execution_count": 94,
   "metadata": {},
   "outputs": [],
   "source": [
    "df_etiquetada = reemplazar_nan_con_json(df_reviews_etiquetadas)"
   ]
  },
  {
   "cell_type": "code",
   "execution_count": 95,
   "metadata": {},
   "outputs": [],
   "source": [
    "def json_anidado_a_dataframe(columna: pd.Series) -> pd.DataFrame:\n",
    "    \"\"\"\n",
    "    \"\"\"\n",
    "    columna = columna.apply(json.loads)\n",
    "    df_anidado = columna.apply(lambda x: pd.json_normalize(x))\n",
    "    df_final = pd.concat(df_anidado.tolist(), axis=0)\n",
    "    df_final.index = columna.index\n",
    "\n",
    "    return df_final"
   ]
  },
  {
   "cell_type": "code",
   "execution_count": 96,
   "metadata": {},
   "outputs": [],
   "source": [
    "dfs = {}\n",
    "for col in df_etiquetada.columns:\n",
    "    df = json_anidado_a_dataframe(df_etiquetada[col])\n",
    "    data = []\n",
    "    for trimestre, row in df.iterrows():\n",
    "        for etiqueta, frequency in row.items():\n",
    "            for _ in range(frequency):\n",
    "                data.append({'Trimestre': trimestre, 'Etiqueta': etiqueta})\n",
    "    df_data = pd.DataFrame(data)\n",
    "    df_data['Cadena'] = col\n",
    "    dfs[col] = df_data"
   ]
  },
  {
   "cell_type": "code",
   "execution_count": 97,
   "metadata": {},
   "outputs": [
    {
     "data": {
      "text/plain": [
       "dict_keys(['Bahama Breeze', \"Cheddar's Scratch Kitchen\", \"Eddie V's Prime Seafood\", 'LongHorn Steakhouse', 'Olive Garden Italian Restaurant', \"Ruth's Chris Steak House\", 'Seasons 52', 'Yard House'])"
      ]
     },
     "execution_count": 97,
     "metadata": {},
     "output_type": "execute_result"
    }
   ],
   "source": [
    "dfs.keys()"
   ]
  },
  {
   "cell_type": "code",
   "execution_count": 98,
   "metadata": {},
   "outputs": [],
   "source": [
    "df_out = pd.DataFrame()\n",
    "for df in dfs.values():\n",
    "    df_out = pd.concat([df_out, df], ignore_index=True)"
   ]
  },
  {
   "cell_type": "code",
   "execution_count": 99,
   "metadata": {},
   "outputs": [
    {
     "name": "stdout",
     "output_type": "stream",
     "text": [
      "     Trimestre       Etiqueta         Cadena\n",
      "0       2009Q1       Bad_Food  Bahama Breeze\n",
      "1       2009Q4       Bad_Food  Bahama Breeze\n",
      "2       2010Q1   Rude_Service  Bahama Breeze\n",
      "3       2010Q2   Slow_Service  Bahama Breeze\n",
      "4       2011Q3       Bad_Food  Bahama Breeze\n",
      "...        ...            ...            ...\n",
      "1742    2021Q4   Rude_Service     Yard House\n",
      "1743    2021Q4   Rude_Service     Yard House\n",
      "1744    2021Q4   Rude_Service     Yard House\n",
      "1745    2021Q4   Slow_Service     Yard House\n",
      "1746    2022Q1  Order_Problem     Yard House\n",
      "\n",
      "[1747 rows x 3 columns]\n"
     ]
    }
   ],
   "source": [
    "print(df_out)"
   ]
  },
  {
   "cell_type": "code",
   "execution_count": 100,
   "metadata": {},
   "outputs": [],
   "source": [
    "df_out.to_parquet('ml_labels_All.parquet')"
   ]
  },
  {
   "cell_type": "code",
   "execution_count": 101,
   "metadata": {},
   "outputs": [
    {
     "data": {
      "text/plain": [
       "'for name, df in dfs.items():\\n    #df[\\'cadena\\'] = name\\n    name: str = name.replace(\"\\'\",\"\").replace(\" \",\"\")\\n    print(name)\\n    #df.to_parquet(f\\'ml_labels_{name}.parquet\\')'"
      ]
     },
     "execution_count": 101,
     "metadata": {},
     "output_type": "execute_result"
    }
   ],
   "source": [
    "\"\"\"for name, df in dfs.items():\n",
    "    #df['cadena'] = name\n",
    "    name: str = name.replace(\"'\",\"\").replace(\" \",\"\")\n",
    "    print(name)\n",
    "    #df.to_parquet(f'ml_labels_{name}.parquet')\"\"\""
   ]
  },
  {
   "cell_type": "code",
   "execution_count": 102,
   "metadata": {},
   "outputs": [],
   "source": [
    "#dfs['Olive Garden Italian Restaurant'].sample(1)"
   ]
  },
  {
   "cell_type": "code",
   "execution_count": null,
   "metadata": {},
   "outputs": [],
   "source": [
    "\n"
   ]
  }
 ],
 "metadata": {
  "kernelspec": {
   "display_name": "Python 3",
   "language": "python",
   "name": "python3"
  },
  "language_info": {
   "codemirror_mode": {
    "name": "ipython",
    "version": 3
   },
   "file_extension": ".py",
   "mimetype": "text/x-python",
   "name": "python",
   "nbconvert_exporter": "python",
   "pygments_lexer": "ipython3",
   "version": "3.10.12"
  }
 },
 "nbformat": 4,
 "nbformat_minor": 2
}
