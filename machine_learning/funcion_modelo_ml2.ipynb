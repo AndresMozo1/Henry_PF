{
 "cells": [
  {
   "cell_type": "code",
   "execution_count": 1,
   "metadata": {},
   "outputs": [],
   "source": [
    "import json\n",
    "import pickle\n",
    "import pandas as pd\n",
    "import numpy as np\n"
   ]
  },
  {
   "cell_type": "code",
   "execution_count": null,
   "metadata": {},
   "outputs": [],
   "source": []
  },
  {
   "cell_type": "code",
   "execution_count": 2,
   "metadata": {},
   "outputs": [],
   "source": [
    "#Se cargan las reviews de Darden\n",
    "path_data = '../data/clean'\n",
    "df_reviews_darden = pd.read_parquet(f'{path_data}/reviews_darden.parquet')"
   ]
  },
  {
   "cell_type": "code",
   "execution_count": 3,
   "metadata": {},
   "outputs": [
    {
     "data": {
      "text/html": [
       "<div>\n",
       "<style scoped>\n",
       "    .dataframe tbody tr th:only-of-type {\n",
       "        vertical-align: middle;\n",
       "    }\n",
       "\n",
       "    .dataframe tbody tr th {\n",
       "        vertical-align: top;\n",
       "    }\n",
       "\n",
       "    .dataframe thead th {\n",
       "        text-align: right;\n",
       "    }\n",
       "</style>\n",
       "<table border=\"1\" class=\"dataframe\">\n",
       "  <thead>\n",
       "    <tr style=\"text-align: right;\">\n",
       "      <th></th>\n",
       "      <th>name</th>\n",
       "      <th>review_id</th>\n",
       "      <th>user_id</th>\n",
       "      <th>business_id</th>\n",
       "      <th>stars</th>\n",
       "      <th>text</th>\n",
       "      <th>date</th>\n",
       "      <th>day</th>\n",
       "      <th>text_reply</th>\n",
       "      <th>city</th>\n",
       "      <th>state</th>\n",
       "      <th>postal_code</th>\n",
       "      <th>coordinates</th>\n",
       "    </tr>\n",
       "  </thead>\n",
       "  <tbody>\n",
       "    <tr>\n",
       "      <th>7007</th>\n",
       "      <td>Eddie V's Prime Seafood</td>\n",
       "      <td>lFTmm2z-MlHjQQpw1uOWEQ</td>\n",
       "      <td>6SLDXPAbAsBLF0eb4r1itQ</td>\n",
       "      <td>mc9V_wG4QyRYew9_S8R44A</td>\n",
       "      <td>4.0</td>\n",
       "      <td>We made the reservation for Eddie V's the week...</td>\n",
       "      <td>2015-02-19</td>\n",
       "      <td>₄ Thursday</td>\n",
       "      <td></td>\n",
       "      <td>Tampa</td>\n",
       "      <td>FL</td>\n",
       "      <td>33607</td>\n",
       "      <td>27.9602024049,-82.5183134644</td>\n",
       "    </tr>\n",
       "  </tbody>\n",
       "</table>\n",
       "</div>"
      ],
      "text/plain": [
       "                         name               review_id                 user_id  \\\n",
       "7007  Eddie V's Prime Seafood  lFTmm2z-MlHjQQpw1uOWEQ  6SLDXPAbAsBLF0eb4r1itQ   \n",
       "\n",
       "                 business_id  stars  \\\n",
       "7007  mc9V_wG4QyRYew9_S8R44A    4.0   \n",
       "\n",
       "                                                   text        date  \\\n",
       "7007  We made the reservation for Eddie V's the week...  2015-02-19   \n",
       "\n",
       "             day text_reply   city state postal_code  \\\n",
       "7007  ₄ Thursday             Tampa    FL       33607   \n",
       "\n",
       "                       coordinates  \n",
       "7007  27.9602024049,-82.5183134644  "
      ]
     },
     "execution_count": 3,
     "metadata": {},
     "output_type": "execute_result"
    }
   ],
   "source": [
    "df_reviews_darden.sample()"
   ]
  },
  {
   "cell_type": "code",
   "execution_count": 4,
   "metadata": {},
   "outputs": [
    {
     "data": {
      "text/html": [
       "<div>\n",
       "<style scoped>\n",
       "    .dataframe tbody tr th:only-of-type {\n",
       "        vertical-align: middle;\n",
       "    }\n",
       "\n",
       "    .dataframe tbody tr th {\n",
       "        vertical-align: top;\n",
       "    }\n",
       "\n",
       "    .dataframe thead th {\n",
       "        text-align: right;\n",
       "    }\n",
       "</style>\n",
       "<table border=\"1\" class=\"dataframe\">\n",
       "  <thead>\n",
       "    <tr style=\"text-align: right;\">\n",
       "      <th></th>\n",
       "      <th>review_id</th>\n",
       "      <th>date</th>\n",
       "      <th>name</th>\n",
       "      <th>stars</th>\n",
       "      <th>text</th>\n",
       "    </tr>\n",
       "  </thead>\n",
       "  <tbody>\n",
       "    <tr>\n",
       "      <th>5852</th>\n",
       "      <td>jjSvrpUE9ScPNgtJvnpwlg</td>\n",
       "      <td>2018-02-11</td>\n",
       "      <td>Cheddar's Scratch Kitchen</td>\n",
       "      <td>2.0</td>\n",
       "      <td>This restaurant is a disappointment. There is ...</td>\n",
       "    </tr>\n",
       "  </tbody>\n",
       "</table>\n",
       "</div>"
      ],
      "text/plain": [
       "                   review_id        date                       name  stars  \\\n",
       "5852  jjSvrpUE9ScPNgtJvnpwlg  2018-02-11  Cheddar's Scratch Kitchen    2.0   \n",
       "\n",
       "                                                   text  \n",
       "5852  This restaurant is a disappointment. There is ...  "
      ]
     },
     "execution_count": 4,
     "metadata": {},
     "output_type": "execute_result"
    }
   ],
   "source": [
    "reviews_darden_negativas = df_reviews_darden[df_reviews_darden.stars <= 3][['review_id','date','name','stars','text']]\n",
    "reviews_darden_negativas.sample()"
   ]
  },
  {
   "cell_type": "code",
   "execution_count": 5,
   "metadata": {},
   "outputs": [],
   "source": [
    "with open('modelo_ML_negativas2.pkl', 'rb') as archivo:\n",
    "    modelo_ml = pickle.load(archivo)"
   ]
  },
  {
   "cell_type": "code",
   "execution_count": 6,
   "metadata": {},
   "outputs": [],
   "source": [
    "def etiquetar_reviews(df, modelo_ml) -> dict:\n",
    "    \"\"\"\n",
    "    \"\"\"\n",
    "    def np_encoder(object):\n",
    "        #\n",
    "        if isinstance(object, np.generic):\n",
    "            return object.item()\n",
    "    \n",
    "    problematicas = [modelo_ml.predict([review])[0] for review in df['text']]\n",
    "    \n",
    "    df_reviews_ml = pd.DataFrame({\n",
    "        'review_id': df['review_id'],\n",
    "        'date': df['date'],\n",
    "        'name': df['name'],\n",
    "        'problem': problematicas\n",
    "    })\n",
    "\n",
    "    df_reviews_problem = df_reviews_ml['problem'].apply(pd.Series)\n",
    "    df_reviews_problem.rename(\n",
    "        columns={\n",
    "            0: 'bad_food',\n",
    "            1: 'cost',\n",
    "            2: 'filthy',\n",
    "            3: 'missing_food',\n",
    "            4: 'order_problem',\n",
    "            5: 'rude_service',\n",
    "            6: 'bad_neighborhood',\n",
    "            7: 'slow_service'\n",
    "        },\n",
    "        inplace=True\n",
    "    )\n",
    "\n",
    "    df_reviews_etiquetadas = pd.concat([df_reviews_ml[['review_id', 'date','name']], df_reviews_problem], axis=1)\n",
    "    \n",
    "    df_reviews_etiquetadas['date'] = pd.to_datetime(df_reviews_etiquetadas['date'])\n",
    "    df_reviews_etiquetadas['quarter'] = df_reviews_etiquetadas['date'].dt.to_period('Q')\n",
    "    df_reviews_etiquetadas['quarter'] = df_reviews_etiquetadas['quarter'].astype('str')\n",
    "\n",
    "    # Se por trimestre y restaurante, y crear un diccionario las reseñas y sus problematicas\n",
    "    df_reviews_etiquetadas = df_reviews_etiquetadas \\\n",
    "        .groupby(['quarter', 'name']) \\\n",
    "        .apply(lambda x:\n",
    "            json.dumps({\n",
    "                'review_id': x['review_id'].to_list(),\n",
    "                'Bad food': sum(x['bad_food']),\n",
    "                'Cost': sum(x['cost']),\n",
    "                'Cleanliness': sum(x['filthy']),\n",
    "                #'Missing food': sum(x['missing_food']),\n",
    "                'Order problem': sum(x['order_problem']),\n",
    "                'Rude service': sum(x['rude_service']),\n",
    "                #'Bad neighborhood': sum(x['bad_neighborhood']),\n",
    "                'Slow service': sum(x['slow_service'])\n",
    "            },\n",
    "            default=np_encoder\n",
    "            )\n",
    "        ) \\\n",
    "        .unstack()\n",
    "    \n",
    "    return df_reviews_etiquetadas\n"
   ]
  },
  {
   "cell_type": "code",
   "execution_count": 7,
   "metadata": {},
   "outputs": [
    {
     "name": "stderr",
     "output_type": "stream",
     "text": [
      "/tmp/ipykernel_173522/3722504096.py:42: DeprecationWarning: DataFrameGroupBy.apply operated on the grouping columns. This behavior is deprecated, and in a future version of pandas the grouping columns will be excluded from the operation. Either pass `include_groups=False` to exclude the groupings or explicitly select the grouping columns after groupby to silence this warning.\n",
      "  .apply(lambda x:\n"
     ]
    }
   ],
   "source": [
    "df_reviews_etiquetadas = etiquetar_reviews(reviews_darden_negativas, modelo_ml)"
   ]
  },
  {
   "cell_type": "code",
   "execution_count": 8,
   "metadata": {},
   "outputs": [],
   "source": [
    "def reemplazar_nan_con_json(df: pd.DataFrame):\n",
    "    \"\"\"\n",
    "    \"\"\"\n",
    "    empty_json = json.dumps({\n",
    "        'review_id': [],\n",
    "        'Bad food': 0,\n",
    "        'Cost': 0,\n",
    "        'Cleanliness': 0,\n",
    "        #'Missing food': 0,\n",
    "        'Order problem': 0,\n",
    "        'Rude service': 0,\n",
    "        #'Bad neighborhood': 0,\n",
    "        'Slow service': 0\n",
    "    })\n",
    "    df.fillna(value=empty_json, inplace=True)\n",
    "\n",
    "    return df"
   ]
  },
  {
   "cell_type": "code",
   "execution_count": 9,
   "metadata": {},
   "outputs": [],
   "source": [
    "df_etiquetada = reemplazar_nan_con_json(df_reviews_etiquetadas)"
   ]
  },
  {
   "cell_type": "code",
   "execution_count": 10,
   "metadata": {},
   "outputs": [],
   "source": [
    "def json_anidado_a_dataframe(columna: pd.Series) -> pd.DataFrame:\n",
    "    \"\"\"\n",
    "    \"\"\"\n",
    "    columna = columna.apply(json.loads)\n",
    "    df_anidado = columna.apply(lambda x: pd.json_normalize(x))\n",
    "    df_final = pd.concat(df_anidado.tolist(), axis=0)\n",
    "    df_final.index = columna.index\n",
    "\n",
    "    return df_final"
   ]
  },
  {
   "cell_type": "code",
   "execution_count": 11,
   "metadata": {},
   "outputs": [],
   "source": [
    "dfs = {}\n",
    "for col in df_etiquetada.columns:\n",
    "    df = json_anidado_a_dataframe(df_etiquetada[col])\n",
    "    dfs[col] = df"
   ]
  },
  {
   "cell_type": "code",
   "execution_count": 12,
   "metadata": {},
   "outputs": [
    {
     "data": {
      "text/plain": [
       "dict_keys(['Bahama Breeze', \"Cheddar's Scratch Kitchen\", \"Eddie V's Prime Seafood\", 'LongHorn Steakhouse', 'Olive Garden Italian Restaurant', \"Ruth's Chris Steak House\", 'Seasons 52', 'Yard House'])"
      ]
     },
     "execution_count": 12,
     "metadata": {},
     "output_type": "execute_result"
    }
   ],
   "source": [
    "dfs.keys()"
   ]
  },
  {
   "cell_type": "code",
   "execution_count": 13,
   "metadata": {},
   "outputs": [],
   "source": [
    "for name, df in dfs.items():\n",
    "    name: str = name.replace(\"'\",\"\").replace(\" \",\"\")\n",
    "    print(name)\n",
    "    #df.to_parquet(f'ml_labels_{name}.parquet')"
   ]
  }
 ],
 "metadata": {
  "kernelspec": {
   "display_name": "Python 3",
   "language": "python",
   "name": "python3"
  },
  "language_info": {
   "codemirror_mode": {
    "name": "ipython",
    "version": 3
   },
   "file_extension": ".py",
   "mimetype": "text/x-python",
   "name": "python",
   "nbconvert_exporter": "python",
   "pygments_lexer": "ipython3",
   "version": "3.10.12"
  }
 },
 "nbformat": 4,
 "nbformat_minor": 2
}
