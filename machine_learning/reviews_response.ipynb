{
 "cells": [
  {
   "cell_type": "code",
   "execution_count": 1,
   "metadata": {},
   "outputs": [],
   "source": [
    "import pandas as pd"
   ]
  },
  {
   "cell_type": "code",
   "execution_count": 2,
   "metadata": {},
   "outputs": [],
   "source": [
    "df_reviews = pd.read_csv(\"../misc/y_darden_reviews_respondido.csv\")"
   ]
  },
  {
   "cell_type": "code",
   "execution_count": 3,
   "metadata": {},
   "outputs": [],
   "source": [
    "#df_reviews[\"response_text\"] = \"\""
   ]
  },
  {
   "cell_type": "code",
   "execution_count": null,
   "metadata": {},
   "outputs": [],
   "source": [
    "contador = 1437\n",
    "total = df_reviews.shape[0]\n",
    "\n",
    "while contador < total:\n",
    "    if df_reviews.loc[contador,\"stars\"] < 4:\n",
    "        pass\n",
    "    else:\n",
    "        review = df_reviews.loc[contador,\"text\"] \n",
    "        prompt = f\"\"\"\n",
    "            You are a humble restaurant manager that uses casual language. \n",
    "            You are talking to a customer. \n",
    "            Reply with a short one sentence to this Yelp review: \n",
    "            {review}\n",
    "            \"\"\"\n",
    "        df_reviews.loc[contador,\"response_text\"] = model_Q5(prompt)\n",
    "       \n",
    "    contador +=1\n"
   ]
  },
  {
   "cell_type": "code",
   "execution_count": null,
   "metadata": {},
   "outputs": [],
   "source": [
    "#df_reviews.to_csv(\"y_darden_reviews_respondido.csv\")"
   ]
  },
  {
   "cell_type": "code",
   "execution_count": 4,
   "metadata": {},
   "outputs": [
    {
     "name": "stdout",
     "output_type": "stream",
     "text": [
      "<class 'pandas.core.frame.DataFrame'>\n",
      "RangeIndex: 6365 entries, 0 to 6364\n",
      "Data columns (total 14 columns):\n",
      " #   Column         Non-Null Count  Dtype  \n",
      "---  ------         --------------  -----  \n",
      " 0   Unnamed: 0     6365 non-null   int64  \n",
      " 1   name           6365 non-null   object \n",
      " 2   review_id      6365 non-null   object \n",
      " 3   user_id        6365 non-null   object \n",
      " 4   business_id    6365 non-null   object \n",
      " 5   stars          6365 non-null   float64\n",
      " 6   text           6365 non-null   object \n",
      " 7   date           6365 non-null   int64  \n",
      " 8   day            6365 non-null   object \n",
      " 9   city           6365 non-null   object \n",
      " 10  state          6365 non-null   object \n",
      " 11  postal_code    6365 non-null   int64  \n",
      " 12  coordinates    6365 non-null   object \n",
      " 13  response_text  889 non-null    object \n",
      "dtypes: float64(1), int64(3), object(10)\n",
      "memory usage: 696.3+ KB\n"
     ]
    }
   ],
   "source": [
    "df_reviews.info()"
   ]
  },
  {
   "cell_type": "code",
   "execution_count": 9,
   "metadata": {},
   "outputs": [
    {
     "data": {
      "text/plain": [
       "Unnamed: 0       3727\n",
       "name             3727\n",
       "review_id        3727\n",
       "user_id          3727\n",
       "business_id      3727\n",
       "stars            3727\n",
       "text             3727\n",
       "date             3727\n",
       "day              3727\n",
       "city             3727\n",
       "state            3727\n",
       "postal_code      3727\n",
       "coordinates      3727\n",
       "response_text     889\n",
       "dtype: int64"
      ]
     },
     "execution_count": 9,
     "metadata": {},
     "output_type": "execute_result"
    }
   ],
   "source": [
    "df_reviews[df_reviews[\"stars\"] >=4].count()"
   ]
  },
  {
   "cell_type": "code",
   "execution_count": 26,
   "metadata": {},
   "outputs": [
    {
     "data": {
      "text/html": [
       "<div>\n",
       "<style scoped>\n",
       "    .dataframe tbody tr th:only-of-type {\n",
       "        vertical-align: middle;\n",
       "    }\n",
       "\n",
       "    .dataframe tbody tr th {\n",
       "        vertical-align: top;\n",
       "    }\n",
       "\n",
       "    .dataframe thead th {\n",
       "        text-align: right;\n",
       "    }\n",
       "</style>\n",
       "<table border=\"1\" class=\"dataframe\">\n",
       "  <thead>\n",
       "    <tr style=\"text-align: right;\">\n",
       "      <th></th>\n",
       "      <th>Unnamed: 0</th>\n",
       "      <th>name</th>\n",
       "      <th>review_id</th>\n",
       "      <th>user_id</th>\n",
       "      <th>business_id</th>\n",
       "      <th>stars</th>\n",
       "      <th>text</th>\n",
       "      <th>date</th>\n",
       "      <th>day</th>\n",
       "      <th>city</th>\n",
       "      <th>state</th>\n",
       "      <th>postal_code</th>\n",
       "      <th>coordinates</th>\n",
       "      <th>response_text</th>\n",
       "    </tr>\n",
       "  </thead>\n",
       "  <tbody>\n",
       "    <tr>\n",
       "      <th>1434</th>\n",
       "      <td>1434</td>\n",
       "      <td>LongHorn Steakhouse</td>\n",
       "      <td>h1y8OLZw2XTeikdgUFPzjw</td>\n",
       "      <td>muUzapu5PiCPgbe1fFd4qA</td>\n",
       "      <td>TFu4tLmV6zRVLEFG0TCLBA</td>\n",
       "      <td>5.0</td>\n",
       "      <td>Went on a dinner date with my partner and ever...</td>\n",
       "      <td>1551671888000000000</td>\n",
       "      <td>Monday</td>\n",
       "      <td>Tampa</td>\n",
       "      <td>PA</td>\n",
       "      <td>33612</td>\n",
       "      <td>28.0550872249,-82.4363535575</td>\n",
       "      <td>\\n        Wow, thank you so much for the kind ...</td>\n",
       "    </tr>\n",
       "    <tr>\n",
       "      <th>1435</th>\n",
       "      <td>1435</td>\n",
       "      <td>LongHorn Steakhouse</td>\n",
       "      <td>YUP9VswZe-jrkqjUuVtRUQ</td>\n",
       "      <td>G605nYIS8uL85mH9qJcQmQ</td>\n",
       "      <td>TFu4tLmV6zRVLEFG0TCLBA</td>\n",
       "      <td>1.0</td>\n",
       "      <td>Normally, this restaurant is pretty consistent...</td>\n",
       "      <td>1506985270000000000</td>\n",
       "      <td>Monday</td>\n",
       "      <td>Tampa</td>\n",
       "      <td>PA</td>\n",
       "      <td>33612</td>\n",
       "      <td>28.0550872249,-82.4363535575</td>\n",
       "      <td>NaN</td>\n",
       "    </tr>\n",
       "    <tr>\n",
       "      <th>1436</th>\n",
       "      <td>1436</td>\n",
       "      <td>LongHorn Steakhouse</td>\n",
       "      <td>Vq-dxWoN_WLV0kJ2uiYqtA</td>\n",
       "      <td>Ouaz4qZEZBBk11ZAlcQjmA</td>\n",
       "      <td>TFu4tLmV6zRVLEFG0TCLBA</td>\n",
       "      <td>1.0</td>\n",
       "      <td>DON'T EAT AT THIS LOCATION! The server will st...</td>\n",
       "      <td>1549859702000000000</td>\n",
       "      <td>Monday</td>\n",
       "      <td>Tampa</td>\n",
       "      <td>PA</td>\n",
       "      <td>33612</td>\n",
       "      <td>28.0550872249,-82.4363535575</td>\n",
       "      <td>NaN</td>\n",
       "    </tr>\n",
       "    <tr>\n",
       "      <th>1437</th>\n",
       "      <td>1437</td>\n",
       "      <td>LongHorn Steakhouse</td>\n",
       "      <td>Z6SUWfBNwOP3nFDeCicC4g</td>\n",
       "      <td>XrtlvN_DTTzP1sfKVofMeQ</td>\n",
       "      <td>TFu4tLmV6zRVLEFG0TCLBA</td>\n",
       "      <td>5.0</td>\n",
       "      <td>Had the best waiter EVER , made all the differ...</td>\n",
       "      <td>1562014974000000000</td>\n",
       "      <td>Monday</td>\n",
       "      <td>Tampa</td>\n",
       "      <td>PA</td>\n",
       "      <td>33612</td>\n",
       "      <td>28.0550872249,-82.4363535575</td>\n",
       "      <td>NaN</td>\n",
       "    </tr>\n",
       "  </tbody>\n",
       "</table>\n",
       "</div>"
      ],
      "text/plain": [
       "      Unnamed: 0                 name               review_id  \\\n",
       "1434        1434  LongHorn Steakhouse  h1y8OLZw2XTeikdgUFPzjw   \n",
       "1435        1435  LongHorn Steakhouse  YUP9VswZe-jrkqjUuVtRUQ   \n",
       "1436        1436  LongHorn Steakhouse  Vq-dxWoN_WLV0kJ2uiYqtA   \n",
       "1437        1437  LongHorn Steakhouse  Z6SUWfBNwOP3nFDeCicC4g   \n",
       "\n",
       "                     user_id             business_id  stars  \\\n",
       "1434  muUzapu5PiCPgbe1fFd4qA  TFu4tLmV6zRVLEFG0TCLBA    5.0   \n",
       "1435  G605nYIS8uL85mH9qJcQmQ  TFu4tLmV6zRVLEFG0TCLBA    1.0   \n",
       "1436  Ouaz4qZEZBBk11ZAlcQjmA  TFu4tLmV6zRVLEFG0TCLBA    1.0   \n",
       "1437  XrtlvN_DTTzP1sfKVofMeQ  TFu4tLmV6zRVLEFG0TCLBA    5.0   \n",
       "\n",
       "                                                   text                 date  \\\n",
       "1434  Went on a dinner date with my partner and ever...  1551671888000000000   \n",
       "1435  Normally, this restaurant is pretty consistent...  1506985270000000000   \n",
       "1436  DON'T EAT AT THIS LOCATION! The server will st...  1549859702000000000   \n",
       "1437  Had the best waiter EVER , made all the differ...  1562014974000000000   \n",
       "\n",
       "         day   city state  postal_code                   coordinates  \\\n",
       "1434  Monday  Tampa    PA        33612  28.0550872249,-82.4363535575   \n",
       "1435  Monday  Tampa    PA        33612  28.0550872249,-82.4363535575   \n",
       "1436  Monday  Tampa    PA        33612  28.0550872249,-82.4363535575   \n",
       "1437  Monday  Tampa    PA        33612  28.0550872249,-82.4363535575   \n",
       "\n",
       "                                          response_text  \n",
       "1434  \\n        Wow, thank you so much for the kind ...  \n",
       "1435                                                NaN  \n",
       "1436                                                NaN  \n",
       "1437                                                NaN  "
      ]
     },
     "execution_count": 26,
     "metadata": {},
     "output_type": "execute_result"
    }
   ],
   "source": [
    "df_reviews.iloc[1434:1438]"
   ]
  }
 ],
 "metadata": {
  "kernelspec": {
   "display_name": "Python 3",
   "language": "python",
   "name": "python3"
  },
  "language_info": {
   "codemirror_mode": {
    "name": "ipython",
    "version": 3
   },
   "file_extension": ".py",
   "mimetype": "text/x-python",
   "name": "python",
   "nbconvert_exporter": "python",
   "pygments_lexer": "ipython3",
   "version": "3.8.0"
  }
 },
 "nbformat": 4,
 "nbformat_minor": 2
}
