{
 "cells": [
  {
   "cell_type": "markdown",
   "metadata": {},
   "source": [
    "En este notebook, se transforman los archivos de Yelp y Google a formato parquet."
   ]
  },
  {
   "cell_type": "code",
   "execution_count": 4,
   "metadata": {},
   "outputs": [],
   "source": [
    "from glob import glob\n",
    "import warnings\n",
    "import pandas as pd"
   ]
  },
  {
   "cell_type": "code",
   "execution_count": 5,
   "metadata": {},
   "outputs": [],
   "source": [
    "# Opción para ignorar advertencias\n",
    "warnings.filterwarnings('ignore')\n",
    "# Opción que deshabilitaa el limite de columnas mostradas\n",
    "pd.set_option('display.max_columns', None)"
   ]
  },
  {
   "cell_type": "markdown",
   "metadata": {},
   "source": [
    "---\n",
    "## Dataset Yelp"
   ]
  },
  {
   "cell_type": "markdown",
   "metadata": {},
   "source": [
    "### `business.pkl`"
   ]
  },
  {
   "cell_type": "code",
   "execution_count": null,
   "metadata": {},
   "outputs": [],
   "source": [
    "business_path = './data/Yelp/business.pkl'\n",
    "# Leer pkl (pickle)\n",
    "df = pd.read_pickle(business_path)\n",
    "df.sample(2)"
   ]
  },
  {
   "cell_type": "markdown",
   "metadata": {},
   "source": [
    "* Se observan columnas con nombres duplicados. Hay que unir estas columns."
   ]
  },
  {
   "cell_type": "code",
   "execution_count": null,
   "metadata": {},
   "outputs": [],
   "source": [
    "# Calcular la cantida de columns dividida por 2\n",
    "punto_medio = len(df.columns) // 2\n",
    "# Dividir el dataframe por mitad, a largo de las columns,\n",
    "# utilizando el punto_medio calculado\n",
    "df_1er_mitad = df.iloc[:, :punto_medio]\n",
    "df_2nd_mitad = df.iloc[:, punto_medio:]\n",
    "# Unir los dataframes resultantes\n",
    "df_reorganizado = pd.concat([df_1er_mitad, df_2nd_mitad], axis=0)\n",
    "df_reorganizado.sample(2)"
   ]
  },
  {
   "cell_type": "code",
   "execution_count": null,
   "metadata": {},
   "outputs": [],
   "source": [
    "# Eliminar filas con todo nulos\n",
    "df_reorganizado.dropna(axis=0, how='all', inplace=True)"
   ]
  },
  {
   "cell_type": "code",
   "execution_count": null,
   "metadata": {},
   "outputs": [],
   "source": [
    "# Almacenar en formato parquet, en el mismo directorio de 'business_path'\n",
    "df_reorganizado.to_parquet(business_path.replace('.pkl', '.parquet'))  # se cambia sufijo '.pkl' a '.parquet'"
   ]
  },
  {
   "cell_type": "markdown",
   "metadata": {},
   "source": [
    "### `checkin.json`"
   ]
  },
  {
   "cell_type": "code",
   "execution_count": null,
   "metadata": {},
   "outputs": [],
   "source": [
    "checkin_path = './data/Yelp/checkin.json'\n",
    "# Leer JSON\n",
    "df = pd.read_json(checkin_path, lines=True)\n",
    "# Almacenar en formato parquet, en el mismo directorio\n",
    "df.to_parquet(checkin_path.replace('.json', '.parquet'))  # se cambia sufijo '.json' a '.parquet'"
   ]
  },
  {
   "cell_type": "markdown",
   "metadata": {},
   "source": [
    "### `review.json`"
   ]
  },
  {
   "cell_type": "markdown",
   "metadata": {},
   "source": [
    "! Transformacion no posible en este ambiente"
   ]
  },
  {
   "cell_type": "code",
   "execution_count": null,
   "metadata": {},
   "outputs": [],
   "source": [
    "#review_path = './data/Yelp/review.json'Merge de parquets\n",
    "# Leer JSON\n",
    "#df = pd.read_json(review_path, lines=True)\n",
    "# Almacenar en formato parquet, en el mismo directorio\n",
    "#df.to_parquet(review_path.replace('.json', '.parquet'))  # se cambia sufijo '.json' a '.parquet'"
   ]
  },
  {
   "cell_type": "code",
   "execution_count": null,
   "metadata": {},
   "outputs": [],
   "source": [
    "#from pyarrow import json\n",
    "#import pyarrow.parquet as pq\n",
    "\n",
    "#review_path = './data/Yelp/review.json'\n",
    "# Leer JSON como tabla parquet\n",
    "#tabla = json.read_json(review_path)\n",
    "# Almacenar en formato parquet, en el mismo directorio\n",
    "#pq.write_table(tabla, review_path.replace('.json', '.parquet'))"
   ]
  },
  {
   "cell_type": "markdown",
   "metadata": {},
   "source": [
    "### `tip.json`"
   ]
  },
  {
   "cell_type": "code",
   "execution_count": null,
   "metadata": {},
   "outputs": [],
   "source": [
    "tip_path = './data/Yelp/tip.json'\n",
    "# Leer JSON\n",
    "df = pd.read_json(tip_path, lines=True)\n",
    "# Almacenar en formato parquet, en el mismo directorio\n",
    "df.to_parquet(tip_path.replace('.json', '.parquet'))  # se cambia sufijo '.json' a '.parquet'Merge de parquets"
   ]
  },
  {
   "cell_type": "markdown",
   "metadata": {},
   "source": [
    "### `user.parquet`"
   ]
  },
  {
   "cell_type": "markdown",
   "metadata": {},
   "source": [
    "Esta en formato parquet. Solo visualizamos."
   ]
  },
  {
   "cell_type": "code",
   "execution_count": null,
   "metadata": {},
   "outputs": [],
   "source": [
    "user_df = pd.read_parquet('./data/Yelp/user.parquet')\n",
    "user_df.sample(2)"
   ]
  },
  {
   "cell_type": "markdown",
   "metadata": {},
   "source": [
    "---\n",
    "## Dataset Google"
   ]
  },
  {
   "cell_type": "markdown",
   "metadata": {},
   "source": [
    "### `metadata-sitios/`"
   ]
  },
  {
   "cell_type": "code",
   "execution_count": 3,
   "metadata": {},
   "outputs": [
    {
     "data": {
      "text/plain": [
       "['./data/Google/metadata-sitios/7.json',\n",
       " './data/Google/metadata-sitios/8.json',\n",
       " './data/Google/metadata-sitios/5.json',\n",
       " './data/Google/metadata-sitios/11.json',\n",
       " './data/Google/metadata-sitios/1.json',\n",
       " './data/Google/metadata-sitios/6.json',\n",
       " './data/Google/metadata-sitios/4.json',\n",
       " './data/Google/metadata-sitios/2.json',\n",
       " './data/Google/metadata-sitios/9.json',\n",
       " './data/Google/metadata-sitios/3.json',\n",
       " './data/Google/metadata-sitios/10.json']"
      ]
     },
     "execution_count": 3,
     "metadata": {},
     "output_type": "execute_result"
    }
   ],
   "source": [
    "# Crear lista de JSON en /metadata-sitios/\n",
    "google_dir = './data/Google'\n",
    "metadata_jsons = glob(f'{google_dir}/metadata-sitios/*json')\n",
    "metadata_jsons"
   ]
  },
  {
   "cell_type": "code",
   "execution_count": null,
   "metadata": {},
   "outputs": [],
   "source": [
    "## Convertir archivos JSON, en /metadata-sitios/, a parquet\n",
    "\n",
    "# Crear dataframe donde se unen los datos extraidos de JSON\n",
    "union_df = pd.DataFrame()\n",
    "# Iterar por cada JSON dentro de /metadata-sitios/\n",
    "for f_json in metadata_jsons:\n",
    "    # Leer JSON\n",
    "    df = pd.read_json(f_json, lines=True)\n",
    "    # Unir a union_df\n",
    "    union_df = pd.concat([union_df, df], ignore_index=True)\n",
    "\n",
    "# Almacenar en formato parquet, en el mismo directorio\n",
    "union_df.to_parquet(f'{google_dir}/metadata-sitios/metadata_sitios.parquet')"
   ]
  },
  {
   "cell_type": "markdown",
   "metadata": {},
   "source": [
    "### `reviews-estados/`"
   ]
  },
  {
   "cell_type": "code",
   "execution_count": 17,
   "metadata": {},
   "outputs": [
    {
     "data": {
      "text/plain": [
       "['./data/Google/reviews-estados/review-Maryland',\n",
       " './data/Google/reviews-estados/review-New_Hampshire',\n",
       " './data/Google/reviews-estados/review-Florida',\n",
       " './data/Google/reviews-estados/review-Wyoming',\n",
       " './data/Google/reviews-estados/review-Georgia',\n",
       " './data/Google/reviews-estados/review-Mississippi',\n",
       " './data/Google/reviews-estados/review-Utah',\n",
       " './data/Google/reviews-estados/review-Louisiana',\n",
       " './data/Google/reviews-estados/review-Massachusetts',\n",
       " './data/Google/reviews-estados/review-Oklahoma',\n",
       " './data/Google/reviews-estados/review-District_of_Columbia',\n",
       " './data/Google/reviews-estados/review-Hawaii',\n",
       " './data/Google/reviews-estados/review-Texas',\n",
       " './data/Google/reviews-estados/review-Alabama',\n",
       " './data/Google/reviews-estados/review-Alaska',\n",
       " './data/Google/reviews-estados/review-Iowa',\n",
       " './data/Google/reviews-estados/review-Ohio',\n",
       " './data/Google/reviews-estados/review-Nebraska',\n",
       " './data/Google/reviews-estados/review-Wisconsin',\n",
       " './data/Google/reviews-estados/review-West_Virginia',\n",
       " './data/Google/reviews-estados/review-New_York',\n",
       " './data/Google/reviews-estados/review-Delaware',\n",
       " './data/Google/reviews-estados/review-Missouri',\n",
       " './data/Google/reviews-estados/review-South_Dakota',\n",
       " './data/Google/reviews-estados/review-Vermont',\n",
       " './data/Google/reviews-estados/review-Arizona',\n",
       " './data/Google/reviews-estados/review-Pennsylvania',\n",
       " './data/Google/reviews-estados/review-Michigan',\n",
       " './data/Google/reviews-estados/review-Nevada',\n",
       " './data/Google/reviews-estados/review-Rhode_Island',\n",
       " './data/Google/reviews-estados/review-New_Mexico',\n",
       " './data/Google/reviews-estados/review-California',\n",
       " './data/Google/reviews-estados/review-Maine',\n",
       " './data/Google/reviews-estados/review-Connecticut',\n",
       " './data/Google/reviews-estados/review-Illinois',\n",
       " './data/Google/reviews-estados/review-New_Jersey',\n",
       " './data/Google/reviews-estados/review-Virginia',\n",
       " './data/Google/reviews-estados/review-Tennessee',\n",
       " './data/Google/reviews-estados/review-Colorado',\n",
       " './data/Google/reviews-estados/review-Montana',\n",
       " './data/Google/reviews-estados/review-Kentucky',\n",
       " './data/Google/reviews-estados/review-Minnesota',\n",
       " './data/Google/reviews-estados/review-Idaho',\n",
       " './data/Google/reviews-estados/review-South_Carolina',\n",
       " './data/Google/reviews-estados/review-North_Carolina',\n",
       " './data/Google/reviews-estados/review-Arkansas',\n",
       " './data/Google/reviews-estados/review-Oregon',\n",
       " './data/Google/reviews-estados/review-Indiana',\n",
       " './data/Google/reviews-estados/review-Kansas',\n",
       " './data/Google/reviews-estados/review-Washington',\n",
       " './data/Google/reviews-estados/review-North_Dakota']"
      ]
     },
     "execution_count": 17,
     "metadata": {},
     "output_type": "execute_result"
    }
   ],
   "source": [
    "# Lista de directorios en /reviews-estados/\n",
    "google_dir = './data/Google'\n",
    "review_dirs = glob(f'{google_dir}/reviews-estados/*')\n",
    "review_dirs"
   ]
  },
  {
   "cell_type": "code",
   "execution_count": 21,
   "metadata": {},
   "outputs": [],
   "source": [
    "\"\"\"USE ESTE: Este block une todos los JSON en de un dir, convierte la union\n",
    "   a parquet, y almacena el parquet en ruta del dir\n",
    "\"\"\"\n",
    "## Convertir archivos JSON, en todo directorio dentro de /reviews-estados/, a parquet\n",
    "\n",
    "# Iterar por cada directorio dentro de /reviews-estados/\n",
    "for path_dir in review_dirs:\n",
    "    # Crear lista de JSON dentro de 'path_dir'\n",
    "    path_jsons = glob(f'{path_dir}/*.json')\n",
    "    # Crear dataframe donde se unen los datos extraidos de JSON\n",
    "    union_df = pd.DataFrame()\n",
    "\n",
    "    # Iterar por cada JSON dentro de 'path_jsons' y almacenar su data en 'union_df'\n",
    "    for f_json in path_jsons:\n",
    "        # Leer JSON\n",
    "        df = pd.read_json(f_json, lines=True)\n",
    "        # Unir a union_df\n",
    "        union_df = pd.concat([union_df, df], ignore_index=True)\n",
    "\n",
    "    # Almacenar 'union_df' como parquet, en el path './data/Google/reviews-estados/'\n",
    "    path_almacen = f'{google_dir}/reviews-estados'\n",
    "    nombre_archivo = f'{path_dir.split(\"/\")[-1].replace(\"-\",\"_\")}'\n",
    "    union_df.to_parquet(f'{path_almacen}/{nombre_archivo}.parquet')"
   ]
  },
  {
   "cell_type": "code",
   "execution_count": null,
   "metadata": {},
   "outputs": [],
   "source": [
    "\"\"\"NO USAR: Este block convierte JSON a parquet, y almacena el parquet\n",
    "   resultante en la misma ruta del JSON\n",
    "\"\"\"\n",
    "\"\"\"\n",
    "## Convertir archivos JSON, en todo directorio dentro de /reviews-estados/, a parquet\n",
    "\n",
    "# Iterar por cada directorio dentro de /reviews-estados/\n",
    "for path_dir in review_dirs:\n",
    "    # Craer lista de JSON dentro de 'path_dir'\n",
    "    path_jsons = glob(f'{path_dir}/*.json')\n",
    "    # Iterar por cada JSON dentro de 'path_jsons'\n",
    "    for f_json in path_jsons:\n",
    "        # Leer JSON\n",
    "        df = pd.read_json(f_json, lines=True)\n",
    "        # Almacenar en formato parquet, en el mismo directorio,\n",
    "        # cambiando el nombre del archivo (de .json a .parquet)\n",
    "        df.to_parquet(f_json.replace('.json', '.parquet'))  # se cambia sufijo '.json' a '.parquet'\n",
    "\"\"\""
   ]
  },
  {
   "cell_type": "markdown",
   "metadata": {},
   "source": [
    "---\n",
    "## Merge de parquets\n",
    "Los parquets del dataset de Google estan fragmentados. Los unimos aqui."
   ]
  },
  {
   "cell_type": "code",
   "execution_count": 12,
   "metadata": {},
   "outputs": [
    {
     "data": {
      "text/plain": [
       "['./data/Google/metadata-sitios/10.parquet',\n",
       " './data/Google/metadata-sitios/2.parquet',\n",
       " './data/Google/metadata-sitios/6.parquet',\n",
       " './data/Google/metadata-sitios/1.parquet',\n",
       " './data/Google/metadata-sitios/3.parquet',\n",
       " './data/Google/metadata-sitios/9.parquet',\n",
       " './data/Google/metadata-sitios/4.parquet',\n",
       " './data/Google/metadata-sitios/11.parquet',\n",
       " './data/Google/metadata-sitios/5.parquet',\n",
       " './data/Google/metadata-sitios/7.parquet',\n",
       " './data/Google/metadata-sitios/8.parquet']"
      ]
     },
     "execution_count": 12,
     "metadata": {},
     "output_type": "execute_result"
    }
   ],
   "source": [
    "# Crear lista de parquet en /metadata-sitios/\n",
    "metadata_parquets = glob('./data/Google/metadata-sitios/*.parquet')\n",
    "metadata_parquets"
   ]
  },
  {
   "cell_type": "code",
   "execution_count": null,
   "metadata": {},
   "outputs": [],
   "source": [
    "## Unir los parquets en /metadata-sitios/\n",
    "dfs = [pd.read_parquet(pq) for pq in metadata_parquets]\n",
    "union_df = pd.concat(dfs, ignore_index=True)\n",
    "union_df.to_parquet('./data/Google/metadata-sitios/metadata_sitios.parquet')"
   ]
  },
  {
   "cell_type": "markdown",
   "metadata": {},
   "source": [
    "---\n",
    "## Tranformacion a CSV, para visualizar"
   ]
  },
  {
   "cell_type": "markdown",
   "metadata": {},
   "source": [
    "### Yelp"
   ]
  },
  {
   "cell_type": "markdown",
   "metadata": {},
   "source": [
    "Nota: para dataset Yelp, falta `review.json`"
   ]
  },
  {
   "cell_type": "code",
   "execution_count": null,
   "metadata": {},
   "outputs": [],
   "source": [
    "##  PENDIENTE   !!\n",
    "\n",
    "#review_path = './data/Yelp/review.json'"
   ]
  },
  {
   "cell_type": "code",
   "execution_count": null,
   "metadata": {},
   "outputs": [],
   "source": [
    "business_path = './data/Yelp/business.parquet'\n",
    "# Leer parquet\n",
    "df = pd.read_parquet(business_path)\n",
    "# Almacenar como CSV, un ejemplar de 100 filas\n",
    "df.sample(100).to_csv(f'./data_csv/yelp_{business_path.split(\"/\")[-1].replace(\".parquet\",\"\")}.csv')"
   ]
  },
  {
   "cell_type": "code",
   "execution_count": null,
   "metadata": {},
   "outputs": [],
   "source": [
    "checkin_path = './data/Yelp/checkin.parquet'\n",
    "# Leer parquet\n",
    "df = pd.read_parquet(checkin_path)\n",
    "# Almacenar como CSV, un ejemplar de 100 filas\n",
    "df.sample(100).to_csv(f'./data_csv/yelp_{checkin_path.split(\"/\")[-1].replace(\".parquet\",\"\")}.csv')"
   ]
  },
  {
   "cell_type": "code",
   "execution_count": null,
   "metadata": {},
   "outputs": [],
   "source": [
    "tip_path = './data/Yelp/tip.parquet'\n",
    "# Leer parquet\n",
    "df = pd.read_parquet(tip_path)\n",
    "# Almacenar como CSV, un ejemplar de 100 filas\n",
    "df.sample(100).to_csv(f'./data_csv/yelp_{tip_path.split(\"/\")[-1].replace(\".parquet\",\"\")}.csv')"
   ]
  },
  {
   "cell_type": "code",
   "execution_count": 3,
   "metadata": {},
   "outputs": [],
   "source": [
    "user_path = './data/Yelp/user.parquet'\n",
    "# Leer parquet\n",
    "df = pd.read_parquet(user_path)\n",
    "# Almacenar como CSV, un ejemplar de 100 filas\n",
    "df.sample(100).to_csv(f'./data_csv/yelp_{user_path.split(\"/\")[-1].replace(\".parquet\",\"\")}.csv')"
   ]
  },
  {
   "cell_type": "markdown",
   "metadata": {},
   "source": [
    "### Google"
   ]
  },
  {
   "cell_type": "code",
   "execution_count": 6,
   "metadata": {},
   "outputs": [],
   "source": [
    "google_dir = './data/Google'"
   ]
  },
  {
   "cell_type": "code",
   "execution_count": 9,
   "metadata": {},
   "outputs": [],
   "source": [
    "# Leer parquet\n",
    "df = pd.read_parquet(f'{google_dir}/metadata-sitios/1.parquet')\n",
    "# Almacenar como CSV, un ejemplar de 100 filas\n",
    "df.sample(100).to_csv(f'./data_csv/google_metadata.csv')"
   ]
  },
  {
   "cell_type": "code",
   "execution_count": 10,
   "metadata": {},
   "outputs": [],
   "source": [
    "# Leer parquet\n",
    "df = pd.read_parquet(f'{google_dir}/reviews-estados/review_District_of_Columbia.parquet')\n",
    "# Almacenar como CSV, un ejemplar de 100 filas\n",
    "df.sample(100).to_csv(f'./data_csv/google_reviews.csv')"
   ]
  }
 ],
 "metadata": {
  "kernelspec": {
   "display_name": "py311",
   "language": "python",
   "name": "python3"
  },
  "language_info": {
   "codemirror_mode": {
    "name": "ipython",
    "version": 3
   },
   "file_extension": ".py",
   "mimetype": "text/x-python",
   "name": "python",
   "nbconvert_exporter": "python",
   "pygments_lexer": "ipython3",
   "version": "3.11.4"
  },
  "orig_nbformat": 4
 },
 "nbformat": 4,
 "nbformat_minor": 2
}
