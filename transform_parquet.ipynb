{
 "cells": [
  {
   "cell_type": "markdown",
   "metadata": {},
   "source": [
    "En este notebook, se transforman los archivos de Yelp y Google a formato parquet."
   ]
  },
  {
   "cell_type": "code",
   "execution_count": 1,
   "metadata": {},
   "outputs": [],
   "source": [
    "from glob import glob\n",
    "import warnings\n",
    "import pandas as pd"
   ]
  },
  {
   "cell_type": "code",
   "execution_count": 3,
   "metadata": {},
   "outputs": [],
   "source": [
    "# Opción para ignorar advertencias\n",
    "warnings.filterwarnings('ignore')\n",
    "# Opción que deshabilitaa el limite de columnas mostradas\n",
    "pd.set_option('display.max_columns', None)"
   ]
  },
  {
   "cell_type": "markdown",
   "metadata": {},
   "source": [
    "---\n",
    "## Dataset Yelp"
   ]
  },
  {
   "cell_type": "markdown",
   "metadata": {},
   "source": [
    "### `business.pkl`"
   ]
  },
  {
   "cell_type": "code",
   "execution_count": null,
   "metadata": {},
   "outputs": [],
   "source": [
    "business_path = './data/Yelp/business.pkl'\n",
    "# Leer pkl (pickle)\n",
    "df = pd.read_pickle(business_path)\n",
    "df.sample(2)"
   ]
  },
  {
   "cell_type": "markdown",
   "metadata": {},
   "source": [
    "* Se observan columnas con nombres duplicados. Hay que unir estas columns."
   ]
  },
  {
   "cell_type": "code",
   "execution_count": null,
   "metadata": {},
   "outputs": [],
   "source": [
    "# Calcular la cantida de columns dividida por 2\n",
    "punto_medio = len(df.columns) // 2\n",
    "# Dividir el dataframe por mitad, a largo de las columns,\n",
    "# utilizando el punto_medio calculado\n",
    "df_1er_mitad = df.iloc[:, :punto_medio]\n",
    "df_2nd_mitad = df.iloc[:, punto_medio:]\n",
    "# Unir los dataframes resultantes\n",
    "df_reorganizado = pd.concat([df_1er_mitad, df_2nd_mitad], axis=0)\n",
    "df_reorganizado.sample(2)"
   ]
  },
  {
   "cell_type": "code",
   "execution_count": null,
   "metadata": {},
   "outputs": [],
   "source": [
    "# Eliminar filas con todo nulos\n",
    "df_reorganizado.dropna(axis=0, how='all', inplace=True)"
   ]
  },
  {
   "cell_type": "code",
   "execution_count": null,
   "metadata": {},
   "outputs": [],
   "source": [
    "# Almacenar en formato parquet, en el mismo directorio de 'business_path'\n",
    "df_reorganizado.to_parquet(business_path.replace('.pkl', '.parquet'))  # se cambia sufijo '.pkl' a '.parquet'"
   ]
  },
  {
   "cell_type": "markdown",
   "metadata": {},
   "source": [
    "### `checkin.json`"
   ]
  },
  {
   "cell_type": "code",
   "execution_count": null,
   "metadata": {},
   "outputs": [],
   "source": [
    "checkin_path = './data/Yelp/checkin.json'\n",
    "# Leer JSON\n",
    "df = pd.read_json(checkin_path, lines=True)\n",
    "# Almacenar en formato parquet, en el mismo directorio\n",
    "df.to_parquet(checkin_path.replace('.json', '.parquet'))  # se cambia sufijo '.json' a '.parquet'"
   ]
  },
  {
   "cell_type": "markdown",
   "metadata": {},
   "source": [
    "### `review.json`"
   ]
  },
  {
   "cell_type": "markdown",
   "metadata": {},
   "source": [
    "! Transformacion no posible en este ambiente"
   ]
  },
  {
   "cell_type": "code",
   "execution_count": null,
   "metadata": {},
   "outputs": [],
   "source": [
    "#review_path = './data/Yelp/review.json'Merge de parquets\n",
    "# Leer JSON\n",
    "#df = pd.read_json(review_path, lines=True)\n",
    "# Almacenar en formato parquet, en el mismo directorio\n",
    "#df.to_parquet(review_path.replace('.json', '.parquet'))  # se cambia sufijo '.json' a '.parquet'"
   ]
  },
  {
   "cell_type": "code",
   "execution_count": null,
   "metadata": {},
   "outputs": [],
   "source": [
    "#from pyarrow import json\n",
    "#import pyarrow.parquet as pq\n",
    "\n",
    "#review_path = './data/Yelp/review.json'\n",
    "# Leer JSON como tabla parquet\n",
    "#tabla = json.read_json(review_path)\n",
    "# Almacenar en formato parquet, en el mismo directorio\n",
    "#pq.write_table(tabla, review_path.replace('.json', '.parquet'))"
   ]
  },
  {
   "cell_type": "markdown",
   "metadata": {},
   "source": [
    "### `tip.json`"
   ]
  },
  {
   "cell_type": "code",
   "execution_count": null,
   "metadata": {},
   "outputs": [],
   "source": [
    "tip_path = './data/Yelp/tip.json'\n",
    "# Leer JSON\n",
    "df = pd.read_json(tip_path, lines=True)\n",
    "# Almacenar en formato parquet, en el mismo directorio\n",
    "df.to_parquet(tip_path.replace('.json', '.parquet'))  # se cambia sufijo '.json' a '.parquet'Merge de parquets"
   ]
  },
  {
   "cell_type": "markdown",
   "metadata": {},
   "source": [
    "### `user.parquet`"
   ]
  },
  {
   "cell_type": "markdown",
   "metadata": {},
   "source": [
    "Esta en formato parquet. Solo visualizamos."
   ]
  },
  {
   "cell_type": "code",
   "execution_count": null,
   "metadata": {},
   "outputs": [],
   "source": [
    "user_df = pd.read_parquet('./data/Yelp/user.parquet')\n",
    "user_df.sample(2)"
   ]
  },
  {
   "cell_type": "markdown",
   "metadata": {},
   "source": [
    "---\n",
    "## Dataset Google"
   ]
  },
  {
   "cell_type": "markdown",
   "metadata": {},
   "source": [
    "### `metadata-sitios/`"
   ]
  },
  {
   "cell_type": "code",
   "execution_count": 2,
   "metadata": {},
   "outputs": [
    {
     "data": {
      "text/plain": [
       "[]"
      ]
     },
     "execution_count": 2,
     "metadata": {},
     "output_type": "execute_result"
    }
   ],
   "source": [
    "# Crear lista de JSON en /metadata-sitios/\n",
    "google_dir = './data/Google'\n",
    "metadata_jsons = glob(f'{google_dir}/metadata-sitios/*json')\n",
    "metadata_jsons"
   ]
  },
  {
   "cell_type": "code",
   "execution_count": null,
   "metadata": {},
   "outputs": [],
   "source": [
    "## Convertir archivos JSON, en /metadata-sitios/, a parquet\n",
    "\n",
    "# Crear dataframe donde se unen los datos extraidos de JSON\n",
    "union_df = pd.DataFrame()\n",
    "# Iterar por cada JSON dentro de /metadata-sitios/\n",
    "for f_json in metadata_jsons:\n",
    "    # Leer JSON\n",
    "    df = pd.read_json(f_json, lines=True)\n",
    "    # Unir a union_df\n",
    "    union_df = pd.concat([union_df, df], ignore_index=True)\n",
    "\n",
    "# Almacenar en formato parquet, en el mismo directorio\n",
    "union_df.to_parquet(f'{google_dir}/metadata-sitios/metadata_sitios.parquet')"
   ]
  },
  {
   "cell_type": "markdown",
   "metadata": {},
   "source": [
    "### `reviews-estados/`"
   ]
  },
  {
   "cell_type": "code",
   "execution_count": 3,
   "metadata": {},
   "outputs": [
    {
     "data": {
      "text/plain": [
       "['./data/Google/reviews-estados/review-Maryland',\n",
       " './data/Google/reviews-estados/review_Mississippi.parquet',\n",
       " './data/Google/reviews-estados/review-New_Hampshire',\n",
       " './data/Google/reviews-estados/review_Idaho.parquet',\n",
       " './data/Google/reviews-estados/review_Oregon.parquet',\n",
       " './data/Google/reviews-estados/review_Nevada.parquet',\n",
       " './data/Google/reviews-estados/review_West_Virginia.parquet',\n",
       " './data/Google/reviews-estados/review-Florida',\n",
       " './data/Google/reviews-estados/review_Minnesota.parquet',\n",
       " './data/Google/reviews-estados/review-Wyoming',\n",
       " './data/Google/reviews-estados/review_Michigan.parquet',\n",
       " './data/Google/reviews-estados/review-Georgia',\n",
       " './data/Google/reviews-estados/review_Texas.parquet',\n",
       " './data/Google/reviews-estados/review-Mississippi',\n",
       " './data/Google/reviews-estados/review-Utah',\n",
       " './data/Google/reviews-estados/review-Louisiana',\n",
       " './data/Google/reviews-estados/review-Massachusetts',\n",
       " './data/Google/reviews-estados/review_Vermont.parquet',\n",
       " './data/Google/reviews-estados/review_Massachusetts.parquet',\n",
       " './data/Google/reviews-estados/review_Connecticut.parquet',\n",
       " './data/Google/reviews-estados/review_North_Dakota.parquet',\n",
       " './data/Google/reviews-estados/review_New_Jersey.parquet',\n",
       " './data/Google/reviews-estados/review-Oklahoma',\n",
       " './data/Google/reviews-estados/review-District_of_Columbia',\n",
       " './data/Google/reviews-estados/review_New_Hampshire.parquet',\n",
       " './data/Google/reviews-estados/review-Hawaii',\n",
       " './data/Google/reviews-estados/review_Missouri.parquet',\n",
       " './data/Google/reviews-estados/review_Utah.parquet',\n",
       " './data/Google/reviews-estados/review-Texas',\n",
       " './data/Google/reviews-estados/review_Wyoming.parquet',\n",
       " './data/Google/reviews-estados/review-Alabama',\n",
       " './data/Google/reviews-estados/review-Alaska',\n",
       " './data/Google/reviews-estados/review-Iowa',\n",
       " './data/Google/reviews-estados/review-Ohio',\n",
       " './data/Google/reviews-estados/review_Wisconsin.parquet',\n",
       " './data/Google/reviews-estados/review-Nebraska',\n",
       " './data/Google/reviews-estados/review-Wisconsin',\n",
       " './data/Google/reviews-estados/review-West_Virginia',\n",
       " './data/Google/reviews-estados/review-New_York',\n",
       " './data/Google/reviews-estados/review_Alabama.parquet',\n",
       " './data/Google/reviews-estados/review_Nebraska.parquet',\n",
       " './data/Google/reviews-estados/review-Delaware',\n",
       " './data/Google/reviews-estados/review_Delaware.parquet',\n",
       " './data/Google/reviews-estados/review_Kansas.parquet',\n",
       " './data/Google/reviews-estados/review-Missouri',\n",
       " './data/Google/reviews-estados/review-South_Dakota',\n",
       " './data/Google/reviews-estados/review-Vermont',\n",
       " './data/Google/reviews-estados/review_Pennsylvania.parquet',\n",
       " './data/Google/reviews-estados/review_Alaska.parquet',\n",
       " './data/Google/reviews-estados/review_Virginia.parquet',\n",
       " './data/Google/reviews-estados/review-Arizona',\n",
       " './data/Google/reviews-estados/review-Pennsylvania',\n",
       " './data/Google/reviews-estados/review-Michigan',\n",
       " './data/Google/reviews-estados/review_Indiana.parquet',\n",
       " './data/Google/reviews-estados/review_Georgia.parquet',\n",
       " './data/Google/reviews-estados/review_Tennessee.parquet',\n",
       " './data/Google/reviews-estados/review_California.parquet',\n",
       " './data/Google/reviews-estados/review-Nevada',\n",
       " './data/Google/reviews-estados/review_South_Carolina.parquet',\n",
       " './data/Google/reviews-estados/review-Rhode_Island',\n",
       " './data/Google/reviews-estados/review_Illinois.parquet',\n",
       " './data/Google/reviews-estados/review_Louisiana.parquet',\n",
       " './data/Google/reviews-estados/review_New_Mexico.parquet',\n",
       " './data/Google/reviews-estados/review_District_of_Columbia.parquet',\n",
       " './data/Google/reviews-estados/review-New_Mexico',\n",
       " './data/Google/reviews-estados/review-California',\n",
       " './data/Google/reviews-estados/review_Maryland.parquet',\n",
       " './data/Google/reviews-estados/review_Iowa.parquet',\n",
       " './data/Google/reviews-estados/review_South_Dakota.parquet',\n",
       " './data/Google/reviews-estados/review-Maine',\n",
       " './data/Google/reviews-estados/review_Florida.parquet',\n",
       " './data/Google/reviews-estados/review-Connecticut',\n",
       " './data/Google/reviews-estados/review_North_Carolina.parquet',\n",
       " './data/Google/reviews-estados/review-Illinois',\n",
       " './data/Google/reviews-estados/review_Montana.parquet',\n",
       " './data/Google/reviews-estados/review_Maine.parquet',\n",
       " './data/Google/reviews-estados/review-New_Jersey',\n",
       " './data/Google/reviews-estados/review_Arkansas.parquet',\n",
       " './data/Google/reviews-estados/review-Virginia',\n",
       " './data/Google/reviews-estados/review-Tennessee',\n",
       " './data/Google/reviews-estados/review-Colorado',\n",
       " './data/Google/reviews-estados/review_Colorado.parquet',\n",
       " './data/Google/reviews-estados/review-Montana',\n",
       " './data/Google/reviews-estados/review_Arizona.parquet',\n",
       " './data/Google/reviews-estados/review_New_York.parquet',\n",
       " './data/Google/reviews-estados/review-Kentucky',\n",
       " './data/Google/reviews-estados/review-Minnesota',\n",
       " './data/Google/reviews-estados/review_Rhode_Island.parquet',\n",
       " './data/Google/reviews-estados/review-Idaho',\n",
       " './data/Google/reviews-estados/review_Washington.parquet',\n",
       " './data/Google/reviews-estados/review-South_Carolina',\n",
       " './data/Google/reviews-estados/review-North_Carolina',\n",
       " './data/Google/reviews-estados/review_Kentucky.parquet',\n",
       " './data/Google/reviews-estados/review-Arkansas',\n",
       " './data/Google/reviews-estados/review-Oregon',\n",
       " './data/Google/reviews-estados/review-Indiana',\n",
       " './data/Google/reviews-estados/review-Kansas',\n",
       " './data/Google/reviews-estados/review_Oklahoma.parquet',\n",
       " './data/Google/reviews-estados/review-Washington',\n",
       " './data/Google/reviews-estados/review_Hawaii.parquet',\n",
       " './data/Google/reviews-estados/review-North_Dakota',\n",
       " './data/Google/reviews-estados/review_Ohio.parquet']"
      ]
     },
     "execution_count": 3,
     "metadata": {},
     "output_type": "execute_result"
    }
   ],
   "source": [
    "# Lista de directorios en /reviews-estados/\n",
    "google_dir = './data/Google'\n",
    "review_dirs = glob(f'{google_dir}/reviews-estados/*')\n",
    "review_dirs"
   ]
  },
  {
   "cell_type": "code",
   "execution_count": 6,
   "metadata": {},
   "outputs": [
    {
     "ename": "KeyboardInterrupt",
     "evalue": "",
     "output_type": "error",
     "traceback": [
      "\u001b[0;31m---------------------------------------------------------------------------\u001b[0m",
      "\u001b[0;31mKeyboardInterrupt\u001b[0m                         Traceback (most recent call last)",
      "\u001b[1;32m/home/seb/Projects/Henry_PF/transform_parquet.ipynb Cell 28\u001b[0m line \u001b[0;36m2\n\u001b[1;32m     <a href='vscode-notebook-cell:/home/seb/Projects/Henry_PF/transform_parquet.ipynb#X36sZmlsZQ%3D%3D?line=18'>19</a>\u001b[0m \u001b[39m# Iterar por cada JSON dentro de 'path_jsons' y almacenar su data en 'union_df'\u001b[39;00m\n\u001b[1;32m     <a href='vscode-notebook-cell:/home/seb/Projects/Henry_PF/transform_parquet.ipynb#X36sZmlsZQ%3D%3D?line=19'>20</a>\u001b[0m \u001b[39mfor\u001b[39;00m f_json \u001b[39min\u001b[39;00m path_jsons:\n\u001b[1;32m     <a href='vscode-notebook-cell:/home/seb/Projects/Henry_PF/transform_parquet.ipynb#X36sZmlsZQ%3D%3D?line=20'>21</a>\u001b[0m     \u001b[39m# Leer JSON\u001b[39;00m\n\u001b[0;32m---> <a href='vscode-notebook-cell:/home/seb/Projects/Henry_PF/transform_parquet.ipynb#X36sZmlsZQ%3D%3D?line=21'>22</a>\u001b[0m     df \u001b[39m=\u001b[39m pd\u001b[39m.\u001b[39;49mread_json(f_json, dtype\u001b[39m=\u001b[39;49m{\u001b[39m'\u001b[39;49m\u001b[39muser_id\u001b[39;49m\u001b[39m'\u001b[39;49m:\u001b[39mstr\u001b[39;49m}, lines\u001b[39m=\u001b[39;49m\u001b[39mTrue\u001b[39;49;00m)  \u001b[39m# fijando 'user_id' a tipo str\u001b[39;00m\n\u001b[1;32m     <a href='vscode-notebook-cell:/home/seb/Projects/Henry_PF/transform_parquet.ipynb#X36sZmlsZQ%3D%3D?line=22'>23</a>\u001b[0m     \u001b[39m# Unir a union_df\u001b[39;00m\n\u001b[1;32m     <a href='vscode-notebook-cell:/home/seb/Projects/Henry_PF/transform_parquet.ipynb#X36sZmlsZQ%3D%3D?line=23'>24</a>\u001b[0m     union_df \u001b[39m=\u001b[39m pd\u001b[39m.\u001b[39mconcat([union_df, df], ignore_index\u001b[39m=\u001b[39m\u001b[39mTrue\u001b[39;00m)\n",
      "File \u001b[0;32m~/miniconda3/envs/py311/lib/python3.11/site-packages/pandas/io/json/_json.py:760\u001b[0m, in \u001b[0;36mread_json\u001b[0;34m(path_or_buf, orient, typ, dtype, convert_axes, convert_dates, keep_default_dates, precise_float, date_unit, encoding, encoding_errors, lines, chunksize, compression, nrows, storage_options, dtype_backend, engine)\u001b[0m\n\u001b[1;32m    757\u001b[0m \u001b[39mif\u001b[39;00m convert_axes \u001b[39mis\u001b[39;00m \u001b[39mNone\u001b[39;00m \u001b[39mand\u001b[39;00m orient \u001b[39m!=\u001b[39m \u001b[39m\"\u001b[39m\u001b[39mtable\u001b[39m\u001b[39m\"\u001b[39m:\n\u001b[1;32m    758\u001b[0m     convert_axes \u001b[39m=\u001b[39m \u001b[39mTrue\u001b[39;00m\n\u001b[0;32m--> 760\u001b[0m json_reader \u001b[39m=\u001b[39m JsonReader(\n\u001b[1;32m    761\u001b[0m     path_or_buf,\n\u001b[1;32m    762\u001b[0m     orient\u001b[39m=\u001b[39;49morient,\n\u001b[1;32m    763\u001b[0m     typ\u001b[39m=\u001b[39;49mtyp,\n\u001b[1;32m    764\u001b[0m     dtype\u001b[39m=\u001b[39;49mdtype,\n\u001b[1;32m    765\u001b[0m     convert_axes\u001b[39m=\u001b[39;49mconvert_axes,\n\u001b[1;32m    766\u001b[0m     convert_dates\u001b[39m=\u001b[39;49mconvert_dates,\n\u001b[1;32m    767\u001b[0m     keep_default_dates\u001b[39m=\u001b[39;49mkeep_default_dates,\n\u001b[1;32m    768\u001b[0m     precise_float\u001b[39m=\u001b[39;49mprecise_float,\n\u001b[1;32m    769\u001b[0m     date_unit\u001b[39m=\u001b[39;49mdate_unit,\n\u001b[1;32m    770\u001b[0m     encoding\u001b[39m=\u001b[39;49mencoding,\n\u001b[1;32m    771\u001b[0m     lines\u001b[39m=\u001b[39;49mlines,\n\u001b[1;32m    772\u001b[0m     chunksize\u001b[39m=\u001b[39;49mchunksize,\n\u001b[1;32m    773\u001b[0m     compression\u001b[39m=\u001b[39;49mcompression,\n\u001b[1;32m    774\u001b[0m     nrows\u001b[39m=\u001b[39;49mnrows,\n\u001b[1;32m    775\u001b[0m     storage_options\u001b[39m=\u001b[39;49mstorage_options,\n\u001b[1;32m    776\u001b[0m     encoding_errors\u001b[39m=\u001b[39;49mencoding_errors,\n\u001b[1;32m    777\u001b[0m     dtype_backend\u001b[39m=\u001b[39;49mdtype_backend,\n\u001b[1;32m    778\u001b[0m     engine\u001b[39m=\u001b[39;49mengine,\n\u001b[1;32m    779\u001b[0m )\n\u001b[1;32m    781\u001b[0m \u001b[39mif\u001b[39;00m chunksize:\n\u001b[1;32m    782\u001b[0m     \u001b[39mreturn\u001b[39;00m json_reader\n",
      "File \u001b[0;32m~/miniconda3/envs/py311/lib/python3.11/site-packages/pandas/io/json/_json.py:862\u001b[0m, in \u001b[0;36mJsonReader.__init__\u001b[0;34m(self, filepath_or_buffer, orient, typ, dtype, convert_axes, convert_dates, keep_default_dates, precise_float, date_unit, encoding, lines, chunksize, compression, nrows, storage_options, encoding_errors, dtype_backend, engine)\u001b[0m\n\u001b[1;32m    860\u001b[0m \u001b[39melif\u001b[39;00m \u001b[39mself\u001b[39m\u001b[39m.\u001b[39mengine \u001b[39m==\u001b[39m \u001b[39m\"\u001b[39m\u001b[39mujson\u001b[39m\u001b[39m\"\u001b[39m:\n\u001b[1;32m    861\u001b[0m     data \u001b[39m=\u001b[39m \u001b[39mself\u001b[39m\u001b[39m.\u001b[39m_get_data_from_filepath(filepath_or_buffer)\n\u001b[0;32m--> 862\u001b[0m     \u001b[39mself\u001b[39m\u001b[39m.\u001b[39mdata \u001b[39m=\u001b[39m \u001b[39mself\u001b[39;49m\u001b[39m.\u001b[39;49m_preprocess_data(data)\n",
      "File \u001b[0;32m~/miniconda3/envs/py311/lib/python3.11/site-packages/pandas/io/json/_json.py:874\u001b[0m, in \u001b[0;36mJsonReader._preprocess_data\u001b[0;34m(self, data)\u001b[0m\n\u001b[1;32m    872\u001b[0m \u001b[39mif\u001b[39;00m \u001b[39mhasattr\u001b[39m(data, \u001b[39m\"\u001b[39m\u001b[39mread\u001b[39m\u001b[39m\"\u001b[39m) \u001b[39mand\u001b[39;00m \u001b[39mnot\u001b[39;00m (\u001b[39mself\u001b[39m\u001b[39m.\u001b[39mchunksize \u001b[39mor\u001b[39;00m \u001b[39mself\u001b[39m\u001b[39m.\u001b[39mnrows):\n\u001b[1;32m    873\u001b[0m     \u001b[39mwith\u001b[39;00m \u001b[39mself\u001b[39m:\n\u001b[0;32m--> 874\u001b[0m         data \u001b[39m=\u001b[39m data\u001b[39m.\u001b[39;49mread()\n\u001b[1;32m    875\u001b[0m \u001b[39mif\u001b[39;00m \u001b[39mnot\u001b[39;00m \u001b[39mhasattr\u001b[39m(data, \u001b[39m\"\u001b[39m\u001b[39mread\u001b[39m\u001b[39m\"\u001b[39m) \u001b[39mand\u001b[39;00m (\u001b[39mself\u001b[39m\u001b[39m.\u001b[39mchunksize \u001b[39mor\u001b[39;00m \u001b[39mself\u001b[39m\u001b[39m.\u001b[39mnrows):\n\u001b[1;32m    876\u001b[0m     data \u001b[39m=\u001b[39m StringIO(data)\n",
      "File \u001b[0;32m<frozen codecs>:319\u001b[0m, in \u001b[0;36mdecode\u001b[0;34m(self, input, final)\u001b[0m\n",
      "\u001b[0;31mKeyboardInterrupt\u001b[0m: "
     ]
    }
   ],
   "source": [
    "\"\"\"USE ESTE: Este block une todos los JSON en de un dir, convierte la union\n",
    "   a parquet, y almacena el parquet en ruta del dir\n",
    "\"\"\"\n",
    "## Convertir archivos JSON, en todo directorio dentro de /reviews-estados/, a parquet\n",
    "\n",
    "# Iterar por cada directorio dentro de /reviews-estados/\n",
    "for path_dir in review_dirs:\n",
    "\n",
    "    if 'parquet' in path_dir.split('.'):\n",
    "            continue\n",
    "    \n",
    "    # Crear lista de JSON dentro de 'path_dir'\n",
    "    path_jsons = glob(f'{path_dir}/*.json')\n",
    "    # Crear dataframe donde se unen los datos extraidos de JSON\n",
    "    union_df = pd.DataFrame()\n",
    "\n",
    "    # Iterar por cada JSON dentro de 'path_jsons' y almacenar su data en 'union_df'\n",
    "    for f_json in path_jsons:\n",
    "        # Leer JSON\n",
    "        df = pd.read_json(f_json, dtype={'user_id':str}, lines=True)  # fijando 'user_id' a tipo str\n",
    "        # Unir a union_df\n",
    "        union_df = pd.concat([union_df, df], ignore_index=True)\n",
    "\n",
    "    # Almacenar 'union_df' como parquet, en el path './data/Google/reviews-estados/'\n",
    "    path_almacen = f'{google_dir}/reviews-estados'\n",
    "    nombre_archivo = f'{path_dir.split(\"/\")[-1].replace(\"-\",\"_\")}'\n",
    "    union_df.to_parquet(f'{path_almacen}/{nombre_archivo}.parquet')"
   ]
  },
  {
   "cell_type": "code",
   "execution_count": null,
   "metadata": {},
   "outputs": [],
   "source": [
    "\"\"\"NO USAR: Este block convierte JSON a parquet, y almacena el parquet\n",
    "   resultante en la misma ruta del JSON\n",
    "\"\"\"\n",
    "\"\"\"\n",
    "## Convertir archivos JSON, en todo directorio dentro de /reviews-estados/, a parquet\n",
    "\n",
    "# Iterar por cada directorio dentro de /reviews-estados/\n",
    "for path_dir in review_dirs:\n",
    "    # Craer lista de JSON dentro de 'path_dir'\n",
    "    path_jsons = glob(f'{path_dir}/*.json')\n",
    "    # Iterar por cada JSON dentro de 'path_jsons'\n",
    "    for f_json in path_jsons:\n",
    "        # Leer JSON\n",
    "        df = pd.read_json(f_json, lines=True)\n",
    "        # Almacenar en formato parquet, en el mismo directorio,\n",
    "        # cambiando el nombre del archivo (de .json a .parquet)\n",
    "        df.to_parquet(f_json.replace('.json', '.parquet'))  # se cambia sufijo '.json' a '.parquet'\n",
    "\"\"\""
   ]
  },
  {
   "cell_type": "markdown",
   "metadata": {},
   "source": [
    "---\n",
    "## Tranformacion a CSV, para visualizar"
   ]
  },
  {
   "cell_type": "markdown",
   "metadata": {},
   "source": [
    "### Yelp"
   ]
  },
  {
   "cell_type": "markdown",
   "metadata": {},
   "source": [
    "Nota: para dataset Yelp, falta `review.json`"
   ]
  },
  {
   "cell_type": "code",
   "execution_count": null,
   "metadata": {},
   "outputs": [],
   "source": [
    "##  PENDIENTE   !!\n",
    "\n",
    "#review_path = './data/Yelp/review.json'"
   ]
  },
  {
   "cell_type": "code",
   "execution_count": null,
   "metadata": {},
   "outputs": [],
   "source": [
    "business_path = './data/Yelp/business.parquet'\n",
    "# Leer parquet\n",
    "df = pd.read_parquet(business_path)\n",
    "# Almacenar como CSV, un ejemplar de 100 filas\n",
    "df.sample(100).to_csv(f'./data_csv/yelp_{business_path.split(\"/\")[-1].replace(\".parquet\",\"\")}.csv')"
   ]
  },
  {
   "cell_type": "code",
   "execution_count": null,
   "metadata": {},
   "outputs": [],
   "source": [
    "checkin_path = './data/Yelp/checkin.parquet'\n",
    "# Leer parquet\n",
    "df = pd.read_parquet(checkin_path)\n",
    "# Almacenar como CSV, un ejemplar de 100 filas\n",
    "df.sample(100).to_csv(f'./data_csv/yelp_{checkin_path.split(\"/\")[-1].replace(\".parquet\",\"\")}.csv')"
   ]
  },
  {
   "cell_type": "code",
   "execution_count": null,
   "metadata": {},
   "outputs": [],
   "source": [
    "tip_path = './data/Yelp/tip.parquet'\n",
    "# Leer parquet\n",
    "df = pd.read_parquet(tip_path)\n",
    "# Almacenar como CSV, un ejemplar de 100 filas\n",
    "df.sample(100).to_csv(f'./data_csv/yelp_{tip_path.split(\"/\")[-1].replace(\".parquet\",\"\")}.csv')"
   ]
  },
  {
   "cell_type": "code",
   "execution_count": null,
   "metadata": {},
   "outputs": [],
   "source": [
    "user_path = './data/Yelp/user.parquet'\n",
    "# Leer parquet\n",
    "df = pd.read_parquet(user_path)\n",
    "# Almacenar como CSV, un ejemplar de 100 filas\n",
    "df.sample(100).to_csv(f'./data_csv/yelp_{user_path.split(\"/\")[-1].replace(\".parquet\",\"\")}.csv')"
   ]
  },
  {
   "cell_type": "markdown",
   "metadata": {},
   "source": [
    "### Google"
   ]
  },
  {
   "cell_type": "code",
   "execution_count": 3,
   "metadata": {},
   "outputs": [],
   "source": [
    "google_dir = './data/Google'"
   ]
  },
  {
   "cell_type": "code",
   "execution_count": null,
   "metadata": {},
   "outputs": [],
   "source": [
    "# Leer parquet\n",
    "df = pd.read_parquet(f'{google_dir}/metadata-sitios/1.parquet')\n",
    "# Almacenar como CSV, un ejemplar de 100 filas\n",
    "df.sample(100).to_csv(f'./data_csv/google_metadata.csv')"
   ]
  },
  {
   "cell_type": "code",
   "execution_count": 4,
   "metadata": {},
   "outputs": [],
   "source": [
    "# Leer parquet\n",
    "df = pd.read_parquet(f'{google_dir}/reviews-estados/review_District_of_Columbia.parquet')\n",
    "# Almacenar como CSV, un ejemplar de 100 filas\n",
    "df.sample(100).to_csv(f'./data_csv/google_reviews.csv')"
   ]
  }
 ],
 "metadata": {
  "kernelspec": {
   "display_name": "py311",
   "language": "python",
   "name": "python3"
  },
  "language_info": {
   "codemirror_mode": {
    "name": "ipython",
    "version": 3
   },
   "file_extension": ".py",
   "mimetype": "text/x-python",
   "name": "python",
   "nbconvert_exporter": "python",
   "pygments_lexer": "ipython3",
   "version": "3.11.4"
  },
  "orig_nbformat": 4
 },
 "nbformat": 4,
 "nbformat_minor": 2
}
