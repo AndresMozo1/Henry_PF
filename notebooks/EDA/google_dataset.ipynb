{
 "cells": [
  {
   "cell_type": "code",
   "execution_count": 1,
   "metadata": {},
   "outputs": [],
   "source": [
    "from glob import glob\n",
    "import pandas as pd"
   ]
  },
  {
   "cell_type": "code",
   "execution_count": null,
   "metadata": {},
   "outputs": [],
   "source": [
    "# Opción que deshabilita el limite de columnas y filas mostradas\n",
    "pd.set_option('display.max_columns', None)\n",
    "pd.set_option('display.max_rows', None)"
   ]
  },
  {
   "cell_type": "markdown",
   "metadata": {},
   "source": [
    "---\n",
    "## Carga de data Google"
   ]
  },
  {
   "cell_type": "code",
   "execution_count": 2,
   "metadata": {},
   "outputs": [],
   "source": [
    "# Path de los archivos no-procesados (formato parquet)\n",
    "path_data = '../../data/raw'"
   ]
  },
  {
   "cell_type": "markdown",
   "metadata": {},
   "source": [
    "## Metadata Sitios"
   ]
  },
  {
   "cell_type": "code",
   "execution_count": null,
   "metadata": {},
   "outputs": [],
   "source": [
    "df_sitios = pd.read_parquet(f'{path_data}/g-sitios.parquet')"
   ]
  },
  {
   "cell_type": "markdown",
   "metadata": {},
   "source": [
    "## Google review "
   ]
  },
  {
   "cell_type": "code",
   "execution_count": 3,
   "metadata": {},
   "outputs": [
    {
     "data": {
      "text/plain": [
       "['../../data/raw/g-review/g-review_Pennsylvania.parquet',\n",
       " '../../data/raw/g-review/g-review_New_Jersey.parquet',\n",
       " '../../data/raw/g-review/g-review_Delaware.parquet']"
      ]
     },
     "execution_count": 3,
     "metadata": {},
     "output_type": "execute_result"
    }
   ],
   "source": [
    "# Crear lista de archivos en /data/raw/g-review/\n",
    "review_parquets = glob(f'{path_data}/g-review/*.parquet')\n",
    "review_parquets"
   ]
  },
  {
   "cell_type": "code",
   "execution_count": 4,
   "metadata": {},
   "outputs": [],
   "source": [
    "# Crear dataframe donde se unen los datos extraidos de parquet\n",
    "df_review = pd.DataFrame()\n",
    "# Iterar por cada parquet dentro de /data/raw/g-review/\n",
    "for p in review_parquets:\n",
    "    # Leer parquet\n",
    "    df = pd.read_parquet(p)\n",
    "    # Unir a df_review\n",
    "    df_review = pd.concat([df_review, df], ignore_index=True)"
   ]
  },
  {
   "cell_type": "markdown",
   "metadata": {},
   "source": [
    "---\n",
    "## Análisis Exploratorio"
   ]
  },
  {
   "cell_type": "markdown",
   "metadata": {},
   "source": [
    "### `df_sitios`"
   ]
  },
  {
   "cell_type": "code",
   "execution_count": null,
   "metadata": {},
   "outputs": [],
   "source": [
    "df_sitios.sample(2)"
   ]
  },
  {
   "cell_type": "markdown",
   "metadata": {},
   "source": [
    "Usando col `address`, crear columnas `city`, `state`, `postal_code`"
   ]
  },
  {
   "cell_type": "code",
   "execution_count": null,
   "metadata": {},
   "outputs": [],
   "source": [
    "sample = df_sitios['address'].sample().iloc[0]\n",
    "print(type(sample), '\\n', sample)"
   ]
  },
  {
   "cell_type": "code",
   "execution_count": null,
   "metadata": {},
   "outputs": [],
   "source": [
    "# Convertir col `address` de tipo str a list\n",
    "df_sitios['address'] = df_sitios['address'].apply(lambda x: x.split(',') if x else None)\n",
    "df_sitios['address'].sample()"
   ]
  },
  {
   "cell_type": "code",
   "execution_count": null,
   "metadata": {},
   "outputs": [],
   "source": [
    "# Crear col `state` y `postal_code`\n",
    "df_sitios['state'] = df_sitios['address'].apply(lambda x: x[-1].split()[0] if x else None)\n",
    "df_sitios['postal_code'] = df_sitios['address'].apply(lambda x: x[-1].split()[1] if x else None)"
   ]
  },
  {
   "cell_type": "code",
   "execution_count": null,
   "metadata": {},
   "outputs": [],
   "source": [
    "df_sitios['city'] = df_sitios['address'].apply(lambda x: x[-3])"
   ]
  },
  {
   "cell_type": "code",
   "execution_count": null,
   "metadata": {},
   "outputs": [],
   "source": [
    "l = df_sitios['category'].iloc[2415057]"
   ]
  },
  {
   "cell_type": "code",
   "execution_count": null,
   "metadata": {},
   "outputs": [],
   "source": [
    "l[1]"
   ]
  },
  {
   "cell_type": "code",
   "execution_count": null,
   "metadata": {},
   "outputs": [],
   "source": [
    "type(df_sitios['category'].iloc[0])"
   ]
  },
  {
   "cell_type": "code",
   "execution_count": null,
   "metadata": {},
   "outputs": [],
   "source": [
    "df_sitios['address'].sample()"
   ]
  },
  {
   "cell_type": "markdown",
   "metadata": {},
   "source": [
    "### `df_review`"
   ]
  },
  {
   "cell_type": "markdown",
   "metadata": {},
   "source": [
    "## Mapa"
   ]
  },
  {
   "cell_type": "code",
   "execution_count": null,
   "metadata": {},
   "outputs": [],
   "source": [
    "import geopandas as gpd\n",
    "from geopandas import GeoDataFrame\n",
    "import matplotlib.pyplot as plt\n",
    "from shapely.geometry import Point"
   ]
  },
  {
   "cell_type": "code",
   "execution_count": null,
   "metadata": {},
   "outputs": [],
   "source": [
    "df_sitios.columns"
   ]
  },
  {
   "cell_type": "code",
   "execution_count": null,
   "metadata": {},
   "outputs": [],
   "source": [
    "# Mapeamos las coordinadas de 'pos_x' y 'pos_y'\n",
    "# Descartamos los nulos\n",
    "df = df_sitios.dropna(axis=0, subset=['longitude', 'latitude'])\n",
    "\n",
    "# Crear un GeoDataFrame con la data de coordinadas\n",
    "geometry = [Point(xy) for xy in zip(df['longitude'], df['latitude'])]\n",
    "gdf = GeoDataFrame(df, geometry=geometry)\n",
    "\n",
    "# Cargar archivo shapefile\n",
    "mapa = gpd.read_file('../assets/map_urban_500k.shx')\n",
    "\n",
    "# Calculamos los limites del mapa\n",
    "minx, miny, maxx, maxy = gdf.total_bounds\n",
    "\n",
    "# Creamos los plots del mapa\n",
    "fig, ax = plt.subplots(figsize=(16, 14))\n",
    "mapa.plot(ax=ax, color='white', edgecolor='black')\n",
    "gdf.plot(ax=ax, marker='o', color='red', markersize=15)\n",
    "\n",
    "# Calculamos el margen del grafico\n",
    "margin_ratio = 0.1\n",
    "marginx = (maxx - minx) * margin_ratio\n",
    "marginy = (maxy - miny) * margin_ratio\n",
    "# Aplicamos los margenes en relacion a los plots en los extremos\n",
    "ax.set_xlim(minx - marginx, maxx + marginx)\n",
    "ax.set_ylim(miny - marginy, maxy + marginy)\n",
    "\n",
    "plt.show()"
   ]
  }
 ],
 "metadata": {
  "kernelspec": {
   "display_name": "env-pf",
   "language": "python",
   "name": "python3"
  },
  "language_info": {
   "codemirror_mode": {
    "name": "ipython",
    "version": 3
   },
   "file_extension": ".py",
   "mimetype": "text/x-python",
   "name": "python",
   "nbconvert_exporter": "python",
   "pygments_lexer": "ipython3",
   "version": "3.10.12"
  }
 },
 "nbformat": 4,
 "nbformat_minor": 2
}
