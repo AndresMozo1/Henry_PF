{
 "cells": [
  {
   "cell_type": "code",
   "execution_count": 1,
   "metadata": {},
   "outputs": [],
   "source": [
    "import warnings\n",
    "import pandas as pd\n",
    "from ftfy import fix_text\n",
    "from rapidfuzz import process, fuzz"
   ]
  },
  {
   "cell_type": "code",
   "execution_count": 2,
   "metadata": {},
   "outputs": [],
   "source": [
    "warnings.filterwarnings('ignore')"
   ]
  },
  {
   "cell_type": "code",
   "execution_count": 3,
   "metadata": {},
   "outputs": [],
   "source": [
    "# Opción que deshabilita el limite de columnas y filas mostradas\n",
    "pd.set_option('display.max_columns', None)\n",
    "#pd.set_option('display.max_rows', None)"
   ]
  },
  {
   "cell_type": "markdown",
   "metadata": {},
   "source": [
    "---\n",
    "## Carga data"
   ]
  },
  {
   "cell_type": "code",
   "execution_count": 4,
   "metadata": {},
   "outputs": [],
   "source": [
    "# Path de los archivos procesados (formato parquet)\n",
    "path_data = '../../data/clean'\n",
    "df_business = pd.read_parquet(f'{path_data}/y_business_CLEAN.parquet')\n",
    "df_review = pd.read_parquet(f'{path_data}/y_review_CLEAN.parquet')"
   ]
  },
  {
   "cell_type": "markdown",
   "metadata": {},
   "source": [
    "---\n",
    "---\n",
    "## Análisis Exploratorio"
   ]
  },
  {
   "cell_type": "markdown",
   "metadata": {},
   "source": [
    "### Setup"
   ]
  },
  {
   "cell_type": "markdown",
   "metadata": {},
   "source": [
    "#### Dict target"
   ]
  },
  {
   "cell_type": "code",
   "execution_count": 5,
   "metadata": {},
   "outputs": [],
   "source": [
    "# Diccionario de marcas de Darden y competidores\n",
    "brands = {\n",
    "    # Darden brands\n",
    "    'darden': [\n",
    "        \"Olive Garden Italian Restaurant\",\n",
    "        \"LongHorn Steakhouse\",\n",
    "        \"Cheddar's Scratch Kitchen\",\n",
    "        \"Yard House\",\n",
    "        \"The Capital Grille\",   ####\n",
    "        \"Seasons 52\",\n",
    "        \"Bahama Breeze\",\n",
    "        \"Eddie V's\",  ####\n",
    "        \"Ruth's Chris Steak House\"\n",
    "    ],\n",
    "    # Bloomin brands\n",
    "    'bloomin': [\n",
    "        \"Outback Steakhouse\",\n",
    "        \"Carrabba's Italian Grill\",\n",
    "        \"Bonefish Grill\",\n",
    "        \"Fleming's Prime Steakhouse & Wine Bar\",\n",
    "        \"Aussie Grill\",\n",
    "        \"Aussie Grill - Brandon\"\n",
    "    ],\n",
    "    # Brinker brands\n",
    "    'brinker': [\n",
    "        \"Chili's\",\n",
    "        \"Chili's Grill & Bar\",\n",
    "        \"Maggiano's Little Italy\",\n",
    "        \"It's Just Wings\"\n",
    "    ],\n",
    "    # Texas Roadhouse brands\n",
    "    'texasroadhouse': [\n",
    "        \"Texas Roadhouse\",\n",
    "        \"Bubba's 33\",\n",
    "        #\"Jaggers\"  # Fast food, excluir?   ####\n",
    "    ]\n",
    "}"
   ]
  },
  {
   "cell_type": "markdown",
   "metadata": {},
   "source": [
    "### Filtro de brands"
   ]
  },
  {
   "cell_type": "code",
   "execution_count": 6,
   "metadata": {},
   "outputs": [],
   "source": [
    "# Corrigir errores de decoding de texto, columna `name`\n",
    "df_business['name'] = df_business['name'].apply(fix_text)"
   ]
  },
  {
   "cell_type": "code",
   "execution_count": 7,
   "metadata": {},
   "outputs": [],
   "source": [
    "# Funcion que implementa busqueda 'fuzzy' en textos\n",
    "def fuzzy_match(x, match_to, threshold=90):\n",
    "    match, score, _ = process.extractOne(x, match_to, scorer=fuzz.WRatio)\n",
    "    return match if score >= threshold else None"
   ]
  },
  {
   "cell_type": "markdown",
   "metadata": {},
   "source": [
    "#### Darden"
   ]
  },
  {
   "cell_type": "code",
   "execution_count": 8,
   "metadata": {},
   "outputs": [
    {
     "data": {
      "text/plain": [
       "name\n",
       "Olive Garden Italian Restaurant    11\n",
       "LongHorn Steakhouse                 9\n",
       "Bahama Breeze                       2\n",
       "Seasons 52                          2\n",
       "Yard House                          2\n",
       "Cheddar's Scratch Kitchen           2\n",
       "Ruth's Chris Steak House            2\n",
       "Eddie V's Prime Seafood             1\n",
       "Name: count, dtype: int64"
      ]
     },
     "execution_count": 8,
     "metadata": {},
     "output_type": "execute_result"
    }
   ],
   "source": [
    "# Aplicar fuzzy matching para Darden\n",
    "df_business['name_match'] = df_business['name'].apply(fuzzy_match, match_to=brands['darden'])\n",
    "# Filtrar nulos (donde nulo representa no-match)\n",
    "df_darden = df_business[df_business['name_match'].notnull()]\n",
    "df_darden.drop('name_match', axis=1, inplace=True)\n",
    "df_darden['name'].value_counts()"
   ]
  },
  {
   "cell_type": "markdown",
   "metadata": {},
   "source": [
    "#### Bloomin'"
   ]
  },
  {
   "cell_type": "code",
   "execution_count": 9,
   "metadata": {},
   "outputs": [
    {
     "data": {
      "text/plain": [
       "name\n",
       "Outback Steakhouse                       12\n",
       "Bonefish Grill                            8\n",
       "Carrabba's Italian Grill                  5\n",
       "Aussie Grill by Outback                   1\n",
       "Aussie Grill - Brandon                    1\n",
       "Aussie Grill                              1\n",
       "Fleming's Prime Steakhouse & Wine Bar     1\n",
       "Aussie Grill - Clearwater                 1\n",
       "Name: count, dtype: int64"
      ]
     },
     "execution_count": 9,
     "metadata": {},
     "output_type": "execute_result"
    }
   ],
   "source": [
    "# Aplicar fuzzy matching para Bloomin\n",
    "df_business['name_match'] = df_business['name'].apply(fuzzy_match, match_to=brands['bloomin'])\n",
    "# Filtrar nulos (donde nulo representa no-match)\n",
    "df_bloomin = df_business[df_business['name_match'].notnull()]\n",
    "df_bloomin.drop('name_match', axis=1, inplace=True)\n",
    "df_bloomin['name'].value_counts()"
   ]
  },
  {
   "cell_type": "markdown",
   "metadata": {},
   "source": [
    "#### Brinker"
   ]
  },
  {
   "cell_type": "code",
   "execution_count": 10,
   "metadata": {},
   "outputs": [
    {
     "data": {
      "text/plain": [
       "name\n",
       "Chili's                    15\n",
       "Maggiano's Little Italy     2\n",
       "It's Just Wings             1\n",
       "Name: count, dtype: int64"
      ]
     },
     "execution_count": 10,
     "metadata": {},
     "output_type": "execute_result"
    }
   ],
   "source": [
    "# Aplicar fuzzy matching para Brinker\n",
    "df_business['name_match'] = df_business['name'].apply(fuzzy_match, match_to=brands['brinker'])\n",
    "# Filtrar nulos (donde nulo representa no-match)\n",
    "df_brinker = df_business[df_business['name_match'].notnull()]\n",
    "df_brinker.drop('name_match', axis=1, inplace=True)\n",
    "df_brinker['name'].value_counts()"
   ]
  },
  {
   "cell_type": "markdown",
   "metadata": {},
   "source": [
    "#### Texas Roadhouse"
   ]
  },
  {
   "cell_type": "code",
   "execution_count": 11,
   "metadata": {},
   "outputs": [
    {
     "data": {
      "text/plain": [
       "name\n",
       "Texas Roadhouse    6\n",
       "Name: count, dtype: int64"
      ]
     },
     "execution_count": 11,
     "metadata": {},
     "output_type": "execute_result"
    }
   ],
   "source": [
    "# Aplicar fuzzy matching para Texas Roadhouse\n",
    "df_business['name_match'] = df_business['name'].apply(fuzzy_match, match_to=brands['texasroadhouse'])\n",
    "# Filtrar nulos (donde nulo representa no-match)\n",
    "df_texasroadhouse = df_business[df_business['name_match'].notnull()]\n",
    "df_texasroadhouse.drop('name_match', axis=1, inplace=True)\n",
    "df_texasroadhouse['name'].value_counts()"
   ]
  },
  {
   "cell_type": "markdown",
   "metadata": {},
   "source": [
    "---\n",
    "### Filtro de reviews por brand"
   ]
  },
  {
   "cell_type": "code",
   "execution_count": 12,
   "metadata": {},
   "outputs": [],
   "source": [
    "business_cols = ['business_id', 'city', 'state', 'postal_code', 'coordinates']"
   ]
  },
  {
   "cell_type": "code",
   "execution_count": 13,
   "metadata": {},
   "outputs": [],
   "source": [
    "df_review['day'] = pd.to_datetime(df_review['date']).dt.day_name()"
   ]
  },
  {
   "cell_type": "markdown",
   "metadata": {},
   "source": [
    "#### Darden"
   ]
  },
  {
   "cell_type": "code",
   "execution_count": 14,
   "metadata": {},
   "outputs": [
    {
     "data": {
      "text/html": [
       "<div>\n",
       "<style scoped>\n",
       "    .dataframe tbody tr th:only-of-type {\n",
       "        vertical-align: middle;\n",
       "    }\n",
       "\n",
       "    .dataframe tbody tr th {\n",
       "        vertical-align: top;\n",
       "    }\n",
       "\n",
       "    .dataframe thead th {\n",
       "        text-align: right;\n",
       "    }\n",
       "</style>\n",
       "<table border=\"1\" class=\"dataframe\">\n",
       "  <thead>\n",
       "    <tr style=\"text-align: right;\">\n",
       "      <th></th>\n",
       "      <th>name</th>\n",
       "      <th>review_id</th>\n",
       "      <th>user_id</th>\n",
       "      <th>business_id</th>\n",
       "      <th>stars</th>\n",
       "      <th>useful</th>\n",
       "      <th>funny</th>\n",
       "      <th>cool</th>\n",
       "      <th>text</th>\n",
       "      <th>date</th>\n",
       "      <th>day</th>\n",
       "    </tr>\n",
       "  </thead>\n",
       "  <tbody>\n",
       "    <tr>\n",
       "      <th>373196</th>\n",
       "      <td>Bahama Breeze</td>\n",
       "      <td>kUd28HDda8ArBl97eJFhcA</td>\n",
       "      <td>qpxHZ6yDRbPWmTMY_Px52w</td>\n",
       "      <td>AlH5V97JSAu7AL_xdibMIg</td>\n",
       "      <td>1.0</td>\n",
       "      <td>0</td>\n",
       "      <td>0</td>\n",
       "      <td>0</td>\n",
       "      <td>GO TO APPLEBEES NOT TO THIS PLACE.\\n\\nI went t...</td>\n",
       "      <td>2019-10-20</td>\n",
       "      <td>Sunday</td>\n",
       "    </tr>\n",
       "  </tbody>\n",
       "</table>\n",
       "</div>"
      ],
      "text/plain": [
       "                 name               review_id                 user_id  \\\n",
       "373196  Bahama Breeze  kUd28HDda8ArBl97eJFhcA  qpxHZ6yDRbPWmTMY_Px52w   \n",
       "\n",
       "                   business_id  stars  useful  funny  cool  \\\n",
       "373196  AlH5V97JSAu7AL_xdibMIg    1.0       0      0     0   \n",
       "\n",
       "                                                     text        date     day  \n",
       "373196  GO TO APPLEBEES NOT TO THIS PLACE.\\n\\nI went t...  2019-10-20  Sunday  "
      ]
     },
     "execution_count": 14,
     "metadata": {},
     "output_type": "execute_result"
    }
   ],
   "source": [
    "# Filtrar `df_review` por la col `business_id` en `df_darden`\n",
    "filtro_id = df_darden['business_id']\n",
    "# Filtrar los review\n",
    "df_darden_review = df_review[df_review['business_id'].isin(filtro_id)]\n",
    "\n",
    "# Corrigir errores de decoding de texto, columna `text`\n",
    "df_darden_review['text'] = df_darden_review['text'].apply(fix_text)\n",
    "df_darden_review.sample(1)"
   ]
  },
  {
   "cell_type": "code",
   "execution_count": 15,
   "metadata": {},
   "outputs": [],
   "source": [
    "# Nueva columna para respuestas de reviews\n",
    "df_darden_review['text_reply'] = ''"
   ]
  },
  {
   "cell_type": "code",
   "execution_count": 16,
   "metadata": {},
   "outputs": [],
   "source": [
    "df_darden_review = pd.merge(df_darden_review, df_darden[business_cols], on='business_id', how='left')\n",
    "\n",
    "# Fijar nueva columna `name` como la primer columna del df \n",
    "nom_col = df_darden_review.pop('name')\n",
    "df_darden_review.insert(0, 'name', nom_col)"
   ]
  },
  {
   "cell_type": "markdown",
   "metadata": {},
   "source": [
    "#### Bloomin'"
   ]
  },
  {
   "cell_type": "code",
   "execution_count": 17,
   "metadata": {},
   "outputs": [
    {
     "data": {
      "text/html": [
       "<div>\n",
       "<style scoped>\n",
       "    .dataframe tbody tr th:only-of-type {\n",
       "        vertical-align: middle;\n",
       "    }\n",
       "\n",
       "    .dataframe tbody tr th {\n",
       "        vertical-align: top;\n",
       "    }\n",
       "\n",
       "    .dataframe thead th {\n",
       "        text-align: right;\n",
       "    }\n",
       "</style>\n",
       "<table border=\"1\" class=\"dataframe\">\n",
       "  <thead>\n",
       "    <tr style=\"text-align: right;\">\n",
       "      <th></th>\n",
       "      <th>name</th>\n",
       "      <th>review_id</th>\n",
       "      <th>user_id</th>\n",
       "      <th>business_id</th>\n",
       "      <th>stars</th>\n",
       "      <th>useful</th>\n",
       "      <th>funny</th>\n",
       "      <th>cool</th>\n",
       "      <th>text</th>\n",
       "      <th>date</th>\n",
       "      <th>day</th>\n",
       "    </tr>\n",
       "  </thead>\n",
       "  <tbody>\n",
       "    <tr>\n",
       "      <th>99076</th>\n",
       "      <td>Bonefish Grill</td>\n",
       "      <td>0n6GNv0VggfvTkUKi3qQEg</td>\n",
       "      <td>5RHa6ARjqHnjkk2puc5y_w</td>\n",
       "      <td>TD2Ln8rzK-UbGECZkD6V4Q</td>\n",
       "      <td>2.0</td>\n",
       "      <td>5</td>\n",
       "      <td>2</td>\n",
       "      <td>1</td>\n",
       "      <td>So the fam and I gave Bonefish Grill a second ...</td>\n",
       "      <td>2014-06-05</td>\n",
       "      <td>Thursday</td>\n",
       "    </tr>\n",
       "  </tbody>\n",
       "</table>\n",
       "</div>"
      ],
      "text/plain": [
       "                 name               review_id                 user_id  \\\n",
       "99076  Bonefish Grill  0n6GNv0VggfvTkUKi3qQEg  5RHa6ARjqHnjkk2puc5y_w   \n",
       "\n",
       "                  business_id  stars  useful  funny  cool  \\\n",
       "99076  TD2Ln8rzK-UbGECZkD6V4Q    2.0       5      2     1   \n",
       "\n",
       "                                                    text        date       day  \n",
       "99076  So the fam and I gave Bonefish Grill a second ...  2014-06-05  Thursday  "
      ]
     },
     "execution_count": 17,
     "metadata": {},
     "output_type": "execute_result"
    }
   ],
   "source": [
    "# Filtrar `df_review` por la col `business_id` en `df_bloomin`\n",
    "filtro_id = df_bloomin['business_id']\n",
    "# Filtrar los review\n",
    "df_bloomin_review = df_review[df_review['business_id'].isin(filtro_id)]\n",
    "\n",
    "# Corrigir errores de decoding de texto, columna `text`\n",
    "df_bloomin_review['text'] = df_bloomin_review['text'].apply(fix_text)\n",
    "df_bloomin_review.sample(1)"
   ]
  },
  {
   "cell_type": "code",
   "execution_count": 18,
   "metadata": {},
   "outputs": [],
   "source": [
    "df_bloomin_review = pd.merge(df_bloomin_review, df_bloomin[business_cols], on='business_id', how='left')\n",
    "\n",
    "# Fijar nueva columna `name` como la primer columna del df \n",
    "nom_col = df_bloomin_review.pop('name')\n",
    "df_bloomin_review.insert(0, 'name', nom_col)"
   ]
  },
  {
   "cell_type": "markdown",
   "metadata": {},
   "source": [
    "#### Brinker"
   ]
  },
  {
   "cell_type": "code",
   "execution_count": 19,
   "metadata": {},
   "outputs": [
    {
     "data": {
      "text/html": [
       "<div>\n",
       "<style scoped>\n",
       "    .dataframe tbody tr th:only-of-type {\n",
       "        vertical-align: middle;\n",
       "    }\n",
       "\n",
       "    .dataframe tbody tr th {\n",
       "        vertical-align: top;\n",
       "    }\n",
       "\n",
       "    .dataframe thead th {\n",
       "        text-align: right;\n",
       "    }\n",
       "</style>\n",
       "<table border=\"1\" class=\"dataframe\">\n",
       "  <thead>\n",
       "    <tr style=\"text-align: right;\">\n",
       "      <th></th>\n",
       "      <th>name</th>\n",
       "      <th>review_id</th>\n",
       "      <th>user_id</th>\n",
       "      <th>business_id</th>\n",
       "      <th>stars</th>\n",
       "      <th>useful</th>\n",
       "      <th>funny</th>\n",
       "      <th>cool</th>\n",
       "      <th>text</th>\n",
       "      <th>date</th>\n",
       "      <th>day</th>\n",
       "    </tr>\n",
       "  </thead>\n",
       "  <tbody>\n",
       "    <tr>\n",
       "      <th>712998</th>\n",
       "      <td>Maggiano's Little Italy</td>\n",
       "      <td>e3jSbVQZ77ftu15SSUKzjw</td>\n",
       "      <td>2z-j-VW3f84ojwjtMen3kg</td>\n",
       "      <td>2WGnykxiM-Mp-qIm2u7iAw</td>\n",
       "      <td>5.0</td>\n",
       "      <td>1</td>\n",
       "      <td>0</td>\n",
       "      <td>0</td>\n",
       "      <td>Love this place. I went here while my boyfrien...</td>\n",
       "      <td>2009-06-24</td>\n",
       "      <td>Wednesday</td>\n",
       "    </tr>\n",
       "  </tbody>\n",
       "</table>\n",
       "</div>"
      ],
      "text/plain": [
       "                           name               review_id  \\\n",
       "712998  Maggiano's Little Italy  e3jSbVQZ77ftu15SSUKzjw   \n",
       "\n",
       "                       user_id             business_id  stars  useful  funny  \\\n",
       "712998  2z-j-VW3f84ojwjtMen3kg  2WGnykxiM-Mp-qIm2u7iAw    5.0       1      0   \n",
       "\n",
       "        cool                                               text        date  \\\n",
       "712998     0  Love this place. I went here while my boyfrien...  2009-06-24   \n",
       "\n",
       "              day  \n",
       "712998  Wednesday  "
      ]
     },
     "execution_count": 19,
     "metadata": {},
     "output_type": "execute_result"
    }
   ],
   "source": [
    "# Filtrar `df_review` por la col `business_id` en `df_brinker`\n",
    "filtro_id = df_brinker['business_id']\n",
    "# Filtrar los review\n",
    "df_brinker_review = df_review[df_review['business_id'].isin(filtro_id)]\n",
    "\n",
    "# Corrigir errores de decoding de texto, columna `text`\n",
    "df_brinker_review['text'] = df_brinker_review['text'].apply(fix_text)\n",
    "df_brinker_review.sample()"
   ]
  },
  {
   "cell_type": "code",
   "execution_count": 20,
   "metadata": {},
   "outputs": [],
   "source": [
    "df_brinker_review = pd.merge(df_brinker_review, df_brinker[business_cols], on='business_id', how='left')\n",
    "\n",
    "# Fijar nueva columna `name` como la primer columna del df \n",
    "nom_col = df_brinker_review.pop('name')\n",
    "df_brinker_review.insert(0, 'name', nom_col)"
   ]
  },
  {
   "cell_type": "markdown",
   "metadata": {},
   "source": [
    "#### Texas Roadhouse"
   ]
  },
  {
   "cell_type": "code",
   "execution_count": 21,
   "metadata": {},
   "outputs": [
    {
     "data": {
      "text/html": [
       "<div>\n",
       "<style scoped>\n",
       "    .dataframe tbody tr th:only-of-type {\n",
       "        vertical-align: middle;\n",
       "    }\n",
       "\n",
       "    .dataframe tbody tr th {\n",
       "        vertical-align: top;\n",
       "    }\n",
       "\n",
       "    .dataframe thead th {\n",
       "        text-align: right;\n",
       "    }\n",
       "</style>\n",
       "<table border=\"1\" class=\"dataframe\">\n",
       "  <thead>\n",
       "    <tr style=\"text-align: right;\">\n",
       "      <th></th>\n",
       "      <th>name</th>\n",
       "      <th>review_id</th>\n",
       "      <th>user_id</th>\n",
       "      <th>business_id</th>\n",
       "      <th>stars</th>\n",
       "      <th>useful</th>\n",
       "      <th>funny</th>\n",
       "      <th>cool</th>\n",
       "      <th>text</th>\n",
       "      <th>date</th>\n",
       "      <th>day</th>\n",
       "    </tr>\n",
       "  </thead>\n",
       "  <tbody>\n",
       "    <tr>\n",
       "      <th>646726</th>\n",
       "      <td>Texas Roadhouse</td>\n",
       "      <td>H-7Gn18-BoBBnTm8HX5s5Q</td>\n",
       "      <td>Bv8KkadmPMSABBTk9SX-CA</td>\n",
       "      <td>OCz2ba1y_lIAonOGU0B7zA</td>\n",
       "      <td>1.0</td>\n",
       "      <td>0</td>\n",
       "      <td>0</td>\n",
       "      <td>0</td>\n",
       "      <td>I contacted Texas Roadhouse corporate customer...</td>\n",
       "      <td>2015-07-02</td>\n",
       "      <td>Thursday</td>\n",
       "    </tr>\n",
       "  </tbody>\n",
       "</table>\n",
       "</div>"
      ],
      "text/plain": [
       "                   name               review_id                 user_id  \\\n",
       "646726  Texas Roadhouse  H-7Gn18-BoBBnTm8HX5s5Q  Bv8KkadmPMSABBTk9SX-CA   \n",
       "\n",
       "                   business_id  stars  useful  funny  cool  \\\n",
       "646726  OCz2ba1y_lIAonOGU0B7zA    1.0       0      0     0   \n",
       "\n",
       "                                                     text        date  \\\n",
       "646726  I contacted Texas Roadhouse corporate customer...  2015-07-02   \n",
       "\n",
       "             day  \n",
       "646726  Thursday  "
      ]
     },
     "execution_count": 21,
     "metadata": {},
     "output_type": "execute_result"
    }
   ],
   "source": [
    "# Filtrar `df_review` por la col `business_id` en `df_texasroadhouse`\n",
    "filtro_id = df_texasroadhouse['business_id']\n",
    "# Filtrar los review\n",
    "df_texasroadhouse_review = df_review[df_review['business_id'].isin(filtro_id)]\n",
    "\n",
    "# Corrigir errores de decoding de texto, columna `text`\n",
    "df_texasroadhouse_review['text'] = df_texasroadhouse_review['text'].apply(fix_text)\n",
    "df_texasroadhouse_review.sample()"
   ]
  },
  {
   "cell_type": "code",
   "execution_count": 22,
   "metadata": {},
   "outputs": [],
   "source": [
    "df_texasroadhouse_review = pd.merge(df_texasroadhouse_review, df_texasroadhouse[business_cols], on='business_id', how='left')\n",
    "\n",
    "# Fijar nueva columna `name` como la primer columna del df \n",
    "nom_col = df_texasroadhouse_review.pop('name')\n",
    "df_texasroadhouse_review.insert(0, 'name', nom_col)"
   ]
  },
  {
   "cell_type": "markdown",
   "metadata": {},
   "source": [
    "#### Resumen y exportacion de filtros aplicados"
   ]
  },
  {
   "cell_type": "code",
   "execution_count": 23,
   "metadata": {},
   "outputs": [
    {
     "name": "stdout",
     "output_type": "stream",
     "text": [
      "Cantidad de Reviews\n",
      "Darden: 7153\n",
      "Bloomin': 4230\n",
      "Brinker: 2422\n",
      "Texas RH: 1265\n"
     ]
    }
   ],
   "source": [
    "print(\n",
    "    \"Cantidad de Reviews\\n\"\n",
    "    f\"Darden: {df_darden_review.shape[0]}\\n\"\n",
    "    f\"Bloomin': {df_bloomin_review.shape[0]}\\n\"\n",
    "    f\"Brinker: {df_brinker_review.shape[0]}\\n\"\n",
    "    f\"Texas RH: {df_texasroadhouse_review.shape[0]}\"\n",
    ")"
   ]
  },
  {
   "cell_type": "markdown",
   "metadata": {},
   "source": [
    "---"
   ]
  },
  {
   "cell_type": "code",
   "execution_count": 24,
   "metadata": {},
   "outputs": [],
   "source": [
    "dfs = [\n",
    "    ['darden', df_darden_review],\n",
    "    ['bloomin', df_bloomin_review],\n",
    "    ['brinker', df_brinker_review],\n",
    "    ['texasroadhouse', df_texasroadhouse_review]\n",
    "]\n",
    "\n",
    "drop_cols = ['useful','funny','cool']\n",
    "\n",
    "for _, df in dfs:\n",
    "    df.drop(columns=drop_cols, inplace=True)"
   ]
  },
  {
   "cell_type": "code",
   "execution_count": 25,
   "metadata": {},
   "outputs": [],
   "source": [
    "df_darden_review.sample(10).to_csv('reviews_----.csv')"
   ]
  },
  {
   "cell_type": "code",
   "execution_count": 26,
   "metadata": {},
   "outputs": [],
   "source": [
    "for nom, df in dfs:\n",
    "    df.to_parquet(f'reviews_{nom}.parquet')"
   ]
  },
  {
   "cell_type": "code",
   "execution_count": 28,
   "metadata": {},
   "outputs": [
    {
     "data": {
      "text/html": [
       "<div>\n",
       "<style scoped>\n",
       "    .dataframe tbody tr th:only-of-type {\n",
       "        vertical-align: middle;\n",
       "    }\n",
       "\n",
       "    .dataframe tbody tr th {\n",
       "        vertical-align: top;\n",
       "    }\n",
       "\n",
       "    .dataframe thead th {\n",
       "        text-align: right;\n",
       "    }\n",
       "</style>\n",
       "<table border=\"1\" class=\"dataframe\">\n",
       "  <thead>\n",
       "    <tr style=\"text-align: right;\">\n",
       "      <th></th>\n",
       "      <th>name</th>\n",
       "      <th>review_id</th>\n",
       "      <th>user_id</th>\n",
       "      <th>business_id</th>\n",
       "      <th>stars</th>\n",
       "      <th>text</th>\n",
       "      <th>date</th>\n",
       "      <th>day</th>\n",
       "      <th>city</th>\n",
       "      <th>state</th>\n",
       "      <th>postal_code</th>\n",
       "      <th>coordinates</th>\n",
       "    </tr>\n",
       "  </thead>\n",
       "  <tbody>\n",
       "    <tr>\n",
       "      <th>926</th>\n",
       "      <td>Outback Steakhouse</td>\n",
       "      <td>pxrdJ8AABI-yhQSyL-Qo2A</td>\n",
       "      <td>ZBfdJlnH8jusi9kBJDSAuw</td>\n",
       "      <td>y5nl-lRDlphGQ9XiwDNmtg</td>\n",
       "      <td>1.0</td>\n",
       "      <td>I enjoy Outback but since a waitress wrote dow...</td>\n",
       "      <td>2021-03-07</td>\n",
       "      <td>Sunday</td>\n",
       "      <td>North Wales</td>\n",
       "      <td>NJ</td>\n",
       "      <td>19454</td>\n",
       "      <td>40.235486084,-75.2409985192</td>\n",
       "    </tr>\n",
       "  </tbody>\n",
       "</table>\n",
       "</div>"
      ],
      "text/plain": [
       "                   name               review_id                 user_id  \\\n",
       "926  Outback Steakhouse  pxrdJ8AABI-yhQSyL-Qo2A  ZBfdJlnH8jusi9kBJDSAuw   \n",
       "\n",
       "                business_id  stars  \\\n",
       "926  y5nl-lRDlphGQ9XiwDNmtg    1.0   \n",
       "\n",
       "                                                  text        date     day  \\\n",
       "926  I enjoy Outback but since a waitress wrote dow...  2021-03-07  Sunday   \n",
       "\n",
       "            city state postal_code                  coordinates  \n",
       "926  North Wales    NJ       19454  40.235486084,-75.2409985192  "
      ]
     },
     "execution_count": 28,
     "metadata": {},
     "output_type": "execute_result"
    }
   ],
   "source": [
    "df_bloomin_review.sample()"
   ]
  }
 ],
 "metadata": {
  "kernelspec": {
   "display_name": "base",
   "language": "python",
   "name": "python3"
  },
  "language_info": {
   "codemirror_mode": {
    "name": "ipython",
    "version": 3
   },
   "file_extension": ".py",
   "mimetype": "text/x-python",
   "name": "python",
   "nbconvert_exporter": "python",
   "pygments_lexer": "ipython3",
   "version": "3.10.12"
  }
 },
 "nbformat": 4,
 "nbformat_minor": 2
}
