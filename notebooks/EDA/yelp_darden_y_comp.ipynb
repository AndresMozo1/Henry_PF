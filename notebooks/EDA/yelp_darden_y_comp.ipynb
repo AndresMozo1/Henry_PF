{
 "cells": [
  {
   "cell_type": "code",
   "execution_count": 26,
   "metadata": {},
   "outputs": [],
   "source": [
    "import warnings\n",
    "import pandas as pd"
   ]
  },
  {
   "cell_type": "code",
   "execution_count": 27,
   "metadata": {},
   "outputs": [],
   "source": [
    "from ftfy import fix_text\n",
    "from rapidfuzz import process, fuzz"
   ]
  },
  {
   "cell_type": "code",
   "execution_count": 28,
   "metadata": {},
   "outputs": [],
   "source": [
    "warnings.filterwarnings('ignore')"
   ]
  },
  {
   "cell_type": "code",
   "execution_count": 4,
   "metadata": {},
   "outputs": [],
   "source": [
    "# Opción que deshabilita el limite de columnas y filas mostradas\n",
    "pd.set_option('display.max_columns', None)\n",
    "#pd.set_option('display.max_rows', None)"
   ]
  },
  {
   "cell_type": "markdown",
   "metadata": {},
   "source": [
    "---\n",
    "## Carga data"
   ]
  },
  {
   "cell_type": "code",
   "execution_count": 5,
   "metadata": {},
   "outputs": [],
   "source": [
    "# Path de los archivos procesados (formato parquet)\n",
    "path_data = '../../data/clean'\n",
    "df_business = pd.read_parquet(f'{path_data}/y_business_CLEAN.parquet')\n",
    "df_review = pd.read_parquet(f'{path_data}/y_review_CLEAN.parquet')"
   ]
  },
  {
   "cell_type": "markdown",
   "metadata": {},
   "source": [
    "---\n",
    "---\n",
    "## Análisis Exploratorio"
   ]
  },
  {
   "cell_type": "markdown",
   "metadata": {},
   "source": [
    "### Setup"
   ]
  },
  {
   "cell_type": "markdown",
   "metadata": {},
   "source": [
    "#### Dict target"
   ]
  },
  {
   "cell_type": "code",
   "execution_count": 6,
   "metadata": {},
   "outputs": [],
   "source": [
    "# Diccionario de marcas de Darden y competidores\n",
    "brands = {\n",
    "    # Darden brands\n",
    "    'darden': [\n",
    "        \"Olive Garden Italian Restaurant\",\n",
    "        \"LongHorn Steakhouse\",\n",
    "        \"Cheddar's Scratch Kitchen\",\n",
    "        \"Yard House\",\n",
    "        \"The Capital Grille\",   ####\n",
    "        \"Seasons 52\",\n",
    "        \"Bahama Breeze\",\n",
    "        \"Eddie V's\",  ####\n",
    "        \"Ruth's Chris Steak House\"\n",
    "    ],\n",
    "    # Bloomin brands\n",
    "    'bloomin': [\n",
    "        \"Outback Steakhouse\",\n",
    "        \"Carrabba's Italian Grill\",\n",
    "        \"Bonefish Grill\",\n",
    "        \"Fleming's Prime Steakhouse & Wine Bar\",\n",
    "        \"Aussie Grill\",\n",
    "        \"Aussie Grill - Brandon\"\n",
    "    ],\n",
    "    # Brinker brands\n",
    "    'brinker': [\n",
    "        \"Chili's\",\n",
    "        \"Chili's Grill & Bar\",\n",
    "        \"Maggiano's Little Italy\",\n",
    "        \"It's Just Wings\"\n",
    "    ],\n",
    "    # Texas Roadhouse brands\n",
    "    'texasroadhouse': [\n",
    "        \"Texas Roadhouse\",\n",
    "        \"Bubba's 33\",\n",
    "        #\"Jaggers\"  # Fast food, excluir?   ####\n",
    "    ]\n",
    "}"
   ]
  },
  {
   "cell_type": "markdown",
   "metadata": {},
   "source": [
    "### Filtro de brands"
   ]
  },
  {
   "cell_type": "code",
   "execution_count": 7,
   "metadata": {},
   "outputs": [],
   "source": [
    "# Corrigir errores de decoding de texto, columna `name`\n",
    "df_business['name'] = df_business['name'].apply(fix_text)"
   ]
  },
  {
   "cell_type": "code",
   "execution_count": 8,
   "metadata": {},
   "outputs": [],
   "source": [
    "# Funcion que implementa busqueda 'fuzzy' en textos\n",
    "def fuzzy_match(x, match_to, threshold=90):\n",
    "    match, score, _ = process.extractOne(x, match_to, scorer=fuzz.WRatio)\n",
    "    return match if score >= threshold else None"
   ]
  },
  {
   "cell_type": "markdown",
   "metadata": {},
   "source": [
    "#### Darden"
   ]
  },
  {
   "cell_type": "code",
   "execution_count": 9,
   "metadata": {},
   "outputs": [
    {
     "data": {
      "text/plain": [
       "name\n",
       "Olive Garden Italian Restaurant    10\n",
       "LongHorn Steakhouse                 9\n",
       "Cheddar's Scratch Kitchen           3\n",
       "Ruth's Chris Steak House            3\n",
       "Bahama Breeze                       2\n",
       "Seasons 52                          2\n",
       "Yard House                          1\n",
       "Name: count, dtype: int64"
      ]
     },
     "execution_count": 9,
     "metadata": {},
     "output_type": "execute_result"
    }
   ],
   "source": [
    "# Aplicar fuzzy matching para Darden\n",
    "df_business['name_match'] = df_business['name'].apply(fuzzy_match, match_to=brands['darden'])\n",
    "# Filtrar nulos (donde nulo representa no-match)\n",
    "df_darden = df_business[df_business['name_match'].notnull()]\n",
    "df_darden.drop('name_match', axis=1, inplace=True)\n",
    "df_darden['name'].value_counts()"
   ]
  },
  {
   "cell_type": "code",
   "execution_count": 32,
   "metadata": {},
   "outputs": [
    {
     "data": {
      "text/plain": [
       "state\n",
       "PA    23\n",
       "NJ     6\n",
       "DE     1\n",
       "Name: count, dtype: int64"
      ]
     },
     "execution_count": 32,
     "metadata": {},
     "output_type": "execute_result"
    }
   ],
   "source": [
    "df_darden['state'].value_counts()"
   ]
  },
  {
   "cell_type": "markdown",
   "metadata": {},
   "source": [
    "#### Bloomin'"
   ]
  },
  {
   "cell_type": "code",
   "execution_count": 10,
   "metadata": {},
   "outputs": [
    {
     "data": {
      "text/plain": [
       "name\n",
       "Outback Steakhouse                       13\n",
       "Bonefish Grill                            7\n",
       "Carrabba's Italian Grill                  4\n",
       "Fleming's Prime Steakhouse & Wine Bar     3\n",
       "Aussie Grill - Brandon                    1\n",
       "Name: count, dtype: int64"
      ]
     },
     "execution_count": 10,
     "metadata": {},
     "output_type": "execute_result"
    }
   ],
   "source": [
    "# Aplicar fuzzy matching para Bloomin\n",
    "df_business['name_match'] = df_business['name'].apply(fuzzy_match, match_to=brands['bloomin'])\n",
    "# Filtrar nulos (donde nulo representa no-match)\n",
    "df_bloomin = df_business[df_business['name_match'].notnull()]\n",
    "df_bloomin.drop('name_match', axis=1, inplace=True)\n",
    "df_bloomin['name'].value_counts()"
   ]
  },
  {
   "cell_type": "code",
   "execution_count": 31,
   "metadata": {},
   "outputs": [
    {
     "data": {
      "text/plain": [
       "state\n",
       "PA    19\n",
       "NJ     7\n",
       "DE     2\n",
       "Name: count, dtype: int64"
      ]
     },
     "execution_count": 31,
     "metadata": {},
     "output_type": "execute_result"
    }
   ],
   "source": [
    "df_bloomin['state'].value_counts()"
   ]
  },
  {
   "cell_type": "markdown",
   "metadata": {},
   "source": [
    "#### Brinker"
   ]
  },
  {
   "cell_type": "code",
   "execution_count": 11,
   "metadata": {},
   "outputs": [
    {
     "data": {
      "text/plain": [
       "name\n",
       "Chili's                    20\n",
       "Maggiano's Little Italy     3\n",
       "It's Just Wings             1\n",
       "Chili's Grill & Bar         1\n",
       "Name: count, dtype: int64"
      ]
     },
     "execution_count": 11,
     "metadata": {},
     "output_type": "execute_result"
    }
   ],
   "source": [
    "# Aplicar fuzzy matching para Brinker\n",
    "df_business['name_match'] = df_business['name'].apply(fuzzy_match, match_to=brands['brinker'])\n",
    "# Filtrar nulos (donde nulo representa no-match)\n",
    "df_brinker = df_business[df_business['name_match'].notnull()]\n",
    "df_brinker.drop('name_match', axis=1, inplace=True)\n",
    "df_brinker['name'].value_counts()"
   ]
  },
  {
   "cell_type": "code",
   "execution_count": 30,
   "metadata": {},
   "outputs": [
    {
     "data": {
      "text/plain": [
       "state\n",
       "PA    19\n",
       "DE     3\n",
       "NJ     3\n",
       "Name: count, dtype: int64"
      ]
     },
     "execution_count": 30,
     "metadata": {},
     "output_type": "execute_result"
    }
   ],
   "source": [
    "df_brinker['state'].value_counts()"
   ]
  },
  {
   "cell_type": "markdown",
   "metadata": {},
   "source": [
    "#### Texas Roadhouse"
   ]
  },
  {
   "cell_type": "code",
   "execution_count": 12,
   "metadata": {},
   "outputs": [
    {
     "data": {
      "text/plain": [
       "name\n",
       "Texas Roadhouse    6\n",
       "Bubba's 33         1\n",
       "Name: count, dtype: int64"
      ]
     },
     "execution_count": 12,
     "metadata": {},
     "output_type": "execute_result"
    }
   ],
   "source": [
    "# Aplicar fuzzy matching para Texas Roadhouse\n",
    "df_business['name_match'] = df_business['name'].apply(fuzzy_match, match_to=brands['texasroadhouse'])\n",
    "# Filtrar nulos (donde nulo representa no-match)\n",
    "df_texasroadhouse = df_business[df_business['name_match'].notnull()]\n",
    "df_texasroadhouse.drop('name_match', axis=1, inplace=True)\n",
    "df_texasroadhouse['name'].value_counts()"
   ]
  },
  {
   "cell_type": "code",
   "execution_count": 29,
   "metadata": {},
   "outputs": [
    {
     "data": {
      "text/plain": [
       "state\n",
       "PA    5\n",
       "NJ    2\n",
       "Name: count, dtype: int64"
      ]
     },
     "execution_count": 29,
     "metadata": {},
     "output_type": "execute_result"
    }
   ],
   "source": [
    "df_texasroadhouse['state'].value_counts()"
   ]
  },
  {
   "cell_type": "markdown",
   "metadata": {},
   "source": [
    "---\n",
    "### Filtro de reviews por brand"
   ]
  },
  {
   "cell_type": "code",
   "execution_count": 13,
   "metadata": {},
   "outputs": [],
   "source": [
    "business_cols = ['business_id', 'city', 'state', 'postal_code', 'coordinates']"
   ]
  },
  {
   "cell_type": "code",
   "execution_count": 14,
   "metadata": {},
   "outputs": [],
   "source": [
    "df_review['day'] = df_review['date'].dt.day_name()"
   ]
  },
  {
   "cell_type": "markdown",
   "metadata": {},
   "source": [
    "#### Darden"
   ]
  },
  {
   "cell_type": "code",
   "execution_count": 15,
   "metadata": {},
   "outputs": [
    {
     "data": {
      "text/html": [
       "<div>\n",
       "<style scoped>\n",
       "    .dataframe tbody tr th:only-of-type {\n",
       "        vertical-align: middle;\n",
       "    }\n",
       "\n",
       "    .dataframe tbody tr th {\n",
       "        vertical-align: top;\n",
       "    }\n",
       "\n",
       "    .dataframe thead th {\n",
       "        text-align: right;\n",
       "    }\n",
       "</style>\n",
       "<table border=\"1\" class=\"dataframe\">\n",
       "  <thead>\n",
       "    <tr style=\"text-align: right;\">\n",
       "      <th></th>\n",
       "      <th>name</th>\n",
       "      <th>review_id</th>\n",
       "      <th>user_id</th>\n",
       "      <th>business_id</th>\n",
       "      <th>stars</th>\n",
       "      <th>useful</th>\n",
       "      <th>funny</th>\n",
       "      <th>cool</th>\n",
       "      <th>text</th>\n",
       "      <th>date</th>\n",
       "      <th>day</th>\n",
       "    </tr>\n",
       "  </thead>\n",
       "  <tbody>\n",
       "    <tr>\n",
       "      <th>456899</th>\n",
       "      <td>Seasons 52</td>\n",
       "      <td>rsvgVwnSfY0bYxOkHDfSRA</td>\n",
       "      <td>yVpl1JmMFe3V5Eb8WSckhw</td>\n",
       "      <td>mYMPepp0QIZRk_52pWzeoA</td>\n",
       "      <td>5.0</td>\n",
       "      <td>1</td>\n",
       "      <td>0</td>\n",
       "      <td>0</td>\n",
       "      <td>This place has s spot on for turkey day and an...</td>\n",
       "      <td>2016-11-24 23:05:19</td>\n",
       "      <td>Thursday</td>\n",
       "    </tr>\n",
       "  </tbody>\n",
       "</table>\n",
       "</div>"
      ],
      "text/plain": [
       "              name               review_id                 user_id  \\\n",
       "456899  Seasons 52  rsvgVwnSfY0bYxOkHDfSRA  yVpl1JmMFe3V5Eb8WSckhw   \n",
       "\n",
       "                   business_id  stars  useful  funny  cool  \\\n",
       "456899  mYMPepp0QIZRk_52pWzeoA    5.0       1      0     0   \n",
       "\n",
       "                                                     text                date  \\\n",
       "456899  This place has s spot on for turkey day and an... 2016-11-24 23:05:19   \n",
       "\n",
       "             day  \n",
       "456899  Thursday  "
      ]
     },
     "execution_count": 15,
     "metadata": {},
     "output_type": "execute_result"
    }
   ],
   "source": [
    "# Filtrar `df_review` por la col `business_id` en `df_darden`\n",
    "filtro_id = df_darden['business_id']\n",
    "# Filtrar los review\n",
    "df_darden_review = df_review[df_review['business_id'].isin(filtro_id)]\n",
    "\n",
    "# Corrigir errores de decoding de texto, columna `text`\n",
    "df_darden_review['text'] = df_darden_review['text'].apply(fix_text)\n",
    "df_darden_review.sample(1)"
   ]
  },
  {
   "cell_type": "code",
   "execution_count": 16,
   "metadata": {},
   "outputs": [],
   "source": [
    "df_darden_review = pd.merge(df_darden_review, df_darden[business_cols], on='business_id', how='left')\n",
    "\n",
    "# Fijar nueva columna `name` como la primer columna del df \n",
    "nom_col = df_darden_review.pop('name')\n",
    "df_darden_review.insert(0, 'name', nom_col)"
   ]
  },
  {
   "cell_type": "code",
   "execution_count": 34,
   "metadata": {},
   "outputs": [
    {
     "data": {
      "text/plain": [
       "state\n",
       "PA    23\n",
       "NJ     6\n",
       "DE     1\n",
       "Name: count, dtype: int64"
      ]
     },
     "execution_count": 34,
     "metadata": {},
     "output_type": "execute_result"
    }
   ],
   "source": [
    "df_darden['state'].value_counts()"
   ]
  },
  {
   "cell_type": "code",
   "execution_count": 33,
   "metadata": {},
   "outputs": [
    {
     "data": {
      "text/plain": [
       "state\n",
       "PA    5214\n",
       "NJ    1075\n",
       "DE      76\n",
       "Name: count, dtype: int64"
      ]
     },
     "execution_count": 33,
     "metadata": {},
     "output_type": "execute_result"
    }
   ],
   "source": [
    "df_darden_review['state'].value_counts()"
   ]
  },
  {
   "cell_type": "markdown",
   "metadata": {},
   "source": [
    "#### Bloomin'"
   ]
  },
  {
   "cell_type": "code",
   "execution_count": 17,
   "metadata": {},
   "outputs": [
    {
     "data": {
      "text/html": [
       "<div>\n",
       "<style scoped>\n",
       "    .dataframe tbody tr th:only-of-type {\n",
       "        vertical-align: middle;\n",
       "    }\n",
       "\n",
       "    .dataframe tbody tr th {\n",
       "        vertical-align: top;\n",
       "    }\n",
       "\n",
       "    .dataframe thead th {\n",
       "        text-align: right;\n",
       "    }\n",
       "</style>\n",
       "<table border=\"1\" class=\"dataframe\">\n",
       "  <thead>\n",
       "    <tr style=\"text-align: right;\">\n",
       "      <th></th>\n",
       "      <th>name</th>\n",
       "      <th>review_id</th>\n",
       "      <th>user_id</th>\n",
       "      <th>business_id</th>\n",
       "      <th>stars</th>\n",
       "      <th>useful</th>\n",
       "      <th>funny</th>\n",
       "      <th>cool</th>\n",
       "      <th>text</th>\n",
       "      <th>date</th>\n",
       "      <th>day</th>\n",
       "    </tr>\n",
       "  </thead>\n",
       "  <tbody>\n",
       "    <tr>\n",
       "      <th>522811</th>\n",
       "      <td>Fleming’s Prime Steakhouse &amp; Wine Bar</td>\n",
       "      <td>I25MEdroRWfmIb0fDJa20w</td>\n",
       "      <td>BM6B9ytwmEGfi9Cg0XUOdQ</td>\n",
       "      <td>6jr6xW05PcKutwr5lbVVAg</td>\n",
       "      <td>4.0</td>\n",
       "      <td>0</td>\n",
       "      <td>0</td>\n",
       "      <td>0</td>\n",
       "      <td>So it's time to think about a great meal out a...</td>\n",
       "      <td>2020-07-13 11:56:10</td>\n",
       "      <td>Monday</td>\n",
       "    </tr>\n",
       "  </tbody>\n",
       "</table>\n",
       "</div>"
      ],
      "text/plain": [
       "                                         name               review_id  \\\n",
       "522811  Fleming’s Prime Steakhouse & Wine Bar  I25MEdroRWfmIb0fDJa20w   \n",
       "\n",
       "                       user_id             business_id  stars  useful  funny  \\\n",
       "522811  BM6B9ytwmEGfi9Cg0XUOdQ  6jr6xW05PcKutwr5lbVVAg    4.0       0      0   \n",
       "\n",
       "        cool                                               text  \\\n",
       "522811     0  So it's time to think about a great meal out a...   \n",
       "\n",
       "                      date     day  \n",
       "522811 2020-07-13 11:56:10  Monday  "
      ]
     },
     "execution_count": 17,
     "metadata": {},
     "output_type": "execute_result"
    }
   ],
   "source": [
    "# Filtrar `df_review` por la col `business_id` en `df_bloomin`\n",
    "filtro_id = df_bloomin['business_id']\n",
    "# Filtrar los review\n",
    "df_bloomin_review = df_review[df_review['business_id'].isin(filtro_id)]\n",
    "\n",
    "# Corrigir errores de decoding de texto, columna `text`\n",
    "df_bloomin_review['text'] = df_bloomin_review['text'].apply(fix_text)\n",
    "df_bloomin_review.sample(1)"
   ]
  },
  {
   "cell_type": "code",
   "execution_count": 18,
   "metadata": {},
   "outputs": [],
   "source": [
    "df_bloomin_review = pd.merge(df_bloomin_review, df_bloomin[business_cols], on='business_id', how='left')\n",
    "\n",
    "# Fijar nueva columna `name` como la primer columna del df \n",
    "nom_col = df_bloomin_review.pop('name')\n",
    "df_bloomin_review.insert(0, 'name', nom_col)"
   ]
  },
  {
   "cell_type": "code",
   "execution_count": 35,
   "metadata": {},
   "outputs": [
    {
     "data": {
      "text/plain": [
       "state\n",
       "PA    19\n",
       "NJ     7\n",
       "DE     2\n",
       "Name: count, dtype: int64"
      ]
     },
     "execution_count": 35,
     "metadata": {},
     "output_type": "execute_result"
    }
   ],
   "source": [
    "df_bloomin['state'].value_counts()"
   ]
  },
  {
   "cell_type": "code",
   "execution_count": 36,
   "metadata": {},
   "outputs": [
    {
     "data": {
      "text/plain": [
       "state\n",
       "PA    3001\n",
       "NJ    1090\n",
       "DE     681\n",
       "Name: count, dtype: int64"
      ]
     },
     "execution_count": 36,
     "metadata": {},
     "output_type": "execute_result"
    }
   ],
   "source": [
    "df_bloomin_review['state'].value_counts()"
   ]
  },
  {
   "cell_type": "markdown",
   "metadata": {},
   "source": [
    "#### Brinker"
   ]
  },
  {
   "cell_type": "code",
   "execution_count": 19,
   "metadata": {},
   "outputs": [
    {
     "data": {
      "text/html": [
       "<div>\n",
       "<style scoped>\n",
       "    .dataframe tbody tr th:only-of-type {\n",
       "        vertical-align: middle;\n",
       "    }\n",
       "\n",
       "    .dataframe tbody tr th {\n",
       "        vertical-align: top;\n",
       "    }\n",
       "\n",
       "    .dataframe thead th {\n",
       "        text-align: right;\n",
       "    }\n",
       "</style>\n",
       "<table border=\"1\" class=\"dataframe\">\n",
       "  <thead>\n",
       "    <tr style=\"text-align: right;\">\n",
       "      <th></th>\n",
       "      <th>name</th>\n",
       "      <th>review_id</th>\n",
       "      <th>user_id</th>\n",
       "      <th>business_id</th>\n",
       "      <th>stars</th>\n",
       "      <th>useful</th>\n",
       "      <th>funny</th>\n",
       "      <th>cool</th>\n",
       "      <th>text</th>\n",
       "      <th>date</th>\n",
       "      <th>day</th>\n",
       "    </tr>\n",
       "  </thead>\n",
       "  <tbody>\n",
       "    <tr>\n",
       "      <th>909577</th>\n",
       "      <td>Maggiano's Little Italy</td>\n",
       "      <td>oCuhmjTGyY5u4zpib6nZIg</td>\n",
       "      <td>0Nr7r5BJmYHbV_aDRhGnsQ</td>\n",
       "      <td>6r9FNW0-4aKqbPCX7UxTZg</td>\n",
       "      <td>5.0</td>\n",
       "      <td>0</td>\n",
       "      <td>0</td>\n",
       "      <td>0</td>\n",
       "      <td>Disclaimer: For sentimental reasons, my wife a...</td>\n",
       "      <td>2017-07-12 23:12:06</td>\n",
       "      <td>Wednesday</td>\n",
       "    </tr>\n",
       "  </tbody>\n",
       "</table>\n",
       "</div>"
      ],
      "text/plain": [
       "                           name               review_id  \\\n",
       "909577  Maggiano's Little Italy  oCuhmjTGyY5u4zpib6nZIg   \n",
       "\n",
       "                       user_id             business_id  stars  useful  funny  \\\n",
       "909577  0Nr7r5BJmYHbV_aDRhGnsQ  6r9FNW0-4aKqbPCX7UxTZg    5.0       0      0   \n",
       "\n",
       "        cool                                               text  \\\n",
       "909577     0  Disclaimer: For sentimental reasons, my wife a...   \n",
       "\n",
       "                      date        day  \n",
       "909577 2017-07-12 23:12:06  Wednesday  "
      ]
     },
     "execution_count": 19,
     "metadata": {},
     "output_type": "execute_result"
    }
   ],
   "source": [
    "# Filtrar `df_review` por la col `business_id` en `df_brinker`\n",
    "filtro_id = df_brinker['business_id']\n",
    "# Filtrar los review\n",
    "df_brinker_review = df_review[df_review['business_id'].isin(filtro_id)]\n",
    "\n",
    "# Corrigir errores de decoding de texto, columna `text`\n",
    "df_brinker_review['text'] = df_brinker_review['text'].apply(fix_text)\n",
    "df_brinker_review.sample()"
   ]
  },
  {
   "cell_type": "code",
   "execution_count": 20,
   "metadata": {},
   "outputs": [],
   "source": [
    "df_brinker_review = pd.merge(df_brinker_review, df_brinker[business_cols], on='business_id', how='left')\n",
    "\n",
    "# Fijar nueva columna `name` como la primer columna del df \n",
    "nom_col = df_brinker_review.pop('name')\n",
    "df_brinker_review.insert(0, 'name', nom_col)"
   ]
  },
  {
   "cell_type": "code",
   "execution_count": 37,
   "metadata": {},
   "outputs": [
    {
     "data": {
      "text/plain": [
       "state\n",
       "PA    19\n",
       "DE     3\n",
       "NJ     3\n",
       "Name: count, dtype: int64"
      ]
     },
     "execution_count": 37,
     "metadata": {},
     "output_type": "execute_result"
    }
   ],
   "source": [
    "df_brinker['state'].value_counts()"
   ]
  },
  {
   "cell_type": "code",
   "execution_count": 38,
   "metadata": {},
   "outputs": [
    {
     "data": {
      "text/plain": [
       "state\n",
       "PA    2477\n",
       "DE     523\n",
       "NJ     209\n",
       "Name: count, dtype: int64"
      ]
     },
     "execution_count": 38,
     "metadata": {},
     "output_type": "execute_result"
    }
   ],
   "source": [
    "df_brinker_review['state'].value_counts()"
   ]
  },
  {
   "cell_type": "markdown",
   "metadata": {},
   "source": [
    "#### Texas Roadhouse"
   ]
  },
  {
   "cell_type": "code",
   "execution_count": 21,
   "metadata": {},
   "outputs": [
    {
     "data": {
      "text/html": [
       "<div>\n",
       "<style scoped>\n",
       "    .dataframe tbody tr th:only-of-type {\n",
       "        vertical-align: middle;\n",
       "    }\n",
       "\n",
       "    .dataframe tbody tr th {\n",
       "        vertical-align: top;\n",
       "    }\n",
       "\n",
       "    .dataframe thead th {\n",
       "        text-align: right;\n",
       "    }\n",
       "</style>\n",
       "<table border=\"1\" class=\"dataframe\">\n",
       "  <thead>\n",
       "    <tr style=\"text-align: right;\">\n",
       "      <th></th>\n",
       "      <th>name</th>\n",
       "      <th>review_id</th>\n",
       "      <th>user_id</th>\n",
       "      <th>business_id</th>\n",
       "      <th>stars</th>\n",
       "      <th>useful</th>\n",
       "      <th>funny</th>\n",
       "      <th>cool</th>\n",
       "      <th>text</th>\n",
       "      <th>date</th>\n",
       "      <th>day</th>\n",
       "    </tr>\n",
       "  </thead>\n",
       "  <tbody>\n",
       "    <tr>\n",
       "      <th>784665</th>\n",
       "      <td>Texas Roadhouse</td>\n",
       "      <td>SRBT_6dI6QHjWVsJYDEZPQ</td>\n",
       "      <td>8Z5kF5egvQPHgUXjOMlF6g</td>\n",
       "      <td>T9n_LqUUhC2b1ALhg57Y5Q</td>\n",
       "      <td>5.0</td>\n",
       "      <td>1</td>\n",
       "      <td>0</td>\n",
       "      <td>0</td>\n",
       "      <td>Walked in around 6pm for dinner. The hostess g...</td>\n",
       "      <td>2015-06-29 23:16:12</td>\n",
       "      <td>Monday</td>\n",
       "    </tr>\n",
       "  </tbody>\n",
       "</table>\n",
       "</div>"
      ],
      "text/plain": [
       "                   name               review_id                 user_id  \\\n",
       "784665  Texas Roadhouse  SRBT_6dI6QHjWVsJYDEZPQ  8Z5kF5egvQPHgUXjOMlF6g   \n",
       "\n",
       "                   business_id  stars  useful  funny  cool  \\\n",
       "784665  T9n_LqUUhC2b1ALhg57Y5Q    5.0       1      0     0   \n",
       "\n",
       "                                                     text                date  \\\n",
       "784665  Walked in around 6pm for dinner. The hostess g... 2015-06-29 23:16:12   \n",
       "\n",
       "           day  \n",
       "784665  Monday  "
      ]
     },
     "execution_count": 21,
     "metadata": {},
     "output_type": "execute_result"
    }
   ],
   "source": [
    "# Filtrar `df_review` por la col `business_id` en `df_texasroadhouse`\n",
    "filtro_id = df_texasroadhouse['business_id']\n",
    "# Filtrar los review\n",
    "df_texasroadhouse_review = df_review[df_review['business_id'].isin(filtro_id)]\n",
    "\n",
    "# Corrigir errores de decoding de texto, columna `text`\n",
    "df_texasroadhouse_review['text'] = df_texasroadhouse_review['text'].apply(fix_text)\n",
    "df_texasroadhouse_review.sample()"
   ]
  },
  {
   "cell_type": "code",
   "execution_count": 22,
   "metadata": {},
   "outputs": [],
   "source": [
    "df_texasroadhouse_review = pd.merge(df_texasroadhouse_review, df_texasroadhouse[business_cols], on='business_id', how='left')\n",
    "\n",
    "# Fijar nueva columna `name` como la primer columna del df \n",
    "nom_col = df_texasroadhouse_review.pop('name')\n",
    "df_texasroadhouse_review.insert(0, 'name', nom_col)"
   ]
  },
  {
   "cell_type": "code",
   "execution_count": 39,
   "metadata": {},
   "outputs": [
    {
     "data": {
      "text/plain": [
       "state\n",
       "PA    5\n",
       "NJ    2\n",
       "Name: count, dtype: int64"
      ]
     },
     "execution_count": 39,
     "metadata": {},
     "output_type": "execute_result"
    }
   ],
   "source": [
    "df_texasroadhouse['state'].value_counts()"
   ]
  },
  {
   "cell_type": "code",
   "execution_count": 40,
   "metadata": {},
   "outputs": [
    {
     "data": {
      "text/plain": [
       "state\n",
       "PA    938\n",
       "NJ    434\n",
       "Name: count, dtype: int64"
      ]
     },
     "execution_count": 40,
     "metadata": {},
     "output_type": "execute_result"
    }
   ],
   "source": [
    "df_texasroadhouse_review['state'].value_counts()"
   ]
  },
  {
   "cell_type": "markdown",
   "metadata": {},
   "source": [
    "#### Resumen y exportacion de filtros aplicados"
   ]
  },
  {
   "cell_type": "code",
   "execution_count": 23,
   "metadata": {},
   "outputs": [
    {
     "name": "stdout",
     "output_type": "stream",
     "text": [
      "Cantidad de Reviews\n",
      "Darden: 6365\n",
      "Bloomin': 4772\n",
      "Brinker: 3209\n",
      "Texas RH: 1372\n"
     ]
    }
   ],
   "source": [
    "print(\n",
    "    \"Cantidad de Reviews\\n\"\n",
    "    f\"Darden: {df_darden_review.shape[0]}\\n\"\n",
    "    f\"Bloomin': {df_bloomin_review.shape[0]}\\n\"\n",
    "    f\"Brinker: {df_brinker_review.shape[0]}\\n\"\n",
    "    f\"Texas RH: {df_texasroadhouse_review.shape[0]}\"\n",
    ")"
   ]
  },
  {
   "cell_type": "markdown",
   "metadata": {},
   "source": [
    "---"
   ]
  },
  {
   "cell_type": "code",
   "execution_count": 24,
   "metadata": {},
   "outputs": [],
   "source": [
    "dfs = [\n",
    "    ['darden', df_darden_review],\n",
    "    ['bloomin', df_bloomin_review],\n",
    "    ['brinker', df_brinker_review],\n",
    "    ['texasroadhouse', df_texasroadhouse_review]\n",
    "]\n",
    "\n",
    "drop_cols = ['useful','funny','cool']\n",
    "\n",
    "for _, df in dfs:\n",
    "    df.drop(columns=drop_cols, inplace=True)"
   ]
  },
  {
   "cell_type": "code",
   "execution_count": 25,
   "metadata": {},
   "outputs": [],
   "source": [
    "#for nom, df in dfs:\n",
    "#    df.to_parquet(f'reviews_{nom}.parquet')"
   ]
  }
 ],
 "metadata": {
  "kernelspec": {
   "display_name": "base",
   "language": "python",
   "name": "python3"
  },
  "language_info": {
   "codemirror_mode": {
    "name": "ipython",
    "version": 3
   },
   "file_extension": ".py",
   "mimetype": "text/x-python",
   "name": "python",
   "nbconvert_exporter": "python",
   "pygments_lexer": "ipython3",
   "version": "3.10.12"
  }
 },
 "nbformat": 4,
 "nbformat_minor": 2
}
