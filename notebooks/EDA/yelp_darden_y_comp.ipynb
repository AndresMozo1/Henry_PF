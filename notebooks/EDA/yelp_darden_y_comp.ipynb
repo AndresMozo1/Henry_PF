{
 "cells": [
  {
   "cell_type": "code",
   "execution_count": 1,
   "metadata": {},
   "outputs": [],
   "source": [
    "import warnings\n",
    "import pandas as pd\n",
    "from ftfy import fix_text\n",
    "from rapidfuzz import process, fuzz"
   ]
  },
  {
   "cell_type": "code",
   "execution_count": 2,
   "metadata": {},
   "outputs": [],
   "source": [
    "warnings.filterwarnings('ignore')"
   ]
  },
  {
   "cell_type": "code",
   "execution_count": 3,
   "metadata": {},
   "outputs": [],
   "source": [
    "# Opción que deshabilita el limite de columnas y filas mostradas\n",
    "pd.set_option('display.max_columns', None)\n",
    "#pd.set_option('display.max_rows', None)"
   ]
  },
  {
   "cell_type": "markdown",
   "metadata": {},
   "source": [
    "---\n",
    "## Carga data"
   ]
  },
  {
   "cell_type": "code",
   "execution_count": 4,
   "metadata": {},
   "outputs": [],
   "source": [
    "# Path de los archivos procesados (formato parquet)\n",
    "path_data = '../../data/clean'\n",
    "df_business = pd.read_parquet(f'{path_data}/y_business_CLEAN.parquet')\n",
    "df_review = pd.read_parquet(f'{path_data}/y_review_CLEAN.parquet')"
   ]
  },
  {
   "cell_type": "markdown",
   "metadata": {},
   "source": [
    "---\n",
    "---\n",
    "## Análisis Exploratorio"
   ]
  },
  {
   "cell_type": "markdown",
   "metadata": {},
   "source": [
    "### Setup"
   ]
  },
  {
   "cell_type": "markdown",
   "metadata": {},
   "source": [
    "#### Dict target"
   ]
  },
  {
   "cell_type": "code",
   "execution_count": 5,
   "metadata": {},
   "outputs": [],
   "source": [
    "# Diccionario de marcas de Darden y competidores\n",
    "brands = {\n",
    "    # Darden brands\n",
    "    'darden': [\n",
    "        \"Olive Garden Italian Restaurant\",\n",
    "        \"Olive Garden\",\n",
    "        \"LongHorn Steakhouse\",\n",
    "        \"Cheddar's Scratch Kitchen\",\n",
    "        \"Yard House\",\n",
    "        \"The Capital Grille\",\n",
    "        \"Seasons 52\",\n",
    "        \"Bahama Breeze\",\n",
    "        \"Eddie V's\",\n",
    "        \"Eddie V's Prime Seafood\",\n",
    "        \"Ruth's Chris Steak House\"\n",
    "    ],\n",
    "    # Bloomin brands\n",
    "    'bloomin': [\n",
    "        \"Outback Steakhouse\",\n",
    "        \"Carrabba's Italian Grill\",\n",
    "        \"Bonefish Grill\",\n",
    "        \"Fleming's Prime Steakhouse & Wine Bar\",\n",
    "        \"Aussie Grill by Outback\",\n",
    "        \"Aussie Grill - Brandon\",\n",
    "        \"Aussie Grill - Clearwater\",\n",
    "        \"Aussie Grill - \",\n",
    "        \"Aussie Grill\"\n",
    "    ],\n",
    "    # Brinker brands\n",
    "    'brinker': [\n",
    "        \"Chili's\",\n",
    "        \"Chili's Grill & Bar\",\n",
    "        \"Maggiano's Little Italy\",\n",
    "        \"It's Just Wings\"\n",
    "    ],\n",
    "    # Texas Roadhouse brands\n",
    "    'texasroadhouse': [\n",
    "        \"Texas Roadhouse\",\n",
    "        \"Bubba's 33\"\n",
    "    ]\n",
    "}"
   ]
  },
  {
   "cell_type": "code",
   "execution_count": 6,
   "metadata": {},
   "outputs": [],
   "source": [
    "# Agregar columna con nombre de compañia dueño de las marcas/brands\n",
    "# Invertir el dict `brands_por_compania` para crear un mapeo de `name` nombre de compañia\n",
    "dict_invertido = {string: key for key, lista in brands.items() for string in lista}\n",
    "# Mapeo de nombre de marcas `name` a su compañia dueño\n",
    "df_business['company'] = df_business['name'].map(dict_invertido)"
   ]
  },
  {
   "cell_type": "code",
   "execution_count": 7,
   "metadata": {},
   "outputs": [
    {
     "data": {
      "text/plain": [
       "company         name                           \n",
       "brinker         Chili's                            15\n",
       "bloomin         Outback Steakhouse                 12\n",
       "darden          Olive Garden Italian Restaurant    11\n",
       "                LongHorn Steakhouse                 9\n",
       "bloomin         Bonefish Grill                      8\n",
       "texasroadhouse  Texas Roadhouse                     6\n",
       "bloomin         Carrabba's Italian Grill            5\n",
       "darden          Cheddar's Scratch Kitchen           2\n",
       "                Yard House                          2\n",
       "                Seasons 52                          2\n",
       "                Ruth's Chris Steak House            2\n",
       "brinker         Maggiano's Little Italy             2\n",
       "darden          Bahama Breeze                       2\n",
       "                Eddie V's Prime Seafood             1\n",
       "bloomin         Aussie Grill - Brandon              1\n",
       "brinker         It's Just Wings                     1\n",
       "bloomin         Aussie Grill by Outback             1\n",
       "                Aussie Grill - Clearwater           1\n",
       "                Aussie Grill                        1\n",
       "Name: count, dtype: int64"
      ]
     },
     "execution_count": 7,
     "metadata": {},
     "output_type": "execute_result"
    }
   ],
   "source": [
    "df_business[['company', 'name']].dropna().value_counts()"
   ]
  },
  {
   "cell_type": "markdown",
   "metadata": {},
   "source": [
    "### Filtro de brands"
   ]
  },
  {
   "cell_type": "code",
   "execution_count": 8,
   "metadata": {},
   "outputs": [],
   "source": [
    "# Corrigir errores de decoding de texto, columna `name`\n",
    "df_business['name'] = df_business['name'].apply(fix_text)"
   ]
  },
  {
   "cell_type": "code",
   "execution_count": 9,
   "metadata": {},
   "outputs": [],
   "source": [
    "# Funcion que implementa busqueda 'fuzzy' en textos\n",
    "def fuzzy_match(x, match_to, threshold=90):\n",
    "    match, score, _ = process.extractOne(x, match_to, scorer=fuzz.WRatio)\n",
    "    return match if score >= threshold else None"
   ]
  },
  {
   "cell_type": "markdown",
   "metadata": {},
   "source": [
    "#### Darden"
   ]
  },
  {
   "cell_type": "code",
   "execution_count": 10,
   "metadata": {},
   "outputs": [
    {
     "data": {
      "text/plain": [
       "name\n",
       "Olive Garden Italian Restaurant    11\n",
       "LongHorn Steakhouse                 9\n",
       "Bahama Breeze                       2\n",
       "Seasons 52                          2\n",
       "Yard House                          2\n",
       "Cheddar's Scratch Kitchen           2\n",
       "Ruth's Chris Steak House            2\n",
       "Eddie V's Prime Seafood             1\n",
       "Name: count, dtype: int64"
      ]
     },
     "execution_count": 10,
     "metadata": {},
     "output_type": "execute_result"
    }
   ],
   "source": [
    "# Aplicar fuzzy matching para Darden\n",
    "df_business['name_match'] = df_business['name'].apply(fuzzy_match, match_to=brands['darden'])\n",
    "# Filtrar nulos (donde nulo representa no-match)\n",
    "df_darden = df_business[df_business['name_match'].notnull()]\n",
    "df_darden.drop('name_match', axis=1, inplace=True)\n",
    "df_darden['name'].value_counts()"
   ]
  },
  {
   "cell_type": "code",
   "execution_count": 11,
   "metadata": {},
   "outputs": [
    {
     "data": {
      "text/plain": [
       "state\n",
       "PA    15\n",
       "FL    13\n",
       "NJ     3\n",
       "Name: count, dtype: int64"
      ]
     },
     "execution_count": 11,
     "metadata": {},
     "output_type": "execute_result"
    }
   ],
   "source": [
    "df_darden['state'].value_counts()"
   ]
  },
  {
   "cell_type": "markdown",
   "metadata": {},
   "source": [
    "#### Bloomin'"
   ]
  },
  {
   "cell_type": "code",
   "execution_count": 12,
   "metadata": {},
   "outputs": [
    {
     "data": {
      "text/plain": [
       "name\n",
       "Outback Steakhouse                       12\n",
       "Bonefish Grill                            8\n",
       "Carrabba's Italian Grill                  5\n",
       "Aussie Grill by Outback                   1\n",
       "Aussie Grill - Brandon                    1\n",
       "Aussie Grill                              1\n",
       "Fleming's Prime Steakhouse & Wine Bar     1\n",
       "Aussie Grill - Clearwater                 1\n",
       "Name: count, dtype: int64"
      ]
     },
     "execution_count": 12,
     "metadata": {},
     "output_type": "execute_result"
    }
   ],
   "source": [
    "# Aplicar fuzzy matching para Bloomin\n",
    "df_business['name_match'] = df_business['name'].apply(fuzzy_match, match_to=brands['bloomin'])\n",
    "# Filtrar nulos (donde nulo representa no-match)\n",
    "df_bloomin = df_business[df_business['name_match'].notnull()]\n",
    "df_bloomin.drop('name_match', axis=1, inplace=True)\n",
    "df_bloomin['name'].value_counts()"
   ]
  },
  {
   "cell_type": "code",
   "execution_count": 13,
   "metadata": {},
   "outputs": [
    {
     "data": {
      "text/plain": [
       "state\n",
       "FL    12\n",
       "PA    12\n",
       "NJ     4\n",
       "DE     2\n",
       "Name: count, dtype: int64"
      ]
     },
     "execution_count": 13,
     "metadata": {},
     "output_type": "execute_result"
    }
   ],
   "source": [
    "df_bloomin['state'].value_counts()"
   ]
  },
  {
   "cell_type": "markdown",
   "metadata": {},
   "source": [
    "#### Brinker"
   ]
  },
  {
   "cell_type": "code",
   "execution_count": 14,
   "metadata": {},
   "outputs": [
    {
     "data": {
      "text/plain": [
       "name\n",
       "Chili's                    15\n",
       "Maggiano's Little Italy     2\n",
       "It's Just Wings             1\n",
       "Name: count, dtype: int64"
      ]
     },
     "execution_count": 14,
     "metadata": {},
     "output_type": "execute_result"
    }
   ],
   "source": [
    "# Aplicar fuzzy matching para Brinker\n",
    "df_business['name_match'] = df_business['name'].apply(fuzzy_match, match_to=brands['brinker'])\n",
    "# Filtrar nulos (donde nulo representa no-match)\n",
    "df_brinker = df_business[df_business['name_match'].notnull()]\n",
    "df_brinker.drop('name_match', axis=1, inplace=True)\n",
    "df_brinker['name'].value_counts()"
   ]
  },
  {
   "cell_type": "code",
   "execution_count": 15,
   "metadata": {},
   "outputs": [
    {
     "data": {
      "text/plain": [
       "state\n",
       "PA    10\n",
       "FL     6\n",
       "DE     1\n",
       "NJ     1\n",
       "Name: count, dtype: int64"
      ]
     },
     "execution_count": 15,
     "metadata": {},
     "output_type": "execute_result"
    }
   ],
   "source": [
    "df_brinker['state'].value_counts()"
   ]
  },
  {
   "cell_type": "markdown",
   "metadata": {},
   "source": [
    "#### Texas Roadhouse"
   ]
  },
  {
   "cell_type": "code",
   "execution_count": 16,
   "metadata": {},
   "outputs": [
    {
     "data": {
      "text/plain": [
       "name\n",
       "Texas Roadhouse    6\n",
       "Name: count, dtype: int64"
      ]
     },
     "execution_count": 16,
     "metadata": {},
     "output_type": "execute_result"
    }
   ],
   "source": [
    "# Aplicar fuzzy matching para Texas Roadhouse\n",
    "df_business['name_match'] = df_business['name'].apply(fuzzy_match, match_to=brands['texasroadhouse'])\n",
    "# Filtrar nulos (donde nulo representa no-match)\n",
    "df_texasroadhouse = df_business[df_business['name_match'].notnull()]\n",
    "df_texasroadhouse.drop('name_match', axis=1, inplace=True)\n",
    "df_texasroadhouse['name'].value_counts()"
   ]
  },
  {
   "cell_type": "code",
   "execution_count": 17,
   "metadata": {},
   "outputs": [
    {
     "data": {
      "text/plain": [
       "state\n",
       "PA    3\n",
       "FL    3\n",
       "Name: count, dtype: int64"
      ]
     },
     "execution_count": 17,
     "metadata": {},
     "output_type": "execute_result"
    }
   ],
   "source": [
    "df_texasroadhouse['state'].value_counts()"
   ]
  },
  {
   "cell_type": "markdown",
   "metadata": {},
   "source": [
    "---\n",
    "### Filtro de reviews por brand"
   ]
  },
  {
   "cell_type": "code",
   "execution_count": 18,
   "metadata": {},
   "outputs": [],
   "source": [
    "business_cols = ['business_id', 'city', 'state', 'postal_code', 'coordinates']"
   ]
  },
  {
   "cell_type": "code",
   "execution_count": 19,
   "metadata": {},
   "outputs": [],
   "source": [
    "df_review['day'] = pd.to_datetime(df_review['date']).dt.day_name()"
   ]
  },
  {
   "cell_type": "markdown",
   "metadata": {},
   "source": [
    "#### Darden"
   ]
  },
  {
   "cell_type": "code",
   "execution_count": 20,
   "metadata": {},
   "outputs": [],
   "source": [
    "# Filtrar `df_review` por la col `business_id` en `df_darden`\n",
    "filtro_id = df_darden['business_id']\n",
    "# Filtrar los review\n",
    "df_darden_review = df_review[df_review['business_id'].isin(filtro_id)]\n",
    "\n",
    "# Corrigir errores de decoding de texto, columna `text`\n",
    "df_darden_review['text'] = df_darden_review['text'].apply(fix_text).replace('\\n', ' ')"
   ]
  },
  {
   "cell_type": "code",
   "execution_count": 21,
   "metadata": {},
   "outputs": [],
   "source": [
    "# Nueva columna para respuestas de reviews\n",
    "df_darden_review['text_reply'] = ''"
   ]
  },
  {
   "cell_type": "code",
   "execution_count": 22,
   "metadata": {},
   "outputs": [],
   "source": [
    "df_darden_review = pd.merge(df_darden_review, df_darden[business_cols], on='business_id', how='left')\n",
    "\n",
    "# Fijar nueva columna `name` como la primer columna del df \n",
    "nom_col = df_darden_review.pop('name')\n",
    "df_darden_review.insert(0, 'name', nom_col)"
   ]
  },
  {
   "cell_type": "code",
   "execution_count": 23,
   "metadata": {},
   "outputs": [
    {
     "data": {
      "text/plain": [
       "state\n",
       "PA    4146\n",
       "FL    2510\n",
       "NJ     497\n",
       "Name: count, dtype: int64"
      ]
     },
     "execution_count": 23,
     "metadata": {},
     "output_type": "execute_result"
    }
   ],
   "source": [
    "df_darden_review['state'].value_counts()"
   ]
  },
  {
   "cell_type": "markdown",
   "metadata": {},
   "source": [
    "#### Bloomin'"
   ]
  },
  {
   "cell_type": "code",
   "execution_count": 24,
   "metadata": {},
   "outputs": [
    {
     "data": {
      "text/html": [
       "<div>\n",
       "<style scoped>\n",
       "    .dataframe tbody tr th:only-of-type {\n",
       "        vertical-align: middle;\n",
       "    }\n",
       "\n",
       "    .dataframe tbody tr th {\n",
       "        vertical-align: top;\n",
       "    }\n",
       "\n",
       "    .dataframe thead th {\n",
       "        text-align: right;\n",
       "    }\n",
       "</style>\n",
       "<table border=\"1\" class=\"dataframe\">\n",
       "  <thead>\n",
       "    <tr style=\"text-align: right;\">\n",
       "      <th></th>\n",
       "      <th>name</th>\n",
       "      <th>review_id</th>\n",
       "      <th>user_id</th>\n",
       "      <th>business_id</th>\n",
       "      <th>stars</th>\n",
       "      <th>useful</th>\n",
       "      <th>funny</th>\n",
       "      <th>cool</th>\n",
       "      <th>text</th>\n",
       "      <th>date</th>\n",
       "      <th>day</th>\n",
       "    </tr>\n",
       "  </thead>\n",
       "  <tbody>\n",
       "    <tr>\n",
       "      <th>511162</th>\n",
       "      <td>Bonefish Grill</td>\n",
       "      <td>iiyKxb2TJB8rVdUyGAxsRg</td>\n",
       "      <td>rwvss28DqeYfn1B_SAY2pg</td>\n",
       "      <td>Kg4Yx0vIsnYs1XPcX9kB9g</td>\n",
       "      <td>2.0</td>\n",
       "      <td>2</td>\n",
       "      <td>0</td>\n",
       "      <td>0</td>\n",
       "      <td>Been here many times and have enjoyed it. This...</td>\n",
       "      <td>2018-08-12</td>\n",
       "      <td>Sunday</td>\n",
       "    </tr>\n",
       "  </tbody>\n",
       "</table>\n",
       "</div>"
      ],
      "text/plain": [
       "                  name               review_id                 user_id  \\\n",
       "511162  Bonefish Grill  iiyKxb2TJB8rVdUyGAxsRg  rwvss28DqeYfn1B_SAY2pg   \n",
       "\n",
       "                   business_id  stars  useful  funny  cool  \\\n",
       "511162  Kg4Yx0vIsnYs1XPcX9kB9g    2.0       2      0     0   \n",
       "\n",
       "                                                     text        date     day  \n",
       "511162  Been here many times and have enjoyed it. This...  2018-08-12  Sunday  "
      ]
     },
     "execution_count": 24,
     "metadata": {},
     "output_type": "execute_result"
    }
   ],
   "source": [
    "# Filtrar `df_review` por la col `business_id` en `df_bloomin`\n",
    "filtro_id = df_bloomin['business_id']\n",
    "# Filtrar los review\n",
    "df_bloomin_review = df_review[df_review['business_id'].isin(filtro_id)]\n",
    "\n",
    "# Corrigir errores de decoding de texto, columna `text`\n",
    "df_bloomin_review['text'] = df_bloomin_review['text'].apply(fix_text).replace('\\n', ' ')\n",
    "df_bloomin_review.sample(1)"
   ]
  },
  {
   "cell_type": "code",
   "execution_count": 25,
   "metadata": {},
   "outputs": [],
   "source": [
    "df_bloomin_review = pd.merge(df_bloomin_review, df_bloomin[business_cols], on='business_id', how='left')\n",
    "\n",
    "# Fijar nueva columna `name` como la primer columna del df \n",
    "nom_col = df_bloomin_review.pop('name')\n",
    "df_bloomin_review.insert(0, 'name', nom_col)"
   ]
  },
  {
   "cell_type": "markdown",
   "metadata": {},
   "source": [
    "#### Brinker"
   ]
  },
  {
   "cell_type": "code",
   "execution_count": 26,
   "metadata": {},
   "outputs": [
    {
     "data": {
      "text/html": [
       "<div>\n",
       "<style scoped>\n",
       "    .dataframe tbody tr th:only-of-type {\n",
       "        vertical-align: middle;\n",
       "    }\n",
       "\n",
       "    .dataframe tbody tr th {\n",
       "        vertical-align: top;\n",
       "    }\n",
       "\n",
       "    .dataframe thead th {\n",
       "        text-align: right;\n",
       "    }\n",
       "</style>\n",
       "<table border=\"1\" class=\"dataframe\">\n",
       "  <thead>\n",
       "    <tr style=\"text-align: right;\">\n",
       "      <th></th>\n",
       "      <th>name</th>\n",
       "      <th>review_id</th>\n",
       "      <th>user_id</th>\n",
       "      <th>business_id</th>\n",
       "      <th>stars</th>\n",
       "      <th>useful</th>\n",
       "      <th>funny</th>\n",
       "      <th>cool</th>\n",
       "      <th>text</th>\n",
       "      <th>date</th>\n",
       "      <th>day</th>\n",
       "    </tr>\n",
       "  </thead>\n",
       "  <tbody>\n",
       "    <tr>\n",
       "      <th>266470</th>\n",
       "      <td>Chili's</td>\n",
       "      <td>EBUCAMs7qTtyrqKbaEStFQ</td>\n",
       "      <td>nXC-HeRjTb-Arz_0PWGJ8w</td>\n",
       "      <td>yxQs5gSf0-8cEd6YMgSjbw</td>\n",
       "      <td>1.0</td>\n",
       "      <td>0</td>\n",
       "      <td>0</td>\n",
       "      <td>0</td>\n",
       "      <td>I've never been the biggest fan of this locati...</td>\n",
       "      <td>2020-10-25</td>\n",
       "      <td>Sunday</td>\n",
       "    </tr>\n",
       "  </tbody>\n",
       "</table>\n",
       "</div>"
      ],
      "text/plain": [
       "           name               review_id                 user_id  \\\n",
       "266470  Chili's  EBUCAMs7qTtyrqKbaEStFQ  nXC-HeRjTb-Arz_0PWGJ8w   \n",
       "\n",
       "                   business_id  stars  useful  funny  cool  \\\n",
       "266470  yxQs5gSf0-8cEd6YMgSjbw    1.0       0      0     0   \n",
       "\n",
       "                                                     text        date     day  \n",
       "266470  I've never been the biggest fan of this locati...  2020-10-25  Sunday  "
      ]
     },
     "execution_count": 26,
     "metadata": {},
     "output_type": "execute_result"
    }
   ],
   "source": [
    "# Filtrar `df_review` por la col `business_id` en `df_brinker`\n",
    "filtro_id = df_brinker['business_id']\n",
    "# Filtrar los review\n",
    "df_brinker_review = df_review[df_review['business_id'].isin(filtro_id)]\n",
    "\n",
    "# Corrigir errores de decoding de texto, columna `text`\n",
    "df_brinker_review['text'] = df_brinker_review['text'].apply(fix_text).replace('\\n', ' ')\n",
    "df_brinker_review.sample()"
   ]
  },
  {
   "cell_type": "code",
   "execution_count": 27,
   "metadata": {},
   "outputs": [],
   "source": [
    "df_brinker_review = pd.merge(df_brinker_review, df_brinker[business_cols], on='business_id', how='left')\n",
    "\n",
    "# Fijar nueva columna `name` como la primer columna del df \n",
    "nom_col = df_brinker_review.pop('name')\n",
    "df_brinker_review.insert(0, 'name', nom_col)"
   ]
  },
  {
   "cell_type": "markdown",
   "metadata": {},
   "source": [
    "#### Texas Roadhouse"
   ]
  },
  {
   "cell_type": "code",
   "execution_count": 28,
   "metadata": {},
   "outputs": [
    {
     "data": {
      "text/html": [
       "<div>\n",
       "<style scoped>\n",
       "    .dataframe tbody tr th:only-of-type {\n",
       "        vertical-align: middle;\n",
       "    }\n",
       "\n",
       "    .dataframe tbody tr th {\n",
       "        vertical-align: top;\n",
       "    }\n",
       "\n",
       "    .dataframe thead th {\n",
       "        text-align: right;\n",
       "    }\n",
       "</style>\n",
       "<table border=\"1\" class=\"dataframe\">\n",
       "  <thead>\n",
       "    <tr style=\"text-align: right;\">\n",
       "      <th></th>\n",
       "      <th>name</th>\n",
       "      <th>review_id</th>\n",
       "      <th>user_id</th>\n",
       "      <th>business_id</th>\n",
       "      <th>stars</th>\n",
       "      <th>useful</th>\n",
       "      <th>funny</th>\n",
       "      <th>cool</th>\n",
       "      <th>text</th>\n",
       "      <th>date</th>\n",
       "      <th>day</th>\n",
       "    </tr>\n",
       "  </thead>\n",
       "  <tbody>\n",
       "    <tr>\n",
       "      <th>488540</th>\n",
       "      <td>Texas Roadhouse</td>\n",
       "      <td>eYk8ZjasF0drPGNlaX1dPg</td>\n",
       "      <td>Ft84jrBm0pdkujp_1Ffp-g</td>\n",
       "      <td>AEgMDoFmikKJv3wYYKlseA</td>\n",
       "      <td>3.0</td>\n",
       "      <td>0</td>\n",
       "      <td>0</td>\n",
       "      <td>0</td>\n",
       "      <td>A little uneven, but acceptable by chain resta...</td>\n",
       "      <td>2015-11-04</td>\n",
       "      <td>Wednesday</td>\n",
       "    </tr>\n",
       "  </tbody>\n",
       "</table>\n",
       "</div>"
      ],
      "text/plain": [
       "                   name               review_id                 user_id  \\\n",
       "488540  Texas Roadhouse  eYk8ZjasF0drPGNlaX1dPg  Ft84jrBm0pdkujp_1Ffp-g   \n",
       "\n",
       "                   business_id  stars  useful  funny  cool  \\\n",
       "488540  AEgMDoFmikKJv3wYYKlseA    3.0       0      0     0   \n",
       "\n",
       "                                                     text        date  \\\n",
       "488540  A little uneven, but acceptable by chain resta...  2015-11-04   \n",
       "\n",
       "              day  \n",
       "488540  Wednesday  "
      ]
     },
     "execution_count": 28,
     "metadata": {},
     "output_type": "execute_result"
    }
   ],
   "source": [
    "# Filtrar `df_review` por la col `business_id` en `df_texasroadhouse`\n",
    "filtro_id = df_texasroadhouse['business_id']\n",
    "# Filtrar los review\n",
    "df_texasroadhouse_review = df_review[df_review['business_id'].isin(filtro_id)]\n",
    "\n",
    "# Corrigir errores de decoding de texto, columna `text`\n",
    "df_texasroadhouse_review['text'] = df_texasroadhouse_review['text'].apply(fix_text).replace('\\n', ' ')\n",
    "df_texasroadhouse_review.sample()"
   ]
  },
  {
   "cell_type": "code",
   "execution_count": 29,
   "metadata": {},
   "outputs": [],
   "source": [
    "df_texasroadhouse_review = pd.merge(df_texasroadhouse_review, df_texasroadhouse[business_cols], on='business_id', how='left')\n",
    "\n",
    "# Fijar nueva columna `name` como la primer columna del df \n",
    "nom_col = df_texasroadhouse_review.pop('name')\n",
    "df_texasroadhouse_review.insert(0, 'name', nom_col)"
   ]
  },
  {
   "cell_type": "markdown",
   "metadata": {},
   "source": [
    "#### Resumen y exportacion de filtros aplicados"
   ]
  },
  {
   "cell_type": "code",
   "execution_count": 30,
   "metadata": {},
   "outputs": [
    {
     "name": "stdout",
     "output_type": "stream",
     "text": [
      "Cantidad de Reviews\n",
      "Darden: 7153\n",
      "Bloomin': 4230\n",
      "Brinker: 2422\n",
      "Texas RH: 1265\n"
     ]
    }
   ],
   "source": [
    "print(\n",
    "    \"Cantidad de Reviews\\n\"\n",
    "    f\"Darden: {df_darden_review.shape[0]}\\n\"\n",
    "    f\"Bloomin': {df_bloomin_review.shape[0]}\\n\"\n",
    "    f\"Brinker: {df_brinker_review.shape[0]}\\n\"\n",
    "    f\"Texas RH: {df_texasroadhouse_review.shape[0]}\"\n",
    ")"
   ]
  },
  {
   "cell_type": "markdown",
   "metadata": {},
   "source": [
    "---"
   ]
  },
  {
   "cell_type": "code",
   "execution_count": 31,
   "metadata": {},
   "outputs": [],
   "source": [
    "dfs = [\n",
    "    ['darden', df_darden_review],\n",
    "    ['bloomin', df_bloomin_review],\n",
    "    ['brinker', df_brinker_review],\n",
    "    ['texasroadhouse', df_texasroadhouse_review]\n",
    "]\n",
    "\n",
    "drop_cols = ['useful','funny','cool']\n",
    "\n",
    "for _, df in dfs:\n",
    "    df.drop(columns=drop_cols, inplace=True)"
   ]
  },
  {
   "cell_type": "code",
   "execution_count": 32,
   "metadata": {},
   "outputs": [],
   "source": [
    "df_darden_review.sample(10).to_csv('reviews_----.csv')"
   ]
  },
  {
   "cell_type": "markdown",
   "metadata": {},
   "source": [
    "## Almacenar a disco"
   ]
  },
  {
   "cell_type": "code",
   "execution_count": 33,
   "metadata": {},
   "outputs": [],
   "source": [
    "#for nom, df in dfs:\n",
    "#    df.to_parquet(f'reviews_{nom}.parquet')"
   ]
  }
 ],
 "metadata": {
  "kernelspec": {
   "display_name": "base",
   "language": "python",
   "name": "python3"
  },
  "language_info": {
   "codemirror_mode": {
    "name": "ipython",
    "version": 3
   },
   "file_extension": ".py",
   "mimetype": "text/x-python",
   "name": "python",
   "nbconvert_exporter": "python",
   "pygments_lexer": "ipython3",
   "version": "3.10.12"
  }
 },
 "nbformat": 4,
 "nbformat_minor": 2
}
