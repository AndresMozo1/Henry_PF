{
 "cells": [
  {
   "cell_type": "code",
   "execution_count": 1,
   "metadata": {},
   "outputs": [],
   "source": [
    "import warnings\n",
    "import pandas as pd"
   ]
  },
  {
   "cell_type": "code",
   "execution_count": 2,
   "metadata": {},
   "outputs": [],
   "source": [
    "from ftfy import fix_text\n",
    "from rapidfuzz import process, fuzz"
   ]
  },
  {
   "cell_type": "code",
   "execution_count": 3,
   "metadata": {},
   "outputs": [],
   "source": [
    "warnings.filterwarnings('ignore')"
   ]
  },
  {
   "cell_type": "code",
   "execution_count": 4,
   "metadata": {},
   "outputs": [],
   "source": [
    "# Opción que deshabilita el limite de columnas y filas mostradas\n",
    "pd.set_option('display.max_columns', None)\n",
    "#pd.set_option('display.max_rows', None)"
   ]
  },
  {
   "cell_type": "markdown",
   "metadata": {},
   "source": [
    "---\n",
    "## Carga data"
   ]
  },
  {
   "cell_type": "code",
   "execution_count": 5,
   "metadata": {},
   "outputs": [],
   "source": [
    "# Path de los archivos no-procesados (formato parquet)\n",
    "path_data = '../../data'\n",
    "df_business = pd.read_parquet(f'{path_data}/y_business_CLEAN.parquet')\n",
    "df_review = pd.read_parquet(f'{path_data}/y_review_CLEAN.parquet')"
   ]
  },
  {
   "cell_type": "markdown",
   "metadata": {},
   "source": [
    "---\n",
    "---\n",
    "## Análisis Exploratorio"
   ]
  },
  {
   "cell_type": "markdown",
   "metadata": {},
   "source": [
    "### Setup"
   ]
  },
  {
   "cell_type": "markdown",
   "metadata": {},
   "source": [
    "#### Dict target"
   ]
  },
  {
   "cell_type": "code",
   "execution_count": 7,
   "metadata": {},
   "outputs": [],
   "source": [
    "# Diccionario de marcas de Darden y competidores\n",
    "brands = {\n",
    "    # Darden brands\n",
    "    'darden': [\n",
    "        \"Olive Garden\",\n",
    "        \"LongHorn Steakhouse\",\n",
    "        \"Cheddar's Scratch Kitchen\",\n",
    "        \"Yard House\",\n",
    "        \"The Capital Grille\",   ####\n",
    "        \"Seasons 52\",\n",
    "        \"Bahama Breeze\",\n",
    "        \"Eddie V's\",  ####\n",
    "        \"Ruth's Chris Steak House\"\n",
    "    ],\n",
    "    # Bloomin brands\n",
    "    'bloomin': [\n",
    "        \"Outback Steakhouse\",\n",
    "        \"Carrabba's Italian Grill\",\n",
    "        \"Bonefish Grill\",\n",
    "        \"Fleming's Prime Steakhouse & Wine Bar\",\n",
    "        \"Aussie Grill\"\n",
    "    ],\n",
    "    # Brinker brands\n",
    "    'brinker': [\n",
    "        \"Chili's Grill & Bar\",\n",
    "        \"Maggiano's Little Italy\",\n",
    "        \"It's Just Wings\"\n",
    "    ],\n",
    "    # Texas Roadhouse brands\n",
    "    'texasroadhouse': [\n",
    "        \"Texas Roadhouse\",\n",
    "        \"Bubba's 33\",\n",
    "        #\"Jaggers\"  # Fast food, excluir?   ####\n",
    "    ]\n",
    "}"
   ]
  },
  {
   "cell_type": "markdown",
   "metadata": {},
   "source": [
    "### Filtro de brands"
   ]
  },
  {
   "cell_type": "code",
   "execution_count": 8,
   "metadata": {},
   "outputs": [],
   "source": [
    "# Corrigir errores de decoding de texto, columna `name`\n",
    "df_business['name'] = df_business['name'].apply(fix_text)"
   ]
  },
  {
   "cell_type": "code",
   "execution_count": 9,
   "metadata": {},
   "outputs": [],
   "source": [
    "# Funcion que implementa busqueda 'fuzzy' en textos\n",
    "def fuzzy_match(x, match_to, threshold=90):\n",
    "    match, score, _ = process.extractOne(x, match_to, scorer=fuzz.WRatio)\n",
    "    return match if score >= threshold else None"
   ]
  },
  {
   "cell_type": "markdown",
   "metadata": {},
   "source": [
    "#### Darden"
   ]
  },
  {
   "cell_type": "code",
   "execution_count": 10,
   "metadata": {},
   "outputs": [
    {
     "data": {
      "text/plain": [
       "name\n",
       "Olive Garden Italian Restaurant    10\n",
       "LongHorn Steakhouse                 9\n",
       "Cheddar's Scratch Kitchen           3\n",
       "Ruth's Chris Steak House            3\n",
       "Bahama Breeze                       2\n",
       "Seasons 52                          2\n",
       "Yard House                          1\n",
       "Name: count, dtype: int64"
      ]
     },
     "execution_count": 10,
     "metadata": {},
     "output_type": "execute_result"
    }
   ],
   "source": [
    "# Aplicar fuzzy matching para Darden\n",
    "df_business['name_match'] = df_business['name'].apply(fuzzy_match, match_to=brands['darden'])\n",
    "# Filtrar nulos (donde nulo representa no-match)\n",
    "df_darden = df_business[df_business['name_match'].notnull()]\n",
    "df_darden['name'].value_counts()"
   ]
  },
  {
   "cell_type": "markdown",
   "metadata": {},
   "source": [
    "#### Bloomin'"
   ]
  },
  {
   "cell_type": "code",
   "execution_count": 11,
   "metadata": {},
   "outputs": [
    {
     "data": {
      "text/plain": [
       "name\n",
       "Outback Steakhouse                       13\n",
       "Bonefish Grill                            7\n",
       "Carrabba's Italian Grill                  4\n",
       "Fleming's Prime Steakhouse & Wine Bar     3\n",
       "Aussie Grill - Brandon                    1\n",
       "Name: count, dtype: int64"
      ]
     },
     "execution_count": 11,
     "metadata": {},
     "output_type": "execute_result"
    }
   ],
   "source": [
    "# Aplicar fuzzy matching para Bloomin\n",
    "df_business['name_match'] = df_business['name'].apply(fuzzy_match, match_to=brands['bloomin'])\n",
    "# Filtrar nulos (donde nulo representa no-match)\n",
    "df_bloomin = df_business[df_business['name_match'].notnull()]\n",
    "df_bloomin['name'].value_counts()"
   ]
  },
  {
   "cell_type": "markdown",
   "metadata": {},
   "source": [
    "#### Brinker"
   ]
  },
  {
   "cell_type": "code",
   "execution_count": 12,
   "metadata": {},
   "outputs": [
    {
     "data": {
      "text/plain": [
       "name\n",
       "Chili's                    20\n",
       "Maggiano's Little Italy     3\n",
       "It's Just Wings             1\n",
       "Chili's Grill & Bar         1\n",
       "Name: count, dtype: int64"
      ]
     },
     "execution_count": 12,
     "metadata": {},
     "output_type": "execute_result"
    }
   ],
   "source": [
    "# Aplicar fuzzy matching para Brinker\n",
    "df_business['name_match'] = df_business['name'].apply(fuzzy_match, match_to=brands['brinker'])\n",
    "# Filtrar nulos (donde nulo representa no-match)\n",
    "df_brinker = df_business[df_business['name_match'].notnull()]\n",
    "df_brinker['name'].value_counts()"
   ]
  },
  {
   "cell_type": "markdown",
   "metadata": {},
   "source": [
    "#### Texas Roadhouse"
   ]
  },
  {
   "cell_type": "code",
   "execution_count": 13,
   "metadata": {},
   "outputs": [
    {
     "data": {
      "text/plain": [
       "name\n",
       "Texas Roadhouse    6\n",
       "Bubba's 33         1\n",
       "Name: count, dtype: int64"
      ]
     },
     "execution_count": 13,
     "metadata": {},
     "output_type": "execute_result"
    }
   ],
   "source": [
    "# Aplicar fuzzy matching para Texas Roadhouse\n",
    "df_business['name_match'] = df_business['name'].apply(fuzzy_match, match_to=brands['texasroadhouse'])\n",
    "# Filtrar nulos (donde nulo representa no-match)\n",
    "df_texasroadhouse = df_business[df_business['name_match'].notnull()]\n",
    "df_texasroadhouse['name'].value_counts()"
   ]
  },
  {
   "cell_type": "markdown",
   "metadata": {},
   "source": [
    "---\n",
    "### Filtro de reviews por brand"
   ]
  },
  {
   "cell_type": "markdown",
   "metadata": {},
   "source": [
    "#### Darden"
   ]
  },
  {
   "cell_type": "code",
   "execution_count": 14,
   "metadata": {},
   "outputs": [
    {
     "data": {
      "text/plain": [
       "(6365, 8)"
      ]
     },
     "execution_count": 14,
     "metadata": {},
     "output_type": "execute_result"
    }
   ],
   "source": [
    "# Filtrar `df_review` por la col `business_id` en `df_darden`\n",
    "filtro_id = df_darden['business_id']\n",
    "# Filtrar los review\n",
    "df_darden_review = df_review[df_review['business_id'].isin(filtro_id)]\n",
    "df_darden_review.shape"
   ]
  },
  {
   "cell_type": "code",
   "execution_count": 15,
   "metadata": {},
   "outputs": [],
   "source": [
    "# Corrigir errores de decoding de texto, columna `text`\n",
    "df_darden_review['text'] = df_darden_review['text'].apply(fix_text)"
   ]
  },
  {
   "cell_type": "code",
   "execution_count": 16,
   "metadata": {},
   "outputs": [],
   "source": [
    "df_darden_review = pd.merge(df_darden_review, df_darden[['business_id', 'name']], on='business_id', how='left')\n",
    "\n",
    "# Fijar nueva columna `name` como la primer columna del df \n",
    "nom_col = df_darden_review.pop('name')\n",
    "df_darden_review.insert(0, 'name', nom_col)"
   ]
  },
  {
   "cell_type": "markdown",
   "metadata": {},
   "source": [
    "#### Bloomin'"
   ]
  },
  {
   "cell_type": "code",
   "execution_count": 18,
   "metadata": {},
   "outputs": [
    {
     "data": {
      "text/plain": [
       "(4772, 8)"
      ]
     },
     "execution_count": 18,
     "metadata": {},
     "output_type": "execute_result"
    }
   ],
   "source": [
    "# Filtrar `df_review` por la col `business_id` en `df_bloomin`\n",
    "filtro_id = df_bloomin['business_id']\n",
    "# Filtrar los review\n",
    "df_bloomin_review = df_review[df_review['business_id'].isin(filtro_id)]\n",
    "df_bloomin_review.shape"
   ]
  },
  {
   "cell_type": "code",
   "execution_count": 19,
   "metadata": {},
   "outputs": [],
   "source": [
    "# Corrigir errores de decoding de texto, columna `text`\n",
    "df_bloomin_review['text'] = df_bloomin_review['text'].apply(fix_text)"
   ]
  },
  {
   "cell_type": "code",
   "execution_count": 20,
   "metadata": {},
   "outputs": [],
   "source": [
    "df_bloomin_review = pd.merge(df_bloomin_review, df_bloomin[['business_id', 'name']], on='business_id', how='left')\n",
    "\n",
    "# Fijar nueva columna `name` como la primer columna del df \n",
    "nom_col = df_bloomin_review.pop('name')\n",
    "df_bloomin_review.insert(0, 'name', nom_col)"
   ]
  },
  {
   "cell_type": "markdown",
   "metadata": {},
   "source": [
    "#### Brinker"
   ]
  },
  {
   "cell_type": "code",
   "execution_count": 21,
   "metadata": {},
   "outputs": [
    {
     "data": {
      "text/plain": [
       "(3209, 8)"
      ]
     },
     "execution_count": 21,
     "metadata": {},
     "output_type": "execute_result"
    }
   ],
   "source": [
    "# Filtrar `df_review` por la col `business_id` en `df_brinker`\n",
    "filtro_id = df_brinker['business_id']\n",
    "# Filtrar los review\n",
    "df_brinker_review = df_review[df_review['business_id'].isin(filtro_id)]\n",
    "df_brinker_review.shape"
   ]
  },
  {
   "cell_type": "code",
   "execution_count": 22,
   "metadata": {},
   "outputs": [],
   "source": [
    "# Corrigir errores de decoding de texto, columna `text`\n",
    "df_brinker_review['text'] = df_brinker_review['text'].apply(fix_text)"
   ]
  },
  {
   "cell_type": "code",
   "execution_count": 23,
   "metadata": {},
   "outputs": [],
   "source": [
    "df_brinker_review = pd.merge(df_brinker_review, df_brinker[['business_id', 'name']], on='business_id', how='left')\n",
    "\n",
    "# Fijar nueva columna `name` como la primer columna del df \n",
    "nom_col = df_brinker_review.pop('name')\n",
    "df_brinker_review.insert(0, 'name', nom_col)"
   ]
  },
  {
   "cell_type": "markdown",
   "metadata": {},
   "source": [
    "#### Texas Roadhouse"
   ]
  },
  {
   "cell_type": "code",
   "execution_count": 24,
   "metadata": {},
   "outputs": [
    {
     "data": {
      "text/plain": [
       "(1372, 8)"
      ]
     },
     "execution_count": 24,
     "metadata": {},
     "output_type": "execute_result"
    }
   ],
   "source": [
    "# Filtrar `df_review` por la col `business_id` en `df_texasroadhouse`\n",
    "filtro_id = df_texasroadhouse['business_id']\n",
    "# Filtrar los review\n",
    "df_texasroadhouse_review = df_review[df_review['business_id'].isin(filtro_id)]\n",
    "df_texasroadhouse_review.shape"
   ]
  },
  {
   "cell_type": "code",
   "execution_count": 25,
   "metadata": {},
   "outputs": [],
   "source": [
    "# Corrigir errores de decoding de texto, columna `text`\n",
    "df_texasroadhouse_review['text'] = df_texasroadhouse_review['text'].apply(fix_text)"
   ]
  },
  {
   "cell_type": "code",
   "execution_count": 26,
   "metadata": {},
   "outputs": [],
   "source": [
    "df_texasroadhouse_review = pd.merge(df_texasroadhouse_review, df_texasroadhouse[['business_id', 'name']], on='business_id', how='left')\n",
    "\n",
    "# Fijar nueva columna `name` como la primer columna del df \n",
    "nom_col = df_texasroadhouse_review.pop('name')\n",
    "df_texasroadhouse_review.insert(0, 'name', nom_col)"
   ]
  },
  {
   "cell_type": "markdown",
   "metadata": {},
   "source": [
    "#### Resumen y exportacion de filtros aplicados"
   ]
  },
  {
   "cell_type": "code",
   "execution_count": 27,
   "metadata": {},
   "outputs": [
    {
     "name": "stdout",
     "output_type": "stream",
     "text": [
      "Cantidad de Reviews\n",
      "Darden: 6365\n",
      "Bloomin': 4772\n",
      "Brinker: 3209\n",
      "Texas RH: 1372\n"
     ]
    }
   ],
   "source": [
    "print(\n",
    "    \"Cantidad de Reviews\\n\"\n",
    "    f\"Darden: {df_darden_review.shape[0]}\\n\"\n",
    "    f\"Bloomin': {df_bloomin_review.shape[0]}\\n\"\n",
    "    f\"Brinker: {df_brinker_review.shape[0]}\\n\"\n",
    "    f\"Texas RH: {df_texasroadhouse_review.shape[0]}\"\n",
    ")"
   ]
  },
  {
   "cell_type": "code",
   "execution_count": 28,
   "metadata": {},
   "outputs": [],
   "source": [
    "df_darden_review.to_csv('y_darden_review.csv')\n",
    "df_bloomin_review.to_csv('y_bloomin_review.csv')\n",
    "df_brinker_review.to_csv('y_brinker_review.csv')\n",
    "df_texasroadhouse_review.to_csv('y_texasroadhouse_review.csv')"
   ]
  }
 ],
 "metadata": {
  "kernelspec": {
   "display_name": "base",
   "language": "python",
   "name": "python3"
  },
  "language_info": {
   "codemirror_mode": {
    "name": "ipython",
    "version": 3
   },
   "file_extension": ".py",
   "mimetype": "text/x-python",
   "name": "python",
   "nbconvert_exporter": "python",
   "pygments_lexer": "ipython3",
   "version": "3.12.2"
  }
 },
 "nbformat": 4,
 "nbformat_minor": 2
}
