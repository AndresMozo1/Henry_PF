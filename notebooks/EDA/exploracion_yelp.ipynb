{
 "cells": [
  {
   "cell_type": "code",
   "execution_count": 1,
   "metadata": {},
   "outputs": [],
   "source": [
    "from glob import glob\n",
    "import pandas as pd"
   ]
  },
  {
   "cell_type": "code",
   "execution_count": 2,
   "metadata": {},
   "outputs": [],
   "source": [
    "# Opción que deshabilita el limite de columnas y filas mostradas\n",
    "pd.set_option('display.max_columns', None)\n",
    "pd.set_option('display.max_rows', None)"
   ]
  },
  {
   "cell_type": "code",
   "execution_count": 3,
   "metadata": {},
   "outputs": [],
   "source": [
    "# Path de los archivos no-procesados (formato parquet)\n",
    "path_data = '../data/raw'"
   ]
  },
  {
   "cell_type": "code",
   "execution_count": 4,
   "metadata": {},
   "outputs": [],
   "source": [
    "df_business = pd.read_parquet(f'{path_data}/y-business.parquet')"
   ]
  },
  {
   "cell_type": "code",
   "execution_count": 5,
   "metadata": {},
   "outputs": [
    {
     "data": {
      "text/plain": [
       "(150351, 14)"
      ]
     },
     "execution_count": 5,
     "metadata": {},
     "output_type": "execute_result"
    }
   ],
   "source": [
    "df_business.shape"
   ]
  },
  {
   "cell_type": "code",
   "execution_count": 19,
   "metadata": {},
   "outputs": [
    {
     "data": {
      "text/html": [
       "<div>\n",
       "<style scoped>\n",
       "    .dataframe tbody tr th:only-of-type {\n",
       "        vertical-align: middle;\n",
       "    }\n",
       "\n",
       "    .dataframe tbody tr th {\n",
       "        vertical-align: top;\n",
       "    }\n",
       "\n",
       "    .dataframe thead th {\n",
       "        text-align: right;\n",
       "    }\n",
       "</style>\n",
       "<table border=\"1\" class=\"dataframe\">\n",
       "  <thead>\n",
       "    <tr style=\"text-align: right;\">\n",
       "      <th></th>\n",
       "      <th>business_id</th>\n",
       "      <th>name</th>\n",
       "      <th>address</th>\n",
       "      <th>city</th>\n",
       "      <th>state</th>\n",
       "      <th>postal_code</th>\n",
       "      <th>latitude</th>\n",
       "      <th>longitude</th>\n",
       "      <th>stars</th>\n",
       "      <th>review_count</th>\n",
       "      <th>is_open</th>\n",
       "      <th>attributes</th>\n",
       "      <th>categories</th>\n",
       "      <th>hours</th>\n",
       "    </tr>\n",
       "  </thead>\n",
       "  <tbody>\n",
       "    <tr>\n",
       "      <th>0</th>\n",
       "      <td>Pns2l4eNsfO8kk83dixA6A</td>\n",
       "      <td>Abby Rappoport, LAC, CMQ</td>\n",
       "      <td>1616 Chapala St, Ste 2</td>\n",
       "      <td>Santa Barbara</td>\n",
       "      <td>None</td>\n",
       "      <td>93101</td>\n",
       "      <td>34.426679</td>\n",
       "      <td>-119.711197</td>\n",
       "      <td>5.0</td>\n",
       "      <td>7</td>\n",
       "      <td>0</td>\n",
       "      <td>{'AcceptsInsurance': None, 'AgesAllowed': None...</td>\n",
       "      <td>Doctors, Traditional Chinese Medicine, Naturop...</td>\n",
       "      <td>None</td>\n",
       "    </tr>\n",
       "    <tr>\n",
       "      <th>1</th>\n",
       "      <td>mpf3x-BjTdTEA3yCZrAYPw</td>\n",
       "      <td>The UPS Store</td>\n",
       "      <td>87 Grasso Plaza Shopping Center</td>\n",
       "      <td>Affton</td>\n",
       "      <td>None</td>\n",
       "      <td>63123</td>\n",
       "      <td>38.551126</td>\n",
       "      <td>-90.335695</td>\n",
       "      <td>3.0</td>\n",
       "      <td>15</td>\n",
       "      <td>1</td>\n",
       "      <td>{'AcceptsInsurance': None, 'AgesAllowed': None...</td>\n",
       "      <td>Shipping Centers, Local Services, Notaries, Ma...</td>\n",
       "      <td>{'Friday': '8:0-18:30', 'Monday': '0:0-0:0', '...</td>\n",
       "    </tr>\n",
       "    <tr>\n",
       "      <th>2</th>\n",
       "      <td>tUFrWirKiKi_TAnsVWINQQ</td>\n",
       "      <td>Target</td>\n",
       "      <td>5255 E Broadway Blvd</td>\n",
       "      <td>Tucson</td>\n",
       "      <td>None</td>\n",
       "      <td>85711</td>\n",
       "      <td>32.223236</td>\n",
       "      <td>-110.880452</td>\n",
       "      <td>3.5</td>\n",
       "      <td>22</td>\n",
       "      <td>0</td>\n",
       "      <td>{'AcceptsInsurance': None, 'AgesAllowed': None...</td>\n",
       "      <td>Department Stores, Shopping, Fashion, Home &amp; G...</td>\n",
       "      <td>{'Friday': '8:0-23:0', 'Monday': '8:0-22:0', '...</td>\n",
       "    </tr>\n",
       "    <tr>\n",
       "      <th>3</th>\n",
       "      <td>MTSW4McQd7CbVtyjqoe9mw</td>\n",
       "      <td>St Honore Pastries</td>\n",
       "      <td>935 Race St</td>\n",
       "      <td>Philadelphia</td>\n",
       "      <td>CA</td>\n",
       "      <td>19107</td>\n",
       "      <td>39.955505</td>\n",
       "      <td>-75.155564</td>\n",
       "      <td>4.0</td>\n",
       "      <td>80</td>\n",
       "      <td>1</td>\n",
       "      <td>{'AcceptsInsurance': None, 'AgesAllowed': None...</td>\n",
       "      <td>Restaurants, Food, Bubble Tea, Coffee &amp; Tea, B...</td>\n",
       "      <td>{'Friday': '7:0-21:0', 'Monday': '7:0-20:0', '...</td>\n",
       "    </tr>\n",
       "    <tr>\n",
       "      <th>4</th>\n",
       "      <td>mWMc6_wTdE0EUBKIGXDVfA</td>\n",
       "      <td>Perkiomen Valley Brewery</td>\n",
       "      <td>101 Walnut St</td>\n",
       "      <td>Green Lane</td>\n",
       "      <td>MO</td>\n",
       "      <td>18054</td>\n",
       "      <td>40.338183</td>\n",
       "      <td>-75.471659</td>\n",
       "      <td>4.5</td>\n",
       "      <td>13</td>\n",
       "      <td>1</td>\n",
       "      <td>{'AcceptsInsurance': None, 'AgesAllowed': None...</td>\n",
       "      <td>Brewpubs, Breweries, Food</td>\n",
       "      <td>{'Friday': '12:0-22:0', 'Monday': None, 'Satur...</td>\n",
       "    </tr>\n",
       "  </tbody>\n",
       "</table>\n",
       "</div>"
      ],
      "text/plain": [
       "              business_id                      name  \\\n",
       "0  Pns2l4eNsfO8kk83dixA6A  Abby Rappoport, LAC, CMQ   \n",
       "1  mpf3x-BjTdTEA3yCZrAYPw             The UPS Store   \n",
       "2  tUFrWirKiKi_TAnsVWINQQ                    Target   \n",
       "3  MTSW4McQd7CbVtyjqoe9mw        St Honore Pastries   \n",
       "4  mWMc6_wTdE0EUBKIGXDVfA  Perkiomen Valley Brewery   \n",
       "\n",
       "                           address           city state postal_code  \\\n",
       "0           1616 Chapala St, Ste 2  Santa Barbara  None       93101   \n",
       "1  87 Grasso Plaza Shopping Center         Affton  None       63123   \n",
       "2             5255 E Broadway Blvd         Tucson  None       85711   \n",
       "3                      935 Race St   Philadelphia    CA       19107   \n",
       "4                    101 Walnut St     Green Lane    MO       18054   \n",
       "\n",
       "    latitude   longitude  stars  review_count  is_open  \\\n",
       "0  34.426679 -119.711197    5.0             7        0   \n",
       "1  38.551126  -90.335695    3.0            15        1   \n",
       "2  32.223236 -110.880452    3.5            22        0   \n",
       "3  39.955505  -75.155564    4.0            80        1   \n",
       "4  40.338183  -75.471659    4.5            13        1   \n",
       "\n",
       "                                          attributes  \\\n",
       "0  {'AcceptsInsurance': None, 'AgesAllowed': None...   \n",
       "1  {'AcceptsInsurance': None, 'AgesAllowed': None...   \n",
       "2  {'AcceptsInsurance': None, 'AgesAllowed': None...   \n",
       "3  {'AcceptsInsurance': None, 'AgesAllowed': None...   \n",
       "4  {'AcceptsInsurance': None, 'AgesAllowed': None...   \n",
       "\n",
       "                                          categories  \\\n",
       "0  Doctors, Traditional Chinese Medicine, Naturop...   \n",
       "1  Shipping Centers, Local Services, Notaries, Ma...   \n",
       "2  Department Stores, Shopping, Fashion, Home & G...   \n",
       "3  Restaurants, Food, Bubble Tea, Coffee & Tea, B...   \n",
       "4                          Brewpubs, Breweries, Food   \n",
       "\n",
       "                                               hours  \n",
       "0                                               None  \n",
       "1  {'Friday': '8:0-18:30', 'Monday': '0:0-0:0', '...  \n",
       "2  {'Friday': '8:0-23:0', 'Monday': '8:0-22:0', '...  \n",
       "3  {'Friday': '7:0-21:0', 'Monday': '7:0-20:0', '...  \n",
       "4  {'Friday': '12:0-22:0', 'Monday': None, 'Satur...  "
      ]
     },
     "execution_count": 19,
     "metadata": {},
     "output_type": "execute_result"
    }
   ],
   "source": [
    "df_business.head(5)"
   ]
  },
  {
   "cell_type": "code",
   "execution_count": 31,
   "metadata": {},
   "outputs": [
    {
     "name": "stdout",
     "output_type": "stream",
     "text": [
      "<class 'pandas.core.frame.DataFrame'>\n",
      "Index: 150351 entries, 0 to 1543\n",
      "Data columns (total 14 columns):\n",
      " #   Column        Non-Null Count   Dtype  \n",
      "---  ------        --------------   -----  \n",
      " 0   business_id   150351 non-null  object \n",
      " 1   name          150351 non-null  object \n",
      " 2   address       150351 non-null  object \n",
      " 3   city          150351 non-null  object \n",
      " 4   state         150348 non-null  object \n",
      " 5   postal_code   150351 non-null  object \n",
      " 6   latitude      150351 non-null  float64\n",
      " 7   longitude     150351 non-null  float64\n",
      " 8   stars         150351 non-null  float64\n",
      " 9   review_count  150351 non-null  int64  \n",
      " 10  is_open       150351 non-null  int64  \n",
      " 11  attributes    136607 non-null  object \n",
      " 12  categories    150248 non-null  object \n",
      " 13  hours         127128 non-null  object \n",
      "dtypes: float64(3), int64(2), object(9)\n",
      "memory usage: 17.2+ MB\n"
     ]
    }
   ],
   "source": [
    "df_business.info()"
   ]
  },
  {
   "cell_type": "code",
   "execution_count": 6,
   "metadata": {},
   "outputs": [
    {
     "name": "stdout",
     "output_type": "stream",
     "text": [
      "                   business_id                   name  \\\n",
      "2597    CS_GzUYlEPa6QHTRY224wQ    LongHorn Steakhouse   \n",
      "11158   WKF4p8kLDng4EECYC3RoeQ    LongHorn Steakhouse   \n",
      "15505   wlmzkpN3-otJCmtX9KVoNQ    LongHorn Steakhouse   \n",
      "18925   olLrmKZmBmo1vh05JZQZBg    LongHorn Steakhouse   \n",
      "28516   vI-2mPYOgfix5LcaqDOy_g    LongHorn Steakhouse   \n",
      "32419   2eqUGPaduwF_Bt9bICy1gg    LongHorn Steakhouse   \n",
      "34499   BzNXX2Qpe6pN8mHHg1t5Cw    LongHorn Steakhouse   \n",
      "36438   lR_ka9JYYUpL3se5WnLs1w    LongHorn Steakhouse   \n",
      "39019   bJvn95qeKCYsPs3Y5lfqsg    LongHorn Steakhouse   \n",
      "39191   DUfI_iaSWzHJecLJ-rxLYQ    LongHorn Steakhouse   \n",
      "42202   -RIsIJJw3cx98ba8BiWI6Q    LongHorn Steakhouse   \n",
      "48312   9gEpzuXI-brQftkdPtfd1Q    LongHorn Steakhouse   \n",
      "51200   JpJZHrEimgW609Y9yKvCPQ    LongHorn Steakhouse   \n",
      "55252   pabMCjMKIJOkM2qadvx6Yg    LongHorn Steakhouse   \n",
      "58025   uSwFlrrn-MKBKOiCRE2e6A    LongHorn Steakhouse   \n",
      "60531   PI7Qd_U8T-rSCfWmKvIZ5Q    LongHorn Steakhouse   \n",
      "62888   KFKzQpM3NtQAssAWFn9eLw    LongHorn Steakhouse   \n",
      "63502   IdFF45ev2i3jZU8UUOgYOg    LongHorn Steakhouse   \n",
      "63666   MGwRMnfgxPrk9HJ_a2GfeA    LongHorn Steakhouse   \n",
      "63813   IM0gPEyNRUoZVmYZhwuBpQ    LongHorn Steakhouse   \n",
      "65977   epVHdJqIFN0dtAiFvnVJVg    LongHorn Steakhouse   \n",
      "67542   aUuwxNRl2SJP64jkI67cbg    LongHorn Steakhouse   \n",
      "69518   rE5uySmc9eaADCXUaE0zEQ    LongHorn Steakhouse   \n",
      "69572   V0tlKbXn83HSkdqyBz76kQ    LongHorn Steakhouse   \n",
      "70771   fFPSKs3nCpj5EcOWPc7ltg    LongHorn Steakhouse   \n",
      "72677   IhzuSD9lCOBnOaCtAwGtIw   Longhorn Landscaping   \n",
      "73588   x6YlsHOvfklMNQJ2Jd4uVQ    LongHorn Steakhouse   \n",
      "76593   -RCy49doG-2XARGzr9Do5Q    LongHorn Steakhouse   \n",
      "78925   wct4ruIxzr4JTpMZc0cWbA    LongHorn Steakhouse   \n",
      "85553   RNgb844JJbo6vO1iUod8vA    LongHorn Steakhouse   \n",
      "87362   5e6Kf-t6_6CxhZrtTDy-7A    LongHorn Steakhouse   \n",
      "91877   Ur2C_YaqewfR3QWaWtJy3w    LongHorn Steakhouse   \n",
      "93693   BOdfIwPcvZ2V9vsOXCVgfA    LongHorn Steakhouse   \n",
      "95098   LOXQelUlZaLnz7zPtEpTsg    LongHorn Steakhouse   \n",
      "99266   g0k0fm8DTahqMwmFkbtYgA    LongHorn Steakhouse   \n",
      "101068  TFu4tLmV6zRVLEFG0TCLBA    LongHorn Steakhouse   \n",
      "103329  c7YFmyL1RDUmT6irYyFWVQ    LongHorn Steakhouse   \n",
      "103914  h1N4EPorcu3DIol0hKE1rg    LongHorn Steakhouse   \n",
      "111441  qgfkvGONjWNu17y2E28zgw    LongHorn Steakhouse   \n",
      "112645  tu9ztiKs7BEvuc8RdpmnQA    LongHorn Steakhouse   \n",
      "117881  VzD7LUwW_FwEROAapM40mA    LongHorn Steakhouse   \n",
      "128584  iGBBek9ye9dlhjsJXZ8TsQ  Longhorn Steak Burger   \n",
      "133794  3ISu5RHZdWCnBKCp3012iw    LongHorn Steakhouse   \n",
      "134222  mwicE5Un-uvqDtWL5wNBcA    LongHorn Steakhouse   \n",
      "140811  gd15-d7r2joRjkcXywMWUw    LongHorn Steakhouse   \n",
      "\n",
      "                              address              city state postal_code  \\\n",
      "2597                 690 S Trooper Rd        Norristown    FL       19403   \n",
      "11158              2400 Tyrone Blvd N  Saint Petersburg    CA       33710   \n",
      "15505              12974 S US Hwy 301         Riverview    MO       33578   \n",
      "18925                    9524 US 19 N       Port Richey    TN       34668   \n",
      "28516            5725 E Broadway Blvd            Tucson    FL       85711   \n",
      "32419             4820 E Southport Rd      Indianapolis    NV       46237   \n",
      "34499                   5375 E Bay Dr        Clearwater    CA       33764   \n",
      "36438           3642 S Lindbergh Blvd       Saint Louis    PA       63127   \n",
      "39019        817 Old York Rd, Ste 200        Jenkintown    FL       19046   \n",
      "39191              6115 N Illinois St  Fairview Heights    TN       62208   \n",
      "42202           355 Pleasant Grove Rd      Mount Juliet    FL       37122   \n",
      "48312            774 Old Hickory Blvd         Brentwood    MO       37027   \n",
      "51200             1003 Nashville Pike          Gallatin    AZ       37066   \n",
      "55252                4421 N Oracle Rd            Tucson    CA       85705   \n",
      "58025             11102 Causeway Blvd           Brandon    PA       33511   \n",
      "60531                 100 Rockhill Dr          Bensalem    LA       19020   \n",
      "62888   2021 Gallatin Pike N, Ste 296           Madison    IN       37115   \n",
      "63502                   2301 Route 38       Cherry Hill    AZ       08002   \n",
      "63666                   240 Easton Rd        Warrington    TN       18976   \n",
      "63813            2647 Creek Grass Way              Lutz    AB       33559   \n",
      "65977             9769 Roosevelt Blvd      Philadelphia    PA       19114   \n",
      "67542               2317 N Highway 67        Florissant    LA       63033   \n",
      "69518              1820 NW Shore Blvd             Tampa    AZ       33607   \n",
      "69572           10240 E Washington St      Indianapolis    DE       46229   \n",
      "70771                  5910 E 82nd St         Castleton    CA       46250   \n",
      "72677                  1145 Vance Way            Sparks    DE       89431   \n",
      "73588     5552 Saint Louis Mills Blvd         Hazelwood    IN       63042   \n",
      "76593          1175 Murfreesboro Pike         Nashville    PA       37217   \n",
      "78925             1110 Town Square Rd         Pottstown    IN       19465   \n",
      "85553            2120 S Columbus Blvd      Philadelphia    FL       19148   \n",
      "87362                    555 City Ave       Bala Cynwyd    IN       19004   \n",
      "91877                100 Bartlett Ave             Exton    PA       19341   \n",
      "93693              1440 Almonesson Rd          Woodbury    PA       08096   \n",
      "95098                  5840 W 86th St      Indianapolis    FL       46278   \n",
      "99266             975 Industrial Blvd            Smyrna    IL       37167   \n",
      "101068              2110 E Fowler Ave             Tampa    PA       33612   \n",
      "103329          10107 E US Highway 36              Avon    TN       46123   \n",
      "103914          2055 N Dale Mabry Hwy             Tampa    FL       33607   \n",
      "111441               7997 Franklin Rd             Boise    ID       83709   \n",
      "112645              4774 Lebanon Pike         Hermitage    ID       37076   \n",
      "117881          35645 US Highway 19 N       Palm Harbor    TN       34684   \n",
      "128584        9431 E 22nd St, Ste 157            Tucson    PA       85710   \n",
      "133794  1001 Baltimore Pike, Ste S-12       Springfield    MO       19064   \n",
      "134222            8212 Citrus Park Dr             Tampa    TN       33625   \n",
      "140811              4157 Concord Pike        Wilmington    PA       19803   \n",
      "\n",
      "         latitude   longitude  stars  review_count  is_open  \\\n",
      "2597    40.127477  -75.404075    3.5           104        1   \n",
      "11158   27.793324  -82.730343    3.5            62        1   \n",
      "15505   27.800143  -82.334157    3.5            42        1   \n",
      "18925   28.294457  -82.708815    3.5            79        1   \n",
      "28516   32.222009 -110.870116    3.0           242        1   \n",
      "32419   39.666459  -86.086255    3.5            66        1   \n",
      "34499   27.915804  -82.731211    3.5           141        1   \n",
      "36438   38.553788  -90.406400    3.0            90        1   \n",
      "39019   40.105514  -75.123935    3.5             6        1   \n",
      "39191   38.589144  -89.985517    3.5            62        1   \n",
      "42202   36.176261  -86.513585    3.5            56        1   \n",
      "48312   36.041647  -86.777966    3.5           113        1   \n",
      "51200   36.376118  -86.471172    3.5            60        1   \n",
      "55252   32.287217 -110.978838    3.5           137        1   \n",
      "58025   27.923747  -82.326307    3.0           166        1   \n",
      "60531   40.136019  -74.957489    3.0            90        1   \n",
      "62888   36.301083  -86.693306    3.0            70        1   \n",
      "63502   39.939532  -75.013091    3.0           119        1   \n",
      "63666   40.219583  -75.140576    3.5           105        1   \n",
      "63813   28.193806  -82.391166    3.5           104        1   \n",
      "65977   40.084410  -75.024068    2.5           128        1   \n",
      "67542   38.803755  -90.310269    3.0            54        1   \n",
      "69518   27.958540  -82.524490    3.5           115        1   \n",
      "69572   39.775669  -85.984386    3.0            71        1   \n",
      "70771   39.905965  -86.066171    3.0            94        1   \n",
      "72677   39.550669 -119.758664    4.5            19        1   \n",
      "73588   38.784947  -90.417419    3.5            25        0   \n",
      "76593   36.122032  -86.705808    3.5            70        1   \n",
      "78925   40.227258  -75.660357    3.0            38        1   \n",
      "85553   39.919412  -75.141194    2.5           155        1   \n",
      "87362   40.009579  -75.211949    2.5           108        1   \n",
      "91877   40.022287  -75.625513    3.5            66        1   \n",
      "93693   39.829495  -75.101069    3.0            93        1   \n",
      "95098   39.911321  -86.264257    3.5            80        1   \n",
      "99266   35.978286  -86.567055    3.5            52        1   \n",
      "101068  28.055087  -82.436354    3.5            88        1   \n",
      "103329  39.763175  -86.344211    3.5            54        1   \n",
      "103914  27.960909  -82.504840    2.5            15        0   \n",
      "111441  43.604569 -116.281702    3.5           140        1   \n",
      "112645  36.215552  -86.589765    4.0             5        0   \n",
      "117881  28.096059  -82.738933    4.0           102        1   \n",
      "128584  32.207468 -110.790779    3.5            20        0   \n",
      "133794  39.913351  -75.340923    2.5            92        1   \n",
      "134222  28.065623  -82.573722    3.5           109        1   \n",
      "140811  39.812620  -75.548970    3.5            10        1   \n",
      "\n",
      "                                               attributes  \\\n",
      "2597    {'AcceptsInsurance': None, 'AgesAllowed': None...   \n",
      "11158   {'AcceptsInsurance': None, 'AgesAllowed': None...   \n",
      "15505   {'AcceptsInsurance': None, 'AgesAllowed': None...   \n",
      "18925   {'AcceptsInsurance': None, 'AgesAllowed': None...   \n",
      "28516   {'AcceptsInsurance': None, 'AgesAllowed': None...   \n",
      "32419   {'AcceptsInsurance': None, 'AgesAllowed': None...   \n",
      "34499   {'AcceptsInsurance': None, 'AgesAllowed': None...   \n",
      "36438   {'AcceptsInsurance': None, 'AgesAllowed': None...   \n",
      "39019   {'AcceptsInsurance': None, 'AgesAllowed': None...   \n",
      "39191   {'AcceptsInsurance': None, 'AgesAllowed': None...   \n",
      "42202   {'AcceptsInsurance': None, 'AgesAllowed': None...   \n",
      "48312   {'AcceptsInsurance': None, 'AgesAllowed': None...   \n",
      "51200   {'AcceptsInsurance': None, 'AgesAllowed': None...   \n",
      "55252   {'AcceptsInsurance': None, 'AgesAllowed': None...   \n",
      "58025   {'AcceptsInsurance': None, 'AgesAllowed': None...   \n",
      "60531   {'AcceptsInsurance': None, 'AgesAllowed': None...   \n",
      "62888   {'AcceptsInsurance': None, 'AgesAllowed': None...   \n",
      "63502   {'AcceptsInsurance': None, 'AgesAllowed': None...   \n",
      "63666   {'AcceptsInsurance': None, 'AgesAllowed': None...   \n",
      "63813   {'AcceptsInsurance': None, 'AgesAllowed': None...   \n",
      "65977   {'AcceptsInsurance': None, 'AgesAllowed': None...   \n",
      "67542   {'AcceptsInsurance': None, 'AgesAllowed': None...   \n",
      "69518   {'AcceptsInsurance': None, 'AgesAllowed': None...   \n",
      "69572   {'AcceptsInsurance': None, 'AgesAllowed': None...   \n",
      "70771   {'AcceptsInsurance': None, 'AgesAllowed': None...   \n",
      "72677   {'AcceptsInsurance': None, 'AgesAllowed': None...   \n",
      "73588   {'AcceptsInsurance': None, 'AgesAllowed': None...   \n",
      "76593   {'AcceptsInsurance': None, 'AgesAllowed': None...   \n",
      "78925   {'AcceptsInsurance': None, 'AgesAllowed': None...   \n",
      "85553   {'AcceptsInsurance': None, 'AgesAllowed': None...   \n",
      "87362   {'AcceptsInsurance': None, 'AgesAllowed': None...   \n",
      "91877   {'AcceptsInsurance': None, 'AgesAllowed': None...   \n",
      "93693   {'AcceptsInsurance': None, 'AgesAllowed': None...   \n",
      "95098   {'AcceptsInsurance': None, 'AgesAllowed': None...   \n",
      "99266   {'AcceptsInsurance': None, 'AgesAllowed': None...   \n",
      "101068  {'AcceptsInsurance': None, 'AgesAllowed': None...   \n",
      "103329  {'AcceptsInsurance': None, 'AgesAllowed': None...   \n",
      "103914  {'AcceptsInsurance': None, 'AgesAllowed': None...   \n",
      "111441  {'AcceptsInsurance': None, 'AgesAllowed': None...   \n",
      "112645  {'AcceptsInsurance': None, 'AgesAllowed': None...   \n",
      "117881  {'AcceptsInsurance': None, 'AgesAllowed': None...   \n",
      "128584  {'AcceptsInsurance': None, 'AgesAllowed': None...   \n",
      "133794  {'AcceptsInsurance': None, 'AgesAllowed': None...   \n",
      "134222  {'AcceptsInsurance': None, 'AgesAllowed': None...   \n",
      "140811  {'AcceptsInsurance': None, 'AgesAllowed': None...   \n",
      "\n",
      "                                               categories  \\\n",
      "2597    Barbeque, Restaurants, Steakhouses, American (...   \n",
      "11158   Steakhouses, American (Traditional), Barbeque,...   \n",
      "15505   Restaurants, American (Traditional), Barbeque,...   \n",
      "18925   Steakhouses, American (Traditional), Restauran...   \n",
      "28516   Restaurants, American (Traditional), Steakhous...   \n",
      "32419   Restaurants, Barbeque, Steakhouses, American (...   \n",
      "34499   American (Traditional), Restaurants, Barbeque,...   \n",
      "36438   Restaurants, Barbeque, Steakhouses, American (...   \n",
      "39019   Steakhouses, Barbeque, American (Traditional),...   \n",
      "39191   Barbeque, Restaurants, American (Traditional),...   \n",
      "42202   Restaurants, Steakhouses, Barbeque, American (...   \n",
      "48312   Restaurants, American (Traditional), Steakhous...   \n",
      "51200   Steakhouses, Barbeque, Restaurants, American (...   \n",
      "55252   Steakhouses, American (Traditional), Barbeque,...   \n",
      "58025   Barbeque, American (Traditional), Restaurants,...   \n",
      "60531   Barbeque, American (Traditional), Restaurants,...   \n",
      "62888   Barbeque, Restaurants, Steakhouses, American (...   \n",
      "63502   Barbeque, American (Traditional), Steakhouses,...   \n",
      "63666   Restaurants, American (Traditional), Steakhous...   \n",
      "63813   American (Traditional), Restaurants, Steakhous...   \n",
      "65977   Steakhouses, Restaurants, Barbeque, American (...   \n",
      "67542   American (Traditional), Restaurants, Barbeque,...   \n",
      "69518   Restaurants, American (New), American (Traditi...   \n",
      "69572   Barbeque, American (Traditional), Steakhouses,...   \n",
      "70771   Barbeque, Restaurants, American (Traditional),...   \n",
      "72677   Gutter Services, Local Services, Landscape Arc...   \n",
      "73588   Restaurants, Barbeque, American (Traditional),...   \n",
      "76593   American (Traditional), Restaurants, Barbeque,...   \n",
      "78925   Barbeque, American (Traditional), Steakhouses,...   \n",
      "85553   Restaurants, Steakhouses, American (Traditiona...   \n",
      "87362   Barbeque, American (Traditional), Steakhouses,...   \n",
      "91877   Restaurants, Barbeque, Steakhouses, American (...   \n",
      "93693   Steakhouses, Restaurants, Barbeque, American (...   \n",
      "95098   Barbeque, American (Traditional), Restaurants,...   \n",
      "99266   Barbeque, Beer, Wine & Spirits, Food, Local Fl...   \n",
      "101068  Barbeque, American (Traditional), Steakhouses,...   \n",
      "103329  Restaurants, Steakhouses, American (Traditiona...   \n",
      "103914   Steakhouses, American (Traditional), Restaurants   \n",
      "111441  Restaurants, American (Traditional), Steakhous...   \n",
      "112645                           Steakhouses, Restaurants   \n",
      "117881  Barbeque, Steakhouses, Restaurants, American (...   \n",
      "128584        Steakhouses, Barbeque, Burgers, Restaurants   \n",
      "133794  Steakhouses, Sandwiches, Barbeque, Burgers, Re...   \n",
      "134222  Restaurants, American (Traditional), Barbeque,...   \n",
      "140811  Barbeque, Restaurants, American (Traditional),...   \n",
      "\n",
      "                                                    hours  \n",
      "2597    {'Friday': '11:0-23:0', 'Monday': '0:0-0:0', '...  \n",
      "11158   {'Friday': '11:0-23:0', 'Monday': '0:0-0:0', '...  \n",
      "15505   {'Friday': '11:0-23:0', 'Monday': '0:0-0:0', '...  \n",
      "18925   {'Friday': '11:0-23:0', 'Monday': '0:0-0:0', '...  \n",
      "28516   {'Friday': '11:0-23:0', 'Monday': '0:0-0:0', '...  \n",
      "32419   {'Friday': '11:0-23:0', 'Monday': '0:0-0:0', '...  \n",
      "34499   {'Friday': '11:0-23:0', 'Monday': '0:0-0:0', '...  \n",
      "36438   {'Friday': '11:0-23:0', 'Monday': '0:0-0:0', '...  \n",
      "39019   {'Friday': '11:0-23:0', 'Monday': '11:0-22:0',...  \n",
      "39191   {'Friday': '11:0-23:0', 'Monday': '0:0-0:0', '...  \n",
      "42202   {'Friday': '11:0-23:0', 'Monday': '0:0-0:0', '...  \n",
      "48312   {'Friday': '11:0-23:0', 'Monday': '0:0-0:0', '...  \n",
      "51200   {'Friday': '11:0-23:0', 'Monday': '0:0-0:0', '...  \n",
      "55252   {'Friday': '11:0-23:0', 'Monday': '0:0-0:0', '...  \n",
      "58025   {'Friday': '11:0-23:0', 'Monday': '0:0-0:0', '...  \n",
      "60531   {'Friday': '11:0-23:0', 'Monday': '0:0-0:0', '...  \n",
      "62888   {'Friday': '11:0-23:0', 'Monday': '0:0-0:0', '...  \n",
      "63502   {'Friday': '11:0-23:0', 'Monday': '0:0-0:0', '...  \n",
      "63666   {'Friday': '11:0-23:0', 'Monday': '0:0-0:0', '...  \n",
      "63813   {'Friday': '11:0-23:0', 'Monday': '0:0-0:0', '...  \n",
      "65977   {'Friday': '11:0-23:0', 'Monday': '0:0-0:0', '...  \n",
      "67542   {'Friday': '11:0-23:0', 'Monday': '0:0-0:0', '...  \n",
      "69518   {'Friday': '11:0-23:0', 'Monday': '0:0-0:0', '...  \n",
      "69572   {'Friday': '11:0-23:0', 'Monday': '0:0-0:0', '...  \n",
      "70771   {'Friday': '11:0-23:0', 'Monday': '0:0-0:0', '...  \n",
      "72677   {'Friday': '6:0-17:0', 'Monday': '6:0-17:0', '...  \n",
      "73588   {'Friday': '11:0-23:0', 'Monday': '0:0-0:0', '...  \n",
      "76593   {'Friday': '11:0-23:0', 'Monday': '0:0-0:0', '...  \n",
      "78925   {'Friday': '11:0-22:0', 'Monday': '11:0-22:0',...  \n",
      "85553   {'Friday': '11:0-23:0', 'Monday': '0:0-0:0', '...  \n",
      "87362   {'Friday': '11:0-23:0', 'Monday': '0:0-0:0', '...  \n",
      "91877   {'Friday': '11:0-23:0', 'Monday': '0:0-0:0', '...  \n",
      "93693   {'Friday': '11:0-23:0', 'Monday': '0:0-0:0', '...  \n",
      "95098   {'Friday': '11:0-23:0', 'Monday': '0:0-0:0', '...  \n",
      "99266   {'Friday': '11:0-23:0', 'Monday': '0:0-0:0', '...  \n",
      "101068  {'Friday': '11:0-23:0', 'Monday': '0:0-0:0', '...  \n",
      "103329  {'Friday': '11:0-23:0', 'Monday': '0:0-0:0', '...  \n",
      "103914  {'Friday': '11:0-23:0', 'Monday': '11:0-22:0',...  \n",
      "111441  {'Friday': '11:0-23:0', 'Monday': '0:0-0:0', '...  \n",
      "112645  {'Friday': '11:0-23:0', 'Monday': '11:0-22:0',...  \n",
      "117881  {'Friday': '12:0-20:0', 'Monday': '11:0-22:0',...  \n",
      "128584                                               None  \n",
      "133794  {'Friday': '11:0-23:0', 'Monday': '0:0-0:0', '...  \n",
      "134222  {'Friday': '11:0-23:0', 'Monday': '0:0-0:0', '...  \n",
      "140811  {'Friday': '11:0-23:0', 'Monday': '11:0-22:0',...  \n"
     ]
    }
   ],
   "source": [
    "valor_buscado = 'LongHorn'\n",
    "resultado = df_business[df_business['name'].str.contains(valor_buscado, case=False)]\n",
    "print(resultado)"
   ]
  },
  {
   "cell_type": "code",
   "execution_count": 9,
   "metadata": {},
   "outputs": [
    {
     "data": {
      "text/plain": [
       "(45, 14)"
      ]
     },
     "execution_count": 9,
     "metadata": {},
     "output_type": "execute_result"
    }
   ],
   "source": [
    "resultado.shape"
   ]
  },
  {
   "cell_type": "code",
   "execution_count": 7,
   "metadata": {},
   "outputs": [],
   "source": [
    "df_business['categories'] = df_business['categories'].fillna('')"
   ]
  },
  {
   "cell_type": "code",
   "execution_count": 33,
   "metadata": {},
   "outputs": [
    {
     "data": {
      "text/plain": [
       "Index(['business_id', 'name', 'address', 'city', 'state', 'postal_code',\n",
       "       'latitude', 'longitude', 'stars', 'review_count', 'is_open',\n",
       "       'attributes', 'categories', 'hours'],\n",
       "      dtype='object')"
      ]
     },
     "execution_count": 33,
     "metadata": {},
     "output_type": "execute_result"
    }
   ],
   "source": [
    "df_business.columns"
   ]
  },
  {
   "cell_type": "code",
   "execution_count": 8,
   "metadata": {},
   "outputs": [
    {
     "data": {
      "text/plain": [
       "(52268, 14)"
      ]
     },
     "execution_count": 8,
     "metadata": {},
     "output_type": "execute_result"
    }
   ],
   "source": [
    "valor_buscado = 'Restaurants'\n",
    "resultado_rest = df_business[df_business['categories'].str.contains(valor_buscado, case=False)]\n",
    "resultado_rest.shape"
   ]
  },
  {
   "cell_type": "code",
   "execution_count": 9,
   "metadata": {},
   "outputs": [
    {
     "data": {
      "text/plain": [
       "(1506, 14)"
      ]
     },
     "execution_count": 9,
     "metadata": {},
     "output_type": "execute_result"
    }
   ],
   "source": [
    "valor_buscado = 'Steakhouses'\n",
    "resultado_steak = resultado_rest[resultado_rest['categories'].str.contains(valor_buscado, case=False)]\n",
    "resultado_steak.shape"
   ]
  },
  {
   "cell_type": "code",
   "execution_count": 10,
   "metadata": {},
   "outputs": [
    {
     "data": {
      "text/plain": [
       "(1694, 14)"
      ]
     },
     "execution_count": 10,
     "metadata": {},
     "output_type": "execute_result"
    }
   ],
   "source": [
    "valor_buscado = 'Barbeque'\n",
    "resultado_barb = resultado_rest[resultado_rest['categories'].str.contains(valor_buscado, case=False)]\n",
    "resultado_barb.shape"
   ]
  },
  {
   "cell_type": "code",
   "execution_count": 48,
   "metadata": {},
   "outputs": [
    {
     "data": {
      "text/plain": [
       "(147, 14)"
      ]
     },
     "execution_count": 48,
     "metadata": {},
     "output_type": "execute_result"
    }
   ],
   "source": [
    "valor_buscado = 'Steakhouses'\n",
    "resultado_steak = resultado_barb[resultado_barb['categories'].str.contains(valor_buscado, case=False)]\n",
    "resultado_steak.shape"
   ]
  },
  {
   "cell_type": "markdown",
   "metadata": {},
   "source": [
    "Todos los steakhouses y barbeques tienen categoría restaurante  \n",
    "Entre Barbeque y Steakhouses no hay tanta coincidencia"
   ]
  },
  {
   "cell_type": "code",
   "execution_count": 49,
   "metadata": {},
   "outputs": [],
   "source": [
    "resultado_rest.to_csv(\"comercios_yelp_restaurants.csv\")"
   ]
  },
  {
   "cell_type": "code",
   "execution_count": 51,
   "metadata": {},
   "outputs": [
    {
     "data": {
      "text/html": [
       "<div>\n",
       "<style scoped>\n",
       "    .dataframe tbody tr th:only-of-type {\n",
       "        vertical-align: middle;\n",
       "    }\n",
       "\n",
       "    .dataframe tbody tr th {\n",
       "        vertical-align: top;\n",
       "    }\n",
       "\n",
       "    .dataframe thead th {\n",
       "        text-align: right;\n",
       "    }\n",
       "</style>\n",
       "<table border=\"1\" class=\"dataframe\">\n",
       "  <thead>\n",
       "    <tr style=\"text-align: right;\">\n",
       "      <th></th>\n",
       "      <th>business_id</th>\n",
       "      <th>name</th>\n",
       "      <th>address</th>\n",
       "      <th>city</th>\n",
       "      <th>state</th>\n",
       "      <th>postal_code</th>\n",
       "      <th>latitude</th>\n",
       "      <th>longitude</th>\n",
       "      <th>stars</th>\n",
       "      <th>review_count</th>\n",
       "      <th>is_open</th>\n",
       "      <th>attributes</th>\n",
       "      <th>categories</th>\n",
       "      <th>hours</th>\n",
       "    </tr>\n",
       "  </thead>\n",
       "  <tbody>\n",
       "    <tr>\n",
       "      <th>3</th>\n",
       "      <td>MTSW4McQd7CbVtyjqoe9mw</td>\n",
       "      <td>St Honore Pastries</td>\n",
       "      <td>935 Race St</td>\n",
       "      <td>Philadelphia</td>\n",
       "      <td>CA</td>\n",
       "      <td>19107</td>\n",
       "      <td>39.955505</td>\n",
       "      <td>-75.155564</td>\n",
       "      <td>4.0</td>\n",
       "      <td>80</td>\n",
       "      <td>1</td>\n",
       "      <td>{'AcceptsInsurance': None, 'AgesAllowed': None...</td>\n",
       "      <td>Restaurants, Food, Bubble Tea, Coffee &amp; Tea, B...</td>\n",
       "      <td>{'Friday': '7:0-21:0', 'Monday': '7:0-20:0', '...</td>\n",
       "    </tr>\n",
       "    <tr>\n",
       "      <th>5</th>\n",
       "      <td>CF33F8-E6oudUQ46HnavjQ</td>\n",
       "      <td>Sonic Drive-In</td>\n",
       "      <td>615 S Main St</td>\n",
       "      <td>Ashland City</td>\n",
       "      <td>AZ</td>\n",
       "      <td>37015</td>\n",
       "      <td>36.269593</td>\n",
       "      <td>-87.058943</td>\n",
       "      <td>2.0</td>\n",
       "      <td>6</td>\n",
       "      <td>1</td>\n",
       "      <td>{'AcceptsInsurance': None, 'AgesAllowed': None...</td>\n",
       "      <td>Burgers, Fast Food, Sandwiches, Food, Ice Crea...</td>\n",
       "      <td>{'Friday': '9:0-0:0', 'Monday': '0:0-0:0', 'Sa...</td>\n",
       "    </tr>\n",
       "    <tr>\n",
       "      <th>8</th>\n",
       "      <td>k0hlBqXX-Bt0vf1op7Jr1w</td>\n",
       "      <td>Tsevi's Pub And Grill</td>\n",
       "      <td>8025 Mackenzie Rd</td>\n",
       "      <td>Affton</td>\n",
       "      <td>TN</td>\n",
       "      <td>63123</td>\n",
       "      <td>38.565165</td>\n",
       "      <td>-90.321087</td>\n",
       "      <td>3.0</td>\n",
       "      <td>19</td>\n",
       "      <td>0</td>\n",
       "      <td>{'AcceptsInsurance': None, 'AgesAllowed': None...</td>\n",
       "      <td>Pubs, Restaurants, Italian, Bars, American (Tr...</td>\n",
       "      <td>None</td>\n",
       "    </tr>\n",
       "    <tr>\n",
       "      <th>9</th>\n",
       "      <td>bBDDEgkFA1Otx9Lfe7BZUQ</td>\n",
       "      <td>Sonic Drive-In</td>\n",
       "      <td>2312 Dickerson Pike</td>\n",
       "      <td>Nashville</td>\n",
       "      <td>MO</td>\n",
       "      <td>37207</td>\n",
       "      <td>36.208102</td>\n",
       "      <td>-86.768170</td>\n",
       "      <td>1.5</td>\n",
       "      <td>10</td>\n",
       "      <td>1</td>\n",
       "      <td>{'AcceptsInsurance': None, 'AgesAllowed': None...</td>\n",
       "      <td>Ice Cream &amp; Frozen Yogurt, Fast Food, Burgers,...</td>\n",
       "      <td>{'Friday': '6:0-16:0', 'Monday': '0:0-0:0', 'S...</td>\n",
       "    </tr>\n",
       "    <tr>\n",
       "      <th>11</th>\n",
       "      <td>eEOYSgkmpB90uNA7lDOMRA</td>\n",
       "      <td>Vietnamese Food Truck</td>\n",
       "      <td></td>\n",
       "      <td>Tampa Bay</td>\n",
       "      <td>MO</td>\n",
       "      <td>33602</td>\n",
       "      <td>27.955269</td>\n",
       "      <td>-82.456320</td>\n",
       "      <td>4.0</td>\n",
       "      <td>10</td>\n",
       "      <td>1</td>\n",
       "      <td>{'AcceptsInsurance': None, 'AgesAllowed': None...</td>\n",
       "      <td>Vietnamese, Food, Restaurants, Food Trucks</td>\n",
       "      <td>{'Friday': '11:0-14:0', 'Monday': '11:0-14:0',...</td>\n",
       "    </tr>\n",
       "  </tbody>\n",
       "</table>\n",
       "</div>"
      ],
      "text/plain": [
       "               business_id                   name              address  \\\n",
       "3   MTSW4McQd7CbVtyjqoe9mw     St Honore Pastries          935 Race St   \n",
       "5   CF33F8-E6oudUQ46HnavjQ         Sonic Drive-In        615 S Main St   \n",
       "8   k0hlBqXX-Bt0vf1op7Jr1w  Tsevi's Pub And Grill    8025 Mackenzie Rd   \n",
       "9   bBDDEgkFA1Otx9Lfe7BZUQ         Sonic Drive-In  2312 Dickerson Pike   \n",
       "11  eEOYSgkmpB90uNA7lDOMRA  Vietnamese Food Truck                        \n",
       "\n",
       "            city state postal_code   latitude  longitude  stars  review_count  \\\n",
       "3   Philadelphia    CA       19107  39.955505 -75.155564    4.0            80   \n",
       "5   Ashland City    AZ       37015  36.269593 -87.058943    2.0             6   \n",
       "8         Affton    TN       63123  38.565165 -90.321087    3.0            19   \n",
       "9      Nashville    MO       37207  36.208102 -86.768170    1.5            10   \n",
       "11     Tampa Bay    MO       33602  27.955269 -82.456320    4.0            10   \n",
       "\n",
       "    is_open                                         attributes  \\\n",
       "3         1  {'AcceptsInsurance': None, 'AgesAllowed': None...   \n",
       "5         1  {'AcceptsInsurance': None, 'AgesAllowed': None...   \n",
       "8         0  {'AcceptsInsurance': None, 'AgesAllowed': None...   \n",
       "9         1  {'AcceptsInsurance': None, 'AgesAllowed': None...   \n",
       "11        1  {'AcceptsInsurance': None, 'AgesAllowed': None...   \n",
       "\n",
       "                                           categories  \\\n",
       "3   Restaurants, Food, Bubble Tea, Coffee & Tea, B...   \n",
       "5   Burgers, Fast Food, Sandwiches, Food, Ice Crea...   \n",
       "8   Pubs, Restaurants, Italian, Bars, American (Tr...   \n",
       "9   Ice Cream & Frozen Yogurt, Fast Food, Burgers,...   \n",
       "11         Vietnamese, Food, Restaurants, Food Trucks   \n",
       "\n",
       "                                                hours  \n",
       "3   {'Friday': '7:0-21:0', 'Monday': '7:0-20:0', '...  \n",
       "5   {'Friday': '9:0-0:0', 'Monday': '0:0-0:0', 'Sa...  \n",
       "8                                                None  \n",
       "9   {'Friday': '6:0-16:0', 'Monday': '0:0-0:0', 'S...  \n",
       "11  {'Friday': '11:0-14:0', 'Monday': '11:0-14:0',...  "
      ]
     },
     "execution_count": 51,
     "metadata": {},
     "output_type": "execute_result"
    }
   ],
   "source": [
    "resultado_rest.head(5)"
   ]
  },
  {
   "cell_type": "code",
   "execution_count": 12,
   "metadata": {},
   "outputs": [
    {
     "data": {
      "text/plain": [
       "(12923, 14)"
      ]
     },
     "execution_count": 12,
     "metadata": {},
     "output_type": "execute_result"
    }
   ],
   "source": [
    "\n",
    "estados_buscados = ['FL', 'GA', 'SC', 'NC', 'VA', 'MD', 'DE', 'NJ', 'NY']\n",
    "resultado_estados = resultado_rest[resultado_rest['state'].isin(estados_buscados)]\n",
    "resultado_estados.shape\n"
   ]
  },
  {
   "cell_type": "code",
   "execution_count": 13,
   "metadata": {},
   "outputs": [
    {
     "data": {
      "text/plain": [
       "(373, 14)"
      ]
     },
     "execution_count": 13,
     "metadata": {},
     "output_type": "execute_result"
    }
   ],
   "source": [
    "resultado_estados1 = resultado_steak[resultado_steak['state'].isin(estados_buscados)]\n",
    "resultado_estados1.shape"
   ]
  },
  {
   "cell_type": "code",
   "execution_count": 18,
   "metadata": {},
   "outputs": [
    {
     "data": {
      "text/plain": [
       "(434, 14)"
      ]
     },
     "execution_count": 18,
     "metadata": {},
     "output_type": "execute_result"
    }
   ],
   "source": [
    "resultado_estados2 = resultado_barb[resultado_barb['state'].isin(estados_buscados)]\n",
    "resultado_estados2.shape"
   ]
  },
  {
   "cell_type": "code",
   "execution_count": 30,
   "metadata": {},
   "outputs": [
    {
     "data": {
      "text/plain": [
       "(37133, 14)"
      ]
     },
     "execution_count": 30,
     "metadata": {},
     "output_type": "execute_result"
    }
   ],
   "source": [
    "resultado_estados3 = df_business[df_business['state'].isin(estados_buscados)]\n",
    "resultado_estados3.shape"
   ]
  },
  {
   "cell_type": "markdown",
   "metadata": {},
   "source": [
    "--------------------------"
   ]
  },
  {
   "cell_type": "code",
   "execution_count": 15,
   "metadata": {},
   "outputs": [
    {
     "data": {
      "text/plain": [
       "['../data/raw/y-review/y-review_03.parquet',\n",
       " '../data/raw/y-review/y-review_02.parquet',\n",
       " '../data/raw/y-review/y-review_01.parquet']"
      ]
     },
     "execution_count": 15,
     "metadata": {},
     "output_type": "execute_result"
    }
   ],
   "source": [
    "# Crear lista de archivos en /data/raw/y-review/\n",
    "review_parquets = glob(f'{path_data}/y-review/*')\n",
    "review_parquets"
   ]
  },
  {
   "cell_type": "code",
   "execution_count": 16,
   "metadata": {},
   "outputs": [],
   "source": [
    "# Crear dataframe donde se unen los datos extraidos de parquet\n",
    "df_review = pd.DataFrame()\n",
    "# Iterar por cada parquet dentro de /data/raw/y-review/\n",
    "for p in review_parquets:\n",
    "    # Leer parquet\n",
    "    df = pd.read_parquet(p)\n",
    "    # Unir a df_review\n",
    "    df_review = pd.concat([df_review, df], ignore_index=True)"
   ]
  },
  {
   "cell_type": "code",
   "execution_count": 19,
   "metadata": {},
   "outputs": [
    {
     "data": {
      "text/plain": [
       "Index(['review_id', 'user_id', 'business_id', 'stars', 'useful', 'funny',\n",
       "       'cool', 'text', 'date'],\n",
       "      dtype='object')"
      ]
     },
     "execution_count": 19,
     "metadata": {},
     "output_type": "execute_result"
    }
   ],
   "source": [
    "df_review.columns"
   ]
  },
  {
   "cell_type": "code",
   "execution_count": 21,
   "metadata": {},
   "outputs": [
    {
     "data": {
      "text/html": [
       "<div>\n",
       "<style scoped>\n",
       "    .dataframe tbody tr th:only-of-type {\n",
       "        vertical-align: middle;\n",
       "    }\n",
       "\n",
       "    .dataframe tbody tr th {\n",
       "        vertical-align: top;\n",
       "    }\n",
       "\n",
       "    .dataframe thead th {\n",
       "        text-align: right;\n",
       "    }\n",
       "</style>\n",
       "<table border=\"1\" class=\"dataframe\">\n",
       "  <thead>\n",
       "    <tr style=\"text-align: right;\">\n",
       "      <th></th>\n",
       "      <th>review_id</th>\n",
       "      <th>user_id</th>\n",
       "      <th>business_id</th>\n",
       "      <th>stars</th>\n",
       "      <th>useful</th>\n",
       "      <th>funny</th>\n",
       "      <th>cool</th>\n",
       "      <th>text</th>\n",
       "      <th>date</th>\n",
       "    </tr>\n",
       "  </thead>\n",
       "  <tbody>\n",
       "    <tr>\n",
       "      <th>0</th>\n",
       "      <td>NRI6ZkovQxhAbtw8gV9Csg</td>\n",
       "      <td>xGTlAfrM208q533eDriJkg</td>\n",
       "      <td>9r_prQEvUixrjuIB4v5qCQ</td>\n",
       "      <td>5.0</td>\n",
       "      <td>0</td>\n",
       "      <td>1</td>\n",
       "      <td>0</td>\n",
       "      <td>Went for brunch this last Sunday with She Who ...</td>\n",
       "      <td>2017-08-21 23:26:25</td>\n",
       "    </tr>\n",
       "    <tr>\n",
       "      <th>1</th>\n",
       "      <td>YY1Lk8bUkcheHjWM-pWgoQ</td>\n",
       "      <td>2T48z1egd0IRwrje2PgRuw</td>\n",
       "      <td>dqdEPiPQugiz8sIgMqXmiw</td>\n",
       "      <td>4.0</td>\n",
       "      <td>5</td>\n",
       "      <td>0</td>\n",
       "      <td>3</td>\n",
       "      <td>This is a nice home-town cafe.  Very casual at...</td>\n",
       "      <td>2010-10-21 15:55:32</td>\n",
       "    </tr>\n",
       "    <tr>\n",
       "      <th>2</th>\n",
       "      <td>V-zNEilwLRvFtrcL9sNeQw</td>\n",
       "      <td>uQe-RHxj1npBb6Tp7w2gEw</td>\n",
       "      <td>sKutdIq6xvP0Xs4rUeKNHQ</td>\n",
       "      <td>5.0</td>\n",
       "      <td>0</td>\n",
       "      <td>0</td>\n",
       "      <td>0</td>\n",
       "      <td>Some of the best ice cream ever but without a ...</td>\n",
       "      <td>2021-01-31 04:10:50</td>\n",
       "    </tr>\n",
       "    <tr>\n",
       "      <th>3</th>\n",
       "      <td>tT8VIru8w71KHKW8Hb2MIQ</td>\n",
       "      <td>T9nmYu1cA9yU8lsVO_S_MQ</td>\n",
       "      <td>zhg9prrh_mc-mH5m1Vw7iw</td>\n",
       "      <td>5.0</td>\n",
       "      <td>0</td>\n",
       "      <td>0</td>\n",
       "      <td>1</td>\n",
       "      <td>Joe and Kelly make the most delicious food. It...</td>\n",
       "      <td>2021-04-18 17:05:25</td>\n",
       "    </tr>\n",
       "    <tr>\n",
       "      <th>4</th>\n",
       "      <td>uBsJwHXcXIgzvEtnNMKeQA</td>\n",
       "      <td>hTaBY4ObN-vTNgABea55wg</td>\n",
       "      <td>L1TzHZ8OXfVXTfyzidstzg</td>\n",
       "      <td>5.0</td>\n",
       "      <td>0</td>\n",
       "      <td>0</td>\n",
       "      <td>0</td>\n",
       "      <td>Great food with fast and friendly service! I l...</td>\n",
       "      <td>2021-03-22 03:57:59</td>\n",
       "    </tr>\n",
       "  </tbody>\n",
       "</table>\n",
       "</div>"
      ],
      "text/plain": [
       "                review_id                 user_id             business_id  \\\n",
       "0  NRI6ZkovQxhAbtw8gV9Csg  xGTlAfrM208q533eDriJkg  9r_prQEvUixrjuIB4v5qCQ   \n",
       "1  YY1Lk8bUkcheHjWM-pWgoQ  2T48z1egd0IRwrje2PgRuw  dqdEPiPQugiz8sIgMqXmiw   \n",
       "2  V-zNEilwLRvFtrcL9sNeQw  uQe-RHxj1npBb6Tp7w2gEw  sKutdIq6xvP0Xs4rUeKNHQ   \n",
       "3  tT8VIru8w71KHKW8Hb2MIQ  T9nmYu1cA9yU8lsVO_S_MQ  zhg9prrh_mc-mH5m1Vw7iw   \n",
       "4  uBsJwHXcXIgzvEtnNMKeQA  hTaBY4ObN-vTNgABea55wg  L1TzHZ8OXfVXTfyzidstzg   \n",
       "\n",
       "   stars  useful  funny  cool  \\\n",
       "0    5.0       0      1     0   \n",
       "1    4.0       5      0     3   \n",
       "2    5.0       0      0     0   \n",
       "3    5.0       0      0     1   \n",
       "4    5.0       0      0     0   \n",
       "\n",
       "                                                text                 date  \n",
       "0  Went for brunch this last Sunday with She Who ...  2017-08-21 23:26:25  \n",
       "1  This is a nice home-town cafe.  Very casual at...  2010-10-21 15:55:32  \n",
       "2  Some of the best ice cream ever but without a ...  2021-01-31 04:10:50  \n",
       "3  Joe and Kelly make the most delicious food. It...  2021-04-18 17:05:25  \n",
       "4  Great food with fast and friendly service! I l...  2021-03-22 03:57:59  "
      ]
     },
     "execution_count": 21,
     "metadata": {},
     "output_type": "execute_result"
    }
   ],
   "source": [
    "df_review.head(5)"
   ]
  },
  {
   "cell_type": "code",
   "execution_count": 20,
   "metadata": {},
   "outputs": [
    {
     "data": {
      "text/plain": [
       "(6990280, 9)"
      ]
     },
     "execution_count": 20,
     "metadata": {},
     "output_type": "execute_result"
    }
   ],
   "source": [
    "df_review.shape"
   ]
  },
  {
   "cell_type": "code",
   "execution_count": 23,
   "metadata": {},
   "outputs": [
    {
     "name": "stdout",
     "output_type": "stream",
     "text": [
      "<class 'pandas.core.series.Series'>\n"
     ]
    }
   ],
   "source": [
    "comercios = resultado_rest[\"business_id\"]\n",
    "print(type(comercios))"
   ]
  },
  {
   "cell_type": "code",
   "execution_count": 24,
   "metadata": {},
   "outputs": [
    {
     "data": {
      "text/plain": [
       "(4724471, 9)"
      ]
     },
     "execution_count": 24,
     "metadata": {},
     "output_type": "execute_result"
    }
   ],
   "source": [
    "\n",
    "reviews_rest = df_review[df_review['business_id'].isin(comercios)]\n",
    "reviews_rest.shape"
   ]
  },
  {
   "cell_type": "code",
   "execution_count": 25,
   "metadata": {},
   "outputs": [
    {
     "data": {
      "text/plain": [
       "(240040, 9)"
      ]
     },
     "execution_count": 25,
     "metadata": {},
     "output_type": "execute_result"
    }
   ],
   "source": [
    "comercios_steak = resultado_steak[\"business_id\"]\n",
    "reviews_steak = df_review[df_review['business_id'].isin(comercios_steak)]\n",
    "reviews_steak.shape"
   ]
  },
  {
   "cell_type": "code",
   "execution_count": 26,
   "metadata": {},
   "outputs": [
    {
     "data": {
      "text/plain": [
       "(198797, 9)"
      ]
     },
     "execution_count": 26,
     "metadata": {},
     "output_type": "execute_result"
    }
   ],
   "source": [
    "comercios_barb = resultado_barb[\"business_id\"]\n",
    "reviews_barb = df_review[df_review['business_id'].isin(comercios_barb)]\n",
    "reviews_barb.shape"
   ]
  },
  {
   "cell_type": "code",
   "execution_count": 31,
   "metadata": {},
   "outputs": [
    {
     "data": {
      "text/plain": [
       "(1734699, 9)"
      ]
     },
     "execution_count": 31,
     "metadata": {},
     "output_type": "execute_result"
    }
   ],
   "source": [
    "comercios_9 = resultado_estados3[\"business_id\"]\n",
    "reviews_9 = df_review[df_review['business_id'].isin(comercios_9)]\n",
    "reviews_9.shape"
   ]
  },
  {
   "cell_type": "code",
   "execution_count": 32,
   "metadata": {},
   "outputs": [
    {
     "data": {
      "text/plain": [
       "(1177503, 9)"
      ]
     },
     "execution_count": 32,
     "metadata": {},
     "output_type": "execute_result"
    }
   ],
   "source": [
    "comercios_rest9 = resultado_estados[\"business_id\"]\n",
    "reviews_rest9 = df_review[df_review['business_id'].isin(comercios_rest9)]\n",
    "reviews_rest9.shape"
   ]
  },
  {
   "cell_type": "code",
   "execution_count": 33,
   "metadata": {},
   "outputs": [
    {
     "data": {
      "text/plain": [
       "(59320, 9)"
      ]
     },
     "execution_count": 33,
     "metadata": {},
     "output_type": "execute_result"
    }
   ],
   "source": [
    "comercios_steak9 = resultado_estados1[\"business_id\"]\n",
    "reviews_steak9 = df_review[df_review['business_id'].isin(comercios_steak9)]\n",
    "reviews_steak9.shape"
   ]
  },
  {
   "cell_type": "code",
   "execution_count": 34,
   "metadata": {},
   "outputs": [
    {
     "data": {
      "text/plain": [
       "(50871, 9)"
      ]
     },
     "execution_count": 34,
     "metadata": {},
     "output_type": "execute_result"
    }
   ],
   "source": [
    "comercios_barb9 = resultado_estados2[\"business_id\"]\n",
    "reviews_barb9 = df_review[df_review['business_id'].isin(comercios_barb9)]\n",
    "reviews_barb9.shape"
   ]
  }
 ],
 "metadata": {
  "kernelspec": {
   "display_name": "env-pf",
   "language": "python",
   "name": "python3"
  },
  "language_info": {
   "codemirror_mode": {
    "name": "ipython",
    "version": 3
   },
   "file_extension": ".py",
   "mimetype": "text/x-python",
   "name": "python",
   "nbconvert_exporter": "python",
   "pygments_lexer": "ipython3",
   "version": "3.10.12"
  }
 },
 "nbformat": 4,
 "nbformat_minor": 2
}
