{
 "cells": [
  {
   "cell_type": "code",
   "execution_count": 1,
   "metadata": {},
   "outputs": [],
   "source": [
    "from glob import glob\n",
    "import pandas as pd"
   ]
  },
  {
   "cell_type": "code",
   "execution_count": 11,
   "metadata": {},
   "outputs": [],
   "source": [
    "# Opción que deshabilita el limite de columnas y filas mostradas\n",
    "pd.set_option('display.max_columns', None)\n",
    "pd.set_option('display.max_rows', None)"
   ]
  },
  {
   "cell_type": "code",
   "execution_count": 2,
   "metadata": {},
   "outputs": [],
   "source": [
    "# Path de los archivos no-procesados (formato parquet)\n",
    "path_data = '../data/raw'"
   ]
  },
  {
   "cell_type": "markdown",
   "metadata": {},
   "source": [
    "---\n",
    "## Carga de data Google"
   ]
  },
  {
   "cell_type": "markdown",
   "metadata": {},
   "source": [
    "### `g-sitios.parquet`"
   ]
  },
  {
   "cell_type": "code",
   "execution_count": 3,
   "metadata": {},
   "outputs": [],
   "source": [
    "df_sitios = pd.read_parquet(f'{path_data}/g-sitios.parquet')"
   ]
  },
  {
   "cell_type": "markdown",
   "metadata": {},
   "source": [
    "### `g-review.parquet`"
   ]
  },
  {
   "cell_type": "code",
   "execution_count": 5,
   "metadata": {},
   "outputs": [
    {
     "data": {
      "text/plain": [
       "['../data/raw/g-review/g-review_Texas.parquet',\n",
       " '../data/raw/g-review/g-review_California.parquet',\n",
       " '../data/raw/g-review/g-review_Virginia.parquet',\n",
       " '../data/raw/g-review/g-review_Pennsylvania.parquet',\n",
       " '../data/raw/g-review/g-review_District_of_Columbia.parquet',\n",
       " '../data/raw/g-review/g-review_Illinois.parquet',\n",
       " '../data/raw/g-review/g-review_Florida.parquet',\n",
       " '../data/raw/g-review/g-review_Georgia.parquet',\n",
       " '../data/raw/g-review/g-review_New_York.parquet',\n",
       " '../data/raw/g-review/g-review_New_Jersey.parquet']"
      ]
     },
     "execution_count": 5,
     "metadata": {},
     "output_type": "execute_result"
    }
   ],
   "source": [
    "# Crear lista de archivos en /data/raw/g-review/\n",
    "review_parquets = glob(f'{path_data}/g-review/*')\n",
    "review_parquets"
   ]
  },
  {
   "cell_type": "code",
   "execution_count": 6,
   "metadata": {},
   "outputs": [],
   "source": [
    "# Crear dataframe donde se unen los datos extraidos de parquet\n",
    "df_review = pd.DataFrame()\n",
    "# Iterar por cada parquet dentro de /data/raw/g-review/\n",
    "for p in review_parquets:\n",
    "    # Leer parquet\n",
    "    df = pd.read_parquet(p)\n",
    "    # Unir a df_review\n",
    "    df_review = pd.concat([df_review, df], ignore_index=True)"
   ]
  },
  {
   "cell_type": "markdown",
   "metadata": {},
   "source": [
    "---\n",
    "## Análisis Exploratorio"
   ]
  },
  {
   "cell_type": "code",
   "execution_count": 13,
   "metadata": {},
   "outputs": [
    {
     "name": "stdout",
     "output_type": "stream",
     "text": [
      "<class 'pandas.core.frame.DataFrame'>\n",
      "RangeIndex: 3025011 entries, 0 to 3025010\n",
      "Data columns (total 15 columns):\n",
      " #   Column            Dtype  \n",
      "---  ------            -----  \n",
      " 0   name              object \n",
      " 1   address           object \n",
      " 2   gmap_id           object \n",
      " 3   description       object \n",
      " 4   latitude          float64\n",
      " 5   longitude         float64\n",
      " 6   category          object \n",
      " 7   avg_rating        float64\n",
      " 8   num_of_reviews    int64  \n",
      " 9   price             object \n",
      " 10  hours             object \n",
      " 11  MISC              object \n",
      " 12  state             object \n",
      " 13  relative_results  object \n",
      " 14  url               object \n",
      "dtypes: float64(3), int64(1), object(11)\n",
      "memory usage: 346.2+ MB\n"
     ]
    }
   ],
   "source": [
    "df_sitios.info()"
   ]
  }
 ],
 "metadata": {
  "kernelspec": {
   "display_name": "env-pf",
   "language": "python",
   "name": "python3"
  },
  "language_info": {
   "codemirror_mode": {
    "name": "ipython",
    "version": 3
   },
   "file_extension": ".py",
   "mimetype": "text/x-python",
   "name": "python",
   "nbconvert_exporter": "python",
   "pygments_lexer": "ipython3",
   "version": "3.10.12"
  }
 },
 "nbformat": 4,
 "nbformat_minor": 2
}
