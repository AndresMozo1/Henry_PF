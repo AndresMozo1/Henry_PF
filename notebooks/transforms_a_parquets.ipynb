{
 "cells": [
  {
   "cell_type": "markdown",
   "metadata": {},
   "source": [
    "En este notebook, se transforman los archivos de Yelp y Google a formato parquet.\n"
   ]
  },
  {
   "cell_type": "markdown",
   "metadata": {},
   "source": [
    "Se asume la siguente estructura de directorios para el dataset:\n",
    "```\n",
    "├── data\n",
    "│   ├── Google\n",
    "│   │   ├── metadata-sitios\n",
    "│   │   └── reviews-estados\n",
    "│   └── Yelp\n",
    "└── ...\n",
    "```"
   ]
  },
  {
   "cell_type": "code",
   "execution_count": 2,
   "metadata": {},
   "outputs": [],
   "source": [
    "import os\n",
    "from glob import glob\n",
    "import json\n",
    "import dask.dataframe as dd\n",
    "import pandas as pd\n",
    "import pyarrow as pa\n",
    "from pyarrow import parquet as pq"
   ]
  },
  {
   "cell_type": "code",
   "execution_count": null,
   "metadata": {},
   "outputs": [],
   "source": [
    "# Opción que deshabilita el limite de columnas mostradas\n",
    "pd.set_option('display.max_columns', None)"
   ]
  },
  {
   "cell_type": "markdown",
   "metadata": {},
   "source": [
    "---\n",
    "## Dataset Yelp"
   ]
  },
  {
   "cell_type": "markdown",
   "metadata": {},
   "source": [
    "### `business.pkl`"
   ]
  },
  {
   "cell_type": "code",
   "execution_count": null,
   "metadata": {},
   "outputs": [],
   "source": [
    "business_path = '../data/Yelp/business.pkl'\n",
    "# Leer pkl (pickle)\n",
    "df = pd.read_pickle(business_path)\n",
    "df.sample(2)"
   ]
  },
  {
   "cell_type": "markdown",
   "metadata": {},
   "source": [
    "* Se observan columnas con nombres duplicados. Hay que unir estas columns."
   ]
  },
  {
   "cell_type": "code",
   "execution_count": null,
   "metadata": {},
   "outputs": [],
   "source": [
    "# Calcular la cantida de columns dividida por 2\n",
    "punto_medio = len(df.columns) // 2\n",
    "# Dividir el dataframe por mitad, a largo de las columns,\n",
    "# utilizando el punto_medio calculado\n",
    "df_1er_mitad = df.iloc[:, :punto_medio]\n",
    "df_2nd_mitad = df.iloc[:, punto_medio:]\n",
    "# Unir los dataframes resultantes\n",
    "df_reorganizado = pd.concat([df_1er_mitad, df_2nd_mitad], axis=0)\n",
    "df_reorganizado.sample(2)"
   ]
  },
  {
   "cell_type": "code",
   "execution_count": null,
   "metadata": {},
   "outputs": [],
   "source": [
    "# Eliminar filas con todo nulos\n",
    "df_reorganizado.dropna(axis=0, how='all', inplace=True)"
   ]
  },
  {
   "cell_type": "code",
   "execution_count": null,
   "metadata": {},
   "outputs": [],
   "source": [
    "# Almacenar en formato parquet, en el mismo directorio de 'business_path'\n",
    "df_reorganizado.to_parquet(business_path.replace('.pkl', '.parquet'))  # se cambia sufijo '.pkl' a '.parquet'"
   ]
  },
  {
   "cell_type": "markdown",
   "metadata": {},
   "source": [
    "### `checkin.json`"
   ]
  },
  {
   "cell_type": "code",
   "execution_count": null,
   "metadata": {},
   "outputs": [],
   "source": [
    "checkin_path = '../data/Yelp/checkin.json'\n",
    "# Leer JSON\n",
    "df = pd.read_json(checkin_path, lines=True)\n",
    "# Almacenar en formato parquet, en el mismo directorio\n",
    "df.to_parquet(checkin_path.replace('.json', '.parquet'))  # se cambia sufijo '.json' a '.parquet'"
   ]
  },
  {
   "cell_type": "markdown",
   "metadata": {},
   "source": [
    "### `review.json`"
   ]
  },
  {
   "cell_type": "code",
   "execution_count": null,
   "metadata": {},
   "outputs": [],
   "source": [
    "review_path = '../data/Yelp/review.json'\n",
    "# Crear el dir del almacen para parquets, si no existe\n",
    "os.makedirs('../data/Yelp/review/', exist_ok=True)"
   ]
  },
  {
   "cell_type": "code",
   "execution_count": null,
   "metadata": {},
   "outputs": [],
   "source": [
    "def convertir_json_a_parquets(json_path, output_dir, batch_size=2_350_000):\n",
    "    # Abrir el archivo JSON\n",
    "    with open(json_path, 'r') as json_file:\n",
    "        # Inicializar una lista vacía para contener los objetos JSON\n",
    "        objects = []\n",
    "        contador = 0\n",
    "        \n",
    "        # Leer el archivo línea por línea\n",
    "        for line in json_file:\n",
    "            # Analizar cada línea como un objeto JSON\n",
    "            obj = json.loads(line)\n",
    "\n",
    "            # Agregar el objeto a la lista\n",
    "            objects.append(obj)\n",
    "\n",
    "            # Si la lista ha alcanzado el tamaño del batch_size, escribirlo en un archivo Parquet\n",
    "            if len(objects) == batch_size:\n",
    "                df = pd.DataFrame(objects)\n",
    "                contador += 1\n",
    "                pq.write_table(pa.Table.from_pandas(df), os.path.join(output_dir, f'review_{str(contador).zfill(2)}.parquet'))\n",
    "                objects = []\n",
    "\n",
    "        # Escribir cualquier objeto restante en un archivo Parquet\n",
    "        if objects:\n",
    "            df = pd.DataFrame(objects)\n",
    "            contador += 1\n",
    "            pq.write_table(pa.Table.from_pandas(df), os.path.join(output_dir, f'review_{str(contador).zfill(2)}.parquet'))\n"
   ]
  },
  {
   "cell_type": "code",
   "execution_count": null,
   "metadata": {},
   "outputs": [],
   "source": [
    "# Convertir 'review.json' a archivos parquet\n",
    "convertir_json_a_parquets(review_path, '../data/Yelp/review/')"
   ]
  },
  {
   "cell_type": "markdown",
   "metadata": {},
   "source": [
    "### `tip.json`"
   ]
  },
  {
   "cell_type": "code",
   "execution_count": null,
   "metadata": {},
   "outputs": [],
   "source": [
    "tip_path = '../data/Yelp/tip.json'\n",
    "# Leer JSON\n",
    "df = pd.read_json(tip_path, lines=True)\n",
    "# Almacenar en formato parquet, en el mismo directorio\n",
    "df.to_parquet(tip_path.replace('.json', '.parquet'))  # se cambia sufijo '.json' a '.parquet'Merge de parquets"
   ]
  },
  {
   "cell_type": "markdown",
   "metadata": {},
   "source": [
    "### `user.parquet`"
   ]
  },
  {
   "cell_type": "markdown",
   "metadata": {},
   "source": [
    "Esta en formato parquet, pero es de aprox. 2.7GB. Hay que dividirlo en fragmentos manejables (850MB)."
   ]
  },
  {
   "cell_type": "code",
   "execution_count": null,
   "metadata": {},
   "outputs": [],
   "source": [
    "user_path = '../data/Yelp/user.parquet'\n",
    "# Crear el dir del almacen para parquets, si no existe\n",
    "user_dir = '../data/Yelp/user/'\n",
    "os.makedirs(user_dir, exist_ok=True)"
   ]
  },
  {
   "cell_type": "code",
   "execution_count": null,
   "metadata": {},
   "outputs": [],
   "source": [
    "# Leer 'user.parquet' \n",
    "df = dd.read_parquet(user_path)\n",
    "# Reparticionar la data a archivos de 850MB\n",
    "df = df.repartition(partition_size='850MB')\n",
    "# Almacenar en 'user_dir'\n",
    "df.to_parquet(user_dir)"
   ]
  },
  {
   "cell_type": "markdown",
   "metadata": {},
   "source": [
    "---\n",
    "## Dataset Google"
   ]
  },
  {
   "cell_type": "markdown",
   "metadata": {},
   "source": [
    "### `metadata-sitios/`"
   ]
  },
  {
   "cell_type": "code",
   "execution_count": 2,
   "metadata": {},
   "outputs": [
    {
     "data": {
      "text/plain": [
       "[]"
      ]
     },
     "execution_count": 2,
     "metadata": {},
     "output_type": "execute_result"
    }
   ],
   "source": [
    "# Crear lista de JSON en /metadata-sitios/\n",
    "google_dir = '../data/Google'\n",
    "sitios_jsons = glob(f'{google_dir}/metadata-sitios/*.json')\n",
    "sitios_jsons"
   ]
  },
  {
   "cell_type": "code",
   "execution_count": null,
   "metadata": {},
   "outputs": [],
   "source": [
    "## Convertir archivos JSON, en /metadata-sitios/, a parquet\n",
    "\n",
    "# Crear dataframe donde se unen los datos extraidos de JSON\n",
    "df_union = pd.DataFrame()\n",
    "# Iterar por cada JSON dentro de /metadata-sitios/\n",
    "for f_json in sitios_jsons:\n",
    "    # Leer JSON\n",
    "    df = pd.read_json(f_json, lines=True)\n",
    "    # Unir a union_df\n",
    "    df_union = pd.concat([df_union, df], ignore_index=True)\n",
    "\n",
    "# Almacenar en formato parquet, en el mismo directorio\n",
    "df_union.to_parquet(f'{google_dir}/metadata-sitios/metadata_sitios.parquet')"
   ]
  },
  {
   "cell_type": "markdown",
   "metadata": {},
   "source": [
    "#### Union de parquets\n",
    "Se unen los parquets resultantes del block anterior en un archivo único."
   ]
  },
  {
   "cell_type": "code",
   "execution_count": 3,
   "metadata": {},
   "outputs": [
    {
     "data": {
      "text/plain": [
       "['../data/Google/metadata-sitios\\\\metadata_sitios_01.parquet',\n",
       " '../data/Google/metadata-sitios\\\\metadata_sitios_02.parquet',\n",
       " '../data/Google/metadata-sitios\\\\metadata_sitios_03.parquet',\n",
       " '../data/Google/metadata-sitios\\\\metadata_sitios_04.parquet',\n",
       " '../data/Google/metadata-sitios\\\\metadata_sitios_05.parquet',\n",
       " '../data/Google/metadata-sitios\\\\metadata_sitios_06.parquet',\n",
       " '../data/Google/metadata-sitios\\\\metadata_sitios_07.parquet',\n",
       " '../data/Google/metadata-sitios\\\\metadata_sitios_08.parquet',\n",
       " '../data/Google/metadata-sitios\\\\metadata_sitios_09.parquet',\n",
       " '../data/Google/metadata-sitios\\\\metadata_sitios_10.parquet',\n",
       " '../data/Google/metadata-sitios\\\\metadata_sitios_11.parquet']"
      ]
     },
     "execution_count": 3,
     "metadata": {},
     "output_type": "execute_result"
    }
   ],
   "source": [
    "# Crear lista de parquets en /metadata-sitios/\n",
    "google_dir = '../data/Google'\n",
    "sitios_parquets = glob(f'{google_dir}/metadata-sitios/*.parquet')\n",
    "sitios_parquets"
   ]
  },
  {
   "cell_type": "code",
   "execution_count": 4,
   "metadata": {},
   "outputs": [],
   "source": [
    "# Inicializar una lista para contener dataframes\n",
    "dfs = []\n",
    "# Leer cada archivo parquet como un dataframe y agregar a la lista\n",
    "for archivo in sitios_parquets:\n",
    "    tabla = pq.read_table(archivo)\n",
    "    df = tabla.to_pandas()\n",
    "    dfs.append(df)\n",
    "\n",
    "# Unir todos los dataframes en la lista 'dfs'\n",
    "resultado = pd.concat(dfs, ignore_index=True)\n",
    "\n",
    "# ALmacenar el resultado en un nuevo archivo parquet\n",
    "tabla = pa.Table.from_pandas(resultado)\n",
    "pq.write_table(tabla, f'./g-sitios.parquet')"
   ]
  },
  {
   "cell_type": "markdown",
   "metadata": {},
   "source": [
    "### `reviews-estados/`"
   ]
  },
  {
   "cell_type": "code",
   "execution_count": null,
   "metadata": {},
   "outputs": [],
   "source": [
    "# Lista de directorios en /reviews-estados/\n",
    "google_dir = '../data/Google'\n",
    "review_dirs = glob(f'{google_dir}/reviews-estados/*')\n",
    "review_dirs"
   ]
  },
  {
   "cell_type": "code",
   "execution_count": null,
   "metadata": {},
   "outputs": [],
   "source": [
    "## Convertir archivos JSON, en todo directorio dentro de /reviews-estados/, a parquet\n",
    "\n",
    "# Iterar por cada directorio dentro de /reviews-estados/\n",
    "for path_dir in review_dirs:\n",
    "    # Crear lista de JSON dentro de 'path_dir'\n",
    "    path_jsons = glob(f'{path_dir}/*.json')\n",
    "    # Crear dataframe donde se unen los datos extraidos de JSON\n",
    "    df_union = pd.DataFrame()\n",
    "\n",
    "    # Iterar por cada JSON dentro de 'path_jsons' y almacenar su data en 'union_df'\n",
    "    for f_json in path_jsons:\n",
    "        # Leer JSON\n",
    "        df = pd.read_json(f_json, dtype={'user_id':str}, lines=True)  # fijando 'user_id' a tipo str\n",
    "        # Unir a union_df\n",
    "        df_union = pd.concat([df_union, df], ignore_index=True)\n",
    "\n",
    "    # Almacenar 'union_df' como parquet, en el path '../data/Google/reviews-estados/'\n",
    "    path_almacen = f'{google_dir}/reviews-estados'\n",
    "    nombre_archivo = f'{path_dir.split(\"/\")[-1].replace(\"-\",\"_\")}'\n",
    "    df_union.to_parquet(f'{path_almacen}/{nombre_archivo}.parquet')"
   ]
  },
  {
   "cell_type": "markdown",
   "metadata": {},
   "source": [
    "---\n",
    "## Tranformacion a CSV, para visualizar"
   ]
  },
  {
   "cell_type": "markdown",
   "metadata": {},
   "source": [
    "### Yelp"
   ]
  },
  {
   "cell_type": "markdown",
   "metadata": {},
   "source": [
    "Nota: para dataset Yelp, falta `review.json`"
   ]
  },
  {
   "cell_type": "code",
   "execution_count": null,
   "metadata": {},
   "outputs": [],
   "source": [
    "review_path = '../data/Yelp/review/review_01.parquet'\n",
    "# Leer parquet\n",
    "df = pd.read_parquet(review_path)\n",
    "# Almacenar como CSV, un ejemplar de 100 filas\n",
    "df.sample(100).to_csv(f'../data_csv/yelp_{review_path.split(\"/\")[-1].replace(\".parquet\",\"\")}.csv')"
   ]
  },
  {
   "cell_type": "code",
   "execution_count": null,
   "metadata": {},
   "outputs": [],
   "source": [
    "business_path = '../data/Yelp/business.parquet'\n",
    "# Leer parquet\n",
    "df = pd.read_parquet(business_path)\n",
    "# Almacenar como CSV, un ejemplar de 100 filas\n",
    "df.sample(100).to_csv(f'../data_csv/yelp_{business_path.split(\"/\")[-1].replace(\".parquet\",\"\")}.csv')"
   ]
  },
  {
   "cell_type": "code",
   "execution_count": null,
   "metadata": {},
   "outputs": [],
   "source": [
    "checkin_path = '../data/Yelp/checkin.parquet'\n",
    "# Leer parquet\n",
    "df = pd.read_parquet(checkin_path)\n",
    "# Almacenar como CSV, un ejemplar de 100 filas\n",
    "df.sample(100).to_csv(f'../data_csv/yelp_{checkin_path.split(\"/\")[-1].replace(\".parquet\",\"\")}.csv')"
   ]
  },
  {
   "cell_type": "code",
   "execution_count": null,
   "metadata": {},
   "outputs": [],
   "source": [
    "tip_path = '../data/Yelp/tip.parquet'\n",
    "# Leer parquet\n",
    "df = pd.read_parquet(tip_path)\n",
    "# Almacenar como CSV, un ejemplar de 100 filas\n",
    "df.sample(100).to_csv(f'../data_csv/yelp_{tip_path.split(\"/\")[-1].replace(\".parquet\",\"\")}.csv')"
   ]
  },
  {
   "cell_type": "code",
   "execution_count": null,
   "metadata": {},
   "outputs": [],
   "source": [
    "user_path = '../data/Yelp/user.parquet'\n",
    "# Leer parquet\n",
    "df = pd.read_parquet(user_path)\n",
    "# Almacenar como CSV, un ejemplar de 100 filas\n",
    "df.sample(100).to_csv(f'../data_csv/yelp_{user_path.split(\"/\")[-1].replace(\".parquet\",\"\")}.csv')"
   ]
  },
  {
   "cell_type": "markdown",
   "metadata": {},
   "source": [
    "### Google"
   ]
  },
  {
   "cell_type": "code",
   "execution_count": null,
   "metadata": {},
   "outputs": [],
   "source": [
    "google_dir = '../data/Google'"
   ]
  },
  {
   "cell_type": "code",
   "execution_count": null,
   "metadata": {},
   "outputs": [],
   "source": [
    "# Leer parquet\n",
    "df = pd.read_parquet(f'{google_dir}/metadata-sitios/metadata_sitios_01.parquet')\n",
    "# Almacenar como CSV, un ejemplar de 100 filas\n",
    "df.sample(100).to_csv(f'../data_csv/google_sitios.csv')"
   ]
  },
  {
   "cell_type": "code",
   "execution_count": null,
   "metadata": {},
   "outputs": [],
   "source": [
    "# Leer parquet\n",
    "df = pd.read_parquet(f'{google_dir}/reviews-estados/review_District_of_Columbia.parquet')\n",
    "# Almacenar como CSV, un ejemplar de 100 filas\n",
    "df.sample(100).to_csv(f'../data_csv/google_reviews.csv')"
   ]
  }
 ],
 "metadata": {
  "kernelspec": {
   "display_name": "py311",
   "language": "python",
   "name": "python3"
  },
  "language_info": {
   "codemirror_mode": {
    "name": "ipython",
    "version": 3
   },
   "file_extension": ".py",
   "mimetype": "text/x-python",
   "name": "python",
   "nbconvert_exporter": "python",
   "pygments_lexer": "ipython3",
   "version": "3.11.0"
  },
  "orig_nbformat": 4
 },
 "nbformat": 4,
 "nbformat_minor": 2
}
