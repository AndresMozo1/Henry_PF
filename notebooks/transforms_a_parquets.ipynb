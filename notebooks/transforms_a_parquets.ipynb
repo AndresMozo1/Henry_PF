{
 "cells": [
  {
   "cell_type": "markdown",
   "metadata": {},
   "source": [
    "En este notebook, se transforman los archivos de Yelp y Google a formato parquet.\n"
   ]
  },
  {
   "cell_type": "markdown",
   "metadata": {},
   "source": [
    "Se asume la siguente estructura de directorios:\n",
    "```\n",
    "├── data\n",
    "│   ├── Google\n",
    "│   │   ├── metadata-sitios\n",
    "│   │   └── reviews-estados\n",
    "│   └── Yelp\n",
    "└── ...\n",
    "```"
   ]
  },
  {
   "cell_type": "code",
   "execution_count": 1,
   "metadata": {},
   "outputs": [],
   "source": [
    "import os\n",
    "from glob import glob\n",
    "import json\n",
    "import dask.dataframe as dd\n",
    "import pandas as pd\n",
    "import pyarrow as pa\n",
    "from pyarrow import parquet as pq"
   ]
  },
  {
   "cell_type": "code",
   "execution_count": 2,
   "metadata": {},
   "outputs": [],
   "source": [
    "# Opción que deshabilita el limite de columnas mostradas\n",
    "pd.set_option('display.max_columns', None)"
   ]
  },
  {
   "cell_type": "markdown",
   "metadata": {},
   "source": [
    "---\n",
    "## Dataset Yelp"
   ]
  },
  {
   "cell_type": "markdown",
   "metadata": {},
   "source": [
    "### `business.pkl`"
   ]
  },
  {
   "cell_type": "code",
   "execution_count": null,
   "metadata": {},
   "outputs": [],
   "source": [
    "business_path = './data/Yelp/business.pkl'\n",
    "# Leer pkl (pickle)\n",
    "df = pd.read_pickle(business_path)\n",
    "df.sample(2)"
   ]
  },
  {
   "cell_type": "markdown",
   "metadata": {},
   "source": [
    "* Se observan columnas con nombres duplicados. Hay que unir estas columns."
   ]
  },
  {
   "cell_type": "code",
   "execution_count": null,
   "metadata": {},
   "outputs": [],
   "source": [
    "# Calcular la cantida de columns dividida por 2\n",
    "punto_medio = len(df.columns) // 2\n",
    "# Dividir el dataframe por mitad, a largo de las columns,\n",
    "# utilizando el punto_medio calculado\n",
    "df_1er_mitad = df.iloc[:, :punto_medio]\n",
    "df_2nd_mitad = df.iloc[:, punto_medio:]\n",
    "# Unir los dataframes resultantes\n",
    "df_reorganizado = pd.concat([df_1er_mitad, df_2nd_mitad], axis=0)\n",
    "df_reorganizado.sample(2)"
   ]
  },
  {
   "cell_type": "code",
   "execution_count": null,
   "metadata": {},
   "outputs": [],
   "source": [
    "# Eliminar filas con todo nulos\n",
    "df_reorganizado.dropna(axis=0, how='all', inplace=True)"
   ]
  },
  {
   "cell_type": "code",
   "execution_count": null,
   "metadata": {},
   "outputs": [],
   "source": [
    "# Almacenar en formato parquet, en el mismo directorio de 'business_path'\n",
    "df_reorganizado.to_parquet(business_path.replace('.pkl', '.parquet'))  # se cambia sufijo '.pkl' a '.parquet'"
   ]
  },
  {
   "cell_type": "markdown",
   "metadata": {},
   "source": [
    "### `checkin.json`"
   ]
  },
  {
   "cell_type": "code",
   "execution_count": null,
   "metadata": {},
   "outputs": [],
   "source": [
    "checkin_path = './data/Yelp/checkin.json'\n",
    "# Leer JSON\n",
    "df = pd.read_json(checkin_path, lines=True)\n",
    "# Almacenar en formato parquet, en el mismo directorio\n",
    "df.to_parquet(checkin_path.replace('.json', '.parquet'))  # se cambia sufijo '.json' a '.parquet'"
   ]
  },
  {
   "cell_type": "markdown",
   "metadata": {},
   "source": [
    "### `review.json`"
   ]
  },
  {
   "cell_type": "code",
   "execution_count": 35,
   "metadata": {},
   "outputs": [],
   "source": [
    "review_path = './data/Yelp/review.json'\n",
    "# Crear el dir del almacen para parquets, si no existe\n",
    "os.makedirs('./data/Yelp/yelp-review/', exist_ok=True)"
   ]
  },
  {
   "cell_type": "code",
   "execution_count": 36,
   "metadata": {},
   "outputs": [],
   "source": [
    "def convertir_json_a_parquets(json_path, output_dir, batch_size=500_000):\n",
    "    # Abrir el archivo JSON\n",
    "    with open(json_path, 'r') as json_file:\n",
    "        # Inicializar una lista vacía para contener los objetos JSON\n",
    "        objects = []\n",
    "        contador = 0\n",
    "        \n",
    "        # Leer el archivo línea por línea\n",
    "        for line in json_file:\n",
    "            # Analizar cada línea como un objeto JSON\n",
    "            obj = json.loads(line)\n",
    "\n",
    "            # Agregar el objeto a la lista\n",
    "            objects.append(obj)\n",
    "\n",
    "            # Si la lista ha alcanzado el tamaño del batch_size, escribirlo en un archivo Parquet\n",
    "            if len(objects) == batch_size:\n",
    "                df = pd.DataFrame(objects)\n",
    "                contador += 1\n",
    "                pq.write_table(pa.Table.from_pandas(df), os.path.join(output_dir, f'review_{str(contador).zfill(2)}.parquet'))\n",
    "                objects = []\n",
    "\n",
    "        # Escribir cualquier objeto restante en un archivo Parquet\n",
    "        if objects:\n",
    "            df = pd.DataFrame(objects)\n",
    "            contador += 1\n",
    "            pq.write_table(pa.Table.from_pandas(df), os.path.join(output_dir, f'review_{str(contador).zfill(2)}.parquet'))\n"
   ]
  },
  {
   "cell_type": "code",
   "execution_count": null,
   "metadata": {},
   "outputs": [],
   "source": [
    "# Convertir 'review.json' a archivos parquet\n",
    "convertir_json_a_parquets(review_path, './data/Yelp/review/')"
   ]
  },
  {
   "cell_type": "markdown",
   "metadata": {},
   "source": [
    "### `tip.json`"
   ]
  },
  {
   "cell_type": "code",
   "execution_count": null,
   "metadata": {},
   "outputs": [],
   "source": [
    "tip_path = './data/Yelp/tip.json'\n",
    "# Leer JSON\n",
    "df = pd.read_json(tip_path, lines=True)\n",
    "# Almacenar en formato parquet, en el mismo directorio\n",
    "df.to_parquet(tip_path.replace('.json', '.parquet'))  # se cambia sufijo '.json' a '.parquet'Merge de parquets"
   ]
  },
  {
   "cell_type": "markdown",
   "metadata": {},
   "source": [
    "### `user.parquet`"
   ]
  },
  {
   "cell_type": "markdown",
   "metadata": {},
   "source": [
    "Esta en formato parquet, pero es de aprox. 2.7GB. Hay que dividirlo en fragmentos manejables (250MB)."
   ]
  },
  {
   "cell_type": "code",
   "execution_count": 7,
   "metadata": {},
   "outputs": [],
   "source": [
    "user_path = './data/Yelp/user.parquet'\n",
    "# Crear el dir del almacen para parquets, si no existe\n",
    "user_dir = './data/Yelp/yelp-user/'\n",
    "os.makedirs(user_dir, exist_ok=True)"
   ]
  },
  {
   "cell_type": "code",
   "execution_count": 8,
   "metadata": {},
   "outputs": [],
   "source": [
    "# Leer 'user.parquet' \n",
    "df = dd.read_parquet(user_path)\n",
    "# Reparticionar la data a archivos de 250MB\n",
    "df = df.repartition(partition_size='250MB')\n",
    "# Almacenar en 'user_dir'\n",
    "df.to_parquet(user_dir)"
   ]
  },
  {
   "cell_type": "markdown",
   "metadata": {},
   "source": [
    "---\n",
    "## Dataset Google"
   ]
  },
  {
   "cell_type": "markdown",
   "metadata": {},
   "source": [
    "### `metadata-sitios/`"
   ]
  },
  {
   "cell_type": "code",
   "execution_count": 4,
   "metadata": {},
   "outputs": [],
   "source": [
    "df = pd.read_json('1.json', lines=True)"
   ]
  },
  {
   "cell_type": "code",
   "execution_count": 7,
   "metadata": {},
   "outputs": [
    {
     "data": {
      "text/html": [
       "<div>\n",
       "<style scoped>\n",
       "    .dataframe tbody tr th:only-of-type {\n",
       "        vertical-align: middle;\n",
       "    }\n",
       "\n",
       "    .dataframe tbody tr th {\n",
       "        vertical-align: top;\n",
       "    }\n",
       "\n",
       "    .dataframe thead th {\n",
       "        text-align: right;\n",
       "    }\n",
       "</style>\n",
       "<table border=\"1\" class=\"dataframe\">\n",
       "  <thead>\n",
       "    <tr style=\"text-align: right;\">\n",
       "      <th></th>\n",
       "      <th>name</th>\n",
       "      <th>address</th>\n",
       "      <th>gmap_id</th>\n",
       "      <th>description</th>\n",
       "      <th>latitude</th>\n",
       "      <th>longitude</th>\n",
       "      <th>category</th>\n",
       "      <th>avg_rating</th>\n",
       "      <th>num_of_reviews</th>\n",
       "      <th>price</th>\n",
       "      <th>hours</th>\n",
       "      <th>MISC</th>\n",
       "      <th>state</th>\n",
       "      <th>relative_results</th>\n",
       "      <th>url</th>\n",
       "    </tr>\n",
       "  </thead>\n",
       "  <tbody>\n",
       "    <tr>\n",
       "      <th>134024</th>\n",
       "      <td>Bluegrass Total Weight Specialists</td>\n",
       "      <td>Bluegrass Total Weight Specialists, 609 Chambe...</td>\n",
       "      <td>0x8842752536e649f1:0x44b1b4f5dad813de</td>\n",
       "      <td>None</td>\n",
       "      <td>38.159747</td>\n",
       "      <td>-84.914630</td>\n",
       "      <td>[Bariatric surgeon]</td>\n",
       "      <td>4.7</td>\n",
       "      <td>8</td>\n",
       "      <td>None</td>\n",
       "      <td>[[Saturday, Closed], [Sunday, Closed], [Monday...</td>\n",
       "      <td>{'Service options': ['Online care'], 'Accessib...</td>\n",
       "      <td>Closed ⋅ Opens 8AM Mon</td>\n",
       "      <td>None</td>\n",
       "      <td>https://www.google.com/maps/place//data=!4m2!3...</td>\n",
       "    </tr>\n",
       "    <tr>\n",
       "      <th>131110</th>\n",
       "      <td>Manetto Hill Auto Services</td>\n",
       "      <td>Manetto Hill Auto Services, 220 Manetto Hill R...</td>\n",
       "      <td>0x89c281e435832f01:0x533ac8bb5d4a198</td>\n",
       "      <td>None</td>\n",
       "      <td>40.786575</td>\n",
       "      <td>-73.473839</td>\n",
       "      <td>[Auto repair shop, Gas station]</td>\n",
       "      <td>3.3</td>\n",
       "      <td>4</td>\n",
       "      <td>None</td>\n",
       "      <td>[[Saturday, 8AM–5PM], [Sunday, Closed], [Monda...</td>\n",
       "      <td>{'Offerings': ['Oil change'], 'Amenities': ['M...</td>\n",
       "      <td>Closed ⋅ Opens 8AM</td>\n",
       "      <td>[0x89c281e6ee0d8b9d:0xcdc7dc4bd0d5237c, 0x89c2...</td>\n",
       "      <td>https://www.google.com/maps/place//data=!4m2!3...</td>\n",
       "    </tr>\n",
       "    <tr>\n",
       "      <th>79655</th>\n",
       "      <td>Wholesale Motors Inc.</td>\n",
       "      <td>Wholesale Motors Inc., 140 Riverside St, Portl...</td>\n",
       "      <td>0x4cb29a504933812d:0xba7dd41a714a782d</td>\n",
       "      <td>None</td>\n",
       "      <td>43.682022</td>\n",
       "      <td>-70.329755</td>\n",
       "      <td>[Used car dealer, Auto tune up service, Car de...</td>\n",
       "      <td>3.0</td>\n",
       "      <td>8</td>\n",
       "      <td>None</td>\n",
       "      <td>[[Monday, 8AM–8PM], [Tuesday, 8AM–8PM], [Wedne...</td>\n",
       "      <td>{'Accessibility': ['Wheelchair accessible entr...</td>\n",
       "      <td>Permanently closed</td>\n",
       "      <td>None</td>\n",
       "      <td>https://www.google.com/maps/place//data=!4m2!3...</td>\n",
       "    </tr>\n",
       "    <tr>\n",
       "      <th>245800</th>\n",
       "      <td>MyEyeDr.</td>\n",
       "      <td>MyEyeDr., 1611 FL-60 EAST, Lake Wales, FL 33853</td>\n",
       "      <td>0x88dd0855d93e1645:0xff1f3ee31cb43455</td>\n",
       "      <td>None</td>\n",
       "      <td>27.894589</td>\n",
       "      <td>-81.557846</td>\n",
       "      <td>[Eye care center, Contact lenses supplier]</td>\n",
       "      <td>4.0</td>\n",
       "      <td>28</td>\n",
       "      <td>None</td>\n",
       "      <td>[[Sunday, Closed], [Monday, 8AM–5PM], [Tuesday...</td>\n",
       "      <td>{'Accessibility': ['Wheelchair accessible entr...</td>\n",
       "      <td>Closed ⋅ Opens 8AM Mon</td>\n",
       "      <td>[0x88dd0c192faf8c01:0x579f4d00cfb3bf59, 0x88dd...</td>\n",
       "      <td>https://www.google.com/maps/place//data=!4m2!3...</td>\n",
       "    </tr>\n",
       "    <tr>\n",
       "      <th>3460</th>\n",
       "      <td>University Stores - Continuing Education</td>\n",
       "      <td>University Stores - Continuing Education, 3333...</td>\n",
       "      <td>0x88f5152d7efc3e4b:0xd5d5252fa56c3360</td>\n",
       "      <td>None</td>\n",
       "      <td>34.031056</td>\n",
       "      <td>-84.573888</td>\n",
       "      <td>[Book store]</td>\n",
       "      <td>5.0</td>\n",
       "      <td>2</td>\n",
       "      <td>None</td>\n",
       "      <td>[[Thursday, 9AM–12PM], [Friday, Closed], [Satu...</td>\n",
       "      <td>{'Accessibility': ['Wheelchair accessible entr...</td>\n",
       "      <td>Closed ⋅ Opens 9AM</td>\n",
       "      <td>[0x88f51534521d4117:0xb1f0be872d716462, 0x88f5...</td>\n",
       "      <td>https://www.google.com/maps/place//data=!4m2!3...</td>\n",
       "    </tr>\n",
       "  </tbody>\n",
       "</table>\n",
       "</div>"
      ],
      "text/plain": [
       "                                            name  \\\n",
       "134024        Bluegrass Total Weight Specialists   \n",
       "131110                Manetto Hill Auto Services   \n",
       "79655                      Wholesale Motors Inc.   \n",
       "245800                                  MyEyeDr.   \n",
       "3460    University Stores - Continuing Education   \n",
       "\n",
       "                                                  address  \\\n",
       "134024  Bluegrass Total Weight Specialists, 609 Chambe...   \n",
       "131110  Manetto Hill Auto Services, 220 Manetto Hill R...   \n",
       "79655   Wholesale Motors Inc., 140 Riverside St, Portl...   \n",
       "245800    MyEyeDr., 1611 FL-60 EAST, Lake Wales, FL 33853   \n",
       "3460    University Stores - Continuing Education, 3333...   \n",
       "\n",
       "                                      gmap_id description   latitude  \\\n",
       "134024  0x8842752536e649f1:0x44b1b4f5dad813de        None  38.159747   \n",
       "131110   0x89c281e435832f01:0x533ac8bb5d4a198        None  40.786575   \n",
       "79655   0x4cb29a504933812d:0xba7dd41a714a782d        None  43.682022   \n",
       "245800  0x88dd0855d93e1645:0xff1f3ee31cb43455        None  27.894589   \n",
       "3460    0x88f5152d7efc3e4b:0xd5d5252fa56c3360        None  34.031056   \n",
       "\n",
       "        longitude                                           category  \\\n",
       "134024 -84.914630                                [Bariatric surgeon]   \n",
       "131110 -73.473839                    [Auto repair shop, Gas station]   \n",
       "79655  -70.329755  [Used car dealer, Auto tune up service, Car de...   \n",
       "245800 -81.557846         [Eye care center, Contact lenses supplier]   \n",
       "3460   -84.573888                                       [Book store]   \n",
       "\n",
       "        avg_rating  num_of_reviews price  \\\n",
       "134024         4.7               8  None   \n",
       "131110         3.3               4  None   \n",
       "79655          3.0               8  None   \n",
       "245800         4.0              28  None   \n",
       "3460           5.0               2  None   \n",
       "\n",
       "                                                    hours  \\\n",
       "134024  [[Saturday, Closed], [Sunday, Closed], [Monday...   \n",
       "131110  [[Saturday, 8AM–5PM], [Sunday, Closed], [Monda...   \n",
       "79655   [[Monday, 8AM–8PM], [Tuesday, 8AM–8PM], [Wedne...   \n",
       "245800  [[Sunday, Closed], [Monday, 8AM–5PM], [Tuesday...   \n",
       "3460    [[Thursday, 9AM–12PM], [Friday, Closed], [Satu...   \n",
       "\n",
       "                                                     MISC  \\\n",
       "134024  {'Service options': ['Online care'], 'Accessib...   \n",
       "131110  {'Offerings': ['Oil change'], 'Amenities': ['M...   \n",
       "79655   {'Accessibility': ['Wheelchair accessible entr...   \n",
       "245800  {'Accessibility': ['Wheelchair accessible entr...   \n",
       "3460    {'Accessibility': ['Wheelchair accessible entr...   \n",
       "\n",
       "                         state  \\\n",
       "134024  Closed ⋅ Opens 8AM Mon   \n",
       "131110      Closed ⋅ Opens 8AM   \n",
       "79655       Permanently closed   \n",
       "245800  Closed ⋅ Opens 8AM Mon   \n",
       "3460        Closed ⋅ Opens 9AM   \n",
       "\n",
       "                                         relative_results  \\\n",
       "134024                                               None   \n",
       "131110  [0x89c281e6ee0d8b9d:0xcdc7dc4bd0d5237c, 0x89c2...   \n",
       "79655                                                None   \n",
       "245800  [0x88dd0c192faf8c01:0x579f4d00cfb3bf59, 0x88dd...   \n",
       "3460    [0x88f51534521d4117:0xb1f0be872d716462, 0x88f5...   \n",
       "\n",
       "                                                      url  \n",
       "134024  https://www.google.com/maps/place//data=!4m2!3...  \n",
       "131110  https://www.google.com/maps/place//data=!4m2!3...  \n",
       "79655   https://www.google.com/maps/place//data=!4m2!3...  \n",
       "245800  https://www.google.com/maps/place//data=!4m2!3...  \n",
       "3460    https://www.google.com/maps/place//data=!4m2!3...  "
      ]
     },
     "execution_count": 7,
     "metadata": {},
     "output_type": "execute_result"
    }
   ],
   "source": [
    "df.sample(5)"
   ]
  },
  {
   "cell_type": "code",
   "execution_count": null,
   "metadata": {},
   "outputs": [],
   "source": [
    "# Crear lista de JSON en /metadata-sitios/\n",
    "google_dir = './data/Google'\n",
    "metadata_jsons = glob(f'{google_dir}/metadata-sitios/*json')\n",
    "metadata_jsons"
   ]
  },
  {
   "cell_type": "code",
   "execution_count": null,
   "metadata": {},
   "outputs": [],
   "source": [
    "## Convertir archivos JSON, en /metadata-sitios/, a parquet\n",
    "\n",
    "# Crear dataframe donde se unen los datos extraidos de JSON\n",
    "union_df = pd.DataFrame()\n",
    "# Iterar por cada JSON dentro de /metadata-sitios/\n",
    "for f_json in metadata_jsons:\n",
    "    # Leer JSON\n",
    "    df = pd.read_json(f_json, lines=True)\n",
    "    # Unir a union_df\n",
    "    union_df = pd.concat([union_df, df], ignore_index=True)\n",
    "\n",
    "# Almacenar en formato parquet, en el mismo directorio\n",
    "union_df.to_parquet(f'{google_dir}/metadata-sitios/metadata_sitios.parquet')"
   ]
  },
  {
   "cell_type": "markdown",
   "metadata": {},
   "source": [
    "### `reviews-estados/`"
   ]
  },
  {
   "cell_type": "code",
   "execution_count": null,
   "metadata": {},
   "outputs": [],
   "source": [
    "# Lista de directorios en /reviews-estados/\n",
    "google_dir = './data/Google'\n",
    "review_dirs = glob(f'{google_dir}/reviews-estados/*')\n",
    "review_dirs"
   ]
  },
  {
   "cell_type": "code",
   "execution_count": null,
   "metadata": {},
   "outputs": [],
   "source": [
    "## Convertir archivos JSON, en todo directorio dentro de /reviews-estados/, a parquet\n",
    "\n",
    "# Iterar por cada directorio dentro de /reviews-estados/\n",
    "for path_dir in review_dirs:\n",
    "    # Crear lista de JSON dentro de 'path_dir'\n",
    "    path_jsons = glob(f'{path_dir}/*.json')\n",
    "    # Crear dataframe donde se unen los datos extraidos de JSON\n",
    "    union_df = pd.DataFrame()\n",
    "\n",
    "    # Iterar por cada JSON dentro de 'path_jsons' y almacenar su data en 'union_df'\n",
    "    for f_json in path_jsons:\n",
    "        # Leer JSON\n",
    "        df = pd.read_json(f_json, dtype={'user_id':str}, lines=True)  # fijando 'user_id' a tipo str\n",
    "        # Unir a union_df\n",
    "        union_df = pd.concat([union_df, df], ignore_index=True)\n",
    "\n",
    "    # Almacenar 'union_df' como parquet, en el path './data/Google/reviews-estados/'\n",
    "    path_almacen = f'{google_dir}/reviews-estados'\n",
    "    nombre_archivo = f'{path_dir.split(\"/\")[-1].replace(\"-\",\"_\")}'\n",
    "    union_df.to_parquet(f'{path_almacen}/{nombre_archivo}.parquet')"
   ]
  },
  {
   "cell_type": "markdown",
   "metadata": {},
   "source": [
    "---\n",
    "## Tranformacion a CSV, para visualizar"
   ]
  },
  {
   "cell_type": "markdown",
   "metadata": {},
   "source": [
    "### Yelp"
   ]
  },
  {
   "cell_type": "markdown",
   "metadata": {},
   "source": [
    "Nota: para dataset Yelp, falta `review.json`"
   ]
  },
  {
   "cell_type": "code",
   "execution_count": 38,
   "metadata": {},
   "outputs": [],
   "source": [
    "review_path = './data/Yelp/review/review_01.parquet'\n",
    "# Leer parquet\n",
    "df = pd.read_parquet(review_path)\n",
    "# Almacenar como CSV, un ejemplar de 100 filas\n",
    "df.sample(100).to_csv(f'./data_csv/yelp_{review_path.split(\"/\")[-1].replace(\".parquet\",\"\")}.csv')"
   ]
  },
  {
   "cell_type": "code",
   "execution_count": null,
   "metadata": {},
   "outputs": [],
   "source": [
    "business_path = './data/Yelp/business.parquet'\n",
    "# Leer parquet\n",
    "df = pd.read_parquet(business_path)\n",
    "# Almacenar como CSV, un ejemplar de 100 filas\n",
    "df.sample(100).to_csv(f'./data_csv/yelp_{business_path.split(\"/\")[-1].replace(\".parquet\",\"\")}.csv')"
   ]
  },
  {
   "cell_type": "code",
   "execution_count": null,
   "metadata": {},
   "outputs": [],
   "source": [
    "checkin_path = './data/Yelp/checkin.parquet'\n",
    "# Leer parquet\n",
    "df = pd.read_parquet(checkin_path)\n",
    "# Almacenar como CSV, un ejemplar de 100 filas\n",
    "df.sample(100).to_csv(f'./data_csv/yelp_{checkin_path.split(\"/\")[-1].replace(\".parquet\",\"\")}.csv')"
   ]
  },
  {
   "cell_type": "code",
   "execution_count": null,
   "metadata": {},
   "outputs": [],
   "source": [
    "tip_path = './data/Yelp/tip.parquet'\n",
    "# Leer parquet\n",
    "df = pd.read_parquet(tip_path)\n",
    "# Almacenar como CSV, un ejemplar de 100 filas\n",
    "df.sample(100).to_csv(f'./data_csv/yelp_{tip_path.split(\"/\")[-1].replace(\".parquet\",\"\")}.csv')"
   ]
  },
  {
   "cell_type": "code",
   "execution_count": null,
   "metadata": {},
   "outputs": [],
   "source": [
    "user_path = './data/Yelp/user.parquet'\n",
    "# Leer parquet\n",
    "df = pd.read_parquet(user_path)\n",
    "# Almacenar como CSV, un ejemplar de 100 filas\n",
    "df.sample(100).to_csv(f'./data_csv/yelp_{user_path.split(\"/\")[-1].replace(\".parquet\",\"\")}.csv')"
   ]
  },
  {
   "cell_type": "markdown",
   "metadata": {},
   "source": [
    "### Google"
   ]
  },
  {
   "cell_type": "code",
   "execution_count": 3,
   "metadata": {},
   "outputs": [],
   "source": [
    "google_dir = './data/Google'"
   ]
  },
  {
   "cell_type": "code",
   "execution_count": 5,
   "metadata": {},
   "outputs": [],
   "source": [
    "# Leer parquet\n",
    "df = pd.read_parquet(f'{google_dir}/metadata-sitios/metadata_sitios_01.parquet')\n",
    "# Almacenar como CSV, un ejemplar de 100 filas\n",
    "df.sample(100).to_csv(f'./data_csv/google_sitios.csv')"
   ]
  },
  {
   "cell_type": "code",
   "execution_count": 6,
   "metadata": {},
   "outputs": [],
   "source": [
    "# Leer parquet\n",
    "df = pd.read_parquet(f'{google_dir}/reviews-estados/review_District_of_Columbia.parquet')\n",
    "# Almacenar como CSV, un ejemplar de 100 filas\n",
    "df.sample(100).to_csv(f'./data_csv/google_reviews.csv')"
   ]
  }
 ],
 "metadata": {
  "kernelspec": {
   "display_name": "py311",
   "language": "python",
   "name": "python3"
  },
  "language_info": {
   "codemirror_mode": {
    "name": "ipython",
    "version": 3
   },
   "file_extension": ".py",
   "mimetype": "text/x-python",
   "name": "python",
   "nbconvert_exporter": "python",
   "pygments_lexer": "ipython3",
   "version": "3.11.0"
  },
  "orig_nbformat": 4
 },
 "nbformat": 4,
 "nbformat_minor": 2
}
