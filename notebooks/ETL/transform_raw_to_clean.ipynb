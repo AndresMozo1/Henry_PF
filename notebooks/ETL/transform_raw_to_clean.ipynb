{
 "cells": [
  {
   "cell_type": "code",
   "execution_count": 21,
   "metadata": {},
   "outputs": [],
   "source": [
    "import warnings\n",
    "from ftfy import fix_text\n",
    "from geopy.distance import geodesic\n",
    "import pandas as pd\n",
    "from rapidfuzz import process, fuzz\n",
    "import carga_data as cd"
   ]
  },
  {
   "cell_type": "code",
   "execution_count": 22,
   "metadata": {},
   "outputs": [],
   "source": [
    "warnings.filterwarnings('ignore')"
   ]
  },
  {
   "cell_type": "markdown",
   "metadata": {},
   "source": [
    "---\n",
    "---\n",
    "# Yelp\n"
   ]
  },
  {
   "cell_type": "markdown",
   "metadata": {},
   "source": [
    "## Carga de dataset"
   ]
  },
  {
   "cell_type": "code",
   "execution_count": 23,
   "metadata": {},
   "outputs": [
    {
     "data": {
      "text/plain": [
       "dict_keys(['business', 'checkin', 'tip', 'review', 'user'])"
      ]
     },
     "execution_count": 23,
     "metadata": {},
     "output_type": "execute_result"
    }
   ],
   "source": [
    "# Path de los archivos no-procesados (formato parquet)\n",
    "path_data = '../../data/raw'\n",
    "yelp = cd.cargar_dataset_yelp(path_data)\n",
    "yelp.keys()"
   ]
  },
  {
   "cell_type": "code",
   "execution_count": 24,
   "metadata": {},
   "outputs": [],
   "source": [
    "df_business, df_checkin, df_tip, df_review, df_user = yelp.values()"
   ]
  },
  {
   "cell_type": "markdown",
   "metadata": {},
   "source": [
    "## Transformaciones"
   ]
  },
  {
   "cell_type": "markdown",
   "metadata": {},
   "source": [
    "### Tabla `business`"
   ]
  },
  {
   "cell_type": "code",
   "execution_count": 25,
   "metadata": {},
   "outputs": [],
   "source": [
    "# Convertir columna 'categories' a tipo list\n",
    "df_business['categories'] = df_business['categories'].apply(lambda x: x.strip().replace(', ',',').split(',') if x else [])"
   ]
  },
  {
   "cell_type": "markdown",
   "metadata": {},
   "source": [
    "Filtro generales, basado en enfoque del proyecto (restaurantes dentro de una area geografica)"
   ]
  },
  {
   "cell_type": "code",
   "execution_count": 26,
   "metadata": {},
   "outputs": [
    {
     "data": {
      "text/plain": [
       "(16320, 13)"
      ]
     },
     "execution_count": 26,
     "metadata": {},
     "output_type": "execute_result"
    }
   ],
   "source": [
    "## Filtros principales del dataset\n",
    "#  Toda otra tabla del dataset se filtra en base a los \n",
    "#  `business_id` que se encuentran en el `df_business` procesado.\n",
    "\n",
    "# Filtrar donde `is_open == 1`\n",
    "df_business = df_business[df_business['is_open'] == 1]\n",
    "# Descartar col `is_open`\n",
    "df_business.drop('is_open', axis=1, inplace=True)\n",
    "\n",
    "# Filtrar por categoría 'Restaurants'\n",
    "filtro_categoria = 'Restaurants'\n",
    "df_business = df_business[df_business['categories'].apply(lambda x: filtro_categoria in x)]\n",
    "\n",
    "# Filtrar por estados de interes\n",
    "filtro_estado = ['DE', 'NJ', 'PA', 'FL']\n",
    "df_business = df_business[df_business['state'].isin(filtro_estado)]\n",
    "\n",
    "df_business.shape"
   ]
  },
  {
   "cell_type": "markdown",
   "metadata": {},
   "source": [
    "Filtro por coordinadas"
   ]
  },
  {
   "cell_type": "code",
   "execution_count": 27,
   "metadata": {},
   "outputs": [],
   "source": [
    "def es_dentro_de_area(latitude, longitude, punto_centro, radio=60) -> bool:\n",
    "    \"\"\"Devuelve valor boolean, True si `latitude` y `longitude` de entrada estan\n",
    "    dentro del area definido por `punto_centro` y `radio. De lo contrario,\n",
    "    devuelve False.\n",
    "    \"\"\"\n",
    "    # Calcular la distancia desde el punto central `punto_centro`\n",
    "    distancia = geodesic((latitude, longitude), punto_centro).miles\n",
    "    # Check if the distance is within the specified radius\n",
    "    return distancia <= radio"
   ]
  },
  {
   "cell_type": "code",
   "execution_count": 28,
   "metadata": {},
   "outputs": [],
   "source": [
    "# Coordinadas de Philadelphia, PA\n",
    "coord_philadelphia = (39.9526, -75.1652)\n",
    "\n",
    "# Crear nuava columna con\n",
    "df_business['es_area_Philadelphia'] = df_business.apply(lambda x: es_dentro_de_area(x['latitude'], x['longitude'], coord_philadelphia), axis=1)"
   ]
  },
  {
   "cell_type": "code",
   "execution_count": 29,
   "metadata": {},
   "outputs": [],
   "source": [
    "# Coordinadas de Tampa, FL\n",
    "coord_tampa = (27.9475, -82.4586)\n",
    "\n",
    "# Crear nuava columna con \n",
    "df_business['es_area_Tampa'] = df_business.apply(lambda x: es_dentro_de_area(x['latitude'], x['longitude'], coord_tampa), axis=1)"
   ]
  },
  {
   "cell_type": "code",
   "execution_count": 30,
   "metadata": {},
   "outputs": [],
   "source": [
    "df_business = df_business[df_business['es_area_Philadelphia'] | df_business['es_area_Tampa']]\n",
    "df_business.drop(columns=['es_area_Philadelphia', 'es_area_Tampa'], inplace=True)"
   ]
  },
  {
   "cell_type": "markdown",
   "metadata": {},
   "source": [
    "Nuevas columnas y tablas"
   ]
  },
  {
   "cell_type": "code",
   "execution_count": 31,
   "metadata": {},
   "outputs": [],
   "source": [
    "# Crear un dataframe nuevo para los atributos\n",
    "df_attributes = df_business[['business_id', 'name', 'attributes']]\n",
    "# Descartar col `attributes`\n",
    "df_business.drop('attributes', axis=1, inplace=True)"
   ]
  },
  {
   "cell_type": "code",
   "execution_count": 34,
   "metadata": {},
   "outputs": [],
   "source": [
    "# Crear nueva columna de coordinadas\n",
    "df_business['coordinates'] = df_business['latitude'].astype(str) + ',' + df_business['longitude'].astype(str)\n",
    "df_business.drop(columns=['latitude', 'longitude'], inplace=True)"
   ]
  },
  {
   "cell_type": "code",
   "execution_count": 35,
   "metadata": {},
   "outputs": [
    {
     "data": {
      "text/html": [
       "<div>\n",
       "<style scoped>\n",
       "    .dataframe tbody tr th:only-of-type {\n",
       "        vertical-align: middle;\n",
       "    }\n",
       "\n",
       "    .dataframe tbody tr th {\n",
       "        vertical-align: top;\n",
       "    }\n",
       "\n",
       "    .dataframe thead th {\n",
       "        text-align: right;\n",
       "    }\n",
       "</style>\n",
       "<table border=\"1\" class=\"dataframe\">\n",
       "  <thead>\n",
       "    <tr style=\"text-align: right;\">\n",
       "      <th></th>\n",
       "      <th>business_id</th>\n",
       "      <th>name</th>\n",
       "      <th>address</th>\n",
       "      <th>city</th>\n",
       "      <th>state</th>\n",
       "      <th>postal_code</th>\n",
       "      <th>stars</th>\n",
       "      <th>review_count</th>\n",
       "      <th>categories</th>\n",
       "      <th>hours</th>\n",
       "      <th>coordinates</th>\n",
       "    </tr>\n",
       "  </thead>\n",
       "  <tbody>\n",
       "    <tr>\n",
       "      <th>19610</th>\n",
       "      <td>ErJ9NtMXt-WJZV_TVZ08Ag</td>\n",
       "      <td>Green Garden</td>\n",
       "      <td>237 S 10th St</td>\n",
       "      <td>Philadelphia</td>\n",
       "      <td>PA</td>\n",
       "      <td>19107</td>\n",
       "      <td>3.5</td>\n",
       "      <td>77</td>\n",
       "      <td>[Sushi Bars, Chinese, Soup, Seafood, Restaurants]</td>\n",
       "      <td>{'Friday': '11:0-23:0', 'Monday': '11:0-22:0',...</td>\n",
       "      <td>39.9471663,-75.1573928</td>\n",
       "    </tr>\n",
       "  </tbody>\n",
       "</table>\n",
       "</div>"
      ],
      "text/plain": [
       "                  business_id          name        address          city  \\\n",
       "19610  ErJ9NtMXt-WJZV_TVZ08Ag  Green Garden  237 S 10th St  Philadelphia   \n",
       "\n",
       "      state postal_code  stars  review_count  \\\n",
       "19610    PA       19107    3.5            77   \n",
       "\n",
       "                                              categories  \\\n",
       "19610  [Sushi Bars, Chinese, Soup, Seafood, Restaurants]   \n",
       "\n",
       "                                                   hours  \\\n",
       "19610  {'Friday': '11:0-23:0', 'Monday': '11:0-22:0',...   \n",
       "\n",
       "                  coordinates  \n",
       "19610  39.9471663,-75.1573928  "
      ]
     },
     "execution_count": 35,
     "metadata": {},
     "output_type": "execute_result"
    }
   ],
   "source": [
    "df_business.sample()"
   ]
  },
  {
   "cell_type": "markdown",
   "metadata": {},
   "source": [
    "### Tabla `checkin`"
   ]
  },
  {
   "cell_type": "code",
   "execution_count": 36,
   "metadata": {},
   "outputs": [
    {
     "data": {
      "text/plain": [
       "(7818, 2)"
      ]
     },
     "execution_count": 36,
     "metadata": {},
     "output_type": "execute_result"
    }
   ],
   "source": [
    "# Filtrar por `business_id` en el `df_business` procesado\n",
    "filtro_id = df_business['business_id']\n",
    "df_checkin = df_checkin[df_checkin['business_id'].isin(filtro_id)]\n",
    "df_checkin.shape"
   ]
  },
  {
   "cell_type": "code",
   "execution_count": 37,
   "metadata": {},
   "outputs": [],
   "source": [
    "# Convertir col `date` a tipo list\n",
    "df_checkin['date'] = df_checkin['date'].apply(lambda x: x.strip().replace(', ',',').split(',') if x else [])\n",
    "# Convertir items en listas de col `date` a tipo datetime \n",
    "df_checkin['date'] = df_checkin['date'].apply(lambda x: [pd.to_datetime(string, format='mixed') for string in x] if x else x) "
   ]
  },
  {
   "cell_type": "markdown",
   "metadata": {},
   "source": [
    "### Tabla `tip`"
   ]
  },
  {
   "cell_type": "code",
   "execution_count": 38,
   "metadata": {},
   "outputs": [
    {
     "data": {
      "text/plain": [
       "(102428, 5)"
      ]
     },
     "execution_count": 38,
     "metadata": {},
     "output_type": "execute_result"
    }
   ],
   "source": [
    "# Filtrar por `'business_id'` en el `df_business` procesado\n",
    "filtro_id = df_business[\"business_id\"]\n",
    "df_tip = df_tip[df_tip[\"business_id\"].isin(filtro_id)]\n",
    "df_tip.shape"
   ]
  },
  {
   "cell_type": "markdown",
   "metadata": {},
   "source": [
    "### Tabla `review`"
   ]
  },
  {
   "cell_type": "code",
   "execution_count": 39,
   "metadata": {},
   "outputs": [
    {
     "data": {
      "text/plain": [
       "(798073, 9)"
      ]
     },
     "execution_count": 39,
     "metadata": {},
     "output_type": "execute_result"
    }
   ],
   "source": [
    "# Filtrar por `'business_id'` en el `df_business` procesado\n",
    "filtro_id = df_business[\"business_id\"]\n",
    "df_review = df_review[df_review[\"business_id\"].isin(filtro_id)]\n",
    "df_review.shape"
   ]
  },
  {
   "cell_type": "code",
   "execution_count": 40,
   "metadata": {},
   "outputs": [],
   "source": [
    "## Transformaciones\n",
    "\n",
    "# Convertir col `date` a tipo datetime\n",
    "df_review['date'] = pd.to_datetime(df_review['date'], format='mixed').dt.date\n",
    "\n",
    "# Corrigir errores de decoding de texto, columna `text`\n",
    "df_review['text'] = df_review['text'].apply(fix_text)\n",
    "\n",
    "# Agregar col `name`, desde `df_business`\n",
    "df_review = pd.merge(df_review, df_business[['business_id', 'name']], on='business_id', how='left')\n",
    "# Fijar nueva columna `name` como la primer columna del df \n",
    "nom_col = df_review.pop('name')\n",
    "df_review.insert(0, 'name', nom_col)"
   ]
  },
  {
   "cell_type": "markdown",
   "metadata": {},
   "source": [
    "### Tabla `user`"
   ]
  },
  {
   "cell_type": "code",
   "execution_count": 41,
   "metadata": {},
   "outputs": [
    {
     "data": {
      "text/plain": [
       "(378893, 22)"
      ]
     },
     "execution_count": 41,
     "metadata": {},
     "output_type": "execute_result"
    }
   ],
   "source": [
    "# Filtrar por `'user_id'` en el `df_review` procesado\n",
    "filtro_id = df_review['user_id']\n",
    "df_user = df_user[df_user['user_id'].isin(filtro_id)]\n",
    "df_user.shape"
   ]
  },
  {
   "cell_type": "code",
   "execution_count": 42,
   "metadata": {},
   "outputs": [],
   "source": [
    "## Transformaciones\n",
    "\n",
    "# Convertir col `yelping_since` a tipo datetime\n",
    "df_user['yelping_since'] = pd.to_datetime(df_user['yelping_since'], format='mixed')\n",
    "\n",
    "# Convertir columna 'friends' a tipo list\n",
    "df_user['friends'] = df_user['friends'].apply(lambda x: x.replace(', ',',').split(',') if x != 'None' else [])"
   ]
  },
  {
   "cell_type": "markdown",
   "metadata": {},
   "source": [
    "## Exportaciones data procesada Yelp"
   ]
  },
  {
   "cell_type": "code",
   "execution_count": 43,
   "metadata": {},
   "outputs": [],
   "source": [
    "## Almacenar dataframes en formato parquet\n",
    "\n",
    "# Path de los archivos procesados (formato parquet)\n",
    "path_data_clean = '../../data/clean'\n",
    "\n",
    "df_business.to_parquet(f'{path_data_clean}/y_business_CLEAN.parquet')\n",
    "df_attributes.to_parquet(f'{path_data_clean}/y_attributes_CLEAN.parquet')\n",
    "df_checkin.to_parquet(f'{path_data_clean}/y_checkin_CLEAN.parquet')\n",
    "df_tip.to_parquet(f'{path_data_clean}/y_tip_CLEAN.parquet')\n",
    "df_review.to_parquet(f'{path_data_clean}/y_review_CLEAN.parquet')\n",
    "df_user.to_parquet(f'{path_data_clean}/y_user_CLEAN.parquet')"
   ]
  },
  {
   "cell_type": "code",
   "execution_count": null,
   "metadata": {},
   "outputs": [],
   "source": [
    "# Liberar memoria, eliminando las variables de dataframes\n",
    "del yelp\n",
    "del df_business\n",
    "del df_checkin\n",
    "del df_tip\n",
    "del df_review\n",
    "del df_user"
   ]
  },
  {
   "cell_type": "markdown",
   "metadata": {},
   "source": [
    "---\n",
    "---\n",
    "# Google"
   ]
  },
  {
   "cell_type": "markdown",
   "metadata": {},
   "source": [
    "## Carga de dataset"
   ]
  },
  {
   "cell_type": "code",
   "execution_count": null,
   "metadata": {},
   "outputs": [],
   "source": [
    "# Path de los archivos no-procesados (formato parquet)\n",
    "path_data = '../../data/raw'\n",
    "goog = cd.cargar_dataset_google(path_data)\n",
    "goog.keys()"
   ]
  },
  {
   "cell_type": "code",
   "execution_count": null,
   "metadata": {},
   "outputs": [],
   "source": [
    "df_sitios, df_review = goog.values()"
   ]
  },
  {
   "cell_type": "markdown",
   "metadata": {},
   "source": [
    "Tambien se carga la tabla `business` del dataset de Yelp para facilitar el filtrado de `df_sitios`"
   ]
  },
  {
   "cell_type": "code",
   "execution_count": null,
   "metadata": {},
   "outputs": [],
   "source": [
    "# Path de los archivos procesados (formato parquet)\n",
    "path_data_clean = '../../data/clean'\n",
    "df_yelp_business = pd.read_parquet(f'{path_data_clean}/y_business_CLEAN.parquet')"
   ]
  },
  {
   "cell_type": "markdown",
   "metadata": {},
   "source": [
    "## Transformaciones"
   ]
  },
  {
   "cell_type": "code",
   "execution_count": null,
   "metadata": {},
   "outputs": [],
   "source": []
  },
  {
   "cell_type": "markdown",
   "metadata": {},
   "source": [
    "### Filtrado de validacion cruzada con Yelp"
   ]
  },
  {
   "cell_type": "code",
   "execution_count": null,
   "metadata": {},
   "outputs": [],
   "source": [
    "# Funcion que implementa busqueda 'fuzzy' en textos\n",
    "def fuzzy_match(x, match_to, threshold=90):\n",
    "    match, score, _ = process.extractOne(x, match_to, scorer=fuzz.WRatio)\n",
    "    return match if score >= threshold else None"
   ]
  },
  {
   "cell_type": "markdown",
   "metadata": {},
   "source": [
    "## Exportaciones data procesada Google"
   ]
  },
  {
   "cell_type": "code",
   "execution_count": null,
   "metadata": {},
   "outputs": [],
   "source": [
    "## Almacenar dataframes en formato parquet\n",
    "\n",
    "# Path de los archivos procesados (formato parquet)\n",
    "path_data = '../../data/clean'\n",
    "\n",
    "df_sitios.to_parquet(f'{path_data}/g_sitios_CLEAN.parquet')\n",
    "df_review.to_parquet(f'{path_data}/g_reviews_CLEAN.parquet')"
   ]
  },
  {
   "cell_type": "code",
   "execution_count": null,
   "metadata": {},
   "outputs": [],
   "source": [
    "# Liberar memoria, eliminando las variables de dataframes\n",
    "del goog\n",
    "del df_sitios\n",
    "del df_review"
   ]
  }
 ],
 "metadata": {
  "kernelspec": {
   "display_name": "env-pf",
   "language": "python",
   "name": "python3"
  },
  "language_info": {
   "codemirror_mode": {
    "name": "ipython",
    "version": 3
   },
   "file_extension": ".py",
   "mimetype": "text/x-python",
   "name": "python",
   "nbconvert_exporter": "python",
   "pygments_lexer": "ipython3",
   "version": "3.10.12"
  }
 },
 "nbformat": 4,
 "nbformat_minor": 2
}
