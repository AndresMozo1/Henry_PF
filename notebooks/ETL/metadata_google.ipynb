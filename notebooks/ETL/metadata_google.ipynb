{
 "cells": [
  {
   "cell_type": "markdown",
   "metadata": {},
   "source": [
    "# IMPORTAMOS LA LIBRERIAS NECESARIAS"
   ]
  },
  {
   "cell_type": "code",
   "execution_count": 44,
   "metadata": {},
   "outputs": [],
   "source": [
    "import pandas as pd"
   ]
  },
  {
   "cell_type": "code",
   "execution_count": 45,
   "metadata": {},
   "outputs": [],
   "source": [
    "from ftfy import fix_text\n",
    "from rapidfuzz import process, fuzz"
   ]
  },
  {
   "cell_type": "markdown",
   "metadata": {},
   "source": [
    "### Cargamos la data"
   ]
  },
  {
   "cell_type": "code",
   "execution_count": 3,
   "metadata": {},
   "outputs": [],
   "source": [
    "df_sitios = pd.read_parquet('../../data/raw/g-sitios.parquet')"
   ]
  },
  {
   "cell_type": "code",
   "execution_count": 46,
   "metadata": {},
   "outputs": [
    {
     "data": {
      "text/html": [
       "<div>\n",
       "<style scoped>\n",
       "    .dataframe tbody tr th:only-of-type {\n",
       "        vertical-align: middle;\n",
       "    }\n",
       "\n",
       "    .dataframe tbody tr th {\n",
       "        vertical-align: top;\n",
       "    }\n",
       "\n",
       "    .dataframe thead th {\n",
       "        text-align: right;\n",
       "    }\n",
       "</style>\n",
       "<table border=\"1\" class=\"dataframe\">\n",
       "  <thead>\n",
       "    <tr style=\"text-align: right;\">\n",
       "      <th></th>\n",
       "      <th>name</th>\n",
       "      <th>address</th>\n",
       "      <th>gmap_id</th>\n",
       "      <th>description</th>\n",
       "      <th>latitude</th>\n",
       "      <th>longitude</th>\n",
       "      <th>category</th>\n",
       "      <th>avg_rating</th>\n",
       "      <th>num_of_reviews</th>\n",
       "      <th>price</th>\n",
       "      <th>hours</th>\n",
       "      <th>MISC</th>\n",
       "      <th>state</th>\n",
       "      <th>relative_results</th>\n",
       "      <th>url</th>\n",
       "    </tr>\n",
       "  </thead>\n",
       "  <tbody>\n",
       "    <tr>\n",
       "      <th>723064</th>\n",
       "      <td>Great Erie Reef</td>\n",
       "      <td>Great Erie Reef, 3858 Peach St, Erie, PA 16509</td>\n",
       "      <td>0x8832806ee4231687:0x19017161a4c7df2f</td>\n",
       "      <td>None</td>\n",
       "      <td>42.09538</td>\n",
       "      <td>-80.083087</td>\n",
       "      <td>[Tropical fish store]</td>\n",
       "      <td>5.0</td>\n",
       "      <td>4</td>\n",
       "      <td>None</td>\n",
       "      <td>[[Tuesday, Closed], [Wednesday, 4–8PM], [Thurs...</td>\n",
       "      <td>{'Accessibility': None, 'Activities': None, 'A...</td>\n",
       "      <td>Permanently closed</td>\n",
       "      <td>[0x88328086a9b53249:0x55289d581577e134, 0x882d...</td>\n",
       "      <td>https://www.google.com/maps/place//data=!4m2!3...</td>\n",
       "    </tr>\n",
       "  </tbody>\n",
       "</table>\n",
       "</div>"
      ],
      "text/plain": [
       "                   name                                         address  \\\n",
       "723064  Great Erie Reef  Great Erie Reef, 3858 Peach St, Erie, PA 16509   \n",
       "\n",
       "                                      gmap_id description  latitude  \\\n",
       "723064  0x8832806ee4231687:0x19017161a4c7df2f        None  42.09538   \n",
       "\n",
       "        longitude               category  avg_rating  num_of_reviews price  \\\n",
       "723064 -80.083087  [Tropical fish store]         5.0               4  None   \n",
       "\n",
       "                                                    hours  \\\n",
       "723064  [[Tuesday, Closed], [Wednesday, 4–8PM], [Thurs...   \n",
       "\n",
       "                                                     MISC               state  \\\n",
       "723064  {'Accessibility': None, 'Activities': None, 'A...  Permanently closed   \n",
       "\n",
       "                                         relative_results  \\\n",
       "723064  [0x88328086a9b53249:0x55289d581577e134, 0x882d...   \n",
       "\n",
       "                                                      url  \n",
       "723064  https://www.google.com/maps/place//data=!4m2!3...  "
      ]
     },
     "execution_count": 46,
     "metadata": {},
     "output_type": "execute_result"
    }
   ],
   "source": [
    "# Una copia del dataframe, para evitar demora en carga desde el disco\n",
    "df_sitios_ = df_sitios.copy()\n",
    "df_sitios_.sample()"
   ]
  },
  {
   "cell_type": "code",
   "execution_count": null,
   "metadata": {},
   "outputs": [],
   "source": [
    "# Funsion para hacer un explode en aquellas columnas que contienen listas de datos.\n",
    "def explode_columna(df: pd.DataFrame, columna_a_explodar: str) -> pd.DataFrame:\n",
    "    return df.explode(columna_a_explodar)\n",
    "\n",
    "# Funsion para filtrar la categoria que vayamos a usar de acuerdo al tipo de estudio de eleccion.\n",
    "def filtrar_por_categoria(df: pd.DataFrame, columna_a_filtrar: str, keyword: str) -> pd.DataFrame:\n",
    "    df = df.dropna(subset=[columna_a_filtrar])\n",
    "    return df[df[columna_a_filtrar].str.contains(keyword, case=False)]"
   ]
  },
  {
   "cell_type": "markdown",
   "metadata": {},
   "source": [
    "Eliminacion de columnas no-util"
   ]
  },
  {
   "cell_type": "code",
   "execution_count": 47,
   "metadata": {},
   "outputs": [],
   "source": [
    "# Descartar col `state` por ser no-util,\n",
    "# y prevenir confucion con la columna a crear de estados\n",
    "# del mismo nombre `state`\n",
    "df_sitios_.drop('state', axis=1, inplace=True)\n",
    "\n",
    "# Descartar col `url` por ser no-util\n",
    "df_sitios_.drop('url', axis=1, inplace=True)"
   ]
  },
  {
   "cell_type": "markdown",
   "metadata": {},
   "source": [
    "Extraccion datos en columna `address`"
   ]
  },
  {
   "cell_type": "code",
   "execution_count": 48,
   "metadata": {},
   "outputs": [],
   "source": [
    "# Definir el patrón regex para extraer la dirección, ciudad, estado y código postal\n",
    "patron = r'([^,]+),\\s*([^,]+),\\s*([^,]+),\\s*([^,]+)$'\n",
    "\n",
    "# Aplicar el regex a cada entrada de la columna \"address\" y almacenar los resultados en columnas separadas\n",
    "resultados = df_sitios_['address'].str.extract(patron)\n",
    "\n",
    "# Asignar los resultados a nuevas columnas en el DataFrame\n",
    "df_sitios_['name'] = resultados[0].str.strip()\n",
    "df_sitios_['address'] = resultados[1].str.strip()\n",
    "df_sitios_['city'] = resultados[2].str.strip()\n",
    "df_sitios_['state_postal_code'] = resultados[3].str.strip()\n",
    "\n",
    "# Dividir la columna \"Codigo_Postal\" en dos nuevas columnas: \"state\" y \"postal_code\"\n",
    "df_sitios_[['state', 'postal_code']] = df_sitios_['state_postal_code'].str.split(' ', n=1, expand=True)\n",
    "\n",
    "# Descartar col `state_postal_code` que queda redundante\n",
    "df_sitios_.drop('state_postal_code', axis=1, inplace=True)"
   ]
  },
  {
   "cell_type": "markdown",
   "metadata": {},
   "source": [
    "---\n",
    "Filtro por estado"
   ]
  },
  {
   "cell_type": "markdown",
   "metadata": {},
   "source": [
    "- opcion #1"
   ]
  },
  {
   "cell_type": "code",
   "execution_count": 7,
   "metadata": {},
   "outputs": [],
   "source": [
    "# Crear una lista de los estados con los prefijos deseados\n",
    "filtro_estados = ['PA', 'NJ', 'DE']\n",
    "\n",
    "# Filtrar el DataFrame para incluir solo las filas que tengan estados con los prefijos deseados\n",
    "df_sitios_ = df_sitios_[df_sitios_['state'].isin(filtro_estados)]"
   ]
  },
  {
   "cell_type": "markdown",
   "metadata": {},
   "source": [
    "- opcion #2"
   ]
  },
  {
   "cell_type": "code",
   "execution_count": 50,
   "metadata": {},
   "outputs": [],
   "source": [
    "# Crear una lista de los estados con los prefijos deseados\n",
    "filtro_estados = [\n",
    "    \"AL\", \"AK\", \"AZ\", \"AR\", \"CA\", \"CO\", \"CT\", \"DE\", \"FL\", \"GA\",\n",
    "    \"HI\", \"ID\", \"IL\", \"IN\", \"IA\", \"KS\", \"KY\", \"LA\", \"ME\", \"MD\",\n",
    "    \"MA\", \"MI\", \"MN\", \"MS\", \"MO\", \"MT\", \"NE\", \"NV\", \"NH\", \"NJ\",\n",
    "    \"NM\", \"NY\", \"NC\", \"ND\", \"OH\", \"OK\", \"OR\", \"PA\", \"RI\", \"SC\",\n",
    "    \"SD\", \"TN\", \"TX\", \"UT\", \"VT\", \"VA\", \"WA\", \"WV\", \"WI\", \"WY\"\n",
    "]\n",
    "\n",
    "# Filtrar el DataFrame para incluir solo las filas que tengan estados con los prefijos deseados\n",
    "df_sitios_ = df_sitios_[df_sitios_['state'].isin(filtro_estados)]"
   ]
  },
  {
   "cell_type": "code",
   "execution_count": 51,
   "metadata": {},
   "outputs": [
    {
     "name": "stdout",
     "output_type": "stream",
     "text": [
      "state\n",
      "CA    285101\n",
      "TX    252922\n",
      "FL    208185\n",
      "NY    156229\n",
      "PA    110579\n",
      "IL    100682\n",
      "OH     97551\n",
      "GA     92519\n",
      "NC     92499\n",
      "MI     87180\n",
      "NJ     74553\n",
      "VA     67304\n",
      "WA     65348\n",
      "TN     61971\n",
      "AZ     57106\n",
      "IN     56968\n",
      "CO     56620\n",
      "MO     55091\n",
      "MA     53043\n",
      "WI     52323\n",
      "MN     46076\n",
      "SC     46027\n",
      "MD     44130\n",
      "AL     42940\n",
      "OR     42504\n",
      "OK     38930\n",
      "LA     37068\n",
      "KY     36122\n",
      "UT     31043\n",
      "CT     29116\n",
      "IA     28554\n",
      "AR     27507\n",
      "KS     26635\n",
      "NV     25421\n",
      "MS     21464\n",
      "NM     18946\n",
      "ID     18853\n",
      "NE     17604\n",
      "NH     13994\n",
      "ME     13896\n",
      "WV     13765\n",
      "MT     12089\n",
      "HI     10895\n",
      "RI      8787\n",
      "DE      8194\n",
      "SD      8033\n",
      "AK      7483\n",
      "ND      7310\n",
      "VT      6740\n",
      "WY      6429\n",
      "Name: count, dtype: int64\n"
     ]
    }
   ],
   "source": [
    "# Contar los valores repetidos en la columna \"Estado\"\n",
    "conteo_estados = df_sitios_['state'].value_counts()\n",
    "\n",
    "# Mostrar el conteo de estados repetidos\n",
    "print(conteo_estados)"
   ]
  },
  {
   "cell_type": "markdown",
   "metadata": {},
   "source": [
    "---\n",
    "Filtro por categoria \"Restaurant\""
   ]
  },
  {
   "cell_type": "code",
   "execution_count": 52,
   "metadata": {},
   "outputs": [],
   "source": [
    "# Convertir col `category` a typo list\n",
    "df_sitios_['category'] = df_sitios_['category'].apply(lambda x: x.tolist() if x is not None else None)"
   ]
  },
  {
   "cell_type": "code",
   "execution_count": 53,
   "metadata": {},
   "outputs": [],
   "source": [
    "def filtrar_palabra(lista_palabras, filtro_string):\n",
    "    filtro_string_lower = filtro_string.lower()\n",
    "    return any(filtro_string_lower == p.lower() for s in lista_palabras for p in s.split())"
   ]
  },
  {
   "cell_type": "code",
   "execution_count": 54,
   "metadata": {},
   "outputs": [],
   "source": [
    "# Filtrar dataframe donde col `category` == 'restaurant'\n",
    "filtro_categoria = 'restaurant'\n",
    "df_sitios_ = df_sitios_[df_sitios_['category'].apply(lambda x: filtrar_palabra(x, filtro_categoria) if x is not None else False)]"
   ]
  },
  {
   "cell_type": "code",
   "execution_count": 55,
   "metadata": {},
   "outputs": [
    {
     "data": {
      "text/plain": [
       "(195020, 16)"
      ]
     },
     "execution_count": 55,
     "metadata": {},
     "output_type": "execute_result"
    }
   ],
   "source": [
    "df_sitios_.shape"
   ]
  },
  {
   "cell_type": "markdown",
   "metadata": {},
   "source": [
    "---\n",
    "Validacion cruzada con datos Yelp"
   ]
  },
  {
   "cell_type": "code",
   "execution_count": 56,
   "metadata": {},
   "outputs": [
    {
     "data": {
      "text/html": [
       "<div>\n",
       "<style scoped>\n",
       "    .dataframe tbody tr th:only-of-type {\n",
       "        vertical-align: middle;\n",
       "    }\n",
       "\n",
       "    .dataframe tbody tr th {\n",
       "        vertical-align: top;\n",
       "    }\n",
       "\n",
       "    .dataframe thead th {\n",
       "        text-align: right;\n",
       "    }\n",
       "</style>\n",
       "<table border=\"1\" class=\"dataframe\">\n",
       "  <thead>\n",
       "    <tr style=\"text-align: right;\">\n",
       "      <th></th>\n",
       "      <th>business_id</th>\n",
       "      <th>name</th>\n",
       "      <th>address</th>\n",
       "      <th>city</th>\n",
       "      <th>state</th>\n",
       "      <th>postal_code</th>\n",
       "      <th>latitude</th>\n",
       "      <th>longitude</th>\n",
       "      <th>stars</th>\n",
       "      <th>review_count</th>\n",
       "      <th>categories</th>\n",
       "      <th>hours</th>\n",
       "    </tr>\n",
       "  </thead>\n",
       "  <tbody>\n",
       "    <tr>\n",
       "      <th>86526</th>\n",
       "      <td>2jbu_xi_FEghI37kPG5LzA</td>\n",
       "      <td>McDonald's</td>\n",
       "      <td>1660 State Hwy 38</td>\n",
       "      <td>Mount Holly</td>\n",
       "      <td>NJ</td>\n",
       "      <td>08060</td>\n",
       "      <td>39.981863</td>\n",
       "      <td>-74.780123</td>\n",
       "      <td>2.0</td>\n",
       "      <td>25</td>\n",
       "      <td>[Burgers, Food, Coffee &amp; Tea, Restaurants, Fas...</td>\n",
       "      <td>{'Friday': '0:0-0:0', 'Monday': '0:0-0:0', 'Sa...</td>\n",
       "    </tr>\n",
       "  </tbody>\n",
       "</table>\n",
       "</div>"
      ],
      "text/plain": [
       "                  business_id        name            address         city  \\\n",
       "86526  2jbu_xi_FEghI37kPG5LzA  McDonald's  1660 State Hwy 38  Mount Holly   \n",
       "\n",
       "      state postal_code   latitude  longitude  stars  review_count  \\\n",
       "86526    NJ       08060  39.981863 -74.780123    2.0            25   \n",
       "\n",
       "                                              categories  \\\n",
       "86526  [Burgers, Food, Coffee & Tea, Restaurants, Fas...   \n",
       "\n",
       "                                                   hours  \n",
       "86526  {'Friday': '0:0-0:0', 'Monday': '0:0-0:0', 'Sa...  "
      ]
     },
     "execution_count": 56,
     "metadata": {},
     "output_type": "execute_result"
    }
   ],
   "source": [
    "# Carga data `business` de Yelp\n",
    "df_yelp_business = pd.read_parquet('../../data/clean/y_business_CLEAN.parquet')\n",
    "df_yelp_business.sample()"
   ]
  },
  {
   "cell_type": "code",
   "execution_count": 57,
   "metadata": {},
   "outputs": [],
   "source": [
    "# Funcion que implementa busqueda 'fuzzy' en textos\n",
    "def fuzzy_match(x, match_to, threshold=90):\n",
    "    match, score, _ = process.extractOne(x, match_to, scorer=fuzz.WRatio)\n",
    "    return match if score >= threshold else None"
   ]
  },
  {
   "cell_type": "code",
   "execution_count": 58,
   "metadata": {},
   "outputs": [],
   "source": [
    "# Funcion que aplica fuzzy_match() entre una columna\n",
    "# de un dataframe y una lista de entrada\n",
    "def filtrar_df_fuzzy_match(df: pd.DataFrame, col_match: str, lista_filtro: list) -> pd.DataFrame:\n",
    "    \"\"\"Devuelve un dataframe aplica fuzzy_match() entre una columna\n",
    "    de un dataframe y una lista de entrada\n",
    "    \"\"\"\n",
    "    # Crear nueva columna con valores que hacen match\n",
    "    df[f'{col_match}_match'] = df[col_match].apply(fuzzy_match, match_to=lista_filtro)\n",
    "    # Filtrar nulos (donde nulo representa no-match)\n",
    "    df = df[df[f'{col_match}_match'].notnull()]\n",
    "    # Descartar columna creada\n",
    "    df.drop(f'{col_match}_match', axis=1, inplace=True)\n",
    "\n",
    "    return df"
   ]
  },
  {
   "cell_type": "markdown",
   "metadata": {},
   "source": [
    "---\n",
    "Filtro ciudad"
   ]
  },
  {
   "cell_type": "code",
   "execution_count": 16,
   "metadata": {},
   "outputs": [
    {
     "data": {
      "text/plain": [
       "578"
      ]
     },
     "execution_count": 16,
     "metadata": {},
     "output_type": "execute_result"
    }
   ],
   "source": [
    "# Lista de ciudades unicas en dataset Yelp\n",
    "ciudades_yelp = set(df_yelp_business['city'].unique().tolist())\n",
    "len(ciudades_yelp)"
   ]
  },
  {
   "cell_type": "code",
   "execution_count": null,
   "metadata": {},
   "outputs": [],
   "source": []
  },
  {
   "cell_type": "markdown",
   "metadata": {},
   "source": [
    "- Filtro ciudad, metodo #1"
   ]
  },
  {
   "cell_type": "code",
   "execution_count": 17,
   "metadata": {},
   "outputs": [
    {
     "name": "stderr",
     "output_type": "stream",
     "text": [
      "/tmp/ipykernel_17764/1407594334.py:12: SettingWithCopyWarning: \n",
      "A value is trying to be set on a copy of a slice from a DataFrame\n",
      "\n",
      "See the caveats in the documentation: https://pandas.pydata.org/pandas-docs/stable/user_guide/indexing.html#returning-a-view-versus-a-copy\n",
      "  df.drop(f'{col_match}_match', axis=1, inplace=True)\n"
     ]
    },
    {
     "data": {
      "text/plain": [
       "332"
      ]
     },
     "execution_count": 17,
     "metadata": {},
     "output_type": "execute_result"
    }
   ],
   "source": [
    "df_sitios_ = filtrar_df_fuzzy_match(df_sitios_, 'city', ciudades_yelp)\n",
    "df_sitios_['city'].nunique()"
   ]
  },
  {
   "cell_type": "markdown",
   "metadata": {},
   "source": [
    "- Filtro ciudad, metodo #2"
   ]
  },
  {
   "cell_type": "code",
   "execution_count": 18,
   "metadata": {},
   "outputs": [],
   "source": [
    "# Filtrar el DataFrame original para incluir solo las filas con ciudades que están en la lista de ciudades únicas\n",
    "df_filtrado2 = df_sitios_[df_sitios_['city'].isin(ciudades_yelp)]"
   ]
  },
  {
   "cell_type": "code",
   "execution_count": 19,
   "metadata": {},
   "outputs": [
    {
     "data": {
      "text/html": [
       "<div>\n",
       "<style scoped>\n",
       "    .dataframe tbody tr th:only-of-type {\n",
       "        vertical-align: middle;\n",
       "    }\n",
       "\n",
       "    .dataframe tbody tr th {\n",
       "        vertical-align: top;\n",
       "    }\n",
       "\n",
       "    .dataframe thead th {\n",
       "        text-align: right;\n",
       "    }\n",
       "</style>\n",
       "<table border=\"1\" class=\"dataframe\">\n",
       "  <thead>\n",
       "    <tr style=\"text-align: right;\">\n",
       "      <th></th>\n",
       "      <th>name</th>\n",
       "      <th>address</th>\n",
       "      <th>gmap_id</th>\n",
       "      <th>description</th>\n",
       "      <th>latitude</th>\n",
       "      <th>longitude</th>\n",
       "      <th>category</th>\n",
       "      <th>avg_rating</th>\n",
       "      <th>num_of_reviews</th>\n",
       "      <th>price</th>\n",
       "      <th>hours</th>\n",
       "      <th>MISC</th>\n",
       "      <th>relative_results</th>\n",
       "      <th>city</th>\n",
       "      <th>state</th>\n",
       "      <th>postal_code</th>\n",
       "    </tr>\n",
       "  </thead>\n",
       "  <tbody>\n",
       "    <tr>\n",
       "      <th>767866</th>\n",
       "      <td>Little Caesars Pizza</td>\n",
       "      <td>2695 S Broad St</td>\n",
       "      <td>0x89c1596889f536fb:0xb1c87e4167ea5eff</td>\n",
       "      <td>Carry-out chain featuring chicken wings, signa...</td>\n",
       "      <td>40.191155</td>\n",
       "      <td>-74.713298</td>\n",
       "      <td>[Pizza restaurant, Pizza Takeout]</td>\n",
       "      <td>3.3</td>\n",
       "      <td>8</td>\n",
       "      <td>$</td>\n",
       "      <td>[[Monday, 11AM–10PM], [Tuesday, 11AM–10PM], [W...</td>\n",
       "      <td>{'Accessibility': None, 'Activities': None, 'A...</td>\n",
       "      <td>[0x89c1591eabfbcf4d:0xbbc408e9e8e398f9, 0x89c1...</td>\n",
       "      <td>Trenton</td>\n",
       "      <td>NJ</td>\n",
       "      <td>08610</td>\n",
       "    </tr>\n",
       "  </tbody>\n",
       "</table>\n",
       "</div>"
      ],
      "text/plain": [
       "                        name          address  \\\n",
       "767866  Little Caesars Pizza  2695 S Broad St   \n",
       "\n",
       "                                      gmap_id  \\\n",
       "767866  0x89c1596889f536fb:0xb1c87e4167ea5eff   \n",
       "\n",
       "                                              description   latitude  \\\n",
       "767866  Carry-out chain featuring chicken wings, signa...  40.191155   \n",
       "\n",
       "        longitude                           category  avg_rating  \\\n",
       "767866 -74.713298  [Pizza restaurant, Pizza Takeout]         3.3   \n",
       "\n",
       "        num_of_reviews price  \\\n",
       "767866               8     $   \n",
       "\n",
       "                                                    hours  \\\n",
       "767866  [[Monday, 11AM–10PM], [Tuesday, 11AM–10PM], [W...   \n",
       "\n",
       "                                                     MISC  \\\n",
       "767866  {'Accessibility': None, 'Activities': None, 'A...   \n",
       "\n",
       "                                         relative_results     city state  \\\n",
       "767866  [0x89c1591eabfbcf4d:0xbbc408e9e8e398f9, 0x89c1...  Trenton    NJ   \n",
       "\n",
       "       postal_code  \n",
       "767866       08610  "
      ]
     },
     "execution_count": 19,
     "metadata": {},
     "output_type": "execute_result"
    }
   ],
   "source": [
    "df_filtrado2.sample()"
   ]
  },
  {
   "cell_type": "code",
   "execution_count": 20,
   "metadata": {},
   "outputs": [
    {
     "name": "stdout",
     "output_type": "stream",
     "text": [
      "Número de ciudades únicas en el nuevo DataFrame: 256\n"
     ]
    }
   ],
   "source": [
    "# Contar el número de ciudades únicas en el nuevo DataFrame\n",
    "num_ciudades_unicas = df_filtrado2['city'].nunique()\n",
    "\n",
    "# Mostrar el resultado\n",
    "print(\"Número de ciudades únicas en el nuevo DataFrame:\", num_ciudades_unicas)"
   ]
  },
  {
   "cell_type": "code",
   "execution_count": null,
   "metadata": {},
   "outputs": [],
   "source": [
    "# Contar cuántos elementos hay en la lista de ciudades únicas\n",
    "num_ciudades_unicas_lista = len(ciudades_yelp)\n",
    "\n",
    "# Mostrar el resultado\n",
    "print(\"Número de ciudades únicas en la lista:\", num_ciudades_unicas_lista)"
   ]
  },
  {
   "cell_type": "markdown",
   "metadata": {},
   "source": [
    "- --END-- filtro ciudad"
   ]
  },
  {
   "cell_type": "markdown",
   "metadata": {},
   "source": [
    "DELETE"
   ]
  },
  {
   "cell_type": "code",
   "execution_count": 21,
   "metadata": {},
   "outputs": [],
   "source": [
    "df_sitios_.to_pickle('df_sitios_1.pkl')"
   ]
  },
  {
   "cell_type": "code",
   "execution_count": 38,
   "metadata": {},
   "outputs": [],
   "source": [
    "df_sitios_ = pd.read_pickle('df_sitios_1.pkl')"
   ]
  },
  {
   "cell_type": "markdown",
   "metadata": {},
   "source": [
    "---\n",
    "Filtro name & address"
   ]
  },
  {
   "cell_type": "code",
   "execution_count": 59,
   "metadata": {},
   "outputs": [],
   "source": [
    "# Diccionario de marcas de Darden y competidores\n",
    "filtro_cadenas = [\n",
    "    \"Olive Garden Italian Restaurant\",\n",
    "    \"LongHorn Steakhouse\",\n",
    "    \"Cheddar's Scratch Kitchen\",\n",
    "    \"Yard House\",\n",
    "    \"The Capital Grille\",   ####\n",
    "    \"Seasons 52\",\n",
    "    \"Bahama Breeze\",\n",
    "    \"Eddie V's\",  ####\n",
    "    \"Ruth's Chris Steak House\"\n",
    "    \"Outback Steakhouse\",\n",
    "    \"Carrabba's Italian Grill\",\n",
    "    \"Bonefish Grill\",\n",
    "    \"Fleming's Prime Steakhouse & Wine Bar\",\n",
    "    \"Aussie Grill\",\n",
    "    \"Aussie Grill - Brandon\"\n",
    "    \"Chili's\",\n",
    "    \"Chili's Grill & Bar\",\n",
    "    \"Maggiano's Little Italy\",\n",
    "    \"It's Just Wings\"\n",
    "    \"Texas Roadhouse\",\n",
    "    \"Bubba's 33\"\n",
    "]"
   ]
  },
  {
   "cell_type": "code",
   "execution_count": 31,
   "metadata": {},
   "outputs": [
    {
     "data": {
      "text/plain": [
       "7513"
      ]
     },
     "execution_count": 31,
     "metadata": {},
     "output_type": "execute_result"
    }
   ],
   "source": [
    "\"\"\"# Lista de conjunto nombre-direccion en dataset Yelp\n",
    "name_yelp = df_yelp_business['name']\n",
    "name_yelp = set(name_yelp.tolist())\n",
    "len(name_yelp)\"\"\""
   ]
  },
  {
   "cell_type": "code",
   "execution_count": 60,
   "metadata": {},
   "outputs": [
    {
     "name": "stderr",
     "output_type": "stream",
     "text": [
      "/tmp/ipykernel_17764/1407594334.py:12: SettingWithCopyWarning: \n",
      "A value is trying to be set on a copy of a slice from a DataFrame\n",
      "\n",
      "See the caveats in the documentation: https://pandas.pydata.org/pandas-docs/stable/user_guide/indexing.html#returning-a-view-versus-a-copy\n",
      "  df.drop(f'{col_match}_match', axis=1, inplace=True)\n"
     ]
    },
    {
     "data": {
      "text/plain": [
       "49"
      ]
     },
     "execution_count": 60,
     "metadata": {},
     "output_type": "execute_result"
    }
   ],
   "source": [
    "# Crear columna con conjunto de nombre y direccion\n",
    "#df_sitios_['name_address'] = df_sitios_['name'] + ' ' + df_sitios_['postal_code']\n",
    "# Aplicar el match fuzzy\n",
    "df_sitios_ = filtrar_df_fuzzy_match(df_sitios_, 'name', filtro_cadenas)\n",
    "df_sitios_['name'].nunique()"
   ]
  },
  {
   "cell_type": "code",
   "execution_count": 61,
   "metadata": {},
   "outputs": [],
   "source": [
    "df_sitios_['name'].value_counts().to_csv('filtro_name_sitios_.csv')"
   ]
  },
  {
   "cell_type": "code",
   "execution_count": 24,
   "metadata": {},
   "outputs": [
    {
     "data": {
      "text/plain": [
       "(10203, 12)"
      ]
     },
     "execution_count": 24,
     "metadata": {},
     "output_type": "execute_result"
    }
   ],
   "source": [
    "df_yelp_business.shape"
   ]
  },
  {
   "cell_type": "markdown",
   "metadata": {},
   "source": [
    "- --END-- filtro address"
   ]
  },
  {
   "cell_type": "markdown",
   "metadata": {},
   "source": [
    "---\n",
    "Filtro nombre"
   ]
  },
  {
   "cell_type": "code",
   "execution_count": null,
   "metadata": {},
   "outputs": [],
   "source": [
    "# Lista de ciudades unicas en dataset de Yelp\n",
    "name_yelp = set(df_yelp_business['name'].unique().tolist())\n",
    "len(name_yelp)"
   ]
  },
  {
   "cell_type": "code",
   "execution_count": null,
   "metadata": {},
   "outputs": [],
   "source": [
    "df_sitios_['name_match'] = df_sitios_['name'].apply(fuzzy_match, match_to=name_yelp)\n",
    "# Filtrar nulos (donde nulo representa no-match)\n",
    "df_sitios_ = df_sitios_[df_sitios_['name_match'].notnull()]\n",
    "df_sitios_.drop('name_match', axis=1, inplace=True)\n",
    "df_sitios_['name'].value_counts()"
   ]
  },
  {
   "cell_type": "markdown",
   "metadata": {},
   "source": [
    "---\n",
    "Inspeccion de duplicados"
   ]
  },
  {
   "cell_type": "code",
   "execution_count": null,
   "metadata": {},
   "outputs": [],
   "source": [
    "df_sitios_[df_sitios_['gmap_id'].duplicated()][['gmap_id','category']].to_csv('dupe_gmap_id.csv')"
   ]
  },
  {
   "cell_type": "markdown",
   "metadata": {},
   "source": [
    "- No existen duplicados reales\n",
    "---"
   ]
  },
  {
   "cell_type": "code",
   "execution_count": null,
   "metadata": {},
   "outputs": [],
   "source": [
    "# Eliminar duplicados de la columna 'gmap_id'\n",
    "df_sin_duplicados = df_filtrado2.drop_duplicates(subset=['gmap_id'])\n",
    "\n",
    "# Resetear el índice del DataFrame resultante\n",
    "df_sin_duplicados.reset_index(drop=True, inplace=True)"
   ]
  },
  {
   "cell_type": "code",
   "execution_count": null,
   "metadata": {},
   "outputs": [],
   "source": [
    "# Contar los valores nulos en la columna 'Category'\n",
    "valores_nulos_category = df_filtrado2['category'].isnull().sum()\n",
    "\n",
    "# Mostrar el resultado\n",
    "print(\"Número de valores nulos en la columna 'Category':\", valores_nulos_category)"
   ]
  },
  {
   "cell_type": "code",
   "execution_count": null,
   "metadata": {},
   "outputs": [],
   "source": [
    "# Filtrar el DataFrame para mostrar solo las filas donde 'Category' es nulo\n",
    "valores_nulos_df = df_sin_duplicados[df_sin_duplicados['category'].isnull()]\n",
    "\n",
    "# Mostrar el DataFrame resultante\n",
    "print(valores_nulos_df['category'])"
   ]
  },
  {
   "cell_type": "code",
   "execution_count": null,
   "metadata": {},
   "outputs": [],
   "source": [
    "# Eliminar filas con valores nulos en la columna 'Category' y resetear el índice\n",
    "df = df_sin_duplicados.dropna(subset=['category']).reset_index(drop=True)"
   ]
  },
  {
   "cell_type": "code",
   "execution_count": null,
   "metadata": {},
   "outputs": [],
   "source": [
    "df.info()"
   ]
  },
  {
   "cell_type": "code",
   "execution_count": null,
   "metadata": {},
   "outputs": [],
   "source": [
    "#df.to_parquet(\"../../data/metadata_google.parquet\")"
   ]
  },
  {
   "cell_type": "code",
   "execution_count": null,
   "metadata": {},
   "outputs": [],
   "source": [
    "#df_pennsylvania =  df[df['Estado'] == 'PA'][['gmap_id']]\n",
    "#df_delaware = df[df['Estado'] == 'DE'][['gmap_id']]\n",
    "#df_new_jersey = df[df['Estado'] == 'NJ'][['gmap_id']]"
   ]
  },
  {
   "cell_type": "code",
   "execution_count": null,
   "metadata": {},
   "outputs": [],
   "source": [
    "#df_pennsylvania.to_parquet('../../data/PA.parquet')\n",
    "#df_delaware.to_parquet('../../data/DE.parquet')\n",
    "#df_new_jersey.to_parquet('../../data/NJ.parquet')"
   ]
  },
  {
   "cell_type": "code",
   "execution_count": null,
   "metadata": {},
   "outputs": [],
   "source": [
    "# Filtrar el segundo DataFrame para incluir solo las filas con los ID que están en el primer DataFrame\n",
    "#datos_filtrados = df_p[df2['id_establecimiento'].isin(df1['id_establecimiento'])]"
   ]
  }
 ],
 "metadata": {
  "kernelspec": {
   "display_name": "env-pf",
   "language": "python",
   "name": "python3"
  },
  "language_info": {
   "codemirror_mode": {
    "name": "ipython",
    "version": 3
   },
   "file_extension": ".py",
   "mimetype": "text/x-python",
   "name": "python",
   "nbconvert_exporter": "python",
   "pygments_lexer": "ipython3",
   "version": "3.10.12"
  }
 },
 "nbformat": 4,
 "nbformat_minor": 2
}
