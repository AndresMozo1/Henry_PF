{
 "cells": [
  {
   "cell_type": "code",
   "execution_count": 12,
   "metadata": {},
   "outputs": [],
   "source": [
    "from glob import glob\n",
    "import pandas as pd"
   ]
  },
  {
   "cell_type": "code",
   "execution_count": 13,
   "metadata": {},
   "outputs": [],
   "source": [
    "df_pennsylvania = pd.read_parquet('../../data/raw//g-review/g-review_Pennsylvania.parquet')\n",
    "df_delaware = pd.read_parquet('../../data/raw//g-review/g-review_Delaware.parquet')\n",
    "df_new_jersey = pd.read_parquet('../../data/raw//g-review/g-review_New_Jersey.parquet')"
   ]
  },
  {
   "cell_type": "code",
   "execution_count": 14,
   "metadata": {},
   "outputs": [],
   "source": [
    "df_pennsylvania_g = pd.read_parquet('../../data/PA.parquet')\n",
    "df_delaware_g = pd.read_parquet('../../data/DE.parquet')\n",
    "df_new_jersey_g = pd.read_parquet('../../data/NJ.parquet')"
   ]
  },
  {
   "cell_type": "code",
   "execution_count": 15,
   "metadata": {},
   "outputs": [],
   "source": [
    "# Filtrar el segundo DataFrame para incluir solo las filas con los ID que están en el primer DataFrame\n",
    "datos_pennsylvania = df_pennsylvania[df_pennsylvania['gmap_id'].isin(df_pennsylvania_g['gmap_id'])]\n",
    "datos_delaware = df_delaware[df_delaware['gmap_id'].isin(df_delaware_g['gmap_id'])]\n",
    "datos_new_jersey = df_new_jersey[df_new_jersey['gmap_id'].isin(df_new_jersey_g['gmap_id'])]"
   ]
  },
  {
   "cell_type": "code",
   "execution_count": 16,
   "metadata": {},
   "outputs": [
    {
     "name": "stdout",
     "output_type": "stream",
     "text": [
      "<class 'pandas.core.frame.DataFrame'>\n",
      "Index: 506734 entries, 633 to 2249999\n",
      "Data columns (total 8 columns):\n",
      " #   Column   Non-Null Count   Dtype \n",
      "---  ------   --------------   ----- \n",
      " 0   user_id  506734 non-null  object\n",
      " 1   name     506734 non-null  object\n",
      " 2   time     506734 non-null  int64 \n",
      " 3   rating   506734 non-null  int64 \n",
      " 4   text     297294 non-null  object\n",
      " 5   pics     13848 non-null   object\n",
      " 6   resp     67079 non-null   object\n",
      " 7   gmap_id  506734 non-null  object\n",
      "dtypes: int64(2), object(6)\n",
      "memory usage: 34.8+ MB\n"
     ]
    }
   ],
   "source": [
    "datos_pennsylvania.info()"
   ]
  },
  {
   "cell_type": "code",
   "execution_count": 17,
   "metadata": {},
   "outputs": [
    {
     "name": "stdout",
     "output_type": "stream",
     "text": [
      "<class 'pandas.core.frame.DataFrame'>\n",
      "Index: 62302 entries, 155554 to 282712\n",
      "Data columns (total 8 columns):\n",
      " #   Column   Non-Null Count  Dtype \n",
      "---  ------   --------------  ----- \n",
      " 0   user_id  62302 non-null  object\n",
      " 1   name     62302 non-null  object\n",
      " 2   time     62302 non-null  int64 \n",
      " 3   rating   62302 non-null  int64 \n",
      " 4   text     36302 non-null  object\n",
      " 5   pics     1440 non-null   object\n",
      " 6   resp     9120 non-null   object\n",
      " 7   gmap_id  62302 non-null  object\n",
      "dtypes: int64(2), object(6)\n",
      "memory usage: 4.3+ MB\n"
     ]
    }
   ],
   "source": [
    "datos_delaware.info()"
   ]
  },
  {
   "cell_type": "code",
   "execution_count": 18,
   "metadata": {},
   "outputs": [
    {
     "name": "stdout",
     "output_type": "stream",
     "text": [
      "<class 'pandas.core.frame.DataFrame'>\n",
      "Index: 239545 entries, 710 to 1646978\n",
      "Data columns (total 8 columns):\n",
      " #   Column   Non-Null Count   Dtype \n",
      "---  ------   --------------   ----- \n",
      " 0   user_id  239545 non-null  object\n",
      " 1   name     239545 non-null  object\n",
      " 2   time     239545 non-null  int64 \n",
      " 3   rating   239545 non-null  int64 \n",
      " 4   text     136700 non-null  object\n",
      " 5   pics     5961 non-null    object\n",
      " 6   resp     28924 non-null   object\n",
      " 7   gmap_id  239545 non-null  object\n",
      "dtypes: int64(2), object(6)\n",
      "memory usage: 16.4+ MB\n"
     ]
    }
   ],
   "source": [
    "datos_new_jersey.info()"
   ]
  },
  {
   "cell_type": "code",
   "execution_count": 19,
   "metadata": {},
   "outputs": [],
   "source": [
    "# Unir los tres DataFrames en uno solo\n",
    "df_reviews_google = pd.concat([datos_pennsylvania, datos_delaware, datos_new_jersey], ignore_index=True)"
   ]
  },
  {
   "cell_type": "code",
   "execution_count": 20,
   "metadata": {},
   "outputs": [],
   "source": [
    "# Resetear el índice del DataFrame resultante\n",
    "df_reviews_google.reset_index(drop=True, inplace=True)"
   ]
  },
  {
   "cell_type": "code",
   "execution_count": 21,
   "metadata": {},
   "outputs": [
    {
     "name": "stdout",
     "output_type": "stream",
     "text": [
      "<class 'pandas.core.frame.DataFrame'>\n",
      "RangeIndex: 808581 entries, 0 to 808580\n",
      "Data columns (total 8 columns):\n",
      " #   Column   Non-Null Count   Dtype \n",
      "---  ------   --------------   ----- \n",
      " 0   user_id  808581 non-null  object\n",
      " 1   name     808581 non-null  object\n",
      " 2   time     808581 non-null  int64 \n",
      " 3   rating   808581 non-null  int64 \n",
      " 4   text     470296 non-null  object\n",
      " 5   pics     21249 non-null   object\n",
      " 6   resp     105123 non-null  object\n",
      " 7   gmap_id  808581 non-null  object\n",
      "dtypes: int64(2), object(6)\n",
      "memory usage: 49.4+ MB\n"
     ]
    }
   ],
   "source": [
    "df_reviews_google.info()"
   ]
  },
  {
   "cell_type": "code",
   "execution_count": 22,
   "metadata": {},
   "outputs": [],
   "source": [
    "df_reviews_google.to_parquet('../../data/reviews_google.parquet')"
   ]
  },
  {
   "cell_type": "code",
   "execution_count": null,
   "metadata": {},
   "outputs": [],
   "source": []
  }
 ],
 "metadata": {
  "kernelspec": {
   "display_name": "env-pf",
   "language": "python",
   "name": "python3"
  },
  "language_info": {
   "codemirror_mode": {
    "name": "ipython",
    "version": 3
   },
   "file_extension": ".py",
   "mimetype": "text/x-python",
   "name": "python",
   "nbconvert_exporter": "python",
   "pygments_lexer": "ipython3",
   "version": "3.10.12"
  }
 },
 "nbformat": 4,
 "nbformat_minor": 2
}
