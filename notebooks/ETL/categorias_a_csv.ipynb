{
 "cells": [
  {
   "cell_type": "code",
   "execution_count": 2,
   "metadata": {},
   "outputs": [],
   "source": [
    "from glob import glob\n",
    "import dask.dataframe as dd\n",
    "import pandas as pd"
   ]
  },
  {
   "cell_type": "code",
   "execution_count": 10,
   "metadata": {},
   "outputs": [],
   "source": [
    "# Opción que deshabilita el limite de columnas mostradas\n",
    "pd.set_option('display.max_rows', None)"
   ]
  },
  {
   "cell_type": "markdown",
   "metadata": {},
   "source": [
    "## Google"
   ]
  },
  {
   "cell_type": "code",
   "execution_count": 11,
   "metadata": {},
   "outputs": [],
   "source": [
    "# Path de 'metadata-sitios'\n",
    "path_dir = '../../data/Google/metadata-sitios'\n",
    "paths = glob(f'{path_dir}/*.parquet')  # lista de todo parquet en `path_dir`\n",
    "\n",
    "ds_categorias = pd.Series()  # instanciar una Serie\n",
    "# Leer todo parquet en `paths`\n",
    "for path in paths:\n",
    "    df = pd.read_parquet(path)\n",
    "    # Extraer columna `category` del parquet, y unirlo en `ds_categorias`\n",
    "    ds_categorias = pd.concat([ds_categorias, df['category']], ignore_index=True)"
   ]
  },
  {
   "cell_type": "code",
   "execution_count": 12,
   "metadata": {},
   "outputs": [
    {
     "name": "stdout",
     "output_type": "stream",
     "text": [
      "<class 'pandas.core.series.Series'>\n",
      "RangeIndex: 3025011 entries, 0 to 3025010\n",
      "Series name: None\n",
      "Non-Null Count    Dtype \n",
      "--------------    ----- \n",
      "3007592 non-null  object\n",
      "dtypes: object(1)\n",
      "memory usage: 23.1+ MB\n"
     ]
    }
   ],
   "source": [
    "ds_categorias.info()"
   ]
  },
  {
   "cell_type": "code",
   "execution_count": 13,
   "metadata": {},
   "outputs": [],
   "source": [
    "# Convertir la Serie de pandas a una Serie de Dask\n",
    "ds = dd.from_pandas(ds_categorias, npartitions=10)\n",
    "\n",
    "# Usar value_counts() para contar la ocurrencia de cada valor único\n",
    "conteo_categorias = ds.value_counts().compute()"
   ]
  },
  {
   "cell_type": "code",
   "execution_count": null,
   "metadata": {},
   "outputs": [],
   "source": [
    "conteo_categorias = conteo_categorias.sort_values(ascending=False)\n",
    "#conteo_categorias"
   ]
  },
  {
   "cell_type": "code",
   "execution_count": 15,
   "metadata": {},
   "outputs": [],
   "source": [
    "conteo_categorias.to_csv('../data_csv/google_sitios_categorias.csv')"
   ]
  },
  {
   "cell_type": "markdown",
   "metadata": {},
   "source": [
    "## Yelp"
   ]
  },
  {
   "cell_type": "code",
   "execution_count": 16,
   "metadata": {},
   "outputs": [],
   "source": [
    "# Path de 'business.parquet'\n",
    "path = '../../data/Yelp/business.parquet'\n",
    "# Leer 'business.parquet' \n",
    "df = pd.read_parquet(path)"
   ]
  },
  {
   "cell_type": "code",
   "execution_count": 17,
   "metadata": {},
   "outputs": [
    {
     "name": "stdout",
     "output_type": "stream",
     "text": [
      "<class 'pandas.core.frame.DataFrame'>\n",
      "Index: 150351 entries, 0 to 1543\n",
      "Data columns (total 14 columns):\n",
      " #   Column        Non-Null Count   Dtype  \n",
      "---  ------        --------------   -----  \n",
      " 0   business_id   150351 non-null  object \n",
      " 1   name          150351 non-null  object \n",
      " 2   address       150351 non-null  object \n",
      " 3   city          150351 non-null  object \n",
      " 4   state         150348 non-null  object \n",
      " 5   postal_code   150351 non-null  object \n",
      " 6   latitude      150351 non-null  float64\n",
      " 7   longitude     150351 non-null  float64\n",
      " 8   stars         150351 non-null  float64\n",
      " 9   review_count  150351 non-null  int64  \n",
      " 10  is_open       150351 non-null  int64  \n",
      " 11  attributes    136607 non-null  object \n",
      " 12  categories    150248 non-null  object \n",
      " 13  hours         127128 non-null  object \n",
      "dtypes: float64(3), int64(2), object(9)\n",
      "memory usage: 17.2+ MB\n"
     ]
    }
   ],
   "source": [
    "df.info()"
   ]
  },
  {
   "cell_type": "code",
   "execution_count": null,
   "metadata": {},
   "outputs": [],
   "source": [
    "# Imprimir conteo de valores, columna `categories`\n",
    "conteo_categorias = df['categories'].value_counts()\n",
    "#conteo_categorias"
   ]
  },
  {
   "cell_type": "code",
   "execution_count": 19,
   "metadata": {},
   "outputs": [],
   "source": [
    "conteo_categorias.to_csv('../../data_csv/yelp_business_categorias.csv')"
   ]
  }
 ],
 "metadata": {
  "kernelspec": {
   "display_name": "py311",
   "language": "python",
   "name": "python3"
  },
  "language_info": {
   "codemirror_mode": {
    "name": "ipython",
    "version": 3
   },
   "file_extension": ".py",
   "mimetype": "text/x-python",
   "name": "python",
   "nbconvert_exporter": "python",
   "pygments_lexer": "ipython3",
   "version": "3.10.12"
  },
  "orig_nbformat": 4
 },
 "nbformat": 4,
 "nbformat_minor": 2
}
