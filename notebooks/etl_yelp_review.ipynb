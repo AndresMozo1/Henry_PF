{
 "cells": [
  {
   "cell_type": "code",
   "execution_count": 2,
   "metadata": {},
   "outputs": [],
   "source": [
    "from glob import glob\n",
    "import pandas as pd"
   ]
  },
  {
   "cell_type": "code",
   "execution_count": 4,
   "metadata": {},
   "outputs": [],
   "source": [
    "# Opción que deshabilita el limite de columnas y filas mostradas\n",
    "pd.set_option('display.max_columns', None)\n",
    "pd.set_option('display.max_rows', None)"
   ]
  },
  {
   "cell_type": "code",
   "execution_count": 5,
   "metadata": {},
   "outputs": [],
   "source": [
    "# Path de los archivos no-procesados (formato parquet)\n",
    "path_data = '../data/raw'"
   ]
  },
  {
   "cell_type": "code",
   "execution_count": 6,
   "metadata": {},
   "outputs": [
    {
     "data": {
      "text/plain": [
       "['../data/raw/y-review/y-review_03.parquet',\n",
       " '../data/raw/y-review/y-review_02.parquet',\n",
       " '../data/raw/y-review/y-review_01.parquet']"
      ]
     },
     "execution_count": 6,
     "metadata": {},
     "output_type": "execute_result"
    }
   ],
   "source": [
    "# Crear lista de archivos en /data/raw/y-review/\n",
    "review_parquets = glob(f'{path_data}/y-review/*')\n",
    "review_parquets"
   ]
  },
  {
   "cell_type": "code",
   "execution_count": 7,
   "metadata": {},
   "outputs": [],
   "source": [
    "# Crear dataframe donde se unen los datos extraidos de parquet\n",
    "df_review = pd.DataFrame()\n",
    "# Iterar por cada parquet dentro de /data/raw/y-review/\n",
    "for p in review_parquets:\n",
    "    # Leer parquet\n",
    "    df = pd.read_parquet(p)\n",
    "    # Unir a df_review\n",
    "    df_review = pd.concat([df_review, df], ignore_index=True)"
   ]
  },
  {
   "cell_type": "code",
   "execution_count": 8,
   "metadata": {},
   "outputs": [
    {
     "name": "stdout",
     "output_type": "stream",
     "text": [
      "<class 'pandas.core.frame.DataFrame'>\n",
      "RangeIndex: 6990280 entries, 0 to 6990279\n",
      "Data columns (total 9 columns):\n",
      " #   Column       Dtype  \n",
      "---  ------       -----  \n",
      " 0   review_id    object \n",
      " 1   user_id      object \n",
      " 2   business_id  object \n",
      " 3   stars        float64\n",
      " 4   useful       int64  \n",
      " 5   funny        int64  \n",
      " 6   cool         int64  \n",
      " 7   text         object \n",
      " 8   date         object \n",
      "dtypes: float64(1), int64(3), object(5)\n",
      "memory usage: 480.0+ MB\n"
     ]
    }
   ],
   "source": [
    "df_review.info()"
   ]
  },
  {
   "cell_type": "code",
   "execution_count": 9,
   "metadata": {},
   "outputs": [
    {
     "data": {
      "text/html": [
       "<div>\n",
       "<style scoped>\n",
       "    .dataframe tbody tr th:only-of-type {\n",
       "        vertical-align: middle;\n",
       "    }\n",
       "\n",
       "    .dataframe tbody tr th {\n",
       "        vertical-align: top;\n",
       "    }\n",
       "\n",
       "    .dataframe thead th {\n",
       "        text-align: right;\n",
       "    }\n",
       "</style>\n",
       "<table border=\"1\" class=\"dataframe\">\n",
       "  <thead>\n",
       "    <tr style=\"text-align: right;\">\n",
       "      <th></th>\n",
       "      <th>review_id</th>\n",
       "      <th>user_id</th>\n",
       "      <th>business_id</th>\n",
       "      <th>stars</th>\n",
       "      <th>useful</th>\n",
       "      <th>funny</th>\n",
       "      <th>cool</th>\n",
       "      <th>text</th>\n",
       "      <th>date</th>\n",
       "    </tr>\n",
       "  </thead>\n",
       "  <tbody>\n",
       "    <tr>\n",
       "      <th>0</th>\n",
       "      <td>NRI6ZkovQxhAbtw8gV9Csg</td>\n",
       "      <td>xGTlAfrM208q533eDriJkg</td>\n",
       "      <td>9r_prQEvUixrjuIB4v5qCQ</td>\n",
       "      <td>5.0</td>\n",
       "      <td>0</td>\n",
       "      <td>1</td>\n",
       "      <td>0</td>\n",
       "      <td>Went for brunch this last Sunday with She Who ...</td>\n",
       "      <td>2017-08-21 23:26:25</td>\n",
       "    </tr>\n",
       "    <tr>\n",
       "      <th>1</th>\n",
       "      <td>YY1Lk8bUkcheHjWM-pWgoQ</td>\n",
       "      <td>2T48z1egd0IRwrje2PgRuw</td>\n",
       "      <td>dqdEPiPQugiz8sIgMqXmiw</td>\n",
       "      <td>4.0</td>\n",
       "      <td>5</td>\n",
       "      <td>0</td>\n",
       "      <td>3</td>\n",
       "      <td>This is a nice home-town cafe.  Very casual at...</td>\n",
       "      <td>2010-10-21 15:55:32</td>\n",
       "    </tr>\n",
       "    <tr>\n",
       "      <th>2</th>\n",
       "      <td>V-zNEilwLRvFtrcL9sNeQw</td>\n",
       "      <td>uQe-RHxj1npBb6Tp7w2gEw</td>\n",
       "      <td>sKutdIq6xvP0Xs4rUeKNHQ</td>\n",
       "      <td>5.0</td>\n",
       "      <td>0</td>\n",
       "      <td>0</td>\n",
       "      <td>0</td>\n",
       "      <td>Some of the best ice cream ever but without a ...</td>\n",
       "      <td>2021-01-31 04:10:50</td>\n",
       "    </tr>\n",
       "    <tr>\n",
       "      <th>3</th>\n",
       "      <td>tT8VIru8w71KHKW8Hb2MIQ</td>\n",
       "      <td>T9nmYu1cA9yU8lsVO_S_MQ</td>\n",
       "      <td>zhg9prrh_mc-mH5m1Vw7iw</td>\n",
       "      <td>5.0</td>\n",
       "      <td>0</td>\n",
       "      <td>0</td>\n",
       "      <td>1</td>\n",
       "      <td>Joe and Kelly make the most delicious food. It...</td>\n",
       "      <td>2021-04-18 17:05:25</td>\n",
       "    </tr>\n",
       "    <tr>\n",
       "      <th>4</th>\n",
       "      <td>uBsJwHXcXIgzvEtnNMKeQA</td>\n",
       "      <td>hTaBY4ObN-vTNgABea55wg</td>\n",
       "      <td>L1TzHZ8OXfVXTfyzidstzg</td>\n",
       "      <td>5.0</td>\n",
       "      <td>0</td>\n",
       "      <td>0</td>\n",
       "      <td>0</td>\n",
       "      <td>Great food with fast and friendly service! I l...</td>\n",
       "      <td>2021-03-22 03:57:59</td>\n",
       "    </tr>\n",
       "  </tbody>\n",
       "</table>\n",
       "</div>"
      ],
      "text/plain": [
       "                review_id                 user_id             business_id  \\\n",
       "0  NRI6ZkovQxhAbtw8gV9Csg  xGTlAfrM208q533eDriJkg  9r_prQEvUixrjuIB4v5qCQ   \n",
       "1  YY1Lk8bUkcheHjWM-pWgoQ  2T48z1egd0IRwrje2PgRuw  dqdEPiPQugiz8sIgMqXmiw   \n",
       "2  V-zNEilwLRvFtrcL9sNeQw  uQe-RHxj1npBb6Tp7w2gEw  sKutdIq6xvP0Xs4rUeKNHQ   \n",
       "3  tT8VIru8w71KHKW8Hb2MIQ  T9nmYu1cA9yU8lsVO_S_MQ  zhg9prrh_mc-mH5m1Vw7iw   \n",
       "4  uBsJwHXcXIgzvEtnNMKeQA  hTaBY4ObN-vTNgABea55wg  L1TzHZ8OXfVXTfyzidstzg   \n",
       "\n",
       "   stars  useful  funny  cool  \\\n",
       "0    5.0       0      1     0   \n",
       "1    4.0       5      0     3   \n",
       "2    5.0       0      0     0   \n",
       "3    5.0       0      0     1   \n",
       "4    5.0       0      0     0   \n",
       "\n",
       "                                                text                 date  \n",
       "0  Went for brunch this last Sunday with She Who ...  2017-08-21 23:26:25  \n",
       "1  This is a nice home-town cafe.  Very casual at...  2010-10-21 15:55:32  \n",
       "2  Some of the best ice cream ever but without a ...  2021-01-31 04:10:50  \n",
       "3  Joe and Kelly make the most delicious food. It...  2021-04-18 17:05:25  \n",
       "4  Great food with fast and friendly service! I l...  2021-03-22 03:57:59  "
      ]
     },
     "execution_count": 9,
     "metadata": {},
     "output_type": "execute_result"
    }
   ],
   "source": [
    "df_review.head()"
   ]
  },
  {
   "cell_type": "code",
   "execution_count": 11,
   "metadata": {},
   "outputs": [
    {
     "name": "stdout",
     "output_type": "stream",
     "text": [
      "Valores nulos por columna:\n"
     ]
    }
   ],
   "source": [
    "# Verificar la cantidad de valores nulos por columna\n",
    "valores_nulos = df_review.isnull().sum()\n",
    "\n",
    "# Mostrar las columnas con valores nulos y su cantidad\n",
    "print(\"Valores nulos por columna:\")"
   ]
  },
  {
   "cell_type": "code",
   "execution_count": 12,
   "metadata": {},
   "outputs": [
    {
     "name": "stdout",
     "output_type": "stream",
     "text": [
      "Cantidad de filas duplicadas: 0\n"
     ]
    }
   ],
   "source": [
    "# Verificar la cantidad de filas duplicadas en el DataFrame\n",
    "duplicados = df_review.duplicated().sum()\n",
    "\n",
    "# Mostrar la cantidad de filas duplicadas\n",
    "print(f\"Cantidad de filas duplicadas: {duplicados}\")\n"
   ]
  },
  {
   "cell_type": "code",
   "execution_count": 27,
   "metadata": {},
   "outputs": [
    {
     "name": "stdout",
     "output_type": "stream",
     "text": [
      "<class 'pandas.core.frame.DataFrame'>\n",
      "Index: 150351 entries, 0 to 1543\n",
      "Data columns (total 14 columns):\n",
      " #   Column        Non-Null Count   Dtype  \n",
      "---  ------        --------------   -----  \n",
      " 0   business_id   150351 non-null  object \n",
      " 1   name          150351 non-null  object \n",
      " 2   address       150351 non-null  object \n",
      " 3   city          150351 non-null  object \n",
      " 4   state         150348 non-null  object \n",
      " 5   postal_code   150351 non-null  object \n",
      " 6   latitude      150351 non-null  float64\n",
      " 7   longitude     150351 non-null  float64\n",
      " 8   stars         150351 non-null  float64\n",
      " 9   review_count  150351 non-null  int64  \n",
      " 10  is_open       150351 non-null  int64  \n",
      " 11  attributes    136607 non-null  object \n",
      " 12  categories    150248 non-null  object \n",
      " 13  hours         127128 non-null  object \n",
      "dtypes: float64(3), int64(2), object(9)\n",
      "memory usage: 17.2+ MB\n",
      "None\n"
     ]
    }
   ],
   "source": [
    "\n",
    "# Especificar la ruta completa al archivo Parquet\n",
    "ruta_archivo_parquet = '/home/henry/PF/Henry_PF/data/raw/y-business.parquet'\n",
    "\n",
    "# Cargar el archivo Parquet en un DataFrame (suponiendo que contiene información de negocios)\n",
    "df_business = pd.read_parquet(ruta_archivo_parquet)\n",
    "\n",
    "# Mostrar información básica del DataFrame df_business\n",
    "print(df_business.info())\n"
   ]
  },
  {
   "cell_type": "code",
   "execution_count": 28,
   "metadata": {},
   "outputs": [
    {
     "name": "stdout",
     "output_type": "stream",
     "text": [
      "                review_id                 user_id             business_id  \\\n",
      "0  NRI6ZkovQxhAbtw8gV9Csg  xGTlAfrM208q533eDriJkg  9r_prQEvUixrjuIB4v5qCQ   \n",
      "1  YY1Lk8bUkcheHjWM-pWgoQ  2T48z1egd0IRwrje2PgRuw  dqdEPiPQugiz8sIgMqXmiw   \n",
      "2  V-zNEilwLRvFtrcL9sNeQw  uQe-RHxj1npBb6Tp7w2gEw  sKutdIq6xvP0Xs4rUeKNHQ   \n",
      "3  tT8VIru8w71KHKW8Hb2MIQ  T9nmYu1cA9yU8lsVO_S_MQ  zhg9prrh_mc-mH5m1Vw7iw   \n",
      "4  uBsJwHXcXIgzvEtnNMKeQA  hTaBY4ObN-vTNgABea55wg  L1TzHZ8OXfVXTfyzidstzg   \n",
      "\n",
      "   stars  useful  funny  cool  \\\n",
      "0    5.0       0      1     0   \n",
      "1    4.0       5      0     3   \n",
      "2    5.0       0      0     0   \n",
      "3    5.0       0      0     1   \n",
      "4    5.0       0      0     0   \n",
      "\n",
      "                                                text                 date  \\\n",
      "0  Went for brunch this last Sunday with She Who ...  2017-08-21 23:26:25   \n",
      "1  This is a nice home-town cafe.  Very casual at...  2010-10-21 15:55:32   \n",
      "2  Some of the best ice cream ever but without a ...  2021-01-31 04:10:50   \n",
      "3  Joe and Kelly make the most delicious food. It...  2021-04-18 17:05:25   \n",
      "4  Great food with fast and friendly service! I l...  2021-03-22 03:57:59   \n",
      "\n",
      "  state  \n",
      "0    TN  \n",
      "1    AZ  \n",
      "2    LA  \n",
      "3    LA  \n",
      "4    PA  \n"
     ]
    }
   ],
   "source": [
    "# Combinar df_review con df_business por business_id y state\n",
    "df_review_con_estado = pd.merge(df_review, df_business[['business_id', 'state']], on='business_id', how='left')\n",
    "\n",
    "# Mostrar las primeras filas del DataFrame combinado\n",
    "print(df_review_con_estado.head())"
   ]
  },
  {
   "cell_type": "code",
   "execution_count": 30,
   "metadata": {},
   "outputs": [
    {
     "name": "stdout",
     "output_type": "stream",
     "text": [
      "['TN' 'AZ' 'LA' 'PA' 'FL' 'CA' 'NV' 'MO' 'DE' 'NJ' 'IN' 'ID' 'IL' 'AB'\n",
      " 'TX' 'XMS' 'MA' 'VI' 'VT' 'MI' 'MT' 'HI' 'SD' None 'NC' 'CO' 'WA' 'UT']\n"
     ]
    }
   ],
   "source": [
    "# Obtener la lista única de estados del DataFrame df_review_con_estado\n",
    "lista_estados = df_review_con_estado['state'].unique()\n",
    "\n",
    "# Mostrar la lista de estados\n",
    "print(lista_estados)\n"
   ]
  },
  {
   "cell_type": "code",
   "execution_count": 29,
   "metadata": {},
   "outputs": [
    {
     "name": "stdout",
     "output_type": "stream",
     "text": [
      "                 review_id                 user_id             business_id  \\\n",
      "4   uBsJwHXcXIgzvEtnNMKeQA  hTaBY4ObN-vTNgABea55wg  L1TzHZ8OXfVXTfyzidstzg   \n",
      "7   mrKev0mkGPk4HHptd0n0yA  sLgekUp1uedWpnDsztvkVw  VNvJuCTMdGBj4lwC0L1Ghg   \n",
      "12  XiGEWAs5eqk6rMS447OkUA  v2LoAVDzWrpNgYxN8-WvtA  fiCL0hm0we0CwrCgqcdGxA   \n",
      "13  AfGu2ryYNTPYpszjWLwpNw  bAmK1OzZpDkKeN_az63sMw  c0TznEkK0x57wbVEepFWrw   \n",
      "14  KOQuM8Fi2Q_CxcBk8nNIMA  Q3ThRERY7YaILUK94q1pNg  kAkpIg1fp4g7kiG-hQdUZw   \n",
      "\n",
      "    stars  useful  funny  cool  \\\n",
      "4     5.0       0      0     0   \n",
      "7     5.0       6      1     5   \n",
      "12    2.0      18      0     0   \n",
      "13    5.0      15      5    10   \n",
      "14    5.0       8      0     0   \n",
      "\n",
      "                                                 text                 date  \\\n",
      "4   Great food with fast and friendly service! I l...  2021-03-22 03:57:59   \n",
      "7   I arrived early because this was my first visi...  2018-09-30 15:01:42   \n",
      "12  I for one am saddened at the downward spiral t...  2013-06-24 02:22:34   \n",
      "13  One Family Korean Restaurant is hands down the...  2018-04-18 00:39:12   \n",
      "14  Just moved in a few months ago, Tony has been ...  2013-10-14 15:13:42   \n",
      "\n",
      "   state  \n",
      "4     PA  \n",
      "7     PA  \n",
      "12    PA  \n",
      "13    DE  \n",
      "14    PA  \n"
     ]
    }
   ],
   "source": [
    "# Lista de estados a filtrar\n",
    "estados_a_filtrar = ['PA', 'NJ', 'DE']\n",
    "\n",
    "# Filtrar las reseñas por los estados específicos\n",
    "df_review_filtrado = df_review_con_estado[df_review_con_estado['state'].isin(estados_a_filtrar)]\n",
    "\n",
    "# Mostrar las primeras filas del DataFrame filtrado\n",
    "print(df_review_filtrado.head())\n"
   ]
  },
  {
   "cell_type": "code",
   "execution_count": 32,
   "metadata": {},
   "outputs": [
    {
     "name": "stdout",
     "output_type": "stream",
     "text": [
      "<class 'pandas.core.frame.DataFrame'>\n",
      "Index: 2097812 entries, 4 to 6990413\n",
      "Data columns (total 10 columns):\n",
      " #   Column       Dtype  \n",
      "---  ------       -----  \n",
      " 0   review_id    object \n",
      " 1   user_id      object \n",
      " 2   business_id  object \n",
      " 3   stars        float64\n",
      " 4   useful       int64  \n",
      " 5   funny        int64  \n",
      " 6   cool         int64  \n",
      " 7   text         object \n",
      " 8   date         object \n",
      " 9   state        object \n",
      "dtypes: float64(1), int64(3), object(6)\n",
      "memory usage: 176.1+ MB\n"
     ]
    }
   ],
   "source": [
    "df_review_filtrado.info()"
   ]
  },
  {
   "cell_type": "code",
   "execution_count": 38,
   "metadata": {},
   "outputs": [],
   "source": [
    "df_review_filtrado.to_parquet(f'{path_data}/y-review_filtrado.parquet')"
   ]
  },
  {
   "cell_type": "code",
   "execution_count": 37,
   "metadata": {},
   "outputs": [
    {
     "data": {
      "image/png": "[encoded data removed]",
      "text/plain": [
       "<Figure size 500x300 with 1 Axes>"
      ]
     },
     "metadata": {},
     "output_type": "display_data"
    }
   ],
   "source": [
    "import matplotlib.pyplot as plt\n",
    "\n",
    "# Contar la cantidad de establecimientos por cantidad de estrellas\n",
    "establecimientos_por_estrellas = df_review_filtrado.groupby('stars')['business_id'].nunique()\n",
    "\n",
    "# Crear el gráfico de barras\n",
    "plt.figure(figsize=(5, 3))\n",
    "establecimientos_por_estrellas.plot(kind='bar', color='skyblue')\n",
    "plt.title('Cantidad de Establecimientos por Cantidad de Estrellas')\n",
    "plt.xlabel('Cantidad de Estrellas')\n",
    "plt.ylabel('Cantidad de Establecimientos')\n",
    "plt.xticks(rotation=0)\n",
    "plt.grid(axis='y', linestyle='--', alpha=0.7)\n",
    "plt.show()\n"
   ]
  },
  {
   "cell_type": "code",
   "execution_count": 36,
   "metadata": {},
   "outputs": [
    {
     "data": {
      "image/png": "[encoded data removed]",
      "text/plain": [
       "<Figure size 500x300 with 1 Axes>"
      ]
     },
     "metadata": {},
     "output_type": "display_data"
    }
   ],
   "source": [
    "# Contar la cantidad de reseñas por estado\n",
    "reseñas_por_estado = df_review_filtrado['state'].value_counts()\n",
    "\n",
    "# Crear un gráfico de barras de la cantidad de reseñas por estado\n",
    "plt.figure(figsize=(5, 3))\n",
    "reseñas_por_estado.plot(kind='bar', color='skyblue')\n",
    "plt.title('Cantidad de Reseñas por Estado')\n",
    "plt.xlabel('Estado')\n",
    "plt.ylabel('Cantidad de Reseñas')\n",
    "plt.xticks(rotation=0)\n",
    "plt.grid(axis='y', linestyle='--', alpha=0.7)\n",
    "plt.show()\n"
   ]
  },
  {
   "cell_type": "code",
   "execution_count": null,
   "metadata": {},
   "outputs": [],
   "source": []
  }
 ],
 "metadata": {
  "kernelspec": {
   "display_name": "env-pf",
   "language": "python",
   "name": "python3"
  },
  "language_info": {
   "codemirror_mode": {
    "name": "ipython",
    "version": 3
   },
   "file_extension": ".py",
   "mimetype": "text/x-python",
   "name": "python",
   "nbconvert_exporter": "python",
   "pygments_lexer": "ipython3",
   "version": "3.10.12"
  }
 },
 "nbformat": 4,
 "nbformat_minor": 2
}
