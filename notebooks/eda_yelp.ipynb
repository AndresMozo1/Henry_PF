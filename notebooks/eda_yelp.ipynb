{
 "cells": [
  {
   "cell_type": "code",
   "execution_count": 3,
   "metadata": {},
   "outputs": [],
   "source": [
    "from glob import glob\n",
    "import pandas as pd\n",
    "import json"
   ]
  },
  {
   "cell_type": "code",
   "execution_count": 29,
   "metadata": {},
   "outputs": [],
   "source": [
    "# Opción que deshabilita el limite de columnas y filas mostradas\n",
    "pd.set_option('display.max_columns', None)\n",
    "pd.set_option('display.max_rows', None)"
   ]
  },
  {
   "cell_type": "markdown",
   "metadata": {},
   "source": [
    "---\n",
    "## Carga de data Yelp"
   ]
  },
  {
   "cell_type": "code",
   "execution_count": 5,
   "metadata": {},
   "outputs": [],
   "source": [
    "# Path de los archivos no-procesados (formato parquet)\n",
    "path_data = '../data/raw'"
   ]
  },
  {
   "cell_type": "markdown",
   "metadata": {},
   "source": [
    "### `y-business.parquet`"
   ]
  },
  {
   "cell_type": "code",
   "execution_count": 31,
   "metadata": {},
   "outputs": [],
   "source": [
    "df_business = pd.read_parquet(f'{path_data}/y-business.parquet')"
   ]
  },
  {
   "cell_type": "markdown",
   "metadata": {},
   "source": [
    "### `y-checkin.parquet`"
   ]
  },
  {
   "cell_type": "code",
   "execution_count": 32,
   "metadata": {},
   "outputs": [],
   "source": [
    "df_checkin = pd.read_parquet(f'{path_data}/y-checkin.parquet')"
   ]
  },
  {
   "cell_type": "markdown",
   "metadata": {},
   "source": [
    "### `y-tip.parquet`"
   ]
  },
  {
   "cell_type": "code",
   "execution_count": 33,
   "metadata": {},
   "outputs": [],
   "source": [
    "df_tip = pd.read_parquet(f'{path_data}/y-tip.parquet')"
   ]
  },
  {
   "cell_type": "markdown",
   "metadata": {},
   "source": [
    "### `y-review.parquet`"
   ]
  },
  {
   "cell_type": "code",
   "execution_count": 34,
   "metadata": {},
   "outputs": [
    {
     "data": {
      "text/plain": [
       "['../data/raw/y-review/y-review_03.parquet',\n",
       " '../data/raw/y-review/y-review_02.parquet',\n",
       " '../data/raw/y-review/y-review_01.parquet']"
      ]
     },
     "execution_count": 34,
     "metadata": {},
     "output_type": "execute_result"
    }
   ],
   "source": [
    "# Crear lista de archivos en /data/raw/y-review/\n",
    "review_parquets = glob(f'{path_data}/y-review/*')\n",
    "review_parquets"
   ]
  },
  {
   "cell_type": "code",
   "execution_count": 35,
   "metadata": {},
   "outputs": [],
   "source": [
    "# Crear dataframe donde se unen los datos extraidos de parquet\n",
    "df_review = pd.DataFrame()\n",
    "# Iterar por cada parquet dentro de /data/raw/y-review/\n",
    "for p in review_parquets:\n",
    "    # Leer parquet\n",
    "    df = pd.read_parquet(p)\n",
    "    # Unir a df_review\n",
    "    df_review = pd.concat([df_review, df], ignore_index=True)"
   ]
  },
  {
   "cell_type": "markdown",
   "metadata": {},
   "source": [
    "### `y-user.parquet`"
   ]
  },
  {
   "cell_type": "code",
   "execution_count": 6,
   "metadata": {},
   "outputs": [
    {
     "data": {
      "text/plain": [
       "['../data/raw/y-user/y-user_04.parquet',\n",
       " '../data/raw/y-user/y-user_02.parquet',\n",
       " '../data/raw/y-user/y-user_03.parquet',\n",
       " '../data/raw/y-user/y-user_01.parquet']"
      ]
     },
     "execution_count": 6,
     "metadata": {},
     "output_type": "execute_result"
    }
   ],
   "source": [
    "# Crear lista de archivos en /data/raw/y-user/\n",
    "user_parquets = glob(f'{path_data}/y-user/*')\n",
    "user_parquets"
   ]
  },
  {
   "cell_type": "code",
   "execution_count": 7,
   "metadata": {},
   "outputs": [],
   "source": [
    "# Crear dataframe donde se unen los datos extraidos de parquet\n",
    "df_user = pd.DataFrame()\n",
    "# Iterar por cada parquet dentro de /data/raw/y-user/\n",
    "for p in user_parquets:\n",
    "    # Leer parquet\n",
    "    df = pd.read_parquet(p)\n",
    "    # Unir a df_user\n",
    "    df_user = pd.concat([df_user, df], ignore_index=True)"
   ]
  },
  {
   "cell_type": "markdown",
   "metadata": {},
   "source": [
    "---\n",
    "## Análisis Exploratorio"
   ]
  },
  {
   "cell_type": "code",
   "execution_count": 38,
   "metadata": {},
   "outputs": [
    {
     "name": "stdout",
     "output_type": "stream",
     "text": [
      "<class 'pandas.core.frame.DataFrame'>\n",
      "Index: 150351 entries, 0 to 1543\n",
      "Data columns (total 14 columns):\n",
      " #   Column        Non-Null Count   Dtype  \n",
      "---  ------        --------------   -----  \n",
      " 0   business_id   150351 non-null  object \n",
      " 1   name          150351 non-null  object \n",
      " 2   address       150351 non-null  object \n",
      " 3   city          150351 non-null  object \n",
      " 4   state         150348 non-null  object \n",
      " 5   postal_code   150351 non-null  object \n",
      " 6   latitude      150351 non-null  float64\n",
      " 7   longitude     150351 non-null  float64\n",
      " 8   stars         150351 non-null  float64\n",
      " 9   review_count  150351 non-null  int64  \n",
      " 10  is_open       150351 non-null  int64  \n",
      " 11  attributes    136607 non-null  object \n",
      " 12  categories    150248 non-null  object \n",
      " 13  hours         127128 non-null  object \n",
      "dtypes: float64(3), int64(2), object(9)\n",
      "memory usage: 17.2+ MB\n",
      "None\n"
     ]
    },
    {
     "data": {
      "text/html": [
       "<div>\n",
       "<style scoped>\n",
       "    .dataframe tbody tr th:only-of-type {\n",
       "        vertical-align: middle;\n",
       "    }\n",
       "\n",
       "    .dataframe tbody tr th {\n",
       "        vertical-align: top;\n",
       "    }\n",
       "\n",
       "    .dataframe thead th {\n",
       "        text-align: right;\n",
       "    }\n",
       "</style>\n",
       "<table border=\"1\" class=\"dataframe\">\n",
       "  <thead>\n",
       "    <tr style=\"text-align: right;\">\n",
       "      <th></th>\n",
       "      <th>business_id</th>\n",
       "      <th>name</th>\n",
       "      <th>address</th>\n",
       "      <th>city</th>\n",
       "      <th>state</th>\n",
       "      <th>postal_code</th>\n",
       "      <th>latitude</th>\n",
       "      <th>longitude</th>\n",
       "      <th>stars</th>\n",
       "      <th>review_count</th>\n",
       "      <th>is_open</th>\n",
       "      <th>attributes</th>\n",
       "      <th>categories</th>\n",
       "      <th>hours</th>\n",
       "    </tr>\n",
       "  </thead>\n",
       "  <tbody>\n",
       "    <tr>\n",
       "      <th>0</th>\n",
       "      <td>Pns2l4eNsfO8kk83dixA6A</td>\n",
       "      <td>Abby Rappoport, LAC, CMQ</td>\n",
       "      <td>1616 Chapala St, Ste 2</td>\n",
       "      <td>Santa Barbara</td>\n",
       "      <td>None</td>\n",
       "      <td>93101</td>\n",
       "      <td>34.426679</td>\n",
       "      <td>-119.711197</td>\n",
       "      <td>5.0</td>\n",
       "      <td>7</td>\n",
       "      <td>0</td>\n",
       "      <td>{'AcceptsInsurance': None, 'AgesAllowed': None...</td>\n",
       "      <td>Doctors, Traditional Chinese Medicine, Naturop...</td>\n",
       "      <td>None</td>\n",
       "    </tr>\n",
       "    <tr>\n",
       "      <th>1</th>\n",
       "      <td>mpf3x-BjTdTEA3yCZrAYPw</td>\n",
       "      <td>The UPS Store</td>\n",
       "      <td>87 Grasso Plaza Shopping Center</td>\n",
       "      <td>Affton</td>\n",
       "      <td>None</td>\n",
       "      <td>63123</td>\n",
       "      <td>38.551126</td>\n",
       "      <td>-90.335695</td>\n",
       "      <td>3.0</td>\n",
       "      <td>15</td>\n",
       "      <td>1</td>\n",
       "      <td>{'AcceptsInsurance': None, 'AgesAllowed': None...</td>\n",
       "      <td>Shipping Centers, Local Services, Notaries, Ma...</td>\n",
       "      <td>{'Friday': '8:0-18:30', 'Monday': '0:0-0:0', '...</td>\n",
       "    </tr>\n",
       "    <tr>\n",
       "      <th>2</th>\n",
       "      <td>tUFrWirKiKi_TAnsVWINQQ</td>\n",
       "      <td>Target</td>\n",
       "      <td>5255 E Broadway Blvd</td>\n",
       "      <td>Tucson</td>\n",
       "      <td>None</td>\n",
       "      <td>85711</td>\n",
       "      <td>32.223236</td>\n",
       "      <td>-110.880452</td>\n",
       "      <td>3.5</td>\n",
       "      <td>22</td>\n",
       "      <td>0</td>\n",
       "      <td>{'AcceptsInsurance': None, 'AgesAllowed': None...</td>\n",
       "      <td>Department Stores, Shopping, Fashion, Home &amp; G...</td>\n",
       "      <td>{'Friday': '8:0-23:0', 'Monday': '8:0-22:0', '...</td>\n",
       "    </tr>\n",
       "    <tr>\n",
       "      <th>3</th>\n",
       "      <td>MTSW4McQd7CbVtyjqoe9mw</td>\n",
       "      <td>St Honore Pastries</td>\n",
       "      <td>935 Race St</td>\n",
       "      <td>Philadelphia</td>\n",
       "      <td>CA</td>\n",
       "      <td>19107</td>\n",
       "      <td>39.955505</td>\n",
       "      <td>-75.155564</td>\n",
       "      <td>4.0</td>\n",
       "      <td>80</td>\n",
       "      <td>1</td>\n",
       "      <td>{'AcceptsInsurance': None, 'AgesAllowed': None...</td>\n",
       "      <td>Restaurants, Food, Bubble Tea, Coffee &amp; Tea, B...</td>\n",
       "      <td>{'Friday': '7:0-21:0', 'Monday': '7:0-20:0', '...</td>\n",
       "    </tr>\n",
       "    <tr>\n",
       "      <th>4</th>\n",
       "      <td>mWMc6_wTdE0EUBKIGXDVfA</td>\n",
       "      <td>Perkiomen Valley Brewery</td>\n",
       "      <td>101 Walnut St</td>\n",
       "      <td>Green Lane</td>\n",
       "      <td>MO</td>\n",
       "      <td>18054</td>\n",
       "      <td>40.338183</td>\n",
       "      <td>-75.471659</td>\n",
       "      <td>4.5</td>\n",
       "      <td>13</td>\n",
       "      <td>1</td>\n",
       "      <td>{'AcceptsInsurance': None, 'AgesAllowed': None...</td>\n",
       "      <td>Brewpubs, Breweries, Food</td>\n",
       "      <td>{'Friday': '12:0-22:0', 'Monday': None, 'Satur...</td>\n",
       "    </tr>\n",
       "  </tbody>\n",
       "</table>\n",
       "</div>"
      ],
      "text/plain": [
       "              business_id                      name  \\\n",
       "0  Pns2l4eNsfO8kk83dixA6A  Abby Rappoport, LAC, CMQ   \n",
       "1  mpf3x-BjTdTEA3yCZrAYPw             The UPS Store   \n",
       "2  tUFrWirKiKi_TAnsVWINQQ                    Target   \n",
       "3  MTSW4McQd7CbVtyjqoe9mw        St Honore Pastries   \n",
       "4  mWMc6_wTdE0EUBKIGXDVfA  Perkiomen Valley Brewery   \n",
       "\n",
       "                           address           city state postal_code  \\\n",
       "0           1616 Chapala St, Ste 2  Santa Barbara  None       93101   \n",
       "1  87 Grasso Plaza Shopping Center         Affton  None       63123   \n",
       "2             5255 E Broadway Blvd         Tucson  None       85711   \n",
       "3                      935 Race St   Philadelphia    CA       19107   \n",
       "4                    101 Walnut St     Green Lane    MO       18054   \n",
       "\n",
       "    latitude   longitude  stars  review_count  is_open  \\\n",
       "0  34.426679 -119.711197    5.0             7        0   \n",
       "1  38.551126  -90.335695    3.0            15        1   \n",
       "2  32.223236 -110.880452    3.5            22        0   \n",
       "3  39.955505  -75.155564    4.0            80        1   \n",
       "4  40.338183  -75.471659    4.5            13        1   \n",
       "\n",
       "                                          attributes  \\\n",
       "0  {'AcceptsInsurance': None, 'AgesAllowed': None...   \n",
       "1  {'AcceptsInsurance': None, 'AgesAllowed': None...   \n",
       "2  {'AcceptsInsurance': None, 'AgesAllowed': None...   \n",
       "3  {'AcceptsInsurance': None, 'AgesAllowed': None...   \n",
       "4  {'AcceptsInsurance': None, 'AgesAllowed': None...   \n",
       "\n",
       "                                          categories  \\\n",
       "0  Doctors, Traditional Chinese Medicine, Naturop...   \n",
       "1  Shipping Centers, Local Services, Notaries, Ma...   \n",
       "2  Department Stores, Shopping, Fashion, Home & G...   \n",
       "3  Restaurants, Food, Bubble Tea, Coffee & Tea, B...   \n",
       "4                          Brewpubs, Breweries, Food   \n",
       "\n",
       "                                               hours  \n",
       "0                                               None  \n",
       "1  {'Friday': '8:0-18:30', 'Monday': '0:0-0:0', '...  \n",
       "2  {'Friday': '8:0-23:0', 'Monday': '8:0-22:0', '...  \n",
       "3  {'Friday': '7:0-21:0', 'Monday': '7:0-20:0', '...  \n",
       "4  {'Friday': '12:0-22:0', 'Monday': None, 'Satur...  "
      ]
     },
     "execution_count": 38,
     "metadata": {},
     "output_type": "execute_result"
    }
   ],
   "source": [
    "# Revisar el dataset e imprimir las primeras filas\n",
    "print(df_business.info())\n",
    "df_business.head()"
   ]
  },
  {
   "cell_type": "code",
   "execution_count": 39,
   "metadata": {},
   "outputs": [],
   "source": [
    "# Completar los nulos con espacio para poder filtrar por categoría\n",
    "df_business['categories'] = df_business['categories'].fillna('')"
   ]
  },
  {
   "cell_type": "code",
   "execution_count": 40,
   "metadata": {},
   "outputs": [
    {
     "data": {
      "text/plain": [
       "(52268, 14)"
      ]
     },
     "execution_count": 40,
     "metadata": {},
     "output_type": "execute_result"
    }
   ],
   "source": [
    "# Dejar en el dataset solo la categoría 'Restaurants'\n",
    "filtro_categoria = 'Restaurants'\n",
    "df_business = df_business[df_business['categories'].str.contains(filtro_categoria, case=False)]\n",
    "df_business.shape"
   ]
  },
  {
   "cell_type": "code",
   "execution_count": 41,
   "metadata": {},
   "outputs": [
    {
     "data": {
      "text/plain": [
       "(15414, 14)"
      ]
     },
     "execution_count": 41,
     "metadata": {},
     "output_type": "execute_result"
    }
   ],
   "source": [
    "# Filtramos los datos a la región elegida\n",
    "estados_filtro = [\"DE\", \"NJ\", \"PA\"]\n",
    "df_business = df_business[df_business['state'].isin(estados_filtro)]\n",
    "df_business.shape"
   ]
  },
  {
   "cell_type": "code",
   "execution_count": 42,
   "metadata": {},
   "outputs": [
    {
     "name": "stdout",
     "output_type": "stream",
     "text": [
      "<class 'pandas.core.frame.DataFrame'>\n",
      "Index: 15414 entries, 22 to 150340\n",
      "Data columns (total 14 columns):\n",
      " #   Column        Non-Null Count  Dtype  \n",
      "---  ------        --------------  -----  \n",
      " 0   business_id   15414 non-null  object \n",
      " 1   name          15414 non-null  object \n",
      " 2   address       15414 non-null  object \n",
      " 3   city          15414 non-null  object \n",
      " 4   state         15414 non-null  object \n",
      " 5   postal_code   15414 non-null  object \n",
      " 6   latitude      15414 non-null  float64\n",
      " 7   longitude     15414 non-null  float64\n",
      " 8   stars         15414 non-null  float64\n",
      " 9   review_count  15414 non-null  int64  \n",
      " 10  is_open       15414 non-null  int64  \n",
      " 11  attributes    15239 non-null  object \n",
      " 12  categories    15414 non-null  object \n",
      " 13  hours         13215 non-null  object \n",
      "dtypes: float64(3), int64(2), object(9)\n",
      "memory usage: 1.8+ MB\n"
     ]
    }
   ],
   "source": [
    "# Revisar los datos nuevamente\n",
    "df_business.info()"
   ]
  },
  {
   "cell_type": "markdown",
   "metadata": {},
   "source": [
    "Solo tenemos algunos nulos en \"attributes\" y \"hours\", que por el momento no se van a rellenar, hasta decidir si estas columnas serán utilizadas para los análisis."
   ]
  },
  {
   "cell_type": "code",
   "execution_count": 43,
   "metadata": {},
   "outputs": [
    {
     "data": {
      "text/html": [
       "<div>\n",
       "<style scoped>\n",
       "    .dataframe tbody tr th:only-of-type {\n",
       "        vertical-align: middle;\n",
       "    }\n",
       "\n",
       "    .dataframe tbody tr th {\n",
       "        vertical-align: top;\n",
       "    }\n",
       "\n",
       "    .dataframe thead th {\n",
       "        text-align: right;\n",
       "    }\n",
       "</style>\n",
       "<table border=\"1\" class=\"dataframe\">\n",
       "  <thead>\n",
       "    <tr style=\"text-align: right;\">\n",
       "      <th></th>\n",
       "      <th>latitude</th>\n",
       "      <th>longitude</th>\n",
       "      <th>stars</th>\n",
       "      <th>review_count</th>\n",
       "      <th>is_open</th>\n",
       "    </tr>\n",
       "  </thead>\n",
       "  <tbody>\n",
       "    <tr>\n",
       "      <th>count</th>\n",
       "      <td>15414.000000</td>\n",
       "      <td>15414.000000</td>\n",
       "      <td>15414.000000</td>\n",
       "      <td>15414.000000</td>\n",
       "      <td>15414.000000</td>\n",
       "    </tr>\n",
       "    <tr>\n",
       "      <th>mean</th>\n",
       "      <td>36.996730</td>\n",
       "      <td>-87.809662</td>\n",
       "      <td>3.508726</td>\n",
       "      <td>89.138575</td>\n",
       "      <td>0.661931</td>\n",
       "    </tr>\n",
       "    <tr>\n",
       "      <th>std</th>\n",
       "      <td>6.001368</td>\n",
       "      <td>13.757462</td>\n",
       "      <td>0.832169</td>\n",
       "      <td>197.681018</td>\n",
       "      <td>0.473068</td>\n",
       "    </tr>\n",
       "    <tr>\n",
       "      <th>min</th>\n",
       "      <td>27.674685</td>\n",
       "      <td>-120.000083</td>\n",
       "      <td>1.000000</td>\n",
       "      <td>5.000000</td>\n",
       "      <td>0.000000</td>\n",
       "    </tr>\n",
       "    <tr>\n",
       "      <th>25%</th>\n",
       "      <td>32.219742</td>\n",
       "      <td>-90.225726</td>\n",
       "      <td>3.000000</td>\n",
       "      <td>13.000000</td>\n",
       "      <td>0.000000</td>\n",
       "    </tr>\n",
       "    <tr>\n",
       "      <th>50%</th>\n",
       "      <td>39.474340</td>\n",
       "      <td>-86.044822</td>\n",
       "      <td>3.500000</td>\n",
       "      <td>33.000000</td>\n",
       "      <td>1.000000</td>\n",
       "    </tr>\n",
       "    <tr>\n",
       "      <th>75%</th>\n",
       "      <td>39.956275</td>\n",
       "      <td>-75.335114</td>\n",
       "      <td>4.000000</td>\n",
       "      <td>89.000000</td>\n",
       "      <td>1.000000</td>\n",
       "    </tr>\n",
       "    <tr>\n",
       "      <th>max</th>\n",
       "      <td>53.679197</td>\n",
       "      <td>-74.684399</td>\n",
       "      <td>5.000000</td>\n",
       "      <td>6093.000000</td>\n",
       "      <td>1.000000</td>\n",
       "    </tr>\n",
       "  </tbody>\n",
       "</table>\n",
       "</div>"
      ],
      "text/plain": [
       "           latitude     longitude         stars  review_count       is_open\n",
       "count  15414.000000  15414.000000  15414.000000  15414.000000  15414.000000\n",
       "mean      36.996730    -87.809662      3.508726     89.138575      0.661931\n",
       "std        6.001368     13.757462      0.832169    197.681018      0.473068\n",
       "min       27.674685   -120.000083      1.000000      5.000000      0.000000\n",
       "25%       32.219742    -90.225726      3.000000     13.000000      0.000000\n",
       "50%       39.474340    -86.044822      3.500000     33.000000      1.000000\n",
       "75%       39.956275    -75.335114      4.000000     89.000000      1.000000\n",
       "max       53.679197    -74.684399      5.000000   6093.000000      1.000000"
      ]
     },
     "execution_count": 43,
     "metadata": {},
     "output_type": "execute_result"
    }
   ],
   "source": [
    "# Revisar las columnas numéricas\n",
    "df_business.describe()"
   ]
  },
  {
   "cell_type": "markdown",
   "metadata": {},
   "source": [
    "No se observan valores erróneos, como latitud y longitud con signo invertido, o calificaciones fuera del intérvalo 1 a 5."
   ]
  },
  {
   "cell_type": "markdown",
   "metadata": {},
   "source": [
    "Por el momento se va a mantener como está, hasta decidir si alguna de las \"keys\" puede ser de utilidad para algún análisis, y en ese caso se prodecerá a desanidar los datos."
   ]
  },
  {
   "cell_type": "code",
   "execution_count": 44,
   "metadata": {},
   "outputs": [
    {
     "data": {
      "text/plain": [
       "Index(['business_id', 'name', 'address', 'city', 'state', 'postal_code',\n",
       "       'latitude', 'longitude', 'stars', 'review_count', 'is_open',\n",
       "       'attributes', 'categories', 'hours'],\n",
       "      dtype='object')"
      ]
     },
     "execution_count": 44,
     "metadata": {},
     "output_type": "execute_result"
    }
   ],
   "source": [
    "# Revisar nombres de columnas\n",
    "df_business.columns"
   ]
  },
  {
   "cell_type": "markdown",
   "metadata": {},
   "source": [
    "#### Las siguientes columnas serán eliminadas:\n",
    "\n",
    "addres: Se cuenta con los datos de latitud y longitud  \n",
    "is_open: Se entiende que se refiere al momento de la extracción de los datos. Se cuenta con los horarios de apertura y cierre\n"
   ]
  },
  {
   "cell_type": "code",
   "execution_count": 45,
   "metadata": {},
   "outputs": [],
   "source": [
    "# Eliminar las columnas antes mencionadas\n",
    "df_business.drop(\"address\", axis=1, inplace=True)\n",
    "df_business.drop(\"is_open\", axis=1, inplace=True)"
   ]
  },
  {
   "cell_type": "code",
   "execution_count": 46,
   "metadata": {},
   "outputs": [],
   "source": [
    "df_business.to_parquet(f'{path_data}/etl-business.parquet')"
   ]
  },
  {
   "cell_type": "markdown",
   "metadata": {},
   "source": [
    "#### SE VA A EXTRAER A UN NUEVO ARCHIVO EL CONTENIDO DE LA COLUMNA \"attributes\", y se va a eliminar la misma del dataset de \"business\""
   ]
  },
  {
   "cell_type": "code",
   "execution_count": 47,
   "metadata": {},
   "outputs": [],
   "source": [
    "# Abrir el archivo guardado en una sesión anterior\n",
    "df_business = pd.read_parquet(f'{path_data}/etl-business.parquet')"
   ]
  },
  {
   "cell_type": "code",
   "execution_count": 48,
   "metadata": {},
   "outputs": [],
   "source": [
    "# Crear un dataframe nuevo para los atributos\n",
    "df_attributes = df_business[[\"business_id\", \"attributes\"]]"
   ]
  },
  {
   "cell_type": "code",
   "execution_count": 49,
   "metadata": {},
   "outputs": [],
   "source": [
    "# Reiniciar elíndice\n",
    "df_attributes.reset_index(drop=True, inplace=True)\n"
   ]
  },
  {
   "cell_type": "code",
   "execution_count": 50,
   "metadata": {},
   "outputs": [
    {
     "data": {
      "text/plain": [
       "dict"
      ]
     },
     "execution_count": 50,
     "metadata": {},
     "output_type": "execute_result"
    }
   ],
   "source": [
    "type(df_attributes[\"attributes\"][0])"
   ]
  },
  {
   "cell_type": "code",
   "execution_count": 51,
   "metadata": {},
   "outputs": [],
   "source": [
    "# Buscar la primera fila que tenga atributos y extraer el diccionario para usar las llaves en la creación de las columnas del dataframe\n",
    "contador = 0\n",
    "total = df_attributes.shape[0]\n",
    "while contador < total:\n",
    "    if type(df_attributes[\"attributes\"][contador]) != dict:\n",
    "        pass\n",
    "    else:\n",
    "        diccionario = df_attributes[\"attributes\"][contador]\n",
    "        break\n",
    "\n",
    "    contador +=1"
   ]
  },
  {
   "cell_type": "code",
   "execution_count": 52,
   "metadata": {},
   "outputs": [
    {
     "data": {
      "text/plain": [
       "dict_keys(['AcceptsInsurance', 'AgesAllowed', 'Alcohol', 'Ambience', 'BYOB', 'BYOBCorkage', 'BestNights', 'BikeParking', 'BusinessAcceptsBitcoin', 'BusinessAcceptsCreditCards', 'BusinessParking', 'ByAppointmentOnly', 'Caters', 'CoatCheck', 'Corkage', 'DietaryRestrictions', 'DogsAllowed', 'DriveThru', 'GoodForDancing', 'GoodForKids', 'GoodForMeal', 'HairSpecializesIn', 'HappyHour', 'HasTV', 'Music', 'NoiseLevel', 'Open24Hours', 'OutdoorSeating', 'RestaurantsAttire', 'RestaurantsCounterService', 'RestaurantsDelivery', 'RestaurantsGoodForGroups', 'RestaurantsPriceRange2', 'RestaurantsReservations', 'RestaurantsTableService', 'RestaurantsTakeOut', 'Smoking', 'WheelchairAccessible', 'WiFi'])"
      ]
     },
     "execution_count": 52,
     "metadata": {},
     "output_type": "execute_result"
    }
   ],
   "source": [
    "diccionario.keys()"
   ]
  },
  {
   "cell_type": "code",
   "execution_count": 53,
   "metadata": {},
   "outputs": [
    {
     "name": "stderr",
     "output_type": "stream",
     "text": [
      "/tmp/ipykernel_114772/1579500107.py:2: SettingWithCopyWarning: \n",
      "A value is trying to be set on a copy of a slice from a DataFrame.\n",
      "Try using .loc[row_indexer,col_indexer] = value instead\n",
      "\n",
      "See the caveats in the documentation: https://pandas.pydata.org/pandas-docs/stable/user_guide/indexing.html#returning-a-view-versus-a-copy\n",
      "  df_attributes[key] = \"None\"\n",
      "/tmp/ipykernel_114772/1579500107.py:2: SettingWithCopyWarning: \n",
      "A value is trying to be set on a copy of a slice from a DataFrame.\n",
      "Try using .loc[row_indexer,col_indexer] = value instead\n",
      "\n",
      "See the caveats in the documentation: https://pandas.pydata.org/pandas-docs/stable/user_guide/indexing.html#returning-a-view-versus-a-copy\n",
      "  df_attributes[key] = \"None\"\n",
      "/tmp/ipykernel_114772/1579500107.py:2: SettingWithCopyWarning: \n",
      "A value is trying to be set on a copy of a slice from a DataFrame.\n",
      "Try using .loc[row_indexer,col_indexer] = value instead\n",
      "\n",
      "See the caveats in the documentation: https://pandas.pydata.org/pandas-docs/stable/user_guide/indexing.html#returning-a-view-versus-a-copy\n",
      "  df_attributes[key] = \"None\"\n",
      "/tmp/ipykernel_114772/1579500107.py:2: SettingWithCopyWarning: \n",
      "A value is trying to be set on a copy of a slice from a DataFrame.\n",
      "Try using .loc[row_indexer,col_indexer] = value instead\n",
      "\n",
      "See the caveats in the documentation: https://pandas.pydata.org/pandas-docs/stable/user_guide/indexing.html#returning-a-view-versus-a-copy\n",
      "  df_attributes[key] = \"None\"\n",
      "/tmp/ipykernel_114772/1579500107.py:2: SettingWithCopyWarning: \n",
      "A value is trying to be set on a copy of a slice from a DataFrame.\n",
      "Try using .loc[row_indexer,col_indexer] = value instead\n",
      "\n",
      "See the caveats in the documentation: https://pandas.pydata.org/pandas-docs/stable/user_guide/indexing.html#returning-a-view-versus-a-copy\n",
      "  df_attributes[key] = \"None\"\n",
      "/tmp/ipykernel_114772/1579500107.py:2: SettingWithCopyWarning: \n",
      "A value is trying to be set on a copy of a slice from a DataFrame.\n",
      "Try using .loc[row_indexer,col_indexer] = value instead\n",
      "\n",
      "See the caveats in the documentation: https://pandas.pydata.org/pandas-docs/stable/user_guide/indexing.html#returning-a-view-versus-a-copy\n",
      "  df_attributes[key] = \"None\"\n",
      "/tmp/ipykernel_114772/1579500107.py:2: SettingWithCopyWarning: \n",
      "A value is trying to be set on a copy of a slice from a DataFrame.\n",
      "Try using .loc[row_indexer,col_indexer] = value instead\n",
      "\n",
      "See the caveats in the documentation: https://pandas.pydata.org/pandas-docs/stable/user_guide/indexing.html#returning-a-view-versus-a-copy\n",
      "  df_attributes[key] = \"None\"\n",
      "/tmp/ipykernel_114772/1579500107.py:2: SettingWithCopyWarning: \n",
      "A value is trying to be set on a copy of a slice from a DataFrame.\n",
      "Try using .loc[row_indexer,col_indexer] = value instead\n",
      "\n",
      "See the caveats in the documentation: https://pandas.pydata.org/pandas-docs/stable/user_guide/indexing.html#returning-a-view-versus-a-copy\n",
      "  df_attributes[key] = \"None\"\n",
      "/tmp/ipykernel_114772/1579500107.py:2: SettingWithCopyWarning: \n",
      "A value is trying to be set on a copy of a slice from a DataFrame.\n",
      "Try using .loc[row_indexer,col_indexer] = value instead\n",
      "\n",
      "See the caveats in the documentation: https://pandas.pydata.org/pandas-docs/stable/user_guide/indexing.html#returning-a-view-versus-a-copy\n",
      "  df_attributes[key] = \"None\"\n"
     ]
    }
   ],
   "source": [
    "for key in diccionario.keys():\n",
    "    df_attributes[key] = \"None\""
   ]
  },
  {
   "cell_type": "code",
   "execution_count": 54,
   "metadata": {},
   "outputs": [
    {
     "ename": "TypeError",
     "evalue": "'NoneType' object is not subscriptable",
     "output_type": "error",
     "traceback": [
      "\u001b[0;31m---------------------------------------------------------------------------\u001b[0m",
      "\u001b[0;31mTypeError\u001b[0m                                 Traceback (most recent call last)",
      "Cell \u001b[0;32mIn[54], line 9\u001b[0m\n\u001b[1;32m      7\u001b[0m     dicc \u001b[38;5;241m=\u001b[39m df_attributes[\u001b[38;5;124m\"\u001b[39m\u001b[38;5;124mattributes\u001b[39m\u001b[38;5;124m\"\u001b[39m][contador]\n\u001b[1;32m      8\u001b[0m     \u001b[38;5;28;01mfor\u001b[39;00m key \u001b[38;5;129;01min\u001b[39;00m dicc\u001b[38;5;241m.\u001b[39mkeys():\n\u001b[0;32m----> 9\u001b[0m         df_attributes[key][contador] \u001b[38;5;241m=\u001b[39m \u001b[43mdicc\u001b[49m\u001b[43m[\u001b[49m\u001b[43mkey\u001b[49m\u001b[43m]\u001b[49m\u001b[43m[\u001b[49m\u001b[38;5;241;43m0\u001b[39;49m\u001b[43m]\u001b[49m\n\u001b[1;32m     11\u001b[0m contador \u001b[38;5;241m+\u001b[39m\u001b[38;5;241m=\u001b[39m\u001b[38;5;241m1\u001b[39m\n",
      "\u001b[0;31mTypeError\u001b[0m: 'NoneType' object is not subscriptable"
     ]
    }
   ],
   "source": [
    "\n",
    "contador = 0\n",
    "total = df_attributes.shape[0]\n",
    "while contador < total:\n",
    "    if type(df_attributes[\"attributes\"][contador]) != dict:\n",
    "        pass\n",
    "    else:\n",
    "        dicc = df_attributes[\"attributes\"][contador]\n",
    "        for key in dicc.keys():\n",
    "            df_attributes[key][contador] = dicc[key][0]\n",
    "\n",
    "    contador +=1"
   ]
  },
  {
   "cell_type": "code",
   "execution_count": null,
   "metadata": {},
   "outputs": [],
   "source": [
    "#df_business.to_parquet(f'{path_data}/etl-business.parquet')"
   ]
  },
  {
   "cell_type": "markdown",
   "metadata": {},
   "source": [
    "-------------------"
   ]
  },
  {
   "cell_type": "code",
   "execution_count": null,
   "metadata": {},
   "outputs": [],
   "source": [
    "# Revisar el dataset\n",
    "print(df_checkin.info())\n",
    "df_checkin.head()"
   ]
  },
  {
   "cell_type": "markdown",
   "metadata": {},
   "source": [
    "#### En principio no vamos a realizar análisis que incluyan la fecha y hora de ingreso de los usuarios al local. Este dataset no se va a utilizar, por lo que no se va a desanidar la columna de registros (date), ni se va a realizar ningún otro proceso sobre el mismo. Se observa de todos modos que el dataset no contiene valores nulos."
   ]
  },
  {
   "cell_type": "markdown",
   "metadata": {},
   "source": [
    "-------------------"
   ]
  },
  {
   "cell_type": "code",
   "execution_count": null,
   "metadata": {},
   "outputs": [],
   "source": [
    "# Revisar el dataset\n",
    "print(df_tip.info())\n",
    "df_tip.head()\n"
   ]
  },
  {
   "cell_type": "code",
   "execution_count": null,
   "metadata": {},
   "outputs": [],
   "source": [
    "df_tip.describe()"
   ]
  },
  {
   "cell_type": "markdown",
   "metadata": {},
   "source": [
    "Los datos no contienen nulos y están en el formato correcto."
   ]
  },
  {
   "cell_type": "code",
   "execution_count": null,
   "metadata": {},
   "outputs": [],
   "source": [
    "# Sacar los id de los locales elegidos en el dataset de Business\n",
    "locales_elegidos = df_business[\"business_id\"]"
   ]
  },
  {
   "cell_type": "code",
   "execution_count": null,
   "metadata": {},
   "outputs": [],
   "source": [
    "# Filtrar los tips\n",
    "df_tip = df_tip[df_tip[\"business_id\"].isin(locales_elegidos)]\n",
    "df_tip.shape\n"
   ]
  },
  {
   "cell_type": "code",
   "execution_count": null,
   "metadata": {},
   "outputs": [],
   "source": [
    "df_tip.to_parquet(f'{path_data}/etl-tip.parquet')"
   ]
  },
  {
   "cell_type": "code",
   "execution_count": null,
   "metadata": {},
   "outputs": [],
   "source": [
    "df_user.info()"
   ]
  },
  {
   "cell_type": "markdown",
   "metadata": {},
   "source": [
    "## EDA 2"
   ]
  },
  {
   "cell_type": "code",
   "execution_count": 56,
   "metadata": {},
   "outputs": [
    {
     "name": "stdout",
     "output_type": "stream",
     "text": [
      "las columnas de business son: Index(['business_id', 'name', 'city', 'state', 'postal_code', 'latitude',\n",
      "       'longitude', 'stars', 'review_count', 'attributes', 'categories',\n",
      "       'hours'],\n",
      "      dtype='object')\n",
      "las columnas de checkin son: Index(['business_id', 'date'], dtype='object')\n",
      "las columnas de tip son: Index(['user_id', 'business_id', 'text', 'date', 'compliment_count'], dtype='object')\n",
      "las columnas de user son: Index(['user_id', 'name', 'review_count', 'yelping_since', 'useful', 'funny',\n",
      "       'cool', 'elite', 'friends', 'fans', 'average_stars', 'compliment_hot',\n",
      "       'compliment_more', 'compliment_profile', 'compliment_cute',\n",
      "       'compliment_list', 'compliment_note', 'compliment_plain',\n",
      "       'compliment_cool', 'compliment_funny', 'compliment_writer',\n",
      "       'compliment_photos'],\n",
      "      dtype='object')\n"
     ]
    }
   ],
   "source": [
    "print('las columnas de business son:', df_business.columns)\n",
    "print('las columnas de checkin son:', df_checkin.columns)\n",
    "print('las columnas de tip son:', df_tip.columns)\n",
    "print('las columnas de user son:', df_user.columns)"
   ]
  },
  {
   "cell_type": "code",
   "execution_count": 57,
   "metadata": {},
   "outputs": [],
   "source": [
    "df_review_filtrado = pd.read_parquet(r'/home/henry/PF/Henry_PF/data/raw/y-review_filtrado.parquet')"
   ]
  },
  {
   "cell_type": "code",
   "execution_count": 58,
   "metadata": {},
   "outputs": [
    {
     "name": "stdout",
     "output_type": "stream",
     "text": [
      "las columnas de review_filtrado son: Index(['review_id', 'user_id', 'business_id', 'stars', 'useful', 'funny',\n",
      "       'cool', 'text', 'date', 'state'],\n",
      "      dtype='object')\n"
     ]
    }
   ],
   "source": [
    "print('las columnas de review_filtrado son:', df_review_filtrado.columns)"
   ]
  },
  {
   "cell_type": "markdown",
   "metadata": {},
   "source": [
    "corroboramos la información de la columna state en las reviews de yelp:"
   ]
  },
  {
   "cell_type": "code",
   "execution_count": 59,
   "metadata": {},
   "outputs": [
    {
     "data": {
      "text/plain": [
       "state\n",
       "PA    1578421\n",
       "NJ     408549\n",
       "DE     110842\n",
       "Name: count, dtype: int64"
      ]
     },
     "execution_count": 59,
     "metadata": {},
     "output_type": "execute_result"
    }
   ],
   "source": [
    "df_review_filtrado['state'].value_counts()"
   ]
  },
  {
   "cell_type": "markdown",
   "metadata": {},
   "source": [
    "Se desea analizar la puntuación en estrellas por estado: "
   ]
  },
  {
   "cell_type": "code",
   "execution_count": 90,
   "metadata": {},
   "outputs": [],
   "source": [
    "import matplotlib.pyplot as plt\n"
   ]
  },
  {
   "cell_type": "code",
   "execution_count": 61,
   "metadata": {},
   "outputs": [
    {
     "data": {
      "image/png": "[encoded data removed]",
      "text/plain": [
       "<Figure size 1000x600 with 1 Axes>"
      ]
     },
     "metadata": {},
     "output_type": "display_data"
    }
   ],
   "source": [
    "# Agrupar por estado y puntuación de estrellas, y contar el número de reseñas\n",
    "reseñas_por_estado = df_review_filtrado.groupby(['state', 'stars']).size().unstack(fill_value=0)\n",
    "\n",
    "# Crear un gráfico de barras para visualizar las reseñas por estado y puntuación de estrellas\n",
    "reseñas_por_estado.plot(kind='bar', figsize=(10, 6))\n",
    "plt.title('Cantidad de Reseñas por Puntuación de Estrellas y Estado')\n",
    "plt.xlabel('Estado')\n",
    "plt.ylabel('Cantidad de Reseñas')\n",
    "plt.xticks(rotation=45)\n",
    "plt.legend(title='Puntuación de Estrellas')\n",
    "plt.show()\n"
   ]
  },
  {
   "cell_type": "markdown",
   "metadata": {},
   "source": [
    "Filtramos los restaurants de la cadena Darden en el DataFrame de business:"
   ]
  },
  {
   "cell_type": "code",
   "execution_count": 62,
   "metadata": {},
   "outputs": [
    {
     "data": {
      "text/html": [
       "<div>\n",
       "<style scoped>\n",
       "    .dataframe tbody tr th:only-of-type {\n",
       "        vertical-align: middle;\n",
       "    }\n",
       "\n",
       "    .dataframe tbody tr th {\n",
       "        vertical-align: top;\n",
       "    }\n",
       "\n",
       "    .dataframe thead th {\n",
       "        text-align: right;\n",
       "    }\n",
       "</style>\n",
       "<table border=\"1\" class=\"dataframe\">\n",
       "  <thead>\n",
       "    <tr style=\"text-align: right;\">\n",
       "      <th></th>\n",
       "      <th>business_id</th>\n",
       "      <th>name</th>\n",
       "      <th>city</th>\n",
       "      <th>state</th>\n",
       "      <th>postal_code</th>\n",
       "      <th>latitude</th>\n",
       "      <th>longitude</th>\n",
       "      <th>stars</th>\n",
       "      <th>review_count</th>\n",
       "      <th>attributes</th>\n",
       "      <th>categories</th>\n",
       "      <th>hours</th>\n",
       "    </tr>\n",
       "  </thead>\n",
       "  <tbody>\n",
       "    <tr>\n",
       "      <th>6494</th>\n",
       "      <td>DszOO6k_s2wuGhTw2AsUdA</td>\n",
       "      <td>Olive Garden Italian Restaurant</td>\n",
       "      <td>Fairview Heights</td>\n",
       "      <td>NJ</td>\n",
       "      <td>62208</td>\n",
       "      <td>38.601598</td>\n",
       "      <td>-89.987977</td>\n",
       "      <td>3.0</td>\n",
       "      <td>97</td>\n",
       "      <td>{'AcceptsInsurance': None, 'AgesAllowed': None...</td>\n",
       "      <td>Salad, Restaurants, Nightlife, Bars, Wine Bars...</td>\n",
       "      <td>{'Friday': '11:0-23:0', 'Monday': '0:0-0:0', '...</td>\n",
       "    </tr>\n",
       "    <tr>\n",
       "      <th>10990</th>\n",
       "      <td>kHuIRfZq3aadONNFO0vEnQ</td>\n",
       "      <td>Cheddar's Scratch Kitchen</td>\n",
       "      <td>Mt Juliet</td>\n",
       "      <td>PA</td>\n",
       "      <td>37122</td>\n",
       "      <td>36.174322</td>\n",
       "      <td>-86.513826</td>\n",
       "      <td>3.0</td>\n",
       "      <td>155</td>\n",
       "      <td>{'AcceptsInsurance': None, 'AgesAllowed': None...</td>\n",
       "      <td>Comfort Food, Restaurants, Southern, American ...</td>\n",
       "      <td>{'Friday': '11:0-23:0', 'Monday': '0:0-0:0', '...</td>\n",
       "    </tr>\n",
       "  </tbody>\n",
       "</table>\n",
       "</div>"
      ],
      "text/plain": [
       "                  business_id                             name  \\\n",
       "6494   DszOO6k_s2wuGhTw2AsUdA  Olive Garden Italian Restaurant   \n",
       "10990  kHuIRfZq3aadONNFO0vEnQ        Cheddar's Scratch Kitchen   \n",
       "\n",
       "                   city state postal_code   latitude  longitude  stars  \\\n",
       "6494   Fairview Heights    NJ       62208  38.601598 -89.987977    3.0   \n",
       "10990         Mt Juliet    PA       37122  36.174322 -86.513826    3.0   \n",
       "\n",
       "       review_count                                         attributes  \\\n",
       "6494             97  {'AcceptsInsurance': None, 'AgesAllowed': None...   \n",
       "10990           155  {'AcceptsInsurance': None, 'AgesAllowed': None...   \n",
       "\n",
       "                                              categories  \\\n",
       "6494   Salad, Restaurants, Nightlife, Bars, Wine Bars...   \n",
       "10990  Comfort Food, Restaurants, Southern, American ...   \n",
       "\n",
       "                                                   hours  \n",
       "6494   {'Friday': '11:0-23:0', 'Monday': '0:0-0:0', '...  \n",
       "10990  {'Friday': '11:0-23:0', 'Monday': '0:0-0:0', '...  "
      ]
     },
     "execution_count": 62,
     "metadata": {},
     "output_type": "execute_result"
    }
   ],
   "source": [
    "# Nombres específicos a buscar\n",
    "nombres_especificos = [\n",
    "    'olive garden', 'longhorn steakhouse', 'yard house', \n",
    "    \"ruth's chris steak house\", \"cheddar's scratch kitchen\", \n",
    "    'the capital grille', 'seasons 52', \"eddiev's\", \n",
    "    'bahama breeze'\n",
    "]\n",
    "\n",
    "# Convertir los nombres a minúsculas para hacer la búsqueda insensible a mayúsculas y minúsculas\n",
    "nombres_especificos = [nombre.lower() for nombre in nombres_especificos]\n",
    "\n",
    "# Filtrar el DataFrame por los nombres específicos\n",
    "df_filtrado_nombres = df_business[df_business['name'].str.lower().str.contains('|'.join(nombres_especificos), case=False)]\n",
    "\n",
    "df_filtrado_nombres.head(2)"
   ]
  },
  {
   "cell_type": "code",
   "execution_count": 63,
   "metadata": {},
   "outputs": [
    {
     "name": "stdout",
     "output_type": "stream",
     "text": [
      "name\n",
      "Olive Garden Italian Restaurant    11\n",
      "LongHorn Steakhouse                 9\n",
      "Ruth's Chris Steak House            5\n",
      "Cheddar's Scratch Kitchen           3\n",
      "Bahama Breeze                       2\n",
      "Seasons 52                          2\n",
      "Yard House                          1\n",
      "Name: count, dtype: int64\n"
     ]
    }
   ],
   "source": [
    "# Contar la cantidad de negocios para cada nombre específico\n",
    "conteo_por_nombre = df_filtrado_nombres['name'].value_counts()\n",
    "\n",
    "# Mostrar los resultados\n",
    "print(conteo_por_nombre)\n",
    "\n"
   ]
  },
  {
   "cell_type": "code",
   "execution_count": 64,
   "metadata": {},
   "outputs": [
    {
     "data": {
      "text/html": [
       "<div>\n",
       "<style scoped>\n",
       "    .dataframe tbody tr th:only-of-type {\n",
       "        vertical-align: middle;\n",
       "    }\n",
       "\n",
       "    .dataframe tbody tr th {\n",
       "        vertical-align: top;\n",
       "    }\n",
       "\n",
       "    .dataframe thead th {\n",
       "        text-align: right;\n",
       "    }\n",
       "</style>\n",
       "<table border=\"1\" class=\"dataframe\">\n",
       "  <thead>\n",
       "    <tr style=\"text-align: right;\">\n",
       "      <th></th>\n",
       "      <th>name</th>\n",
       "      <th>categories</th>\n",
       "    </tr>\n",
       "  </thead>\n",
       "  <tbody>\n",
       "    <tr>\n",
       "      <th>0</th>\n",
       "      <td>Bahama Breeze</td>\n",
       "      <td>[Nightlife, Bars, Seafood, Latin American, Lao...</td>\n",
       "    </tr>\n",
       "    <tr>\n",
       "      <th>1</th>\n",
       "      <td>Cheddar's Scratch Kitchen</td>\n",
       "      <td>[Comfort Food, Restaurants, Southern, American...</td>\n",
       "    </tr>\n",
       "    <tr>\n",
       "      <th>2</th>\n",
       "      <td>LongHorn Steakhouse</td>\n",
       "      <td>[Restaurants, Barbeque, Steakhouses, American ...</td>\n",
       "    </tr>\n",
       "    <tr>\n",
       "      <th>3</th>\n",
       "      <td>Ruth's Chris Steak House</td>\n",
       "      <td>[Steakhouses, Restaurants, Event Planning &amp; Se...</td>\n",
       "    </tr>\n",
       "    <tr>\n",
       "      <th>4</th>\n",
       "      <td>Seasons 52</td>\n",
       "      <td>[American (Traditional), Gluten-Free, Steakhou...</td>\n",
       "    </tr>\n",
       "    <tr>\n",
       "      <th>5</th>\n",
       "      <td>Yard House</td>\n",
       "      <td>[American (New), Vegetarian, Nightlife, Bars, ...</td>\n",
       "    </tr>\n",
       "  </tbody>\n",
       "</table>\n",
       "</div>"
      ],
      "text/plain": [
       "                        name  \\\n",
       "0              Bahama Breeze   \n",
       "1  Cheddar's Scratch Kitchen   \n",
       "2        LongHorn Steakhouse   \n",
       "3   Ruth's Chris Steak House   \n",
       "4                 Seasons 52   \n",
       "5                 Yard House   \n",
       "\n",
       "                                          categories  \n",
       "0  [Nightlife, Bars, Seafood, Latin American, Lao...  \n",
       "1  [Comfort Food, Restaurants, Southern, American...  \n",
       "2  [Restaurants, Barbeque, Steakhouses, American ...  \n",
       "3  [Steakhouses, Restaurants, Event Planning & Se...  \n",
       "4  [American (Traditional), Gluten-Free, Steakhou...  \n",
       "5  [American (New), Vegetarian, Nightlife, Bars, ...  "
      ]
     },
     "execution_count": 64,
     "metadata": {},
     "output_type": "execute_result"
    }
   ],
   "source": [
    "# Convertir los nombres a minúsculas para hacer la búsqueda insensible a mayúsculas y minúsculas\n",
    "nombres_especificos = [nombre.lower() for nombre in nombres_especificos]\n",
    "\n",
    "# Filtrar el DataFrame por los nombres específicos\n",
    "df_filtrado_nombres = df_business[df_business['name'].str.lower().isin(nombres_especificos)]\n",
    "\n",
    "# Agrupar por nombre, asumiendo que cada nombre tiene asociadas las mismas categorías\n",
    "categorias_por_nombre = df_filtrado_nombres.groupby('name')['categories'].unique().reset_index()\n",
    "\n",
    "# Mostrar los resultados de manera más legible\n",
    "categorias_por_nombre\n"
   ]
  },
  {
   "cell_type": "markdown",
   "metadata": {},
   "source": [
    "# Usuarios"
   ]
  },
  {
   "cell_type": "code",
   "execution_count": 8,
   "metadata": {},
   "outputs": [
    {
     "data": {
      "text/html": [
       "<div>\n",
       "<style scoped>\n",
       "    .dataframe tbody tr th:only-of-type {\n",
       "        vertical-align: middle;\n",
       "    }\n",
       "\n",
       "    .dataframe tbody tr th {\n",
       "        vertical-align: top;\n",
       "    }\n",
       "\n",
       "    .dataframe thead th {\n",
       "        text-align: right;\n",
       "    }\n",
       "</style>\n",
       "<table border=\"1\" class=\"dataframe\">\n",
       "  <thead>\n",
       "    <tr style=\"text-align: right;\">\n",
       "      <th></th>\n",
       "      <th>user_id</th>\n",
       "      <th>name</th>\n",
       "      <th>review_count</th>\n",
       "      <th>yelping_since</th>\n",
       "      <th>useful</th>\n",
       "      <th>funny</th>\n",
       "      <th>cool</th>\n",
       "      <th>elite</th>\n",
       "      <th>friends</th>\n",
       "      <th>fans</th>\n",
       "      <th>...</th>\n",
       "      <th>compliment_more</th>\n",
       "      <th>compliment_profile</th>\n",
       "      <th>compliment_cute</th>\n",
       "      <th>compliment_list</th>\n",
       "      <th>compliment_note</th>\n",
       "      <th>compliment_plain</th>\n",
       "      <th>compliment_cool</th>\n",
       "      <th>compliment_funny</th>\n",
       "      <th>compliment_writer</th>\n",
       "      <th>compliment_photos</th>\n",
       "    </tr>\n",
       "  </thead>\n",
       "  <tbody>\n",
       "    <tr>\n",
       "      <th>0</th>\n",
       "      <td>R2_X4JUcWU23pqPHUsy-Og</td>\n",
       "      <td>Ella</td>\n",
       "      <td>1</td>\n",
       "      <td>2013-09-24 13:09:03</td>\n",
       "      <td>0</td>\n",
       "      <td>0</td>\n",
       "      <td>0</td>\n",
       "      <td></td>\n",
       "      <td>None</td>\n",
       "      <td>0</td>\n",
       "      <td>...</td>\n",
       "      <td>0</td>\n",
       "      <td>0</td>\n",
       "      <td>0</td>\n",
       "      <td>0</td>\n",
       "      <td>0</td>\n",
       "      <td>0</td>\n",
       "      <td>0</td>\n",
       "      <td>0</td>\n",
       "      <td>0</td>\n",
       "      <td>0</td>\n",
       "    </tr>\n",
       "    <tr>\n",
       "      <th>1</th>\n",
       "      <td>tkRvU4QtOLsZpcEMaq2yUg</td>\n",
       "      <td>Cassie</td>\n",
       "      <td>2</td>\n",
       "      <td>2017-05-12 17:59:06</td>\n",
       "      <td>0</td>\n",
       "      <td>0</td>\n",
       "      <td>0</td>\n",
       "      <td></td>\n",
       "      <td>None</td>\n",
       "      <td>0</td>\n",
       "      <td>...</td>\n",
       "      <td>0</td>\n",
       "      <td>0</td>\n",
       "      <td>0</td>\n",
       "      <td>0</td>\n",
       "      <td>0</td>\n",
       "      <td>0</td>\n",
       "      <td>0</td>\n",
       "      <td>0</td>\n",
       "      <td>0</td>\n",
       "      <td>0</td>\n",
       "    </tr>\n",
       "    <tr>\n",
       "      <th>2</th>\n",
       "      <td>vAjua3ix-mjnKbtCMeXFww</td>\n",
       "      <td>John</td>\n",
       "      <td>9</td>\n",
       "      <td>2019-08-31 23:57:57</td>\n",
       "      <td>5</td>\n",
       "      <td>0</td>\n",
       "      <td>2</td>\n",
       "      <td></td>\n",
       "      <td>None</td>\n",
       "      <td>0</td>\n",
       "      <td>...</td>\n",
       "      <td>0</td>\n",
       "      <td>0</td>\n",
       "      <td>0</td>\n",
       "      <td>0</td>\n",
       "      <td>0</td>\n",
       "      <td>0</td>\n",
       "      <td>0</td>\n",
       "      <td>0</td>\n",
       "      <td>0</td>\n",
       "      <td>0</td>\n",
       "    </tr>\n",
       "    <tr>\n",
       "      <th>3</th>\n",
       "      <td>qoYIkDkDJM1a_lIdW_Kc_g</td>\n",
       "      <td>Jack</td>\n",
       "      <td>1</td>\n",
       "      <td>2013-06-25 03:45:36</td>\n",
       "      <td>0</td>\n",
       "      <td>0</td>\n",
       "      <td>0</td>\n",
       "      <td></td>\n",
       "      <td>None</td>\n",
       "      <td>0</td>\n",
       "      <td>...</td>\n",
       "      <td>0</td>\n",
       "      <td>0</td>\n",
       "      <td>0</td>\n",
       "      <td>0</td>\n",
       "      <td>0</td>\n",
       "      <td>0</td>\n",
       "      <td>0</td>\n",
       "      <td>0</td>\n",
       "      <td>0</td>\n",
       "      <td>0</td>\n",
       "    </tr>\n",
       "    <tr>\n",
       "      <th>4</th>\n",
       "      <td>NzcdNm3xRR_6lG1TGTKw4Q</td>\n",
       "      <td>Megan</td>\n",
       "      <td>7</td>\n",
       "      <td>2021-08-26 18:01:09</td>\n",
       "      <td>1</td>\n",
       "      <td>1</td>\n",
       "      <td>0</td>\n",
       "      <td></td>\n",
       "      <td>None</td>\n",
       "      <td>0</td>\n",
       "      <td>...</td>\n",
       "      <td>0</td>\n",
       "      <td>0</td>\n",
       "      <td>0</td>\n",
       "      <td>0</td>\n",
       "      <td>0</td>\n",
       "      <td>0</td>\n",
       "      <td>0</td>\n",
       "      <td>0</td>\n",
       "      <td>0</td>\n",
       "      <td>0</td>\n",
       "    </tr>\n",
       "  </tbody>\n",
       "</table>\n",
       "<p>5 rows × 22 columns</p>\n",
       "</div>"
      ],
      "text/plain": [
       "                  user_id    name  review_count        yelping_since  useful  \\\n",
       "0  R2_X4JUcWU23pqPHUsy-Og    Ella             1  2013-09-24 13:09:03       0   \n",
       "1  tkRvU4QtOLsZpcEMaq2yUg  Cassie             2  2017-05-12 17:59:06       0   \n",
       "2  vAjua3ix-mjnKbtCMeXFww    John             9  2019-08-31 23:57:57       5   \n",
       "3  qoYIkDkDJM1a_lIdW_Kc_g    Jack             1  2013-06-25 03:45:36       0   \n",
       "4  NzcdNm3xRR_6lG1TGTKw4Q   Megan             7  2021-08-26 18:01:09       1   \n",
       "\n",
       "   funny  cool elite friends  fans  ...  compliment_more  compliment_profile  \\\n",
       "0      0     0          None     0  ...                0                   0   \n",
       "1      0     0          None     0  ...                0                   0   \n",
       "2      0     2          None     0  ...                0                   0   \n",
       "3      0     0          None     0  ...                0                   0   \n",
       "4      1     0          None     0  ...                0                   0   \n",
       "\n",
       "   compliment_cute  compliment_list  compliment_note  compliment_plain  \\\n",
       "0                0                0                0                 0   \n",
       "1                0                0                0                 0   \n",
       "2                0                0                0                 0   \n",
       "3                0                0                0                 0   \n",
       "4                0                0                0                 0   \n",
       "\n",
       "   compliment_cool  compliment_funny  compliment_writer  compliment_photos  \n",
       "0                0                 0                  0                  0  \n",
       "1                0                 0                  0                  0  \n",
       "2                0                 0                  0                  0  \n",
       "3                0                 0                  0                  0  \n",
       "4                0                 0                  0                  0  \n",
       "\n",
       "[5 rows x 22 columns]"
      ]
     },
     "execution_count": 8,
     "metadata": {},
     "output_type": "execute_result"
    }
   ],
   "source": [
    "df_user.head()"
   ]
  },
  {
   "cell_type": "code",
   "execution_count": 79,
   "metadata": {},
   "outputs": [
    {
     "name": "stdout",
     "output_type": "stream",
     "text": [
      "<class 'pandas.core.frame.DataFrame'>\n",
      "RangeIndex: 2105597 entries, 0 to 2105596\n",
      "Data columns (total 22 columns):\n",
      " #   Column              Dtype  \n",
      "---  ------              -----  \n",
      " 0   user_id             string \n",
      " 1   name                string \n",
      " 2   review_count        int64  \n",
      " 3   yelping_since       string \n",
      " 4   useful              int64  \n",
      " 5   funny               int64  \n",
      " 6   cool                int64  \n",
      " 7   elite               string \n",
      " 8   friends             string \n",
      " 9   fans                int64  \n",
      " 10  average_stars       float64\n",
      " 11  compliment_hot      int64  \n",
      " 12  compliment_more     int64  \n",
      " 13  compliment_profile  int64  \n",
      " 14  compliment_cute     int64  \n",
      " 15  compliment_list     int64  \n",
      " 16  compliment_note     int64  \n",
      " 17  compliment_plain    int64  \n",
      " 18  compliment_cool     int64  \n",
      " 19  compliment_funny    int64  \n",
      " 20  compliment_writer   int64  \n",
      " 21  compliment_photos   int64  \n",
      "dtypes: float64(1), int64(16), string(5)\n",
      "memory usage: 353.4 MB\n"
     ]
    }
   ],
   "source": [
    "df_user.info()"
   ]
  },
  {
   "cell_type": "markdown",
   "metadata": {},
   "source": [
    "En primer lugar se descartan las columnas de cumplidos hacia los usuarios"
   ]
  },
  {
   "cell_type": "code",
   "execution_count": 9,
   "metadata": {},
   "outputs": [],
   "source": [
    "df_user_filtrado = df_user[['user_id','name', 'review_count', 'yelping_since',\n",
    "       'useful', 'funny', 'cool', 'elite', 'friends', 'fans', 'average_stars']]"
   ]
  },
  {
   "cell_type": "markdown",
   "metadata": {},
   "source": [
    "Se determinara si se tiene pasajeros sospechosos que con una cantidad apreciable de reseñas siempre puntuen con 5 o 1 estrella, que solo hayan hecho una reseña o que presenten nombres extraños. "
   ]
  },
  {
   "cell_type": "code",
   "execution_count": 10,
   "metadata": {},
   "outputs": [],
   "source": [
    "#Condiciones de usuarios sospechosos\n",
    "mask_1 = (df_user_filtrado.average_stars == 5) & (df_user_filtrado.review_count > 4)\n",
    "mask_2 = (df_user_filtrado.average_stars == 1) & (df_user_filtrado.review_count > 4) # Estas dos primeras condiciones son para evitar reseñas fuertemente sesgadas positiva o negativamente\n",
    "mask_3 = (df_user_filtrado.review_count == 1) #No se tomaran en cuenta usuarios que hayan escrito una unica reseña\n",
    "mask_4 = (df_user_filtrado.name.str.len() <= 2) | df_user_filtrado.name.str.contains('\\.')#Esto es para filtrar nombres extraños como los que presentan 1 o 2 letras o los que contienen puntos\n",
    "\n",
    "#Se define un nuevo df sin los usuarios sospechosos\n",
    "df_user_filtrado = df_user_filtrado[~(mask_1) & ~(mask_2) & ~(mask_3) & ~(mask_4)]\n"
   ]
  },
  {
   "cell_type": "code",
   "execution_count": 13,
   "metadata": {},
   "outputs": [
    {
     "name": "stdout",
     "output_type": "stream",
     "text": [
      "Cantidad de usuarios luego de filtrar: 1620338\n",
      "Cantidad de usuarios totales: 2105597\n"
     ]
    }
   ],
   "source": [
    "print(\"Cantidad de usuarios luego de filtrar:\", len(df_user_filtrado))\n",
    "print(\"Cantidad de usuarios totales:\", len(df_user))"
   ]
  },
  {
   "cell_type": "markdown",
   "metadata": {},
   "source": [
    "A continuacion se  analizan las reviews de los usuario considerados como elite en algun año."
   ]
  },
  {
   "cell_type": "code",
   "execution_count": 37,
   "metadata": {},
   "outputs": [
    {
     "name": "stdout",
     "output_type": "stream",
     "text": [
      "Cantidad de usuarios elite: 114997\n"
     ]
    }
   ],
   "source": [
    "df_user_elite = df_user_filtrado[(df_user_filtrado.elite.notna()) & (df_user_filtrado.elite != \"\" )]\n",
    "print(\"Cantidad de usuarios elite:\", len(df_user_elite))"
   ]
  },
  {
   "cell_type": "code",
   "execution_count": 87,
   "metadata": {},
   "outputs": [
    {
     "data": {
      "text/html": [
       "<div>\n",
       "<style scoped>\n",
       "    .dataframe tbody tr th:only-of-type {\n",
       "        vertical-align: middle;\n",
       "    }\n",
       "\n",
       "    .dataframe tbody tr th {\n",
       "        vertical-align: top;\n",
       "    }\n",
       "\n",
       "    .dataframe thead th {\n",
       "        text-align: right;\n",
       "    }\n",
       "</style>\n",
       "<table border=\"1\" class=\"dataframe\">\n",
       "  <thead>\n",
       "    <tr style=\"text-align: right;\">\n",
       "      <th></th>\n",
       "      <th>review_count</th>\n",
       "      <th>average_stars</th>\n",
       "    </tr>\n",
       "  </thead>\n",
       "  <tbody>\n",
       "    <tr>\n",
       "      <th>count</th>\n",
       "      <td>1.620338e+06</td>\n",
       "      <td>1.620338e+06</td>\n",
       "    </tr>\n",
       "    <tr>\n",
       "      <th>mean</th>\n",
       "      <td>3.482738e+01</td>\n",
       "      <td>3.712126e+00</td>\n",
       "    </tr>\n",
       "    <tr>\n",
       "      <th>std</th>\n",
       "      <td>1.159903e+02</td>\n",
       "      <td>9.289443e-01</td>\n",
       "    </tr>\n",
       "    <tr>\n",
       "      <th>min</th>\n",
       "      <td>0.000000e+00</td>\n",
       "      <td>1.000000e+00</td>\n",
       "    </tr>\n",
       "    <tr>\n",
       "      <th>25%</th>\n",
       "      <td>3.000000e+00</td>\n",
       "      <td>3.200000e+00</td>\n",
       "    </tr>\n",
       "    <tr>\n",
       "      <th>50%</th>\n",
       "      <td>9.000000e+00</td>\n",
       "      <td>3.850000e+00</td>\n",
       "    </tr>\n",
       "    <tr>\n",
       "      <th>75%</th>\n",
       "      <td>2.500000e+01</td>\n",
       "      <td>4.380000e+00</td>\n",
       "    </tr>\n",
       "    <tr>\n",
       "      <th>max</th>\n",
       "      <td>1.747300e+04</td>\n",
       "      <td>5.000000e+00</td>\n",
       "    </tr>\n",
       "  </tbody>\n",
       "</table>\n",
       "</div>"
      ],
      "text/plain": [
       "       review_count  average_stars\n",
       "count  1.620338e+06   1.620338e+06\n",
       "mean   3.482738e+01   3.712126e+00\n",
       "std    1.159903e+02   9.289443e-01\n",
       "min    0.000000e+00   1.000000e+00\n",
       "25%    3.000000e+00   3.200000e+00\n",
       "50%    9.000000e+00   3.850000e+00\n",
       "75%    2.500000e+01   4.380000e+00\n",
       "max    1.747300e+04   5.000000e+00"
      ]
     },
     "execution_count": 87,
     "metadata": {},
     "output_type": "execute_result"
    }
   ],
   "source": [
    "df_user_filtrado[[\"review_count\",\"average_stars\"]].describe()\n"
   ]
  },
  {
   "cell_type": "code",
   "execution_count": 88,
   "metadata": {},
   "outputs": [
    {
     "data": {
      "text/html": [
       "<div>\n",
       "<style scoped>\n",
       "    .dataframe tbody tr th:only-of-type {\n",
       "        vertical-align: middle;\n",
       "    }\n",
       "\n",
       "    .dataframe tbody tr th {\n",
       "        vertical-align: top;\n",
       "    }\n",
       "\n",
       "    .dataframe thead th {\n",
       "        text-align: right;\n",
       "    }\n",
       "</style>\n",
       "<table border=\"1\" class=\"dataframe\">\n",
       "  <thead>\n",
       "    <tr style=\"text-align: right;\">\n",
       "      <th></th>\n",
       "      <th>review_count</th>\n",
       "      <th>average_stars</th>\n",
       "    </tr>\n",
       "  </thead>\n",
       "  <tbody>\n",
       "    <tr>\n",
       "      <th>count</th>\n",
       "      <td>114997.000000</td>\n",
       "      <td>114997.000000</td>\n",
       "    </tr>\n",
       "    <tr>\n",
       "      <th>mean</th>\n",
       "      <td>252.491578</td>\n",
       "      <td>3.949815</td>\n",
       "    </tr>\n",
       "    <tr>\n",
       "      <th>std</th>\n",
       "      <td>343.087628</td>\n",
       "      <td>0.353358</td>\n",
       "    </tr>\n",
       "    <tr>\n",
       "      <th>min</th>\n",
       "      <td>2.000000</td>\n",
       "      <td>2.310000</td>\n",
       "    </tr>\n",
       "    <tr>\n",
       "      <th>25%</th>\n",
       "      <td>89.000000</td>\n",
       "      <td>3.710000</td>\n",
       "    </tr>\n",
       "    <tr>\n",
       "      <th>50%</th>\n",
       "      <td>155.000000</td>\n",
       "      <td>3.950000</td>\n",
       "    </tr>\n",
       "    <tr>\n",
       "      <th>75%</th>\n",
       "      <td>290.000000</td>\n",
       "      <td>4.190000</td>\n",
       "    </tr>\n",
       "    <tr>\n",
       "      <th>max</th>\n",
       "      <td>17473.000000</td>\n",
       "      <td>4.990000</td>\n",
       "    </tr>\n",
       "  </tbody>\n",
       "</table>\n",
       "</div>"
      ],
      "text/plain": [
       "        review_count  average_stars\n",
       "count  114997.000000  114997.000000\n",
       "mean      252.491578       3.949815\n",
       "std       343.087628       0.353358\n",
       "min         2.000000       2.310000\n",
       "25%        89.000000       3.710000\n",
       "50%       155.000000       3.950000\n",
       "75%       290.000000       4.190000\n",
       "max     17473.000000       4.990000"
      ]
     },
     "execution_count": 88,
     "metadata": {},
     "output_type": "execute_result"
    }
   ],
   "source": [
    "df_user_elite[[\"review_count\",\"average_stars\"]].describe()"
   ]
  },
  {
   "cell_type": "code",
   "execution_count": 78,
   "metadata": {},
   "outputs": [
    {
     "data": {
      "image/png": "[encoded data removed]",
      "text/plain": [
       "<Figure size 1000x500 with 2 Axes>"
      ]
     },
     "metadata": {},
     "output_type": "display_data"
    }
   ],
   "source": [
    "# Crear subplots\n",
    "fig, (ax1, ax2) = plt.subplots(1, 2, figsize=(10,5))\n",
    "\n",
    "\n",
    "ax1.hist(df_user_filtrado.average_stars)\n",
    "ax1.set_title('Histograma de puntuacion de los usuarios')\n",
    "ax1.set_xlabel('Calificación Promedio')\n",
    "ax1.set_ylabel('Numero de usuarios')\n",
    "\n",
    "\n",
    "ax2.hist(df_user_elite.average_stars)\n",
    "ax2.set_title('Usuarios de puntuacion de los usuarios elite')\n",
    "ax2.set_xlabel('Calificación Promedio')\n",
    "ax2.set_ylabel('Numero de usuarios')\n",
    "\n",
    "# Ajustar diseño\n",
    "plt.tight_layout()\n",
    "\n",
    "# Mostrar el gráfico\n",
    "plt.show()"
   ]
  },
  {
   "cell_type": "markdown",
   "metadata": {},
   "source": [
    "Ambas distribuciones se encuentran sesgadas a la izquierda, sin embargo la del promedio de las puntuaciones de los usuarios elite se asemeja mucho mas a una distribucion normal. "
   ]
  },
  {
   "cell_type": "code",
   "execution_count": 61,
   "metadata": {},
   "outputs": [
    {
     "name": "stderr",
     "output_type": "stream",
     "text": [
      "/tmp/ipykernel_120049/3531567544.py:7: SettingWithCopyWarning: \n",
      "A value is trying to be set on a copy of a slice from a DataFrame.\n",
      "Try using .loc[row_indexer,col_indexer] = value instead\n",
      "\n",
      "See the caveats in the documentation: https://pandas.pydata.org/pandas-docs/stable/user_guide/indexing.html#returning-a-view-versus-a-copy\n",
      "  df_user_elite['num_friends'] = df_user_elite['friends'].apply(contar_amigos)\n"
     ]
    }
   ],
   "source": [
    "def contar_amigos(friends):\n",
    "    if friends == \"None\":\n",
    "        return 0\n",
    "    else:\n",
    "        return len(friends.split(','))\n",
    "\n",
    "df_user_elite['num_friends'] = df_user_elite['friends'].apply(contar_amigos)\n",
    "df_user_filtrado['num_friends'] = df_user_filtrado['friends'].apply(contar_amigos)"
   ]
  },
  {
   "cell_type": "markdown",
   "metadata": {},
   "source": [
    "Tambien es importante destacar que estos usuarios son mas influyentes, ya que presentan una mayor cantidad de fans y amigos. "
   ]
  },
  {
   "cell_type": "code",
   "execution_count": 76,
   "metadata": {},
   "outputs": [
    {
     "data": {
      "image/png": "[encoded data removed]",
      "text/plain": [
       "<Figure size 1200x800 with 4 Axes>"
      ]
     },
     "metadata": {},
     "output_type": "display_data"
    }
   ],
   "source": [
    "# Crear una figura y ejes para los subgráficos\n",
    "fig, axs = plt.subplots(2, 2, figsize=(12, 8))\n",
    "\n",
    "# Graficar el primer histograma en el primer subgráfico\n",
    "axs[0, 0].hist(df_user_filtrado[df_user_filtrado.num_friends < 2000].num_friends)\n",
    "axs[0, 0].set_title('Histograma del numero de amigos por usuario')\n",
    "axs[0, 0].set_xlabel('Número de amigos')\n",
    "axs[0, 0].set_ylabel('Número de usuarios')\n",
    "\n",
    "# Graficar el segundo histograma en el segundo subgráfico\n",
    "axs[0, 1].hist(df_user_elite[df_user_elite.num_friends < 2000].num_friends)\n",
    "axs[0, 1].set_title('Histograma del numero de amigos por usuario elite')\n",
    "axs[0, 1].set_xlabel('Número de amigos')\n",
    "axs[0, 1].set_ylabel('Número de usuarios')\n",
    "\n",
    "# Graficar el tercer histograma en el tercer subgráfico\n",
    "axs[1, 0].hist(df_user_elite[df_user_elite.fans < 300].fans)\n",
    "axs[1, 0].set_title('Histograma del numero de fans por usuario elite')\n",
    "axs[1, 0].set_xlabel('Número de fans')\n",
    "axs[1, 0].set_ylabel('Número de usuarios')\n",
    "\n",
    "# Graficar el cuarto histograma en el cuarto subgráfico\n",
    "axs[1, 1].hist(df_user_filtrado[df_user_filtrado.fans < 300].fans)\n",
    "axs[1, 1].set_title('Histograma del numero de fans por usuario')\n",
    "axs[1, 1].set_xlabel('Número de fans')\n",
    "axs[1, 1].set_ylabel('Número de usuarios')\n",
    "\n",
    "# Ajustar espaciado entre subgráficos\n",
    "plt.tight_layout()\n",
    "\n",
    "# Mostrar la figura\n",
    "plt.show()"
   ]
  },
  {
   "cell_type": "markdown",
   "metadata": {},
   "source": [
    "---"
   ]
  },
  {
   "cell_type": "markdown",
   "metadata": {},
   "source": [
    "## Mapa"
   ]
  },
  {
   "cell_type": "code",
   "execution_count": null,
   "metadata": {},
   "outputs": [],
   "source": [
    "import geopandas as gpd\n",
    "from geopandas import GeoDataFrame\n",
    "import matplotlib.pyplot as plt\n",
    "from shapely.geometry import Point\n"
   ]
  },
  {
   "cell_type": "code",
   "execution_count": null,
   "metadata": {},
   "outputs": [
    {
     "data": {
      "text/plain": [
       "Index(['business_id', 'name', 'address', 'city', 'state', 'postal_code',\n",
       "       'latitude', 'longitude', 'stars', 'review_count', 'is_open',\n",
       "       'attributes', 'categories', 'hours'],\n",
       "      dtype='object')"
      ]
     },
     "metadata": {},
     "output_type": "display_data"
    }
   ],
   "source": [
    "df_business.columns"
   ]
  },
  {
   "cell_type": "code",
   "execution_count": null,
   "metadata": {},
   "outputs": [],
   "source": [
    "\n",
    "def limpiar_cache_pyplot():\n",
    "    plt.Figure.data = []\n",
    "\n",
    "\n",
    "def crear_plot_mapa(df: pd.DataFrame) -> plt.Figure:\n",
    "    \"\"\"Devuelve una grafica tipo plt.Figure, con un Shapefile que\n",
    "    presenta el territorio de USA, y el dataframe de entrada con\n",
    "    columnas de coordinadas ('longitude', 'latitude').\n",
    "    \"\"\"\n",
    "    # Descartar los nulos\n",
    "    df = df.dropna(axis=0, subset=['longitude', 'latitude'])\n",
    "\n",
    "    # Crear un GeoDataFrame con la data de coordinadas\n",
    "    geometry = [Point(xy) for xy in zip(df['longitude'], df['latitude'])]\n",
    "    gdf = GeoDataFrame(df, geometry=geometry)\n",
    "\n",
    "    # Cargar archivo shapefile\n",
    "    mapa = gpd.read_file('../assets/map_state_5m.shp')\n",
    "\n",
    "    # Calculamos los limites del mapa\n",
    "    minx, miny, maxx, maxy = gdf.total_bounds\n",
    "\n",
    "    # Creamos los plots del mapa\n",
    "    plt.figure()  # limpiar memory de plotly\n",
    "    fig, ax = plt.subplots(figsize=(12, 9))\n",
    "    mapa.plot(ax=ax, color='white', edgecolor='black')\n",
    "    gdf.plot(ax=ax, marker='o', color='red', markersize=.0001)\n",
    "\n",
    "    # Calculamos el margen del grafico\n",
    "    margin_ratio = 0.2\n",
    "    marginx = (maxx - minx) * margin_ratio\n",
    "    marginy = (maxy - miny) * margin_ratio\n",
    "    # Aplicamos los margenes en relacion a los plots en los extremos\n",
    "    ax.set_xlim(minx - marginx, maxx + marginx)\n",
    "    ax.set_ylim(miny - marginy, maxy + marginy)\n",
    "\n",
    "    return plt"
   ]
  },
  {
   "cell_type": "code",
   "execution_count": null,
   "metadata": {},
   "outputs": [],
   "source": [
    "mapa_business = crear_plot_mapa(df_business)\n",
    "mapa_business.show()"
   ]
  },
  {
   "cell_type": "markdown",
   "metadata": {},
   "source": [
    "### Mapa: area metro Philadelphia (PA, NJ, DE)"
   ]
  },
  {
   "cell_type": "code",
   "execution_count": null,
   "metadata": {},
   "outputs": [
    {
     "data": {
      "text/plain": [
       "state\n",
       "PA    34040\n",
       "NJ     8537\n",
       "DE     2265\n",
       "Name: count, dtype: int64"
      ]
     },
     "metadata": {},
     "output_type": "display_data"
    }
   ],
   "source": [
    "# Filtrar area geografica de interes\n",
    "estados = ['PA', 'NJ', 'DE']\n",
    "\n",
    "df_estados = df_business[df_business['state'].isin(estados)]\n",
    "df_estados['state'].value_counts()"
   ]
  },
  {
   "cell_type": "code",
   "execution_count": null,
   "metadata": {},
   "outputs": [
    {
     "data": {
      "text/plain": [
       "(44842, 14)"
      ]
     },
     "metadata": {},
     "output_type": "display_data"
    }
   ],
   "source": [
    "df_estados.shape  # expected value: (44842, 14)"
   ]
  },
  {
   "cell_type": "code",
   "execution_count": null,
   "metadata": {},
   "outputs": [],
   "source": [
    "\"\"\"     No devuelve output esperado (mapa no se filtra)\n",
    "\n",
    "\n",
    "df = df_estados\n",
    "\n",
    "# Descartar nulos\n",
    "#df = df_estados.dropna(axis=0, subset=['longitude', 'latitude'])\n",
    "\n",
    "# Crear un GeoDataFrame con la data de coordinadas\n",
    "\n",
    "geo = [Point(xy) for xy in zip(df['longitude'], df['latitude'])]\n",
    "gdf = GeoDataFrame(df, geometry=geo)\n",
    "\n",
    "# Cargar archivo shapefile\n",
    "mapa = gpd.read_file('../assets/states_500k.shp')\n",
    "\n",
    "# Calculamos los limites del mapa\n",
    "minx, miny, maxx, maxy = gdf.total_bounds\n",
    "\n",
    "# Creamos los plots del mapa\n",
    "\n",
    "plt.figure()  # clean up\n",
    "\n",
    "fig, ax = plt.subplots(figsize=(12, 9))\n",
    "mapa.plot(ax=ax, color='white', edgecolor='black')\n",
    "\n",
    "gdf = gdf[gdf.is_valid | gdf.buffer(0).is_valid]  # clean up\n",
    "\n",
    "gdf.plot(ax=ax, marker='o', color='red', markersize=.0001)\n",
    "\n",
    "# Calculamos el margen del grafico\n",
    "margin_ratio = 0.2\n",
    "marginx = (maxx - minx) * margin_ratio\n",
    "marginy = (maxy - miny) * margin_ratio\n",
    "# Aplicamos los margenes en relacion a los plots en los extremos\n",
    "ax.set_xlim(minx - marginx, maxx + marginx)\n",
    "ax.set_ylim(miny - marginy, maxy + marginy)\n",
    "\n",
    "plt.show()\"\"\""
   ]
  }
 ],
 "metadata": {
  "kernelspec": {
   "display_name": "env-pf",
   "language": "python",
   "name": "python3"
  },
  "language_info": {
   "codemirror_mode": {
    "name": "ipython",
    "version": 3
   },
   "file_extension": ".py",
   "mimetype": "text/x-python",
   "name": "python",
   "nbconvert_exporter": "python",
   "pygments_lexer": "ipython3",
   "version": "3.10.12"
  }
 },
 "nbformat": 4,
 "nbformat_minor": 2
}
