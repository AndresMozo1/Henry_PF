{
 "cells": [
  {
   "cell_type": "code",
   "execution_count": 2,
   "metadata": {},
   "outputs": [],
   "source": [
    "from glob import glob\n",
    "import pandas as pd"
   ]
  },
  {
   "cell_type": "code",
   "execution_count": null,
   "metadata": {},
   "outputs": [],
   "source": [
    "# Opción que deshabilita el limite de columnas y filas mostradas\n",
    "pd.set_option('display.max_columns', None)\n",
    "pd.set_option('display.max_rows', None)"
   ]
  },
  {
   "cell_type": "markdown",
   "metadata": {},
   "source": [
    "---\n",
    "## Carga de data Yelp"
   ]
  },
  {
   "cell_type": "code",
   "execution_count": 3,
   "metadata": {},
   "outputs": [],
   "source": [
    "# Path de los archivos no-procesados (formato parquet)\n",
    "path_data = '../data/raw'"
   ]
  },
  {
   "cell_type": "markdown",
   "metadata": {},
   "source": [
    "### `y-business.parquet`"
   ]
  },
  {
   "cell_type": "code",
   "execution_count": 4,
   "metadata": {},
   "outputs": [],
   "source": [
    "df_business = pd.read_parquet(f'{path_data}/y-business.parquet')"
   ]
  },
  {
   "cell_type": "markdown",
   "metadata": {},
   "source": [
    "### `y-checkin.parquet`"
   ]
  },
  {
   "cell_type": "code",
   "execution_count": 5,
   "metadata": {},
   "outputs": [],
   "source": [
    "df_checkin = pd.read_parquet(f'{path_data}/y-checkin.parquet')"
   ]
  },
  {
   "cell_type": "markdown",
   "metadata": {},
   "source": [
    "### `y-tip.parquet`"
   ]
  },
  {
   "cell_type": "code",
   "execution_count": 6,
   "metadata": {},
   "outputs": [],
   "source": [
    "df_tip = pd.read_parquet(f'{path_data}/y-tip.parquet')"
   ]
  },
  {
   "cell_type": "markdown",
   "metadata": {},
   "source": [
    "### `y-review.parquet`"
   ]
  },
  {
   "cell_type": "code",
   "execution_count": 7,
   "metadata": {},
   "outputs": [
    {
     "data": {
      "text/plain": [
       "['../data/raw/y-review/y-review_03.parquet',\n",
       " '../data/raw/y-review/y-review_02.parquet',\n",
       " '../data/raw/y-review/y-review_01.parquet']"
      ]
     },
     "execution_count": 7,
     "metadata": {},
     "output_type": "execute_result"
    }
   ],
   "source": [
    "# Crear lista de archivos en /data/raw/y-review/\n",
    "review_parquets = glob(f'{path_data}/y-review/*')\n",
    "review_parquets"
   ]
  },
  {
   "cell_type": "code",
   "execution_count": 8,
   "metadata": {},
   "outputs": [],
   "source": [
    "# Crear dataframe donde se unen los datos extraidos de parquet\n",
    "df_review = pd.DataFrame()\n",
    "# Iterar por cada parquet dentro de /data/raw/y-review/\n",
    "for p in review_parquets:\n",
    "    # Leer parquet\n",
    "    df = pd.read_parquet(p)\n",
    "    # Unir a df_review\n",
    "    df_review = pd.concat([df_review, df], ignore_index=True)"
   ]
  },
  {
   "cell_type": "markdown",
   "metadata": {},
   "source": [
    "### `y-user.parquet`"
   ]
  },
  {
   "cell_type": "code",
   "execution_count": 9,
   "metadata": {},
   "outputs": [
    {
     "data": {
      "text/plain": [
       "['../data/raw/y-user/y-user_04.parquet',\n",
       " '../data/raw/y-user/y-user_02.parquet',\n",
       " '../data/raw/y-user/y-user_03.parquet',\n",
       " '../data/raw/y-user/y-user_01.parquet']"
      ]
     },
     "execution_count": 9,
     "metadata": {},
     "output_type": "execute_result"
    }
   ],
   "source": [
    "# Crear lista de archivos en /data/raw/y-user/\n",
    "user_parquets = glob(f'{path_data}/y-user/*')\n",
    "user_parquets"
   ]
  },
  {
   "cell_type": "code",
   "execution_count": 10,
   "metadata": {},
   "outputs": [],
   "source": [
    "# Crear dataframe donde se unen los datos extraidos de parquet\n",
    "df_user = pd.DataFrame()\n",
    "# Iterar por cada parquet dentro de /data/raw/y-user/\n",
    "for p in review_parquets:\n",
    "    # Leer parquet\n",
    "    df = pd.read_parquet(p)\n",
    "    # Unir a df_user\n",
    "    df_user = pd.concat([df_user, df], ignore_index=True)"
   ]
  },
  {
   "cell_type": "markdown",
   "metadata": {},
   "source": [
    "---\n",
    "## Análisis Exploratorio"
   ]
  },
  {
   "cell_type": "code",
   "execution_count": 11,
   "metadata": {},
   "outputs": [
    {
     "name": "stdout",
     "output_type": "stream",
     "text": [
      "<class 'pandas.core.frame.DataFrame'>\n",
      "Index: 150351 entries, 0 to 1543\n",
      "Data columns (total 14 columns):\n",
      " #   Column        Non-Null Count   Dtype  \n",
      "---  ------        --------------   -----  \n",
      " 0   business_id   150351 non-null  object \n",
      " 1   name          150351 non-null  object \n",
      " 2   address       150351 non-null  object \n",
      " 3   city          150351 non-null  object \n",
      " 4   state         150348 non-null  object \n",
      " 5   postal_code   150351 non-null  object \n",
      " 6   latitude      150351 non-null  float64\n",
      " 7   longitude     150351 non-null  float64\n",
      " 8   stars         150351 non-null  float64\n",
      " 9   review_count  150351 non-null  int64  \n",
      " 10  is_open       150351 non-null  int64  \n",
      " 11  attributes    136607 non-null  object \n",
      " 12  categories    150248 non-null  object \n",
      " 13  hours         127128 non-null  object \n",
      "dtypes: float64(3), int64(2), object(9)\n",
      "memory usage: 17.2+ MB\n"
     ]
    }
   ],
   "source": [
    "df_business.info()"
   ]
  }
 ],
 "metadata": {
  "kernelspec": {
   "display_name": "env-pf",
   "language": "python",
   "name": "python3"
  },
  "language_info": {
   "codemirror_mode": {
    "name": "ipython",
    "version": 3
   },
   "file_extension": ".py",
   "mimetype": "text/x-python",
   "name": "python",
   "nbconvert_exporter": "python",
   "pygments_lexer": "ipython3",
   "version": "3.10.12"
  }
 },
 "nbformat": 4,
 "nbformat_minor": 2
}
