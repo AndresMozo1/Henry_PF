{
 "cells": [
  {
   "cell_type": "code",
   "execution_count": 1,
   "metadata": {},
   "outputs": [],
   "source": [
    "from glob import glob\n",
    "import warnings\n",
    "import pandas as pd\n",
    "from pyarrow import json\n",
    "import pyarrow.parquet as pq"
   ]
  },
  {
   "cell_type": "code",
   "execution_count": 2,
   "metadata": {},
   "outputs": [],
   "source": [
    "# Opción para ignorar advertencias\n",
    "warnings.filterwarnings('ignore')\n",
    "# Opción que deshabilitaa el limite de columnas mostradas\n",
    "pd.set_option('display.max_columns', None)"
   ]
  },
  {
   "cell_type": "markdown",
   "metadata": {},
   "source": [
    "---\n",
    "## Dataset Yelp"
   ]
  },
  {
   "cell_type": "markdown",
   "metadata": {},
   "source": [
    "### `business.pkl`"
   ]
  },
  {
   "cell_type": "code",
   "execution_count": 5,
   "metadata": {},
   "outputs": [
    {
     "data": {
      "text/html": [
       "<div>\n",
       "<style scoped>\n",
       "    .dataframe tbody tr th:only-of-type {\n",
       "        vertical-align: middle;\n",
       "    }\n",
       "\n",
       "    .dataframe tbody tr th {\n",
       "        vertical-align: top;\n",
       "    }\n",
       "\n",
       "    .dataframe thead th {\n",
       "        text-align: right;\n",
       "    }\n",
       "</style>\n",
       "<table border=\"1\" class=\"dataframe\">\n",
       "  <thead>\n",
       "    <tr style=\"text-align: right;\">\n",
       "      <th></th>\n",
       "      <th>business_id</th>\n",
       "      <th>name</th>\n",
       "      <th>address</th>\n",
       "      <th>city</th>\n",
       "      <th>state</th>\n",
       "      <th>postal_code</th>\n",
       "      <th>latitude</th>\n",
       "      <th>longitude</th>\n",
       "      <th>stars</th>\n",
       "      <th>review_count</th>\n",
       "      <th>is_open</th>\n",
       "      <th>attributes</th>\n",
       "      <th>categories</th>\n",
       "      <th>hours</th>\n",
       "      <th>business_id</th>\n",
       "      <th>name</th>\n",
       "      <th>address</th>\n",
       "      <th>city</th>\n",
       "      <th>state</th>\n",
       "      <th>postal_code</th>\n",
       "      <th>latitude</th>\n",
       "      <th>longitude</th>\n",
       "      <th>stars</th>\n",
       "      <th>review_count</th>\n",
       "      <th>is_open</th>\n",
       "      <th>attributes</th>\n",
       "      <th>categories</th>\n",
       "      <th>hours</th>\n",
       "    </tr>\n",
       "  </thead>\n",
       "  <tbody>\n",
       "    <tr>\n",
       "      <th>28985</th>\n",
       "      <td>7nCS0gWoipPTmAvkpAOOIg</td>\n",
       "      <td>The Lighthouse - Wedding + Events</td>\n",
       "      <td>133 Sanders Ferry Rd</td>\n",
       "      <td>Hendersonville</td>\n",
       "      <td>NJ</td>\n",
       "      <td>37075</td>\n",
       "      <td>36.300919</td>\n",
       "      <td>-86.614772</td>\n",
       "      <td>3.5</td>\n",
       "      <td>7</td>\n",
       "      <td>1</td>\n",
       "      <td>{'BusinessAcceptsCreditCards': 'True', 'Wheelc...</td>\n",
       "      <td>Venues &amp; Event Spaces, Event Planning &amp; Servic...</td>\n",
       "      <td>None</td>\n",
       "      <td>NaN</td>\n",
       "      <td>NaN</td>\n",
       "      <td>NaN</td>\n",
       "      <td>NaN</td>\n",
       "      <td>NaN</td>\n",
       "      <td>NaN</td>\n",
       "      <td>NaN</td>\n",
       "      <td>NaN</td>\n",
       "      <td>NaN</td>\n",
       "      <td>NaN</td>\n",
       "      <td>NaN</td>\n",
       "      <td>NaN</td>\n",
       "      <td>NaN</td>\n",
       "      <td>NaN</td>\n",
       "    </tr>\n",
       "    <tr>\n",
       "      <th>49302</th>\n",
       "      <td>fwpgD5hXdSBdB87vfZjHhA</td>\n",
       "      <td>Peppers</td>\n",
       "      <td>6283 N College Ave</td>\n",
       "      <td>Indianapolis</td>\n",
       "      <td>PA</td>\n",
       "      <td>46220</td>\n",
       "      <td>39.869429</td>\n",
       "      <td>-86.146101</td>\n",
       "      <td>2.5</td>\n",
       "      <td>9</td>\n",
       "      <td>0</td>\n",
       "      <td>{'GoodForKids': 'False', 'RestaurantsTakeOut':...</td>\n",
       "      <td>Nightlife, Bars, American (New), Restaurants</td>\n",
       "      <td>None</td>\n",
       "      <td>NaN</td>\n",
       "      <td>NaN</td>\n",
       "      <td>NaN</td>\n",
       "      <td>NaN</td>\n",
       "      <td>NaN</td>\n",
       "      <td>NaN</td>\n",
       "      <td>NaN</td>\n",
       "      <td>NaN</td>\n",
       "      <td>NaN</td>\n",
       "      <td>NaN</td>\n",
       "      <td>NaN</td>\n",
       "      <td>NaN</td>\n",
       "      <td>NaN</td>\n",
       "      <td>NaN</td>\n",
       "    </tr>\n",
       "  </tbody>\n",
       "</table>\n",
       "</div>"
      ],
      "text/plain": [
       "                  business_id                               name  \\\n",
       "28985  7nCS0gWoipPTmAvkpAOOIg  The Lighthouse - Wedding + Events   \n",
       "49302  fwpgD5hXdSBdB87vfZjHhA                            Peppers   \n",
       "\n",
       "                    address            city state postal_code   latitude  \\\n",
       "28985  133 Sanders Ferry Rd  Hendersonville    NJ       37075  36.300919   \n",
       "49302    6283 N College Ave    Indianapolis    PA       46220  39.869429   \n",
       "\n",
       "       longitude stars review_count is_open  \\\n",
       "28985 -86.614772   3.5            7       1   \n",
       "49302 -86.146101   2.5            9       0   \n",
       "\n",
       "                                              attributes  \\\n",
       "28985  {'BusinessAcceptsCreditCards': 'True', 'Wheelc...   \n",
       "49302  {'GoodForKids': 'False', 'RestaurantsTakeOut':...   \n",
       "\n",
       "                                              categories hours business_id  \\\n",
       "28985  Venues & Event Spaces, Event Planning & Servic...  None         NaN   \n",
       "49302       Nightlife, Bars, American (New), Restaurants  None         NaN   \n",
       "\n",
       "      name address city state postal_code latitude longitude stars  \\\n",
       "28985  NaN     NaN  NaN   NaN         NaN      NaN       NaN   NaN   \n",
       "49302  NaN     NaN  NaN   NaN         NaN      NaN       NaN   NaN   \n",
       "\n",
       "      review_count is_open attributes categories hours  \n",
       "28985          NaN     NaN        NaN        NaN   NaN  \n",
       "49302          NaN     NaN        NaN        NaN   NaN  "
      ]
     },
     "execution_count": 5,
     "metadata": {},
     "output_type": "execute_result"
    }
   ],
   "source": [
    "business_path = './data/Yelp/business.pkl'\n",
    "# Leer pkl (pickle)\n",
    "df = pd.read_pickle(business_path)\n",
    "df.sample(2)"
   ]
  },
  {
   "cell_type": "markdown",
   "metadata": {},
   "source": [
    "* Se observan columnas con nombres duplicados. Hay que unir estas columns."
   ]
  },
  {
   "cell_type": "code",
   "execution_count": 10,
   "metadata": {},
   "outputs": [
    {
     "data": {
      "text/html": [
       "<div>\n",
       "<style scoped>\n",
       "    .dataframe tbody tr th:only-of-type {\n",
       "        vertical-align: middle;\n",
       "    }\n",
       "\n",
       "    .dataframe tbody tr th {\n",
       "        vertical-align: top;\n",
       "    }\n",
       "\n",
       "    .dataframe thead th {\n",
       "        text-align: right;\n",
       "    }\n",
       "</style>\n",
       "<table border=\"1\" class=\"dataframe\">\n",
       "  <thead>\n",
       "    <tr style=\"text-align: right;\">\n",
       "      <th></th>\n",
       "      <th>business_id</th>\n",
       "      <th>name</th>\n",
       "      <th>address</th>\n",
       "      <th>city</th>\n",
       "      <th>state</th>\n",
       "      <th>postal_code</th>\n",
       "      <th>latitude</th>\n",
       "      <th>longitude</th>\n",
       "      <th>stars</th>\n",
       "      <th>review_count</th>\n",
       "      <th>is_open</th>\n",
       "      <th>attributes</th>\n",
       "      <th>categories</th>\n",
       "      <th>hours</th>\n",
       "    </tr>\n",
       "  </thead>\n",
       "  <tbody>\n",
       "    <tr>\n",
       "      <th>30494</th>\n",
       "      <td>zcqHaDOFh9TapJ_Mo-GgWA</td>\n",
       "      <td>Gutty’s Comedy Club - Indiana</td>\n",
       "      <td>1251 US 31 N, Ste 120</td>\n",
       "      <td>Greenwood</td>\n",
       "      <td>AZ</td>\n",
       "      <td>46142</td>\n",
       "      <td>39.633357</td>\n",
       "      <td>-86.122491</td>\n",
       "      <td>5.0</td>\n",
       "      <td>10</td>\n",
       "      <td>1</td>\n",
       "      <td>{'Ambience': '{u'divey': False, u'hipster': No...</td>\n",
       "      <td>Nightlife, Comedy Clubs</td>\n",
       "      <td>{'Monday': '19:30-21:30', 'Thursday': '19:30-2...</td>\n",
       "    </tr>\n",
       "    <tr>\n",
       "      <th>32270</th>\n",
       "      <td>k7f8RodiNHDrk_N8Glp5gg</td>\n",
       "      <td>Bar Centro</td>\n",
       "      <td>345 N Virginia St</td>\n",
       "      <td>Reno</td>\n",
       "      <td>PA</td>\n",
       "      <td>89501</td>\n",
       "      <td>39.529724</td>\n",
       "      <td>-119.814388</td>\n",
       "      <td>4.5</td>\n",
       "      <td>11</td>\n",
       "      <td>1</td>\n",
       "      <td>{'NoiseLevel': 'u'loud'', 'Alcohol': 'u'full_b...</td>\n",
       "      <td>Nightlife, Bars</td>\n",
       "      <td>{'Monday': '0:0-0:0', 'Tuesday': '0:0-0:0', 'W...</td>\n",
       "    </tr>\n",
       "  </tbody>\n",
       "</table>\n",
       "</div>"
      ],
      "text/plain": [
       "                  business_id                           name  \\\n",
       "30494  zcqHaDOFh9TapJ_Mo-GgWA  Gutty’s Comedy Club - Indiana   \n",
       "32270  k7f8RodiNHDrk_N8Glp5gg                     Bar Centro   \n",
       "\n",
       "                     address       city state postal_code   latitude  \\\n",
       "30494  1251 US 31 N, Ste 120  Greenwood    AZ       46142  39.633357   \n",
       "32270      345 N Virginia St       Reno    PA       89501  39.529724   \n",
       "\n",
       "        longitude stars review_count is_open  \\\n",
       "30494  -86.122491   5.0           10       1   \n",
       "32270 -119.814388   4.5           11       1   \n",
       "\n",
       "                                              attributes  \\\n",
       "30494  {'Ambience': '{u'divey': False, u'hipster': No...   \n",
       "32270  {'NoiseLevel': 'u'loud'', 'Alcohol': 'u'full_b...   \n",
       "\n",
       "                    categories  \\\n",
       "30494  Nightlife, Comedy Clubs   \n",
       "32270          Nightlife, Bars   \n",
       "\n",
       "                                                   hours  \n",
       "30494  {'Monday': '19:30-21:30', 'Thursday': '19:30-2...  \n",
       "32270  {'Monday': '0:0-0:0', 'Tuesday': '0:0-0:0', 'W...  "
      ]
     },
     "execution_count": 10,
     "metadata": {},
     "output_type": "execute_result"
    }
   ],
   "source": [
    "# Calcular la cantida de columns dividida por 2\n",
    "punto_medio = len(df.columns) // 2\n",
    "# Dividir el dataframe por mitad, a largo de las columns,\n",
    "# utilizando el punto_medio calculado\n",
    "df_1er_mitad = df.iloc[:, :punto_medio]\n",
    "df_2nd_mitad = df.iloc[:, punto_medio:]\n",
    "# Unir los dataframes resultantes\n",
    "df_reorganizado = pd.concat([df_1er_mitad, df_2nd_mitad], axis=0)\n",
    "df_reorganizado.sample(2)"
   ]
  },
  {
   "cell_type": "code",
   "execution_count": 11,
   "metadata": {},
   "outputs": [],
   "source": [
    "# Eliminar filas con todo nulos\n",
    "df_reorganizado.dropna(axis=0, how='all', inplace=True)"
   ]
  },
  {
   "cell_type": "code",
   "execution_count": 13,
   "metadata": {},
   "outputs": [],
   "source": [
    "# Almacenar en formato parquet, en el mismo directorio de 'business_path'\n",
    "df_reorganizado.to_parquet(business_path.replace('.pkl', '.parquet'))  # se cambia sufijo '.pkl' a '.parquet'"
   ]
  },
  {
   "cell_type": "markdown",
   "metadata": {},
   "source": [
    "### `checkin.json`"
   ]
  },
  {
   "cell_type": "code",
   "execution_count": null,
   "metadata": {},
   "outputs": [],
   "source": [
    "checkin_path = './data/Yelp/checkin.json'\n",
    "# Leer JSON\n",
    "df = pd.read_json(checkin_path, lines=True)\n",
    "# Almacenar en formato parquet, en el mismo directorio\n",
    "df.to_parquet(checkin_path.replace('.json', '.parquet'))  # se cambia sufijo '.json' a '.parquet'"
   ]
  },
  {
   "cell_type": "markdown",
   "metadata": {},
   "source": [
    "### `review.json`"
   ]
  },
  {
   "cell_type": "code",
   "execution_count": null,
   "metadata": {},
   "outputs": [],
   "source": [
    "review_path = './data/Yelp/review.json'\n",
    "# Leer JSON como tabla parquet\n",
    "tabla = json.read_json(review_path)\n",
    "# Almacenar en formato parquet, en el mismo directorio\n",
    "pq.write_table(tabla, review_path.replace('.json', '.parquet'))"
   ]
  },
  {
   "cell_type": "code",
   "execution_count": 3,
   "metadata": {},
   "outputs": [
    {
     "ename": "",
     "evalue": "",
     "output_type": "error",
     "traceback": [
      "\u001b[1;31mCannot execute code, session has been disposed. Please try restarting the Kernel."
     ]
    },
    {
     "ename": "",
     "evalue": "",
     "output_type": "error",
     "traceback": [
      "\u001b[1;31mThe Kernel crashed while executing code in the the current cell or a previous cell. Please review the code in the cell(s) to identify a possible cause of the failure. Click <a href='https://aka.ms/vscodeJupyterKernelCrash'>here</a> for more info. View Jupyter <a href='command:jupyter.viewOutput'>log</a> for further details."
     ]
    }
   ],
   "source": [
    "review_path = './data/Yelp/review.json'\n",
    "# Leer JSON\n",
    "df = pd.read_json(review_path, lines=True)\n",
    "# Almacenar en formato parquet, en el mismo directorio\n",
    "#df.to_parquet(review_path.replace('.json', '.parquet'))  # se cambia sufijo '.json' a '.parquet'"
   ]
  },
  {
   "cell_type": "markdown",
   "metadata": {},
   "source": [
    "### `tip.json`"
   ]
  },
  {
   "cell_type": "code",
   "execution_count": 3,
   "metadata": {},
   "outputs": [],
   "source": [
    "tip_path = './data/Yelp/tip.json'\n",
    "# Leer JSON\n",
    "df = pd.read_json(tip_path, lines=True)\n",
    "# Almacenar en formato parquet, en el mismo directorio\n",
    "df.to_parquet(tip_path.replace('.json', '.parquet'))  # se cambia sufijo '.json' a '.parquet'"
   ]
  },
  {
   "cell_type": "markdown",
   "metadata": {},
   "source": [
    "### `user.parquet`"
   ]
  },
  {
   "cell_type": "code",
   "execution_count": null,
   "metadata": {},
   "outputs": [],
   "source": [
    "user_df = pd.read_parquet('./data/Yelp/user.parquet')\n",
    "user_df.sample(2)"
   ]
  },
  {
   "cell_type": "markdown",
   "metadata": {},
   "source": [
    "---\n",
    "## Dataset Google"
   ]
  },
  {
   "cell_type": "markdown",
   "metadata": {},
   "source": [
    "### `metadata-sitios/`"
   ]
  },
  {
   "cell_type": "code",
   "execution_count": null,
   "metadata": {},
   "outputs": [],
   "source": [
    "# Crear lista de JSON en /metadata-sitios/\n",
    "review_jsons = glob('./data/Google/metadata-sitios/*')\n",
    "review_jsons"
   ]
  },
  {
   "cell_type": "code",
   "execution_count": null,
   "metadata": {},
   "outputs": [],
   "source": [
    "## Convertir archivos JSON, en /metadata-sitios/, a parquet\n",
    "# Iterar por cada JSON dentro de /metadata-sitios/\n",
    "for f_json in review_jsons:\n",
    "    # Leer JSON\n",
    "    df = pd.read_json(f_json, lines=True)\n",
    "    # Almacenar en formato parquet, en el mismo directorio\n",
    "    df.to_parquet(f_json.replace('.json', '.parquet'))  # se cambia sufijo '.json' a '.parquet'"
   ]
  },
  {
   "cell_type": "markdown",
   "metadata": {},
   "source": [
    "### `reviews-estados/`"
   ]
  },
  {
   "cell_type": "code",
   "execution_count": null,
   "metadata": {},
   "outputs": [],
   "source": [
    "# Lista de directorios en /reviews-estados/\n",
    "review_dirs = glob('./data/Google/reviews-estados/*.json')\n",
    "review_dirs"
   ]
  },
  {
   "cell_type": "code",
   "execution_count": null,
   "metadata": {},
   "outputs": [],
   "source": [
    "## Convertir archivos JSON, en todo directorio dentro de /reviews-estados/, a parquet\n",
    "# Iterar por cada directorio dentro de /reviews-estados/\n",
    "for path_dir in review_dirs:\n",
    "    # Craer lista de JSON dentro de 'path_dir'\n",
    "    path_jsons = glob(f'{path_dir}/*.json')\n",
    "    # Iterar por cada JSON dentro de 'path_jsons'\n",
    "    for f_json in path_jsons:\n",
    "        # Leer JSON\n",
    "        df = pd.read_json(f_json, lines=True)\n",
    "        # Almacenar en formato parquet, en el mismo directorio,\n",
    "        # cambiando el nombre del archivo (de .json a .parquet)\n",
    "        df.to_parquet(f_json.replace('.json', '.parquet'))  # se cambia sufijo '.json' a '.parquet'"
   ]
  }
 ],
 "metadata": {
  "kernelspec": {
   "display_name": "py311",
   "language": "python",
   "name": "python3"
  },
  "language_info": {
   "codemirror_mode": {
    "name": "ipython",
    "version": 3
   },
   "file_extension": ".py",
   "mimetype": "text/x-python",
   "name": "python",
   "nbconvert_exporter": "python",
   "pygments_lexer": "ipython3",
   "version": "3.11.4"
  },
  "orig_nbformat": 4
 },
 "nbformat": 4,
 "nbformat_minor": 2
}
