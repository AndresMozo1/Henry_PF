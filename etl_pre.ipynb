{
 "cells": [
  {
   "cell_type": "code",
   "execution_count": 1,
   "metadata": {},
   "outputs": [],
   "source": [
    "from glob import glob\n",
    "import warnings\n",
    "import pandas as pd"
   ]
  },
  {
   "cell_type": "code",
   "execution_count": null,
   "metadata": {},
   "outputs": [],
   "source": [
    "# Opción para ignorar advertencias\n",
    "warnings.filterwarnings('ignore')\n",
    "# Opción que deshabilitaa el limite de columnas mostradas\n",
    "pd.set_option('display.max_columns', None)"
   ]
  },
  {
   "cell_type": "markdown",
   "metadata": {},
   "source": [
    "---\n",
    "## Dataset Yelp"
   ]
  },
  {
   "cell_type": "markdown",
   "metadata": {},
   "source": [
    "### `business.pkl`"
   ]
  },
  {
   "cell_type": "code",
   "execution_count": null,
   "metadata": {},
   "outputs": [],
   "source": [
    "business_path = './data/Yelp/business.pkl'\n",
    "# Leer pkl (pickle)\n",
    "df = pd.read_pickle(business_path)\n",
    "df.sample(2)"
   ]
  },
  {
   "cell_type": "markdown",
   "metadata": {},
   "source": [
    "* Se observan columnas con nombres duplicados. Hay que unir estas columns."
   ]
  },
  {
   "cell_type": "code",
   "execution_count": null,
   "metadata": {},
   "outputs": [],
   "source": [
    "# Calcular la cantida de columns dividida por 2\n",
    "punto_medio = len(df.columns) // 2\n",
    "# Dividir el dataframe por mitad, a largo de las columns,\n",
    "# utilizando el punto_medio calculado\n",
    "df_1er_mitad = df.iloc[:, :punto_medio]\n",
    "df_2nd_mitad = df.iloc[:, punto_medio:]\n",
    "# Unir los dataframes resultantes\n",
    "df_reorganizado = pd.concat([df_1er_mitad, df_2nd_mitad], axis=0)\n",
    "df_reorganizado.sample(2)"
   ]
  },
  {
   "cell_type": "code",
   "execution_count": null,
   "metadata": {},
   "outputs": [],
   "source": [
    "# Eliminar filas con todo nulos\n",
    "df_reorganizado.dropna(axis=0, how='all', inplace=True)"
   ]
  },
  {
   "cell_type": "code",
   "execution_count": null,
   "metadata": {},
   "outputs": [],
   "source": [
    "# Almacenar en formato parquet, en el mismo directorio de 'business_path'\n",
    "df_reorganizado.to_parquet(business_path.replace('.pkl', '.parquet'))  # se cambia sufijo '.pkl' a '.parquet'"
   ]
  },
  {
   "cell_type": "markdown",
   "metadata": {},
   "source": [
    "### `checkin.json`"
   ]
  },
  {
   "cell_type": "code",
   "execution_count": null,
   "metadata": {},
   "outputs": [],
   "source": [
    "checkin_path = './data/Yelp/checkin.json'\n",
    "# Leer JSON\n",
    "df = pd.read_json(checkin_path, lines=True)\n",
    "# Almacenar en formato parquet, en el mismo directorio\n",
    "df.to_parquet(checkin_path.replace('.json', '.parquet'))  # se cambia sufijo '.json' a '.parquet'"
   ]
  },
  {
   "cell_type": "markdown",
   "metadata": {},
   "source": [
    "### `review.json`"
   ]
  },
  {
   "cell_type": "markdown",
   "metadata": {},
   "source": [
    "! Transformacion no posible en este ambiente"
   ]
  },
  {
   "cell_type": "code",
   "execution_count": null,
   "metadata": {},
   "outputs": [],
   "source": [
    "#review_path = './data/Yelp/review.json'Merge de parquets\n",
    "# Leer JSON\n",
    "#df = pd.read_json(review_path, lines=True)\n",
    "# Almacenar en formato parquet, en el mismo directorio\n",
    "#df.to_parquet(review_path.replace('.json', '.parquet'))  # se cambia sufijo '.json' a '.parquet'"
   ]
  },
  {
   "cell_type": "code",
   "execution_count": null,
   "metadata": {},
   "outputs": [],
   "source": [
    "#from pyarrow import json\n",
    "#import pyarrow.parquet as pq\n",
    "\n",
    "#review_path = './data/Yelp/review.json'\n",
    "# Leer JSON como tabla parquet\n",
    "#tabla = json.read_json(review_path)\n",
    "# Almacenar en formato parquet, en el mismo directorio\n",
    "#pq.write_table(tabla, review_path.replace('.json', '.parquet'))"
   ]
  },
  {
   "cell_type": "markdown",
   "metadata": {},
   "source": [
    "### `tip.json`"
   ]
  },
  {
   "cell_type": "code",
   "execution_count": null,
   "metadata": {},
   "outputs": [],
   "source": [
    "tip_path = './data/Yelp/tip.json'\n",
    "# Leer JSON\n",
    "df = pd.read_json(tip_path, lines=True)\n",
    "# Almacenar en formato parquet, en el mismo directorio\n",
    "df.to_parquet(tip_path.replace('.json', '.parquet'))  # se cambia sufijo '.json' a '.parquet'Merge de parquets"
   ]
  },
  {
   "cell_type": "markdown",
   "metadata": {},
   "source": [
    "### `user.parquet`"
   ]
  },
  {
   "cell_type": "code",
   "execution_count": null,
   "metadata": {},
   "outputs": [],
   "source": [
    "user_df = pd.read_parquet('./data/Yelp/user.parquet')\n",
    "user_df.sample(2)"
   ]
  },
  {
   "cell_type": "markdown",
   "metadata": {},
   "source": [
    "---\n",
    "## Dataset Google"
   ]
  },
  {
   "cell_type": "markdown",
   "metadata": {},
   "source": [
    "### `metadata-sitios/`"
   ]
  },
  {
   "cell_type": "code",
   "execution_count": null,
   "metadata": {},
   "outputs": [],
   "source": [
    "# Crear lista de JSON en /metadata-sitios/\n",
    "review_jsons = glob('./data/Google/metadata-sitios/*')\n",
    "review_jsons"
   ]
  },
  {
   "cell_type": "code",
   "execution_count": null,
   "metadata": {},
   "outputs": [],
   "source": [
    "## Convertir archivos JSON, en /metadata-sitios/, a parquet\n",
    "# Iterar por cada JSON dentro de /metadata-sitios/\n",
    "for f_json in review_jsons:\n",
    "    # Leer JSON\n",
    "    df = pd.read_json(f_json, lines=True)\n",
    "    # Almacenar en formato parquet, en el mismo directorio\n",
    "    df.to_parquet(f_json.replace('.json', '.parquet'))  # se cambia sufijo '.json' a '.parquet'"
   ]
  },
  {
   "cell_type": "markdown",
   "metadata": {},
   "source": [
    "### `reviews-estados/`"
   ]
  },
  {
   "cell_type": "code",
   "execution_count": null,
   "metadata": {},
   "outputs": [],
   "source": [
    "# Lista de directorios en /reviews-estados/\n",
    "review_dirs = glob('./data/Google/reviews-estados/*.json')\n",
    "review_dirs"
   ]
  },
  {
   "cell_type": "code",
   "execution_count": null,
   "metadata": {},
   "outputs": [],
   "source": [
    "## Convertir archivos JSON, en todo directorio dentro de /reviews-estados/, a parquet\n",
    "# Iterar por cada directorio dentro de /reviews-estados/\n",
    "for path_dir in review_dirs:\n",
    "    # Craer lista de JSON dentro de 'path_dir'\n",
    "    path_jsons = glob(f'{path_dir}/*.json')\n",
    "    # Iterar por cada JSON dentro de 'path_jsons'\n",
    "    for f_json in path_jsons:\n",
    "        # Leer JSON\n",
    "        df = pd.read_json(f_json, lines=True)\n",
    "        # Almacenar en formato parquet, en el mismo directorio,\n",
    "        # cambiando el nombre del archivo (de .json a .parquet)\n",
    "        df.to_parquet(f_json.replace('.json', '.parquet'))  # se cambia sufijo '.json' a '.parquet'"
   ]
  },
  {
   "cell_type": "markdown",
   "metadata": {},
   "source": [
    "---\n",
    "## Merge de parquets\n",
    "Los parquets del dataset de Google estan fragmentados. Se uniran en seguida."
   ]
  },
  {
   "cell_type": "code",
   "execution_count": 2,
   "metadata": {},
   "outputs": [
    {
     "data": {
      "text/plain": [
       "['./data/Google/metadata-sitios/10.parquet',\n",
       " './data/Google/metadata-sitios/2.parquet',\n",
       " './data/Google/metadata-sitios/6.parquet',\n",
       " './data/Google/metadata-sitios/1.parquet',\n",
       " './data/Google/metadata-sitios/3.parquet',\n",
       " './data/Google/metadata-sitios/9.parquet',\n",
       " './data/Google/metadata-sitios/4.parquet',\n",
       " './data/Google/metadata-sitios/11.parquet',\n",
       " './data/Google/metadata-sitios/5.parquet',\n",
       " './data/Google/metadata-sitios/7.parquet',\n",
       " './data/Google/metadata-sitios/8.parquet']"
      ]
     },
     "execution_count": 2,
     "metadata": {},
     "output_type": "execute_result"
    }
   ],
   "source": [
    "# Crear lista de JSON en /metadata-sitios/\n",
    "review_parquets = glob('./data/Google/metadata-sitios/*.parquet')\n",
    "review_parquets"
   ]
  },
  {
   "cell_type": "code",
   "execution_count": null,
   "metadata": {},
   "outputs": [],
   "source": [
    "## Unir los archivos parquet, en /metadata-sitios/\n",
    "# Iterar por cada parquet dentro de /metadata-sitios/\n",
    "for f_pq in review_parquets:\n",
    "    pass  # pendiente"
   ]
  },
  {
   "cell_type": "markdown",
   "metadata": {},
   "source": [
    "---\n",
    "## Tranformacion a CSV para visualizar"
   ]
  },
  {
   "cell_type": "markdown",
   "metadata": {},
   "source": [
    "Nota: para dataset Yelp, faltaria `review.json`"
   ]
  },
  {
   "cell_type": "code",
   "execution_count": null,
   "metadata": {},
   "outputs": [],
   "source": [
    "business_path = './data/Yelp/business.parquet'\n",
    "# Leer parquet\n",
    "df = pd.read_parquet(business_path)\n",
    "# Almacenar como CSV, un ejemplar de 100 filas\n",
    "df.sample(100).to_csv(f'./data_csv/yelp_{business_path.split(\"/\")[-1].replace(\".parquet\",\"\")}.csv')"
   ]
  },
  {
   "cell_type": "code",
   "execution_count": null,
   "metadata": {},
   "outputs": [],
   "source": [
    "checkin_path = './data/Yelp/checkin.parquet'\n",
    "# Leer parquet\n",
    "df = pd.read_parquet(checkin_path)\n",
    "# Almacenar como CSV, un ejemplar de 100 filas\n",
    "df.sample(100).to_csv(f'./data_csv/yelp_{checkin_path.split(\"/\")[-1].replace(\".parquet\",\"\")}.csv')"
   ]
  },
  {
   "cell_type": "code",
   "execution_count": null,
   "metadata": {},
   "outputs": [],
   "source": [
    "tip_path = './data/Yelp/tip.parquet'\n",
    "# Leer parquet\n",
    "df = pd.read_parquet(tip_path)\n",
    "# Almacenar como CSV, un ejemplar de 100 filas\n",
    "df.sample(100).to_csv(f'./data_csv/yelp_{tip_path.split(\"/\")[-1].replace(\".parquet\",\"\")}.csv')"
   ]
  },
  {
   "cell_type": "code",
   "execution_count": 3,
   "metadata": {},
   "outputs": [],
   "source": [
    "user_path = './data/Yelp/user.parquet'\n",
    "# Leer parquet\n",
    "df = pd.read_parquet(user_path)\n",
    "df.sample(100).to_csv(f'./data_csv/yelp_{user_path.split(\"/\")[-1].replace(\".parquet\",\"\")}.csv')"
   ]
  }
 ],
 "metadata": {
  "kernelspec": {
   "display_name": "py311",
   "language": "python",
   "name": "python3"
  },
  "language_info": {
   "codemirror_mode": {
    "name": "ipython",
    "version": 3
   },
   "file_extension": ".py",
   "mimetype": "text/x-python",
   "name": "python",
   "nbconvert_exporter": "python",
   "pygments_lexer": "ipython3",
   "version": "3.11.4"
  },
  "orig_nbformat": 4
 },
 "nbformat": 4,
 "nbformat_minor": 2
}
