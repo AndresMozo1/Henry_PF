{
 "cells": [
  {
   "cell_type": "markdown",
   "metadata": {},
   "source": [
    "## Test de LLM"
   ]
  },
  {
   "cell_type": "markdown",
   "metadata": {},
   "source": [
    "### Prueba de uso de modelos LLM"
   ]
  },
  {
   "cell_type": "code",
   "execution_count": 3,
   "metadata": {},
   "outputs": [],
   "source": [
    "import pandas as pd\n",
    "\n",
    "# Opción que deshabilita el limite de columnas y filas mostradas\n",
    "pd.set_option('display.max_columns', None)\n",
    "pd.set_option('display.max_rows', None)\n",
    "\n",
    "df = pd.read_parquet('y_review_CLEAN.parquet')\n",
    "df = df[['name', 'text']]"
   ]
  },
  {
   "cell_type": "code",
   "execution_count": 4,
   "metadata": {},
   "outputs": [],
   "source": [
    "df = df.sample(4)"
   ]
  },
  {
   "cell_type": "markdown",
   "metadata": {},
   "source": [
    "---\n",
    "#### version Q5"
   ]
  },
  {
   "cell_type": "code",
   "execution_count": 11,
   "metadata": {},
   "outputs": [
    {
     "data": {
      "application/vnd.jupyter.widget-view+json": {
       "model_id": "d53a3934efaf4bbab2213de61fe6699c",
       "version_major": 2,
       "version_minor": 0
      },
      "text/plain": [
       "Fetching 1 files:   0%|          | 0/1 [00:00<?, ?it/s]"
      ]
     },
     "metadata": {},
     "output_type": "display_data"
    },
    {
     "data": {
      "application/vnd.jupyter.widget-view+json": {
       "model_id": "007fc8f7bd354d929e0a3d78c6907f80",
       "version_major": 2,
       "version_minor": 0
      },
      "text/plain": [
       "Fetching 1 files:   0%|          | 0/1 [00:00<?, ?it/s]"
      ]
     },
     "metadata": {},
     "output_type": "display_data"
    }
   ],
   "source": [
    "from ctransformers import AutoModelForCausalLM\n",
    "\n",
    "model_Q5 = AutoModelForCausalLM.from_pretrained(\"TheBloke/Mistral-7B-OpenOrca-GGUF\", \n",
    "                                        model_file=\"mistral-7b-openorca.Q5_K_M.gguf\",\n",
    "                                        model_type=\"mistral\",\n",
    "                                        max_new_tokens=256,\n",
    "                                        reset=True,\n",
    "                                        gpu_layers=600\n",
    "                                        )"
   ]
  },
  {
   "cell_type": "code",
   "execution_count": 12,
   "metadata": {},
   "outputs": [],
   "source": [
    "def get_prompt(review):\n",
    "    prompt = f\"\"\"\n",
    "    You are a humble restaurant manager that uses casual language. \n",
    "    You are talking to a customer. Do not call customer by their name. \n",
    "    With a short one sentence, reply to this Yelp review posted by the customer: \n",
    "    {review}\n",
    "    \"\"\"\n",
    "    return prompt"
   ]
  },
  {
   "cell_type": "code",
   "execution_count": 13,
   "metadata": {},
   "outputs": [
    {
     "name": "stdout",
     "output_type": "stream",
     "text": [
      "\n",
      "\n",
      ">>> Review:\n",
      "No photos....sorry....family was hungry.\n",
      "\n",
      "Cool Mellow Mushroom vibe as always....cool greeters and cool waitress.\n",
      "\n",
      "Wife had a Caesar salad and I had a Greek salad. Both were good with fresh ingredients. Use Yelp app to unlock a free salad.\n",
      "\n",
      "Kids ordered a medium pepperoni and wife and I shared the house special (every meat and veggie from the kitchen). Both pizzas were delicious.\n",
      "\n",
      ">>> Reply: \n",
      "\n",
      "    \"Thank you for your feedback! We're glad you enjoyed your meal with us.\"\n",
      "\n",
      ">>> Review:\n",
      "Rick's Boatyard is a favorite destination for pilots who can land at Eagle Creek Airport and simply walk across the street to enjoy a great burger.\n",
      "\n",
      "Pilots call a burger you fly to a $100 Hamburger and Rick's burger was recently included in the Top 10 list of $100 Hamburgers of 2009, so I had to check it out.\n",
      "\n",
      "I am surprised to read all the low ratings on Yelp.  My experience with Rick's Boatyard was great.  We enjoyed sitting on the patio and I enjoyed a great hamburger while taking in a beautiful view of the Eagle Creek Reservoir.\n",
      "\n",
      ">>> Reply: \n",
      "\n",
      "    \"Thanks for stopping by, buddy! We always appreciate our pilots and are glad you had a great time here.\"\n",
      "\n",
      ">>> Review:\n",
      "The older woman that works here is completely miserable. \n",
      "\n",
      "She is completely miserable towards customers.\n",
      "\n",
      "It's very uncomfortable.\n",
      "\n",
      ">>> Reply: \n",
      "\n",
      "\n",
      "\n",
      ">>> Review:\n",
      "Place was great. The manager and staff were all friendly. Had the chargrilled oysters and alligator bites. Was pretty dang good... the only reason I gave a 4 star which is minor but the upstairs bathroom was challenging. , super tiny stall .\n",
      "\n",
      ">>> Reply: \n",
      "\n",
      "    Here's a suggested reply:\n",
      "    \"Hey there, glad you enjoyed our place and found the team helpful. Definitely take into account any space restriction issue; as per bathroom it indeed seems that. Hoping everything was other than satisfactory.\""
     ]
    }
   ],
   "source": [
    "reviews = df['text'].tolist()\n",
    "\n",
    "for review in reviews:\n",
    "    print(f'\\n\\n>>> Review:\\n{review}\\n\\n>>> Reply: ')\n",
    "\n",
    "    for text in model_Q5(get_prompt(review), stream=True):\n",
    "        print(text, end=\"\", flush=True)"
   ]
  }
 ],
 "metadata": {
  "kernelspec": {
   "display_name": "env-pf",
   "language": "python",
   "name": "python3"
  },
  "language_info": {
   "codemirror_mode": {
    "name": "ipython",
    "version": 3
   },
   "file_extension": ".py",
   "mimetype": "text/x-python",
   "name": "python",
   "nbconvert_exporter": "python",
   "pygments_lexer": "ipython3",
   "version": "3.10.14"
  }
 },
 "nbformat": 4,
 "nbformat_minor": 2
}
