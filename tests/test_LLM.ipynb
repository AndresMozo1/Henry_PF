{
 "cells": [
  {
   "cell_type": "markdown",
   "metadata": {},
   "source": [
    "## Test de LLM"
   ]
  },
  {
   "cell_type": "markdown",
   "metadata": {},
   "source": [
    "### Prueba de uso de modelos LLM"
   ]
  },
  {
   "cell_type": "markdown",
   "metadata": {},
   "source": [
    "Dataframe ejemplar"
   ]
  },
  {
   "cell_type": "code",
   "execution_count": null,
   "metadata": {},
   "outputs": [],
   "source": [
    "import pandas as pd"
   ]
  },
  {
   "cell_type": "code",
   "execution_count": null,
   "metadata": {},
   "outputs": [],
   "source": [
    "# Opción que deshabilita el limite de columnas y filas mostradas\n",
    "pd.set_option('display.max_columns', None)\n",
    "pd.set_option('display.max_rows', None)"
   ]
  },
  {
   "cell_type": "code",
   "execution_count": null,
   "metadata": {},
   "outputs": [],
   "source": [
    "# Sample dataframe\n",
    "df = pd.DataFrame({\n",
    "    'reviews': [\n",
    "        \"I loved the quick service and friendly staff!\",\n",
    "        \"The food did not meet my expectations.\"\n",
    "    ]\n",
    "})"
   ]
  },
  {
   "cell_type": "code",
   "execution_count": null,
   "metadata": {},
   "outputs": [],
   "source": [
    "df = pd.read_parquet('y_review_CLEAN.parquet')"
   ]
  },
  {
   "cell_type": "code",
   "execution_count": null,
   "metadata": {},
   "outputs": [],
   "source": [
    "df = df[['name', 'text']]"
   ]
  },
  {
   "cell_type": "code",
   "execution_count": null,
   "metadata": {},
   "outputs": [],
   "source": [
    "df = df.sample(2)\n",
    "df['respuesta'] = None\n",
    "df"
   ]
  },
  {
   "cell_type": "markdown",
   "metadata": {},
   "source": [
    "---\n",
    "#### version Q5"
   ]
  },
  {
   "cell_type": "code",
   "execution_count": null,
   "metadata": {},
   "outputs": [],
   "source": [
    "from ctransformers import AutoModelForCausalLM\n",
    "\n",
    "model_Q5 = AutoModelForCausalLM.from_pretrained(\"TheBloke/Mistral-7B-OpenOrca-GGUF\", \n",
    "                                           model_file=\"mistral-7b-openorca.Q5_K_M.gguf\",\n",
    "                                           model_type=\"mistral\",\n",
    "                                           gpu_layers=0\n",
    "                                           )"
   ]
  },
  {
   "cell_type": "code",
   "execution_count": null,
   "metadata": {},
   "outputs": [],
   "source": [
    "from ctransformers import AutoModelForCausalLM\n",
    "\n",
    "def get_model():\n",
    "    model_Q5 = AutoModelForCausalLM.from_pretrained(\"TheBloke/Mistral-7B-OpenOrca-GGUF\", \n",
    "                                           model_file=\"mistral-7b-openorca.Q5_K_M.gguf\",\n",
    "                                           model_type=\"mistral\",\n",
    "                                           gpu_layers=0\n",
    "                                           )\n",
    "    return model_Q5"
   ]
  },
  {
   "cell_type": "code",
   "execution_count": null,
   "metadata": {},
   "outputs": [],
   "source": [
    "def generar_respuesta_Q5(review: str) -> str:\n",
    "    prompt = f\"\"\"You are a humble restaurant manager that uses casual language. \n",
    "    You never give an explanation regarding the text you output. \n",
    "    Write a very short one sentence reply to the customer regarding this review: {review}\n",
    "    \"\"\"\n",
    "    model_Q5 = get_model()\n",
    "    return model_Q5(prompt)"
   ]
  },
  {
   "cell_type": "code",
   "execution_count": null,
   "metadata": {},
   "outputs": [],
   "source": [
    "# Generar respuestas en nueva columna\n",
    "df['respuesta'] = df['text'].apply(lambda x: generar_respuesta_Q5(x))"
   ]
  },
  {
   "cell_type": "code",
   "execution_count": null,
   "metadata": {},
   "outputs": [],
   "source": [
    "df"
   ]
  },
  {
   "cell_type": "code",
   "execution_count": null,
   "metadata": {},
   "outputs": [],
   "source": [
    "# Imprimir resultados\n",
    "for i in df.index:\n",
    "    print(f\"Review: {df['text'][i]}\\nReply: {df['respuesta'][i]}\\n\\n\")"
   ]
  },
  {
   "cell_type": "markdown",
   "metadata": {},
   "source": [
    "---\n",
    "#### version Q4"
   ]
  },
  {
   "cell_type": "code",
   "execution_count": null,
   "metadata": {},
   "outputs": [],
   "source": [
    "from ctransformers import AutoModelForCausalLM\n",
    "\n",
    "model_Q4 = AutoModelForCausalLM.from_pretrained(\"TheBloke/Mistral-7B-OpenOrca-GGUF\", \n",
    "                                           model_file=\"mistral-7b-openorca.Q4_K_M.gguf\",\n",
    "                                           model_type=\"mistral\",\n",
    "                                           gpu_layers=0\n",
    "                                           )"
   ]
  },
  {
   "cell_type": "code",
   "execution_count": null,
   "metadata": {},
   "outputs": [],
   "source": [
    "def generar_respuesta_Q4(review: str) -> str:\n",
    "    prompt = f\"\"\"You are a humble restaurant manager that uses casual language. \n",
    "    You never give an explanation regarding the text you output. \n",
    "    Write a very short one sentence reply to the customer regarding this review: {review}\n",
    "    \"\"\"\n",
    "    return model_Q4(prompt)"
   ]
  },
  {
   "cell_type": "code",
   "execution_count": null,
   "metadata": {},
   "outputs": [],
   "source": [
    "# Generar respuestas en nueva columna\n",
    "df['respuesta'] = df['reviews'].apply(generar_respuesta_Q4)\n",
    "\n",
    "# Imprimir resultados\n",
    "for i in df.index:\n",
    "    print(f\"{df['reviews'][i] = }\\n{df['respuesta'][i] = }\\n\\n\")"
   ]
  },
  {
   "cell_type": "markdown",
   "metadata": {},
   "source": [
    "---\n",
    "#### version Q2"
   ]
  },
  {
   "cell_type": "code",
   "execution_count": null,
   "metadata": {},
   "outputs": [],
   "source": [
    "from ctransformers import AutoModelForCausalLM\n",
    "\n",
    "model_Q2 = AutoModelForCausalLM.from_pretrained(\"TheBloke/Mistral-7B-OpenOrca-GGUF\", \n",
    "                                           model_file=\"mistral-7b-openorca.Q2_K.gguf\",\n",
    "                                           model_type=\"mistral\",\n",
    "                                           gpu_layers=0\n",
    "                                           )"
   ]
  },
  {
   "cell_type": "code",
   "execution_count": null,
   "metadata": {},
   "outputs": [],
   "source": [
    "def generar_respuesta_Q2(review: str) -> str:\n",
    "    prompt = f\"\"\"You are a humble restaurant manager that uses casual language. \n",
    "    You never give an explanation regarding the text you output. \n",
    "    Write a very short one sentence reply to the customer regarding this review: {review}\n",
    "    \"\"\"\n",
    "    return model_Q2(prompt)"
   ]
  },
  {
   "cell_type": "code",
   "execution_count": null,
   "metadata": {},
   "outputs": [],
   "source": [
    "# Generar respuestas en nueva columna\n",
    "df['respuesta'] = df['reviews'].apply(generar_respuesta_Q2)\n",
    "\n",
    "# Imprimir resultados\n",
    "for i in df.index:\n",
    "    print(f\"{df['reviews'][i] = }\\n{df['respuesta'][i] = }\\n\\n\")"
   ]
  }
 ],
 "metadata": {
  "kernelspec": {
   "display_name": "env-pf",
   "language": "python",
   "name": "python3"
  },
  "language_info": {
   "codemirror_mode": {
    "name": "ipython",
    "version": 3
   },
   "file_extension": ".py",
   "mimetype": "text/x-python",
   "name": "python",
   "nbconvert_exporter": "python",
   "pygments_lexer": "ipython3",
   "version": "3.10.12"
  }
 },
 "nbformat": 4,
 "nbformat_minor": 2
}
