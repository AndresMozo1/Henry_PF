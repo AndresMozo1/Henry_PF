{
 "cells": [
  {
   "cell_type": "markdown",
   "metadata": {},
   "source": [
    "## Test de LLM"
   ]
  },
  {
   "cell_type": "markdown",
   "metadata": {},
   "source": [
    "### Prueba de uso de modelos LLM"
   ]
  },
  {
   "cell_type": "markdown",
   "metadata": {},
   "source": [
    "Dataframe ejemplar"
   ]
  },
  {
   "cell_type": "code",
   "execution_count": 1,
   "metadata": {},
   "outputs": [],
   "source": [
    "import pandas as pd"
   ]
  },
  {
   "cell_type": "code",
   "execution_count": 2,
   "metadata": {},
   "outputs": [],
   "source": [
    "# Sample dataframe\n",
    "df = pd.DataFrame({\n",
    "    'reviews': [\n",
    "        \"I loved the quick service and friendly staff!\",\n",
    "        \"The food did not meet my expectations.\"\n",
    "    ]\n",
    "})"
   ]
  },
  {
   "cell_type": "markdown",
   "metadata": {},
   "source": [
    "---\n",
    "#### version Q5"
   ]
  },
  {
   "cell_type": "code",
   "execution_count": 3,
   "metadata": {},
   "outputs": [
    {
     "data": {
      "application/vnd.jupyter.widget-view+json": {
       "model_id": "a7a5db3714e5440dbe583e52a66aa50d",
       "version_major": 2,
       "version_minor": 0
      },
      "text/plain": [
       "Fetching 1 files:   0%|          | 0/1 [00:00<?, ?it/s]"
      ]
     },
     "metadata": {},
     "output_type": "display_data"
    },
    {
     "data": {
      "application/vnd.jupyter.widget-view+json": {
       "model_id": "0746bc01f4dd4ea49b8894d2dcad77c8",
       "version_major": 2,
       "version_minor": 0
      },
      "text/plain": [
       "Fetching 1 files:   0%|          | 0/1 [00:00<?, ?it/s]"
      ]
     },
     "metadata": {},
     "output_type": "display_data"
    }
   ],
   "source": [
    "from ctransformers import AutoModelForCausalLM\n",
    "\n",
    "model_Q5 = AutoModelForCausalLM.from_pretrained(\"TheBloke/Mistral-7B-OpenOrca-GGUF\", \n",
    "                                           model_file=\"mistral-7b-openorca.Q5_K_M.gguf\",\n",
    "                                           model_type=\"mistral\",\n",
    "                                           gpu_layers=0\n",
    "                                           )"
   ]
  },
  {
   "cell_type": "code",
   "execution_count": 4,
   "metadata": {},
   "outputs": [],
   "source": [
    "#prompt = f\"\"\"You are an restaurant manager that uses casual language and does not explain your reply. \n",
    "#Write a one sentence casual reply to the customer regarding this review: {review}"
   ]
  },
  {
   "cell_type": "code",
   "execution_count": 5,
   "metadata": {},
   "outputs": [],
   "source": [
    "def generar_respuesta_Q5(review: str) -> str:\n",
    "    prompt = f\"\"\"You are a restaurant manager that uses casual language and does not explain your reply. \n",
    "    Write a one sentence casual reply to the customer regarding this review: {review}\n",
    "    \"\"\"\n",
    "    return model_Q5(prompt)"
   ]
  },
  {
   "cell_type": "code",
   "execution_count": 6,
   "metadata": {},
   "outputs": [
    {
     "name": "stdout",
     "output_type": "stream",
     "text": [
      "df['reviews'][i] = 'I loved the quick service and friendly staff!'\n",
      "df['respuesta'][i] = \"\\n    I absolutely understand where you're comingin with those sentiments, and it makes me happy to hear that our team is doing their part to ensure speedy service and creating a warm atmosphere for all of our guests. Let’s keep spreading the love!\"\n",
      "\n",
      "\n",
      "df['reviews'][i] = 'The food did not meet my expectations.'\n",
      "df['respuesta'][i] = '\\n\"Hey, I\\'m sorry to hear that our food didn\\'t live up to your expectations. We\\'re always working on improving our menu and would appreciate any feedback you might have.\"'\n",
      "\n",
      "\n"
     ]
    }
   ],
   "source": [
    "# Generar respuestas en nueva columna\n",
    "df['respuesta'] = df['reviews'].apply(generar_respuesta_Q5)\n",
    "\n",
    "# Imprimir resultados\n",
    "for i in df.index:\n",
    "    print(f\"{df['reviews'][i] = }\\n{df['respuesta'][i] = }\\n\\n\")"
   ]
  },
  {
   "cell_type": "markdown",
   "metadata": {},
   "source": [
    "---\n",
    "#### version Q4"
   ]
  },
  {
   "cell_type": "code",
   "execution_count": 7,
   "metadata": {},
   "outputs": [
    {
     "data": {
      "application/vnd.jupyter.widget-view+json": {
       "model_id": "9cfa677d9b834884a4d07ca71d5d6301",
       "version_major": 2,
       "version_minor": 0
      },
      "text/plain": [
       "Fetching 1 files:   0%|          | 0/1 [00:00<?, ?it/s]"
      ]
     },
     "metadata": {},
     "output_type": "display_data"
    },
    {
     "data": {
      "application/vnd.jupyter.widget-view+json": {
       "model_id": "2e9325b230d840cca2e752ba2f0c6ac2",
       "version_major": 2,
       "version_minor": 0
      },
      "text/plain": [
       "Fetching 1 files:   0%|          | 0/1 [00:00<?, ?it/s]"
      ]
     },
     "metadata": {},
     "output_type": "display_data"
    }
   ],
   "source": [
    "from ctransformers import AutoModelForCausalLM\n",
    "\n",
    "model_Q4 = AutoModelForCausalLM.from_pretrained(\"TheBloke/Mistral-7B-OpenOrca-GGUF\", \n",
    "                                           model_file=\"mistral-7b-openorca.Q4_K_M.gguf\",\n",
    "                                           model_type=\"mistral\",\n",
    "                                           gpu_layers=0\n",
    "                                           )"
   ]
  },
  {
   "cell_type": "code",
   "execution_count": 8,
   "metadata": {},
   "outputs": [],
   "source": [
    "def generar_respuesta_Q4(review: str) -> str:\n",
    "    prompt = f\"\"\"You are a restaurant manager that uses casual language and does not explain your reply. \n",
    "    Write a one sentence casual reply to the customer regarding this review: {review}\n",
    "    \"\"\"\n",
    "    return model_Q4(prompt)"
   ]
  },
  {
   "cell_type": "code",
   "execution_count": 9,
   "metadata": {},
   "outputs": [
    {
     "name": "stdout",
     "output_type": "stream",
     "text": [
      "df['reviews'][i] = 'I loved the quick service and friendly staff!'\n",
      "df['respuesta'][i] = '\\n    \"We\\'re glad you had a great experience with our speedy service and welcoming team, thank you for the kind words!\"'\n",
      "\n",
      "\n",
      "df['reviews'][i] = 'The food did not meet my expectations.'\n",
      "df['respuesta'][i] = '\\nReply: \"Oh, I\\'m sorry to hear that our meal wasn\\'t as tasty as you hoped! We\\'ll do our best to make sure the next time is more enjoyable for you.\"'\n",
      "\n",
      "\n"
     ]
    }
   ],
   "source": [
    "# Generar respuestas en nueva columna\n",
    "df['respuesta'] = df['reviews'].apply(generar_respuesta_Q4)\n",
    "\n",
    "# Imprimir resultados\n",
    "for i in df.index:\n",
    "    print(f\"{df['reviews'][i] = }\\n{df['respuesta'][i] = }\\n\\n\")"
   ]
  },
  {
   "cell_type": "markdown",
   "metadata": {},
   "source": [
    "---\n",
    "#### version Q2"
   ]
  },
  {
   "cell_type": "code",
   "execution_count": 10,
   "metadata": {},
   "outputs": [
    {
     "data": {
      "application/vnd.jupyter.widget-view+json": {
       "model_id": "609a2ef68c9f407e8d99e3a3472df407",
       "version_major": 2,
       "version_minor": 0
      },
      "text/plain": [
       "Fetching 1 files:   0%|          | 0/1 [00:00<?, ?it/s]"
      ]
     },
     "metadata": {},
     "output_type": "display_data"
    },
    {
     "data": {
      "application/vnd.jupyter.widget-view+json": {
       "model_id": "1d32763155034b579a98fe00ec60db5e",
       "version_major": 2,
       "version_minor": 0
      },
      "text/plain": [
       "Fetching 1 files:   0%|          | 0/1 [00:00<?, ?it/s]"
      ]
     },
     "metadata": {},
     "output_type": "display_data"
    }
   ],
   "source": [
    "from ctransformers import AutoModelForCausalLM\n",
    "\n",
    "model_Q2 = AutoModelForCausalLM.from_pretrained(\"TheBloke/Mistral-7B-OpenOrca-GGUF\", \n",
    "                                           model_file=\"mistral-7b-openorca.Q2_K.gguf\",\n",
    "                                           model_type=\"mistral\",\n",
    "                                           gpu_layers=0\n",
    "                                           )"
   ]
  },
  {
   "cell_type": "code",
   "execution_count": 11,
   "metadata": {},
   "outputs": [],
   "source": [
    "def generar_respuesta_Q2(review: str) -> str:\n",
    "    prompt = f\"\"\"You are a restaurant manager that uses casual language and does not explain your reply. \n",
    "    Write a one sentence casual reply to the customer regarding this review: {review}\n",
    "    \"\"\"\n",
    "    return model_Q2(prompt)"
   ]
  },
  {
   "cell_type": "code",
   "execution_count": 12,
   "metadata": {},
   "outputs": [],
   "source": [
    "# Generar respuestas en nueva columna\n",
    "df['respuesta'] = df['reviews'].apply(generar_respuesta_Q2)\n",
    "\n",
    "# Imprimir resultados\n",
    "for i in df.index:\n",
    "    print(f\"{df['reviews'][i] = }\\n{df['respuesta'][i] = }\\n\\n\")"
   ]
  }
 ],
 "metadata": {
  "kernelspec": {
   "display_name": "env-pf",
   "language": "python",
   "name": "python3"
  },
  "language_info": {
   "codemirror_mode": {
    "name": "ipython",
    "version": 3
   },
   "file_extension": ".py",
   "mimetype": "text/x-python",
   "name": "python",
   "nbconvert_exporter": "python",
   "pygments_lexer": "ipython3",
   "version": "3.10.12"
  }
 },
 "nbformat": 4,
 "nbformat_minor": 2
}
