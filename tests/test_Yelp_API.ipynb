{
 "cells": [
  {
   "cell_type": "code",
   "execution_count": 2,
   "metadata": {},
   "outputs": [],
   "source": [
    "import warnings\n",
    "\n",
    "warnings.filterwarnings('ignore')"
   ]
  },
  {
   "cell_type": "code",
   "execution_count": 10,
   "metadata": {},
   "outputs": [],
   "source": [
    "from rapidfuzz import process, fuzz\n",
    "import pandas as pd\n",
    "\n",
    "# Funcion que implementa busqueda 'fuzzy' en textos\n",
    "def fuzzy_match(x, match_to, threshold=90):\n",
    "    match, score, _ = process.extractOne(x, match_to, scorer=fuzz.WRatio)\n",
    "    return match if score >= threshold else None"
   ]
  },
  {
   "cell_type": "code",
   "execution_count": 12,
   "metadata": {},
   "outputs": [],
   "source": [
    "# Diccionario de marcas de Darden y competidores\n",
    "brands = {\n",
    "    # Darden brands\n",
    "    'darden': [\n",
    "        \"Olive Garden Italian Restaurant\",\n",
    "        \"Olive Garden\",\n",
    "        \"LongHorn Steakhouse\",\n",
    "        \"Cheddar's Scratch Kitchen\",\n",
    "        \"Yard House\",\n",
    "        \"The Capital Grille\",  # no esta en el dataset\n",
    "        \"Seasons 52\",\n",
    "        \"Bahama Breeze\",\n",
    "        \"Eddie V's\",  # no esta en el dataset\n",
    "        \"Ruth's Chris Steak House\"\n",
    "    ],\n",
    "    # Bloomin brands\n",
    "    'bloomin': [\n",
    "        \"Outback Steakhouse\",\n",
    "        \"Carrabba's Italian Grill\",\n",
    "        \"Bonefish Grill\",\n",
    "        \"Fleming's Prime Steakhouse & Wine Bar\",\n",
    "        \"Aussie Grill\",\n",
    "        \"Aussie Grill - \"\n",
    "    ],\n",
    "    # Brinker brands\n",
    "    'brinker': [\n",
    "        \"Chili's\",  # aparece con 2 nombres distintos\n",
    "        \"Chili's Grill & Bar\",  # aparece con 2 nombres distintos\n",
    "        \"Maggiano's Little Italy\",\n",
    "        \"It's Just Wings\"\n",
    "    ],\n",
    "    # Texas Roadhouse brands\n",
    "    'texasroadhouse': [\n",
    "        \"Texas Roadhouse\",\n",
    "        \"Bubba's 33\",\n",
    "        #\"Jaggers\"  # Fast food, excluir?   ####\n",
    "    ]\n",
    "}"
   ]
  },
  {
   "cell_type": "code",
   "execution_count": 6,
   "metadata": {},
   "outputs": [],
   "source": [
    "df_business = pd.read_parquet('../data/clean/y_business.parquet')\n",
    "\n",
    "lista_brands = [brand for lista in brands.values() for brand in lista]"
   ]
  },
  {
   "cell_type": "code",
   "execution_count": 13,
   "metadata": {},
   "outputs": [
    {
     "data": {
      "text/plain": [
       "name\n",
       "Chili's                                  15\n",
       "Outback Steakhouse                       12\n",
       "Olive Garden Italian Restaurant          11\n",
       "LongHorn Steakhouse                       9\n",
       "Bonefish Grill                            8\n",
       "Texas Roadhouse                           6\n",
       "Carrabba's Italian Grill                  5\n",
       "Maggiano's Little Italy                   2\n",
       "Bahama Breeze                             2\n",
       "Seasons 52                                2\n",
       "Yard House                                2\n",
       "Cheddar's Scratch Kitchen                 2\n",
       "Ruth's Chris Steak House                  2\n",
       "Aussie Grill - Brandon                    1\n",
       "Aussie Grill                              1\n",
       "Fleming’s Prime Steakhouse & Wine Bar     1\n",
       "Aussie Grill by Outback                   1\n",
       "Eddie V's Prime Seafood                   1\n",
       "It's Just Wings                           1\n",
       "Aussie Grill - Clearwater                 1\n",
       "Name: count, dtype: int64"
      ]
     },
     "execution_count": 13,
     "metadata": {},
     "output_type": "execute_result"
    }
   ],
   "source": [
    "# Aplicar fuzzy matching para Darden\n",
    "df_business['name_match'] = df_business['name'].apply(fuzzy_match, match_to=lista_brands)\n",
    "# Filtrar nulos (donde nulo representa no-match)\n",
    "df_darden_y_comp = df_business[df_business['name_match'].notnull()]\n",
    "df_darden_y_comp.drop(columns=['name_match'], inplace=True)\n",
    "df_darden_y_comp['name'].value_counts()"
   ]
  },
  {
   "cell_type": "code",
   "execution_count": 31,
   "metadata": {},
   "outputs": [
    {
     "data": {
      "text/html": [
       "<div>\n",
       "<style scoped>\n",
       "    .dataframe tbody tr th:only-of-type {\n",
       "        vertical-align: middle;\n",
       "    }\n",
       "\n",
       "    .dataframe tbody tr th {\n",
       "        vertical-align: top;\n",
       "    }\n",
       "\n",
       "    .dataframe thead th {\n",
       "        text-align: right;\n",
       "    }\n",
       "</style>\n",
       "<table border=\"1\" class=\"dataframe\">\n",
       "  <thead>\n",
       "    <tr style=\"text-align: right;\">\n",
       "      <th></th>\n",
       "      <th>name</th>\n",
       "      <th>business_id</th>\n",
       "      <th>city</th>\n",
       "      <th>state</th>\n",
       "      <th>postal_code</th>\n",
       "      <th>coordinates</th>\n",
       "    </tr>\n",
       "  </thead>\n",
       "  <tbody>\n",
       "    <tr>\n",
       "      <th>1093</th>\n",
       "      <td>Texas Roadhouse</td>\n",
       "      <td>T9n_LqUUhC2b1ALhg57Y5Q</td>\n",
       "      <td>Bensalem</td>\n",
       "      <td>PA</td>\n",
       "      <td>19020</td>\n",
       "      <td>40.09165,-74.93997</td>\n",
       "    </tr>\n",
       "    <tr>\n",
       "      <th>2597</th>\n",
       "      <td>LongHorn Steakhouse</td>\n",
       "      <td>CS_GzUYlEPa6QHTRY224wQ</td>\n",
       "      <td>Norristown</td>\n",
       "      <td>FL</td>\n",
       "      <td>19403</td>\n",
       "      <td>40.1274771937,-75.4040751479</td>\n",
       "    </tr>\n",
       "    <tr>\n",
       "      <th>3454</th>\n",
       "      <td>Chili's</td>\n",
       "      <td>y3iKFTk_sgIXCT6fNcBn_Q</td>\n",
       "      <td>Tampa</td>\n",
       "      <td>PA</td>\n",
       "      <td>33612</td>\n",
       "      <td>28.0550259,-82.4280458</td>\n",
       "    </tr>\n",
       "    <tr>\n",
       "      <th>6085</th>\n",
       "      <td>Outback Steakhouse</td>\n",
       "      <td>U0ICWpbd1C0GD9SpIv3bSA</td>\n",
       "      <td>Brandon</td>\n",
       "      <td>NJ</td>\n",
       "      <td>33511</td>\n",
       "      <td>27.9384740106,-82.3183461208</td>\n",
       "    </tr>\n",
       "    <tr>\n",
       "      <th>7736</th>\n",
       "      <td>Aussie Grill by Outback</td>\n",
       "      <td>P3GeRGkqeW-uL4yT-kuGtw</td>\n",
       "      <td>Tampa</td>\n",
       "      <td>FL</td>\n",
       "      <td>33607</td>\n",
       "      <td>27.965651,-82.521205</td>\n",
       "    </tr>\n",
       "    <tr>\n",
       "      <th>...</th>\n",
       "      <td>...</td>\n",
       "      <td>...</td>\n",
       "      <td>...</td>\n",
       "      <td>...</td>\n",
       "      <td>...</td>\n",
       "      <td>...</td>\n",
       "    </tr>\n",
       "    <tr>\n",
       "      <th>146717</th>\n",
       "      <td>Chili's</td>\n",
       "      <td>jTCBK1BS8O_Iy9N0vL88uw</td>\n",
       "      <td>Fairless Hills</td>\n",
       "      <td>PA</td>\n",
       "      <td>19030</td>\n",
       "      <td>40.1858497,-74.8680285</td>\n",
       "    </tr>\n",
       "    <tr>\n",
       "      <th>147397</th>\n",
       "      <td>Chili's</td>\n",
       "      <td>U50T86i8wyNWGWxsP7GIRw</td>\n",
       "      <td>Philadelphia</td>\n",
       "      <td>NJ</td>\n",
       "      <td>19150</td>\n",
       "      <td>40.074768681,-75.1579621104</td>\n",
       "    </tr>\n",
       "    <tr>\n",
       "      <th>147799</th>\n",
       "      <td>Olive Garden Italian Restaurant</td>\n",
       "      <td>baxAe39nPgmAhkNwqvoHnQ</td>\n",
       "      <td>Tampa</td>\n",
       "      <td>FL</td>\n",
       "      <td>33625</td>\n",
       "      <td>28.065588,-82.574715</td>\n",
       "    </tr>\n",
       "    <tr>\n",
       "      <th>148253</th>\n",
       "      <td>Carrabba's Italian Grill</td>\n",
       "      <td>TiywUz1q7Yw8JL4daD4fKQ</td>\n",
       "      <td>Bensalem</td>\n",
       "      <td>DE</td>\n",
       "      <td>19020</td>\n",
       "      <td>40.1153418721,-74.9590072</td>\n",
       "    </tr>\n",
       "    <tr>\n",
       "      <th>148459</th>\n",
       "      <td>Bonefish Grill</td>\n",
       "      <td>N8vvl_dRa0R9ooJqWFJ4GQ</td>\n",
       "      <td>Brandon</td>\n",
       "      <td>FL</td>\n",
       "      <td>33511</td>\n",
       "      <td>27.9220038,-82.3179405</td>\n",
       "    </tr>\n",
       "  </tbody>\n",
       "</table>\n",
       "<p>85 rows × 6 columns</p>\n",
       "</div>"
      ],
      "text/plain": [
       "                                   name             business_id  \\\n",
       "1093                    Texas Roadhouse  T9n_LqUUhC2b1ALhg57Y5Q   \n",
       "2597                LongHorn Steakhouse  CS_GzUYlEPa6QHTRY224wQ   \n",
       "3454                            Chili's  y3iKFTk_sgIXCT6fNcBn_Q   \n",
       "6085                 Outback Steakhouse  U0ICWpbd1C0GD9SpIv3bSA   \n",
       "7736            Aussie Grill by Outback  P3GeRGkqeW-uL4yT-kuGtw   \n",
       "...                                 ...                     ...   \n",
       "146717                          Chili's  jTCBK1BS8O_Iy9N0vL88uw   \n",
       "147397                          Chili's  U50T86i8wyNWGWxsP7GIRw   \n",
       "147799  Olive Garden Italian Restaurant  baxAe39nPgmAhkNwqvoHnQ   \n",
       "148253         Carrabba's Italian Grill  TiywUz1q7Yw8JL4daD4fKQ   \n",
       "148459                   Bonefish Grill  N8vvl_dRa0R9ooJqWFJ4GQ   \n",
       "\n",
       "                  city state postal_code                   coordinates  \n",
       "1093          Bensalem    PA       19020            40.09165,-74.93997  \n",
       "2597        Norristown    FL       19403  40.1274771937,-75.4040751479  \n",
       "3454             Tampa    PA       33612        28.0550259,-82.4280458  \n",
       "6085           Brandon    NJ       33511  27.9384740106,-82.3183461208  \n",
       "7736             Tampa    FL       33607          27.965651,-82.521205  \n",
       "...                ...   ...         ...                           ...  \n",
       "146717  Fairless Hills    PA       19030        40.1858497,-74.8680285  \n",
       "147397    Philadelphia    NJ       19150   40.074768681,-75.1579621104  \n",
       "147799           Tampa    FL       33625          28.065588,-82.574715  \n",
       "148253        Bensalem    DE       19020     40.1153418721,-74.9590072  \n",
       "148459         Brandon    FL       33511        27.9220038,-82.3179405  \n",
       "\n",
       "[85 rows x 6 columns]"
      ]
     },
     "execution_count": 31,
     "metadata": {},
     "output_type": "execute_result"
    }
   ],
   "source": [
    "#### TESTING, remove .sample() in prod\n",
    "\n",
    "cols_para_merge_reviews = ['name', 'business_id', 'city', 'state', 'postal_code', 'coordinates']\n",
    "\n",
    "business_filtrado = df_darden_y_comp[cols_para_merge_reviews]  ####  remove .sample()\n",
    "####business_ids = df_darden_y_comp[cols_para_merge_reviews]\n",
    "business_filtrado"
   ]
  },
  {
   "cell_type": "code",
   "execution_count": 18,
   "metadata": {},
   "outputs": [],
   "source": [
    "import requests\n",
    "\n",
    "# Your Yelp Fusion API key\n",
    "API_KEY = \"\"\n",
    "\n",
    "def get_yelp_reviews(business_id):\n",
    "    \"\"\"\n",
    "    \"\"\"\n",
    "    url = f'https://api.yelp.com/v3/businesses/{business_id}/reviews?limit=50&sort_by=yelp_sort'\n",
    "    headers = {'Authorization': f'Bearer {API_KEY}'}\n",
    "\n",
    "    respuesta = requests.get(url, headers=headers)\n",
    "\n",
    "    if respuesta.status_code == 200:\n",
    "        # Leer archivo de respuesta JSON \n",
    "        reviews_data = respuesta.json()\n",
    "        # Extraer `reviews`\n",
    "        reviews = reviews_data['reviews']\n",
    "        return reviews\n",
    "        \n",
    "    elif respuesta.status_code == 429:\n",
    "        return \"ACCESS_LIMIT_REACHED\"\n",
    "    \n",
    "    else:\n",
    "        print(f'Error: {respuesta.status_code}')\n"
   ]
  },
  {
   "cell_type": "code",
   "execution_count": 32,
   "metadata": {},
   "outputs": [
    {
     "data": {
      "text/plain": [
       "'T9n_LqUUhC2b1ALhg57Y5Q'"
      ]
     },
     "execution_count": 32,
     "metadata": {},
     "output_type": "execute_result"
    }
   ],
   "source": [
    "b_id = business_filtrado['business_id'].iat[0]\n",
    "b_id"
   ]
  },
  {
   "cell_type": "code",
   "execution_count": 20,
   "metadata": {},
   "outputs": [
    {
     "name": "stdout",
     "output_type": "stream",
     "text": [
      "{'id': '6AKeEcA8-v3n_sf3NkOpYA', 'url': 'https://www.yelp.com/biz/bahama-breeze-tampa-2?adjust_creative=HyPG4wMfXQKDAtlq7HpPvw&hrid=6AKeEcA8-v3n_sf3NkOpYA&utm_campaign=yelp_api_v3&utm_medium=api_v3_business_reviews&utm_source=HyPG4wMfXQKDAtlq7HpPvw', 'text': 'Food, service AND atmosphere were amazing!!\\n\\nAfter spending two weeks in Florida, we decided to spend our last night out here and no regrets! Everything...', 'rating': 5, 'time_created': '2024-04-25 09:55:55', 'user': {'id': 'LihIHTVGZl_qQhWen0VxkQ', 'profile_url': 'https://www.yelp.com/user_details?userid=LihIHTVGZl_qQhWen0VxkQ', 'image_url': None, 'name': 'Erin S.'}}\n",
      "{'id': 'tXz3p0txwlJPSc_bTBGrqw', 'url': 'https://www.yelp.com/biz/bahama-breeze-tampa-2?adjust_creative=HyPG4wMfXQKDAtlq7HpPvw&hrid=tXz3p0txwlJPSc_bTBGrqw&utm_campaign=yelp_api_v3&utm_medium=api_v3_business_reviews&utm_source=HyPG4wMfXQKDAtlq7HpPvw', 'text': 'Okay, first thing first. This place is loud and crowded (Sunday evening). I was lucky that I was by myself and got a seat at the bar. However I got a beer,...', 'rating': 5, 'time_created': '2024-05-05 17:49:00', 'user': {'id': 'evIhFEjjaVp8T3m9Fsa0IA', 'profile_url': 'https://www.yelp.com/user_details?userid=evIhFEjjaVp8T3m9Fsa0IA', 'image_url': 'https://s3-media1.fl.yelpcdn.com/photo/avadpEcJ6nXNcWa-A3PmTQ/o.jpg', 'name': 'Alex C.'}}\n",
      "{'id': 'uXQStUuGhE43HolP81BgyQ', 'url': 'https://www.yelp.com/biz/bahama-breeze-tampa-2?adjust_creative=HyPG4wMfXQKDAtlq7HpPvw&hrid=uXQStUuGhE43HolP81BgyQ&utm_campaign=yelp_api_v3&utm_medium=api_v3_business_reviews&utm_source=HyPG4wMfXQKDAtlq7HpPvw', 'text': \"I don't know which was better: the food or Sage, our server. \\n\\nI had a phenomenal non-alcoholic drink and the Jamaican dish with sweet plantains. Delicious....\", 'rating': 5, 'time_created': '2024-04-21 17:55:44', 'user': {'id': 'pWHkcCK7Iv4dB2_cvTfhEA', 'profile_url': 'https://www.yelp.com/user_details?userid=pWHkcCK7Iv4dB2_cvTfhEA', 'image_url': 'https://s3-media1.fl.yelpcdn.com/photo/PRTOqnVtBGdNb-CGOlAE-A/o.jpg', 'name': 'Dan K.'}}\n"
     ]
    }
   ],
   "source": [
    "reviews = get_yelp_reviews(b_id)\n",
    "\n",
    "for r in reviews:\n",
    "    print(r)"
   ]
  },
  {
   "cell_type": "code",
   "execution_count": 21,
   "metadata": {},
   "outputs": [
    {
     "data": {
      "text/plain": [
       "{'id': '6AKeEcA8-v3n_sf3NkOpYA',\n",
       " 'url': 'https://www.yelp.com/biz/bahama-breeze-tampa-2?adjust_creative=HyPG4wMfXQKDAtlq7HpPvw&hrid=6AKeEcA8-v3n_sf3NkOpYA&utm_campaign=yelp_api_v3&utm_medium=api_v3_business_reviews&utm_source=HyPG4wMfXQKDAtlq7HpPvw',\n",
       " 'text': 'Food, service AND atmosphere were amazing!!\\n\\nAfter spending two weeks in Florida, we decided to spend our last night out here and no regrets! Everything...',\n",
       " 'rating': 5,\n",
       " 'time_created': '2024-04-25 09:55:55',\n",
       " 'user': {'id': 'LihIHTVGZl_qQhWen0VxkQ',\n",
       "  'profile_url': 'https://www.yelp.com/user_details?userid=LihIHTVGZl_qQhWen0VxkQ',\n",
       "  'image_url': None,\n",
       "  'name': 'Erin S.'}}"
      ]
     },
     "execution_count": 21,
     "metadata": {},
     "output_type": "execute_result"
    }
   ],
   "source": [
    "reviews[0]"
   ]
  },
  {
   "cell_type": "code",
   "execution_count": 27,
   "metadata": {},
   "outputs": [
    {
     "data": {
      "text/html": [
       "<div>\n",
       "<style scoped>\n",
       "    .dataframe tbody tr th:only-of-type {\n",
       "        vertical-align: middle;\n",
       "    }\n",
       "\n",
       "    .dataframe tbody tr th {\n",
       "        vertical-align: top;\n",
       "    }\n",
       "\n",
       "    .dataframe thead th {\n",
       "        text-align: right;\n",
       "    }\n",
       "</style>\n",
       "<table border=\"1\" class=\"dataframe\">\n",
       "  <thead>\n",
       "    <tr style=\"text-align: right;\">\n",
       "      <th></th>\n",
       "      <th>name</th>\n",
       "      <th>review_id</th>\n",
       "      <th>user_id</th>\n",
       "      <th>business_id</th>\n",
       "      <th>stars</th>\n",
       "      <th>text</th>\n",
       "      <th>date</th>\n",
       "      <th>day</th>\n",
       "      <th>text_reply</th>\n",
       "      <th>city</th>\n",
       "      <th>state</th>\n",
       "      <th>postal_code</th>\n",
       "      <th>coordinates</th>\n",
       "    </tr>\n",
       "  </thead>\n",
       "  <tbody>\n",
       "    <tr>\n",
       "      <th>3648</th>\n",
       "      <td>LongHorn Steakhouse</td>\n",
       "      <td>aSfEDavM_aepvPZRnzdhjw</td>\n",
       "      <td>ao2DWGjcU2hhPNWcCXfK0w</td>\n",
       "      <td>epVHdJqIFN0dtAiFvnVJVg</td>\n",
       "      <td>1.0</td>\n",
       "      <td>This was the worst experience. I came here to ...</td>\n",
       "      <td>2018-08-17</td>\n",
       "      <td>Friday</td>\n",
       "      <td></td>\n",
       "      <td>Philadelphia</td>\n",
       "      <td>PA</td>\n",
       "      <td>19114</td>\n",
       "      <td>40.0844101,-75.0240676748</td>\n",
       "    </tr>\n",
       "  </tbody>\n",
       "</table>\n",
       "</div>"
      ],
      "text/plain": [
       "                     name               review_id                 user_id  \\\n",
       "3648  LongHorn Steakhouse  aSfEDavM_aepvPZRnzdhjw  ao2DWGjcU2hhPNWcCXfK0w   \n",
       "\n",
       "                 business_id  stars  \\\n",
       "3648  epVHdJqIFN0dtAiFvnVJVg    1.0   \n",
       "\n",
       "                                                   text        date     day  \\\n",
       "3648  This was the worst experience. I came here to ...  2018-08-17  Friday   \n",
       "\n",
       "     text_reply          city state postal_code                coordinates  \n",
       "3648             Philadelphia    PA       19114  40.0844101,-75.0240676748  "
      ]
     },
     "execution_count": 27,
     "metadata": {},
     "output_type": "execute_result"
    }
   ],
   "source": [
    "df_reviews = pd.read_parquet('../data/clean/reviews_darden.parquet')\n",
    "df_reviews.sample()"
   ]
  },
  {
   "cell_type": "code",
   "execution_count": 26,
   "metadata": {},
   "outputs": [
    {
     "data": {
      "text/plain": [
       "\"I don't know which was better: the food or Sage, our server.   I had a phenomenal non-alcoholic drink and the Jamaican dish with sweet plantains. Delicious....\""
      ]
     },
     "execution_count": 26,
     "metadata": {},
     "output_type": "execute_result"
    }
   ],
   "source": [
    "# Extraer datos de la respuesta API\n",
    "review_id = r['id']\n",
    "user_id = r['user']['id']\n",
    "stars = float(r['rating'])\n",
    "text = r['text'].replace('\\n', ' ')\n",
    "date = r['time_created']\n",
    "# Extraer dia de semana\n",
    "day = pd.to_datetime(r['time_created'])\n",
    "day_nombres = ['Monday', 'Tuesday', 'Wednesday', 'Thursday', 'Friday', 'Saturday', 'Sunday']\n",
    "day = day_nombres[day.dayofweek]\n",
    "\n",
    "nueva_fila_tabla_reviews = {\n",
    "    'name': ,\n",
    "    'review_id': review_id,\n",
    "    'user_id': user_id,\n",
    "    'business_id': ,\n",
    "    'stars': stars,\n",
    "    'text': text,\n",
    "    'date': date,\n",
    "    'day': day,\n",
    "    'city': ,\n",
    "    'state': ,\n",
    "    'postal_code': ,\n",
    "    'coordinates': \n",
    "}\n"
   ]
  }
 ],
 "metadata": {
  "kernelspec": {
   "display_name": "310",
   "language": "python",
   "name": "python3"
  },
  "language_info": {
   "codemirror_mode": {
    "name": "ipython",
    "version": 3
   },
   "file_extension": ".py",
   "mimetype": "text/x-python",
   "name": "python",
   "nbconvert_exporter": "python",
   "pygments_lexer": "ipython3",
   "version": "3.10.14"
  }
 },
 "nbformat": 4,
 "nbformat_minor": 2
}
