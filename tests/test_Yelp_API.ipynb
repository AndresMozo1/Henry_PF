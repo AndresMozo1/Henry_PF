{
 "cells": [
  {
   "cell_type": "code",
   "execution_count": 11,
   "metadata": {},
   "outputs": [],
   "source": [
    "import requests\n",
    "import pandas as pd"
   ]
  },
  {
   "cell_type": "code",
   "execution_count": 12,
   "metadata": {},
   "outputs": [],
   "source": [
    "API_KEY = \"\""
   ]
  },
  {
   "cell_type": "code",
   "execution_count": 13,
   "metadata": {},
   "outputs": [],
   "source": [
    "def get_yelp_reviews(business_id):\n",
    "    \"\"\"\n",
    "    \"\"\"\n",
    "    url = f'https://api.yelp.com/v3/businesses/{business_id}/reviews?limit=50&sort_by=yelp_sort'\n",
    "    headers = {'Authorization': f'Bearer {API_KEY}'}\n",
    "\n",
    "    respuesta = requests.get(url, headers=headers)\n",
    "\n",
    "    if respuesta.status_code == 200:\n",
    "        # Leer archivo de respuesta JSON \n",
    "        reviews_data = respuesta.json()\n",
    "        # Extraer `reviews`\n",
    "        reviews = reviews_data['reviews']\n",
    "        return reviews\n",
    "    else:\n",
    "        return None"
   ]
  },
  {
   "cell_type": "code",
   "execution_count": 35,
   "metadata": {},
   "outputs": [],
   "source": [
    "df_darden_y_comp = pd.read_pickle('../data/df_darden_y_comp.pickle')"
   ]
  },
  {
   "cell_type": "code",
   "execution_count": 29,
   "metadata": {},
   "outputs": [],
   "source": [
    "business_ids = df_darden_y_comp['business_id'].tolist()"
   ]
  },
  {
   "cell_type": "code",
   "execution_count": 30,
   "metadata": {},
   "outputs": [
    {
     "data": {
      "text/plain": [
       "'nSptExAJO8atirMyZbBh1g'"
      ]
     },
     "execution_count": 30,
     "metadata": {},
     "output_type": "execute_result"
    }
   ],
   "source": [
    "b_id = business_ids[0]\n",
    "b_id"
   ]
  },
  {
   "cell_type": "code",
   "execution_count": 31,
   "metadata": {},
   "outputs": [
    {
     "data": {
      "text/html": [
       "<div>\n",
       "<style scoped>\n",
       "    .dataframe tbody tr th:only-of-type {\n",
       "        vertical-align: middle;\n",
       "    }\n",
       "\n",
       "    .dataframe tbody tr th {\n",
       "        vertical-align: top;\n",
       "    }\n",
       "\n",
       "    .dataframe thead th {\n",
       "        text-align: right;\n",
       "    }\n",
       "</style>\n",
       "<table border=\"1\" class=\"dataframe\">\n",
       "  <thead>\n",
       "    <tr style=\"text-align: right;\">\n",
       "      <th></th>\n",
       "      <th>business_id</th>\n",
       "      <th>review_id</th>\n",
       "      <th>user_id</th>\n",
       "      <th>stars</th>\n",
       "      <th>text</th>\n",
       "      <th>date</th>\n",
       "      <th>day</th>\n",
       "    </tr>\n",
       "  </thead>\n",
       "  <tbody>\n",
       "    <tr>\n",
       "      <th>0</th>\n",
       "      <td>nSptExAJO8atirMyZbBh1g</td>\n",
       "      <td>iUAZI9MSxsGV-4dMlph00g</td>\n",
       "      <td>qNcAN156WU_Ojr3yisCQxQ</td>\n",
       "      <td>1.0</td>\n",
       "      <td>Where do I begin. Don't eat here. First of all...</td>\n",
       "      <td>2024-04-20 12:30:09</td>\n",
       "      <td>Saturday</td>\n",
       "    </tr>\n",
       "    <tr>\n",
       "      <th>1</th>\n",
       "      <td>nSptExAJO8atirMyZbBh1g</td>\n",
       "      <td>jQIJNGIgBxkxhN2QSmQn4g</td>\n",
       "      <td>IiWcavXt0uCwQdiOaBh_XA</td>\n",
       "      <td>1.0</td>\n",
       "      <td>We were seated rather quickly.  Our table was ...</td>\n",
       "      <td>2023-07-07 05:24:19</td>\n",
       "      <td>Friday</td>\n",
       "    </tr>\n",
       "    <tr>\n",
       "      <th>2</th>\n",
       "      <td>nSptExAJO8atirMyZbBh1g</td>\n",
       "      <td>dwEo7u4UkGi3-Kb7bBG55w</td>\n",
       "      <td>bi76Ih6tRv-ghYWFCJ0dag</td>\n",
       "      <td>3.0</td>\n",
       "      <td>Not bad. Came at 5:30 on a weeknight. The plac...</td>\n",
       "      <td>2023-01-05 17:13:35</td>\n",
       "      <td>Thursday</td>\n",
       "    </tr>\n",
       "  </tbody>\n",
       "</table>\n",
       "</div>"
      ],
      "text/plain": [
       "              business_id               review_id                 user_id  \\\n",
       "0  nSptExAJO8atirMyZbBh1g  iUAZI9MSxsGV-4dMlph00g  qNcAN156WU_Ojr3yisCQxQ   \n",
       "1  nSptExAJO8atirMyZbBh1g  jQIJNGIgBxkxhN2QSmQn4g  IiWcavXt0uCwQdiOaBh_XA   \n",
       "2  nSptExAJO8atirMyZbBh1g  dwEo7u4UkGi3-Kb7bBG55w  bi76Ih6tRv-ghYWFCJ0dag   \n",
       "\n",
       "   stars                                               text  \\\n",
       "0    1.0  Where do I begin. Don't eat here. First of all...   \n",
       "1    1.0  We were seated rather quickly.  Our table was ...   \n",
       "2    3.0  Not bad. Came at 5:30 on a weeknight. The plac...   \n",
       "\n",
       "                  date       day  \n",
       "0  2024-04-20 12:30:09  Saturday  \n",
       "1  2023-07-07 05:24:19    Friday  \n",
       "2  2023-01-05 17:13:35  Thursday  "
      ]
     },
     "execution_count": 31,
     "metadata": {},
     "output_type": "execute_result"
    }
   ],
   "source": [
    "df_api_reviews = pd.DataFrame()\n",
    "\n",
    "#for b_id in business_ids:\n",
    "reviews = get_yelp_reviews(b_id)\n",
    "# sleep(), rate limit\n",
    "\n",
    "for i, r in enumerate(reviews):\n",
    "    # Parse dia de la semana\n",
    "    day = pd.to_datetime(r['time_created'])\n",
    "    day_nombres = ['Monday', 'Tuesday', 'Wednesday', 'Thursday', 'Friday', 'Saturday', 'Sunday']\n",
    "\n",
    "    review = {\n",
    "    'business_id': b_id,\n",
    "    'review_id': r['id'],\n",
    "    'user_id': r['user']['id'],\n",
    "    'stars': float(r['rating']),\n",
    "    'text': r['text'],\n",
    "    'date': r['time_created'],\n",
    "    'day': day_nombres[day.dayofweek]\n",
    "    }\n",
    "\n",
    "    df_api_reviews = pd.concat([df_api_reviews, pd.DataFrame(review, index=[i])])\n",
    "\n",
    "df_api_reviews"
   ]
  },
  {
   "cell_type": "code",
   "execution_count": 36,
   "metadata": {},
   "outputs": [],
   "source": [
    "df = df_api_reviews.merge(df_darden_y_comp, on='business_id')"
   ]
  },
  {
   "cell_type": "code",
   "execution_count": 37,
   "metadata": {},
   "outputs": [
    {
     "data": {
      "text/html": [
       "<div>\n",
       "<style scoped>\n",
       "    .dataframe tbody tr th:only-of-type {\n",
       "        vertical-align: middle;\n",
       "    }\n",
       "\n",
       "    .dataframe tbody tr th {\n",
       "        vertical-align: top;\n",
       "    }\n",
       "\n",
       "    .dataframe thead th {\n",
       "        text-align: right;\n",
       "    }\n",
       "</style>\n",
       "<table border=\"1\" class=\"dataframe\">\n",
       "  <thead>\n",
       "    <tr style=\"text-align: right;\">\n",
       "      <th></th>\n",
       "      <th>business_id</th>\n",
       "      <th>review_id</th>\n",
       "      <th>user_id</th>\n",
       "      <th>stars</th>\n",
       "      <th>text</th>\n",
       "      <th>date</th>\n",
       "      <th>day</th>\n",
       "      <th>name</th>\n",
       "      <th>city</th>\n",
       "      <th>state</th>\n",
       "      <th>postal_code</th>\n",
       "      <th>coordinates</th>\n",
       "      <th>company</th>\n",
       "    </tr>\n",
       "  </thead>\n",
       "  <tbody>\n",
       "    <tr>\n",
       "      <th>0</th>\n",
       "      <td>nSptExAJO8atirMyZbBh1g</td>\n",
       "      <td>iUAZI9MSxsGV-4dMlph00g</td>\n",
       "      <td>qNcAN156WU_Ojr3yisCQxQ</td>\n",
       "      <td>1.0</td>\n",
       "      <td>Where do I begin. Don't eat here. First of all...</td>\n",
       "      <td>2024-04-20 12:30:09</td>\n",
       "      <td>Saturday</td>\n",
       "      <td>Chili's</td>\n",
       "      <td>Mount Laurel</td>\n",
       "      <td>FL</td>\n",
       "      <td>08054</td>\n",
       "      <td>39.923307,-74.9517928</td>\n",
       "      <td>brinker</td>\n",
       "    </tr>\n",
       "    <tr>\n",
       "      <th>1</th>\n",
       "      <td>nSptExAJO8atirMyZbBh1g</td>\n",
       "      <td>jQIJNGIgBxkxhN2QSmQn4g</td>\n",
       "      <td>IiWcavXt0uCwQdiOaBh_XA</td>\n",
       "      <td>1.0</td>\n",
       "      <td>We were seated rather quickly.  Our table was ...</td>\n",
       "      <td>2023-07-07 05:24:19</td>\n",
       "      <td>Friday</td>\n",
       "      <td>Chili's</td>\n",
       "      <td>Mount Laurel</td>\n",
       "      <td>FL</td>\n",
       "      <td>08054</td>\n",
       "      <td>39.923307,-74.9517928</td>\n",
       "      <td>brinker</td>\n",
       "    </tr>\n",
       "    <tr>\n",
       "      <th>2</th>\n",
       "      <td>nSptExAJO8atirMyZbBh1g</td>\n",
       "      <td>dwEo7u4UkGi3-Kb7bBG55w</td>\n",
       "      <td>bi76Ih6tRv-ghYWFCJ0dag</td>\n",
       "      <td>3.0</td>\n",
       "      <td>Not bad. Came at 5:30 on a weeknight. The plac...</td>\n",
       "      <td>2023-01-05 17:13:35</td>\n",
       "      <td>Thursday</td>\n",
       "      <td>Chili's</td>\n",
       "      <td>Mount Laurel</td>\n",
       "      <td>FL</td>\n",
       "      <td>08054</td>\n",
       "      <td>39.923307,-74.9517928</td>\n",
       "      <td>brinker</td>\n",
       "    </tr>\n",
       "  </tbody>\n",
       "</table>\n",
       "</div>"
      ],
      "text/plain": [
       "              business_id               review_id                 user_id  \\\n",
       "0  nSptExAJO8atirMyZbBh1g  iUAZI9MSxsGV-4dMlph00g  qNcAN156WU_Ojr3yisCQxQ   \n",
       "1  nSptExAJO8atirMyZbBh1g  jQIJNGIgBxkxhN2QSmQn4g  IiWcavXt0uCwQdiOaBh_XA   \n",
       "2  nSptExAJO8atirMyZbBh1g  dwEo7u4UkGi3-Kb7bBG55w  bi76Ih6tRv-ghYWFCJ0dag   \n",
       "\n",
       "   stars                                               text  \\\n",
       "0    1.0  Where do I begin. Don't eat here. First of all...   \n",
       "1    1.0  We were seated rather quickly.  Our table was ...   \n",
       "2    3.0  Not bad. Came at 5:30 on a weeknight. The plac...   \n",
       "\n",
       "                  date       day     name          city state postal_code  \\\n",
       "0  2024-04-20 12:30:09  Saturday  Chili's  Mount Laurel    FL       08054   \n",
       "1  2023-07-07 05:24:19    Friday  Chili's  Mount Laurel    FL       08054   \n",
       "2  2023-01-05 17:13:35  Thursday  Chili's  Mount Laurel    FL       08054   \n",
       "\n",
       "             coordinates  company  \n",
       "0  39.923307,-74.9517928  brinker  \n",
       "1  39.923307,-74.9517928  brinker  \n",
       "2  39.923307,-74.9517928  brinker  "
      ]
     },
     "execution_count": 37,
     "metadata": {},
     "output_type": "execute_result"
    }
   ],
   "source": [
    "df"
   ]
  },
  {
   "cell_type": "code",
   "execution_count": 54,
   "metadata": {},
   "outputs": [
    {
     "data": {
      "text/plain": [
       "dict_keys(['brinker', 'darden', 'bloomin', 'texasroadhouse'])"
      ]
     },
     "execution_count": 54,
     "metadata": {},
     "output_type": "execute_result"
    }
   ],
   "source": [
    "df = df_darden_y_comp\n",
    "company_unicos = df['company'].dropna().unique()\n",
    "\n",
    "dfs = {}\n",
    "for company in company_unicos:\n",
    "    dfs[company] = df[df_darden_y_comp['company'] == company].drop('company', axis=1)\n",
    "\n",
    "dfs.keys()"
   ]
  },
  {
   "cell_type": "code",
   "execution_count": 56,
   "metadata": {},
   "outputs": [
    {
     "name": "stdout",
     "output_type": "stream",
     "text": [
      "reviews_brinker\n",
      "reviews_darden\n",
      "reviews_bloomin\n",
      "reviews_texasroadhouse\n"
     ]
    }
   ],
   "source": [
    "tabla = 'reviews_'\n",
    "\n",
    "\n",
    "for company, df in dfs.items():\n",
    "    tabla = 'reviews_' + company\n",
    "    print(tabla)"
   ]
  }
 ],
 "metadata": {
  "kernelspec": {
   "display_name": "310",
   "language": "python",
   "name": "python3"
  },
  "language_info": {
   "codemirror_mode": {
    "name": "ipython",
    "version": 3
   },
   "file_extension": ".py",
   "mimetype": "text/x-python",
   "name": "python",
   "nbconvert_exporter": "python",
   "pygments_lexer": "ipython3",
   "version": "3.10.12"
  }
 },
 "nbformat": 4,
 "nbformat_minor": 2
}
