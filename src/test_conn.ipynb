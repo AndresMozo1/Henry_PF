{
 "cells": [
  {
   "cell_type": "code",
   "execution_count": 6,
   "metadata": {},
   "outputs": [],
   "source": [
    "from sqlalchemy import create_engine, MetaData"
   ]
  },
  {
   "cell_type": "markdown",
   "metadata": {},
   "source": [
    "---\n",
    "## Conexión a BigQuery"
   ]
  },
  {
   "cell_type": "code",
   "execution_count": 7,
   "metadata": {},
   "outputs": [],
   "source": [
    "# Nombres del proyecto y dataset en Google Cloud\n",
    "project_id = 'coastal-height-421718'\n",
    "dataset = 'Yelp_Google'"
   ]
  },
  {
   "cell_type": "code",
   "execution_count": 8,
   "metadata": {},
   "outputs": [],
   "source": [
    "# Crear motor de conexión\n",
    "db_uri = f'bigquery://{project_id}/{dataset}'\n",
    "engine = create_engine(db_uri)"
   ]
  },
  {
   "cell_type": "markdown",
   "metadata": {},
   "source": [
    "### Tests de conexión"
   ]
  },
  {
   "cell_type": "code",
   "execution_count": 9,
   "metadata": {},
   "outputs": [
    {
     "name": "stdout",
     "output_type": "stream",
     "text": [
      "y_business\n",
      "y_business_attrib\n",
      "y_checkin\n",
      "y_review\n",
      "y_tip\n",
      "y_user\n"
     ]
    }
   ],
   "source": [
    "metadata = MetaData()\n",
    "# Cargar las tablas del dataset\n",
    "metadata.reflect(bind=engine)\n",
    "# Imprimir nombre de todo tabla\n",
    "for nom_tabla in metadata.tables:\n",
    "    print(nom_tabla)"
   ]
  },
  {
   "cell_type": "markdown",
   "metadata": {},
   "source": [
    "### Query ejemplo: Reviews de Olive Garden"
   ]
  },
  {
   "cell_type": "markdown",
   "metadata": {},
   "source": [
    "Cargamos un dict con los nombres de cadenas de Darden y sus competidores."
   ]
  },
  {
   "cell_type": "code",
   "execution_count": 10,
   "metadata": {},
   "outputs": [
    {
     "data": {
      "text/plain": [
       "dict_keys(['darden', 'bloomin', 'brinker', 'texasroadhouse'])"
      ]
     },
     "execution_count": 10,
     "metadata": {},
     "output_type": "execute_result"
    }
   ],
   "source": [
    "# Importar archivo `carga_data.py`\n",
    "import utils.carga_data as cd\n",
    "\n",
    "# Diccionario de compañias con sus repectivas listas de marcas \n",
    "brands = cd.cargar_brands()\n",
    "brands.keys()"
   ]
  },
  {
   "cell_type": "code",
   "execution_count": 11,
   "metadata": {},
   "outputs": [
    {
     "data": {
      "text/plain": [
       "['Olive Garden Italian Restaurant',\n",
       " 'LongHorn Steakhouse',\n",
       " \"Cheddar's Scratch Kitchen\",\n",
       " 'Yard House',\n",
       " 'The Capital Grille',\n",
       " 'Seasons 52',\n",
       " 'Bahama Breeze',\n",
       " \"Eddie V's\",\n",
       " \"Ruth's Chris Steak House\"]"
      ]
     },
     "execution_count": 11,
     "metadata": {},
     "output_type": "execute_result"
    }
   ],
   "source": [
    "brands['darden']"
   ]
  }
 ],
 "metadata": {
  "kernelspec": {
   "display_name": "base",
   "language": "python",
   "name": "python3"
  },
  "language_info": {
   "codemirror_mode": {
    "name": "ipython",
    "version": 3
   },
   "file_extension": ".py",
   "mimetype": "text/x-python",
   "name": "python",
   "nbconvert_exporter": "python",
   "pygments_lexer": "ipython3",
   "version": "3.12.2"
  }
 },
 "nbformat": 4,
 "nbformat_minor": 2
}
